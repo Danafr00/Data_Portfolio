{
 "cells": [
  {
   "cell_type": "markdown",
   "id": "2c4c2b73",
   "metadata": {},
   "source": [
    "### Predict Real Estate's Price"
   ]
  },
  {
   "cell_type": "code",
   "execution_count": 1,
   "id": "200165ea",
   "metadata": {},
   "outputs": [
    {
     "name": "stderr",
     "output_type": "stream",
     "text": [
      "WARNING:root:'PYARROW_IGNORE_TIMEZONE' environment variable was not set. It is required to set this environment variable to '1' in both driver and executor sides if you use pyarrow>=2.0.0. pandas-on-Spark will set it for you but it does not work if there is a Spark context already launched.\n"
     ]
    }
   ],
   "source": [
    "#Import the Libraries\n",
    "import pandas as pd\n",
    "import numpy as np\n",
    "import matplotlib.pyplot as plt\n",
    "import seaborn as sns\n",
    "import pyspark\n",
    "import pyspark.pandas as ps"
   ]
  },
  {
   "cell_type": "code",
   "execution_count": 2,
   "id": "c887290f",
   "metadata": {},
   "outputs": [
    {
     "data": {
      "text/html": [
       "\n",
       "            <div>\n",
       "                <p><b>SparkSession - in-memory</b></p>\n",
       "                \n",
       "        <div>\n",
       "            <p><b>SparkContext</b></p>\n",
       "\n",
       "            <p><a href=\"http://host.docker.internal:4040\">Spark UI</a></p>\n",
       "\n",
       "            <dl>\n",
       "              <dt>Version</dt>\n",
       "                <dd><code>v3.3.0</code></dd>\n",
       "              <dt>Master</dt>\n",
       "                <dd><code>local[*]</code></dd>\n",
       "              <dt>AppName</dt>\n",
       "                <dd><code>ML Pyspark</code></dd>\n",
       "            </dl>\n",
       "        </div>\n",
       "        \n",
       "            </div>\n",
       "        "
      ],
      "text/plain": [
       "<pyspark.sql.session.SparkSession at 0x2182201e408>"
      ]
     },
     "execution_count": 2,
     "metadata": {},
     "output_type": "execute_result"
    }
   ],
   "source": [
    "#Initialize the spark session\n",
    "from pyspark.sql import SparkSession\n",
    "spark = SparkSession.builder.appName('ML Pyspark').getOrCreate()\n",
    "spark"
   ]
  },
  {
   "cell_type": "code",
   "execution_count": 3,
   "id": "75468087",
   "metadata": {},
   "outputs": [],
   "source": [
    "# Read the data\n",
    "df = spark.read.csv('Dataset Real Estate.csv',header=True,inferSchema=True)"
   ]
  },
  {
   "cell_type": "code",
   "execution_count": 4,
   "id": "257093f7",
   "metadata": {},
   "outputs": [
    {
     "name": "stdout",
     "output_type": "stream",
     "text": [
      "root\n",
      " |-- _c0: integer (nullable = true)\n",
      " |-- Address: string (nullable = true)\n",
      " |-- Beds: string (nullable = true)\n",
      " |-- Baths: string (nullable = true)\n",
      " |-- Area: string (nullable = true)\n",
      " |-- Price: integer (nullable = true)\n",
      " |-- Street: string (nullable = true)\n",
      " |-- District: string (nullable = true)\n",
      " |-- City: string (nullable = true)\n",
      " |-- Zip Code: string (nullable = true)\n",
      "\n"
     ]
    }
   ],
   "source": [
    "df.printSchema()"
   ]
  },
  {
   "cell_type": "code",
   "execution_count": 5,
   "id": "eb72f7d4",
   "metadata": {},
   "outputs": [
    {
     "name": "stdout",
     "output_type": "stream",
     "text": [
      "+---+--------------------+------+-----+--------------------+-------+--------------------+--------------------+----+--------+\n",
      "|_c0|             Address|  Beds|Baths|                Area|  Price|              Street|            District|City|Zip Code|\n",
      "+---+--------------------+------+-----+--------------------+-------+--------------------+--------------------+----+--------+\n",
      "|  0|4-74 48th Ave  #9...|     1|    1|                 700| 555000|  4-74 48th Ave  #9K|    Long Island City|  NY|   11109|\n",
      "|  1|469 E  49th St   ...|    10|    6|                 n/a|1250000| 469 E  49th St   #6|            Brooklyn|  NY|   11203|\n",
      "|  2|715 Avenue L, Bro...|     8|    6|               2,015|1690000|        715 Avenue L|            Brooklyn|  NY|   11230|\n",
      "|  3|223 E  62nd St, N...|     5|    6|               3,750|7995000|      223 E  62nd St|            New York|  NY|   10065|\n",
      "|  4|1824 E  17th St  ...|     2|    2|                 888| 579000|1824 E  17th St  ...|            Brooklyn|  NY|   11229|\n",
      "|  5|335-341 Nostrand ...|     1|    1|                 469| 539000|335-341 Nostrand ...|            Brooklyn|  NY|   11216|\n",
      "|  6|52-15 65th Pl #3D...|     2|    1|                 940| 469000|   52-15 65th Pl #3D|              Queens|  NY|   11378|\n",
      "|  7|432 Carlton Ave, ...|     7|    4|               3,600|2450000|     432 Carlton Ave|            Brooklyn|  NY|   11238|\n",
      "|  8|1143 Lafayette Av...|     1|    1|                 599| 650000|1143 Lafayette Av...|            Brooklyn|  NY|   11221|\n",
      "|  9|43 Bay 25th St, B...|     6|    4|               3,000|2299000|      43 Bay 25th St|            Brooklyn|  NY|   11214|\n",
      "| 10|155 Bay St #5B, S...|     2|    2|               1,200| 599000|      155 Bay St #5B|       Staten Island|  NY|   10301|\n",
      "| 11|18 W  127th St   ...|     7|    5|               5,000|3500000| 18 W  127th St   #1|            New York|  NY|   10027|\n",
      "| 12|6204 77th Pl, Mid...|     4|    2|               1,600| 860000|        6204 77th Pl|      Middle Village|  NY|   11379|\n",
      "| 13|133-07 41st Ave U...|     1|    1|                 550| 525000|133-07 41st Ave U...|            Flushing|  NY|   11355|\n",
      "| 14|1120 Brightn Be A...|     1|    1|                 850| 325000|1120 Brightn Be A...|            Brooklyn|  NY|   11235|\n",
      "| 15|131-11 Francis Le...|     3|    3|               2,080| 750000|131-11 Francis Le...| Springfield Gardens|  NY|   11413|\n",
      "| 16|33 Park Row  #7A,...|     1|    2|               1,041|2175000|    33 Park Row  #7A|            New York|  NY|   10038|\n",
      "| 17|46 Lefferts Pl   ...|Studio|    1|                 643| 550000|46 Lefferts Pl   #2R|            Brooklyn|  NY|   11238|\n",
      "| 18|137 W  12th St #5...|     1|    1|52,200 (on 0.30 a...| 675000| 137 W  12th St #5-1|            New York|  NY|   10011|\n",
      "| 19|2102 65th St, Bro...|     6|    3|               2,828|1480000|        2102 65th St|            Brooklyn|  NY|   11204|\n",
      "+---+--------------------+------+-----+--------------------+-------+--------------------+--------------------+----+--------+\n",
      "only showing top 20 rows\n",
      "\n"
     ]
    }
   ],
   "source": [
    "df.show()"
   ]
  },
  {
   "cell_type": "markdown",
   "id": "3212d8ad",
   "metadata": {},
   "source": [
    "### Cleaning the Data"
   ]
  },
  {
   "cell_type": "code",
   "execution_count": 6,
   "id": "6d80bd16",
   "metadata": {},
   "outputs": [],
   "source": [
    "from pyspark.sql.functions import *\n",
    "df = df.withColumn('Area', regexp_replace('Area', ',', ''))\n",
    "df = df.withColumn('Area', split(df.Area, \" \").getItem(0))\n",
    "df = df.withColumn('Beds', regexp_replace('Beds', 'Studio', '0'))"
   ]
  },
  {
   "cell_type": "code",
   "execution_count": 7,
   "id": "7a66ccc2",
   "metadata": {},
   "outputs": [
    {
     "name": "stdout",
     "output_type": "stream",
     "text": [
      "(208150, 10)\n"
     ]
    }
   ],
   "source": [
    "print((df.count(), len(df.columns)))"
   ]
  },
  {
   "cell_type": "code",
   "execution_count": 8,
   "id": "a9840066",
   "metadata": {},
   "outputs": [
    {
     "name": "stdout",
     "output_type": "stream",
     "text": [
      "+---+-------+----+-----+----+-----+------+--------+----+--------+\n",
      "|_c0|Address|Beds|Baths|Area|Price|Street|District|City|Zip Code|\n",
      "+---+-------+----+-----+----+-----+------+--------+----+--------+\n",
      "|  0|      0|   0|    0|   0|  469|     0|       0|   0|       0|\n",
      "+---+-------+----+-----+----+-----+------+--------+----+--------+\n",
      "\n"
     ]
    }
   ],
   "source": [
    "df.select([count(when(isnan(c) | col(c).isNull(), c)).alias(c) for c in df.columns]).show()"
   ]
  },
  {
   "cell_type": "code",
   "execution_count": 9,
   "id": "7301e03f",
   "metadata": {
    "scrolled": true
   },
   "outputs": [
    {
     "name": "stdout",
     "output_type": "stream",
     "text": [
      "+----+--------------------+----+-----+-----+--------+--------------------+--------------+----+--------+\n",
      "| _c0|             Address|Beds|Baths| Area|   Price|              Street|      District|City|Zip Code|\n",
      "+----+--------------------+----+-----+-----+--------+--------------------+--------------+----+--------+\n",
      "|  58|137 W  12th St #5...|   1|    1|52200|  675000| 137 W  12th St #5-1|      New York|  NY|   10011|\n",
      "|  80|750 Park Ave #4-B...|   1|    2|  800| 1900000|   750 Park Ave #4-B|      New York|  NY|   10021|\n",
      "| 198|33 Bionia Ave, St...|   3|    1| 1932|  849999|       33 Bionia Ave| Staten Island|  NY|   10305|\n",
      "| 832|420 Jansen St, St...|   4|    5| 6800| 2500000|       420 Jansen St| Staten Island|  NY|   10312|\n",
      "| 943|712 Saint Anns Av...|   3|    2| 1152|  550000|712 Saint Anns Av...|         Bronx|  NY|   10455|\n",
      "| 955|214 Adams Ave, St...|   3|    1| 1280|  599000|       214 Adams Ave| Staten Island|  NY|   10306|\n",
      "|1296|62-98 Woodheaven ...|   1|    1|  760|  599000|62-98 Woodheaven ...|     Rego Park|  NY|   11374|\n",
      "|1329|521 W  23rd St   ...|   3|    3| 3820|11500000| 521 W  23rd St   #4|      New York|  NY|   10011|\n",
      "|1444|1824 E  17th St  ...|   2|    2|  888|  579000|1824 E  17th St  ...|      Brooklyn|  NY|   11229|\n",
      "|1520|179 E 31st Street...|   6|    3| 2046| 1349000|   179 E 31st Street|      Brooklyn|  NY|   11226|\n",
      "|2007|18-35 Corporal Ke...|   2|    1| 1075|  349900|18-35 Corporal Ke...|       Bayside|  NY|   11360|\n",
      "|2258|304 Sheridan Ave,...|   5|    5| 2340| 1275000|    304 Sheridan Ave|      Brooklyn|  NY|   11208|\n",
      "|2283|4721 8th Ave  #CF...|   0|    2| 2450| 1599000| 4721 8th Ave  #CF2A|      Brooklyn|  NY|   11220|\n",
      "|2418|94 Targee St, Sta...|   4|    2| 1750|  659999|        94 Targee St| Staten Island|  NY|   10304|\n",
      "|2490|3045 Ocean Pkwy #...|   1|    1|  820|  278000| 3045 Ocean Pkwy #3H|      Brooklyn|  NY|   11235|\n",
      "|2834|12 Penn St, State...|   3|    2| 1440|  739000|          12 Penn St| Staten Island|  NY|   10314|\n",
      "|3034|116-17 Grosvenor ...|   2|    1|  779|  660000|116-17 Grosvenor ...| Richmond Hill|  NY|   11418|\n",
      "|3086|616 W 137 UNIT 6A...|   2|    2| 1650|  799000|   616 W 137 UNIT 6A|      New York|  NY|   10031|\n",
      "|3183|547 W  47th St   ...|   2|    2| 1043| 2710000|547 W  47th St   ...|      New York|  NY|   10036|\n",
      "|3223|712 Saint Anns Av...|   3|    2| 1152|  550000|712 Saint Anns Av...|         Bronx|  NY|   10455|\n",
      "+----+--------------------+----+-----+-----+--------+--------------------+--------------+----+--------+\n",
      "only showing top 20 rows\n",
      "\n"
     ]
    }
   ],
   "source": [
    "df_clean=df.dropna()\n",
    "df_clean=df_clean.where(df.Area != r'n/a')\n",
    "df_clean=df_clean.where(df.Baths != r'n/')\n",
    "df_clean=df_clean.dropDuplicates()\n",
    "df_clean.show()"
   ]
  },
  {
   "cell_type": "code",
   "execution_count": 10,
   "id": "33797e4d",
   "metadata": {},
   "outputs": [
    {
     "name": "stdout",
     "output_type": "stream",
     "text": [
      "(167712, 10)\n"
     ]
    }
   ],
   "source": [
    "print((df_clean.count(), len(df_clean.columns)))"
   ]
  },
  {
   "cell_type": "code",
   "execution_count": 11,
   "id": "4679f083",
   "metadata": {},
   "outputs": [
    {
     "name": "stdout",
     "output_type": "stream",
     "text": [
      "root\n",
      " |-- _c0: integer (nullable = true)\n",
      " |-- Address: string (nullable = true)\n",
      " |-- Beds: integer (nullable = true)\n",
      " |-- Baths: integer (nullable = true)\n",
      " |-- Area: integer (nullable = true)\n",
      " |-- Price: integer (nullable = true)\n",
      " |-- Street: string (nullable = true)\n",
      " |-- District: string (nullable = true)\n",
      " |-- City: string (nullable = true)\n",
      " |-- Zip Code: string (nullable = true)\n",
      "\n"
     ]
    }
   ],
   "source": [
    "from pyspark.sql.types import StringType, DateType, FloatType, IntegerType\n",
    "  \n",
    "df_clean = df_clean \\\n",
    "    .withColumn(\"Beds\", df_clean[\"Beds\"].cast(IntegerType()))   \\\n",
    "    .withColumn(\"Baths\", df_clean[\"Baths\"].cast(IntegerType()))   \\\n",
    "    .withColumn(\"Area\" , df_clean[\"Area\"].cast(IntegerType()))   \\\n",
    "    .withColumn(\"Price\", df_clean[\"Price\"].cast(IntegerType()))\n",
    "\n",
    "df_clean.printSchema()"
   ]
  },
  {
   "cell_type": "code",
   "execution_count": 12,
   "id": "17766639",
   "metadata": {},
   "outputs": [
    {
     "data": {
      "text/plain": [
       "[Row(quantiles=[439990, 710000, 1249000])]"
      ]
     },
     "execution_count": 12,
     "metadata": {},
     "output_type": "execute_result"
    }
   ],
   "source": [
    "df_clean.select(\n",
    "    percentile_approx(\"Price\", [0.25, 0.5, 0.75], 1000000).alias(\"quantiles\")).collect()"
   ]
  },
  {
   "cell_type": "code",
   "execution_count": 13,
   "id": "c413d735",
   "metadata": {},
   "outputs": [
    {
     "name": "stdout",
     "output_type": "stream",
     "text": [
      "7.0 -1.0\n"
     ]
    }
   ],
   "source": [
    "q1_beds = df_clean.select(percentile_approx(\"Beds\", [0.25], 1000000).alias(\"quantiles\")).collect()[0]['quantiles'][0]\n",
    "q3_beds = df_clean.select(percentile_approx(\"Beds\", [0.75], 1000000).alias(\"quantiles\")).collect()[0]['quantiles'][0]\n",
    "iqr_beds = q3_beds - q1_beds\n",
    "\n",
    "#Check the Outlier Beds\n",
    "top_outlier_beds = q3_beds + 1.5 * iqr_beds\n",
    "bottom_outlier_beds= q1_beds - 1.5 * iqr_beds\n",
    "print(top_outlier_beds, bottom_outlier_beds)"
   ]
  },
  {
   "cell_type": "code",
   "execution_count": 14,
   "id": "bd51b8b7",
   "metadata": {},
   "outputs": [
    {
     "name": "stdout",
     "output_type": "stream",
     "text": [
      "4.5 0.5\n"
     ]
    }
   ],
   "source": [
    "q1_baths = df_clean.select(percentile_approx(\"Baths\", [0.25], 1000000).alias(\"quantiles\")).collect()[0]['quantiles'][0]\n",
    "q3_baths = df_clean.select(percentile_approx(\"Baths\", [0.75], 1000000).alias(\"quantiles\")).collect()[0]['quantiles'][0]\n",
    "iqr_baths = q3_baths - q1_baths\n",
    "\n",
    "#Check the Outlier Baths\n",
    "top_outlier_baths = q3_baths + 1.5 * iqr_baths\n",
    "bottom_outlier_baths = q1_baths - 1.5 * iqr_baths\n",
    "print(top_outlier_baths, bottom_outlier_baths)\n"
   ]
  },
  {
   "cell_type": "code",
   "execution_count": 15,
   "id": "595772e9",
   "metadata": {},
   "outputs": [
    {
     "name": "stdout",
     "output_type": "stream",
     "text": [
      "4167.0 -705.0\n"
     ]
    }
   ],
   "source": [
    "q1_area = df_clean.select(percentile_approx(\"Area\", [0.25], 1000000).alias(\"quantiles\")).collect()[0]['quantiles'][0]\n",
    "q3_area = df_clean.select(percentile_approx(\"Area\", [0.75], 1000000).alias(\"quantiles\")).collect()[0]['quantiles'][0]\n",
    "iqr_area = q3_area - q1_area\n",
    "\n",
    "#Check the Outlier Area\n",
    "top_outlier_area = q3_area + 1.5 * iqr_area\n",
    "bottom_outlier_area = q1_area - 1.5 * iqr_area\n",
    "print(top_outlier_area, bottom_outlier_area)"
   ]
  },
  {
   "cell_type": "code",
   "execution_count": 16,
   "id": "5d16402e",
   "metadata": {},
   "outputs": [
    {
     "name": "stdout",
     "output_type": "stream",
     "text": [
      "2462515.0 -773525.0\n"
     ]
    }
   ],
   "source": [
    "q1_price = df_clean.select(percentile_approx(\"Price\", [0.25], 1000000).alias(\"quantiles\")).collect()[0]['quantiles'][0]\n",
    "q3_price = df_clean.select(percentile_approx(\"Price\", [0.75], 1000000).alias(\"quantiles\")).collect()[0]['quantiles'][0]\n",
    "iqr_price = q3_price - q1_price\n",
    "\n",
    "#Check the Outlier Price\n",
    "top_outlier_price = q3_price + 1.5 * iqr_price\n",
    "bottom_outlier_price = q1_price - 1.5 * iqr_price\n",
    "print(top_outlier_price, bottom_outlier_price)"
   ]
  },
  {
   "cell_type": "code",
   "execution_count": 17,
   "id": "6e188eca",
   "metadata": {},
   "outputs": [],
   "source": [
    "df_clean = df_clean.filter(df_clean['Beds']<=top_outlier_beds)\n",
    "df_clean = df_clean.filter(df_clean['Baths']<=top_outlier_baths)\n",
    "df_clean = df_clean.filter(df_clean['Area']<=top_outlier_area)\n",
    "df_clean = df_clean.filter(df_clean['Price']<=top_outlier_price)\n"
   ]
  },
  {
   "cell_type": "code",
   "execution_count": 18,
   "id": "67455f65",
   "metadata": {},
   "outputs": [
    {
     "name": "stdout",
     "output_type": "stream",
     "text": [
      "+----+--------------------+----+-----+----+-------+--------------------+-----------------+----+--------+\n",
      "| _c0|             Address|Beds|Baths|Area|  Price|              Street|         District|City|Zip Code|\n",
      "+----+--------------------+----+-----+----+-------+--------------------+-----------------+----+--------+\n",
      "|  80|750 Park Ave #4-B...|   1|    2| 800|1900000|   750 Park Ave #4-B|         New York|  NY|   10021|\n",
      "| 198|33 Bionia Ave, St...|   3|    1|1932| 849999|       33 Bionia Ave|    Staten Island|  NY|   10305|\n",
      "| 943|712 Saint Anns Av...|   3|    2|1152| 550000|712 Saint Anns Av...|            Bronx|  NY|   10455|\n",
      "| 955|214 Adams Ave, St...|   3|    1|1280| 599000|       214 Adams Ave|    Staten Island|  NY|   10306|\n",
      "|1296|62-98 Woodheaven ...|   1|    1| 760| 599000|62-98 Woodheaven ...|        Rego Park|  NY|   11374|\n",
      "|1444|1824 E  17th St  ...|   2|    2| 888| 579000|1824 E  17th St  ...|         Brooklyn|  NY|   11229|\n",
      "|1520|179 E 31st Street...|   6|    3|2046|1349000|   179 E 31st Street|         Brooklyn|  NY|   11226|\n",
      "|2007|18-35 Corporal Ke...|   2|    1|1075| 349900|18-35 Corporal Ke...|          Bayside|  NY|   11360|\n",
      "|2283|4721 8th Ave  #CF...|   0|    2|2450|1599000| 4721 8th Ave  #CF2A|         Brooklyn|  NY|   11220|\n",
      "|2418|94 Targee St, Sta...|   4|    2|1750| 659999|        94 Targee St|    Staten Island|  NY|   10304|\n",
      "|2490|3045 Ocean Pkwy #...|   1|    1| 820| 278000| 3045 Ocean Pkwy #3H|         Brooklyn|  NY|   11235|\n",
      "|2834|12 Penn St, State...|   3|    2|1440| 739000|          12 Penn St|    Staten Island|  NY|   10314|\n",
      "|3034|116-17 Grosvenor ...|   2|    1| 779| 660000|116-17 Grosvenor ...|    Richmond Hill|  NY|   11418|\n",
      "|3086|616 W 137 UNIT 6A...|   2|    2|1650| 799000|   616 W 137 UNIT 6A|         New York|  NY|   10031|\n",
      "|3223|712 Saint Anns Av...|   3|    2|1152| 550000|712 Saint Anns Av...|            Bronx|  NY|   10455|\n",
      "|3452|25 Kunath Ave, St...|   4|    2|2108| 799999|       25 Kunath Ave|    Staten Island|  NY|   10309|\n",
      "|3501|1530 Archer Road ...|   3|    1|1064| 330000|1530 Archer Road ...|            Bronx|  NY|   10462|\n",
      "|4206|52-15 65th Pl #3D...|   2|    1| 940| 469000|   52-15 65th Pl #3D|           Queens|  NY|   11378|\n",
      "|4953|25-34 Crescent St...|   3|    2|1080| 790000|25-34 Crescent St...| Long Island City|  NY|   11102|\n",
      "|5483|1170 Ocean Pkwy, ...|   3|    2|1560| 775000|     1170 Ocean Pkwy|         Brooklyn|  NY|   11230|\n",
      "+----+--------------------+----+-----+----+-------+--------------------+-----------------+----+--------+\n",
      "only showing top 20 rows\n",
      "\n"
     ]
    }
   ],
   "source": [
    "df_clean.show()"
   ]
  },
  {
   "cell_type": "code",
   "execution_count": 19,
   "id": "cfce86d4",
   "metadata": {},
   "outputs": [
    {
     "name": "stdout",
     "output_type": "stream",
     "text": [
      "root\n",
      " |-- Beds: integer (nullable = true)\n",
      " |-- Baths: integer (nullable = true)\n",
      " |-- Area: integer (nullable = true)\n",
      " |-- Price: integer (nullable = true)\n",
      " |-- District: string (nullable = true)\n",
      " |-- City: string (nullable = true)\n",
      " |-- Zip code: string (nullable = true)\n",
      "\n"
     ]
    }
   ],
   "source": [
    "df_selected = df_clean.select(\"Beds\", \"Baths\", \"Area\", \"Price\", \"District\", \"City\", \"Zip code\")\n",
    "df_selected.printSchema()"
   ]
  },
  {
   "cell_type": "markdown",
   "id": "664c155b",
   "metadata": {},
   "source": [
    "### Convert the Categorical Variables"
   ]
  },
  {
   "cell_type": "code",
   "execution_count": 20,
   "id": "181a73ea",
   "metadata": {},
   "outputs": [
    {
     "name": "stdout",
     "output_type": "stream",
     "text": [
      "+----+-----+----+-------+-----------------+----+--------+-------------+---------+--------+\n",
      "|Beds|Baths|Area|  Price|         District|City|Zip code|districtIndex|cityIndex|zipIndex|\n",
      "+----+-----+----+-------+-----------------+----+--------+-------------+---------+--------+\n",
      "|   1|    2| 800|1900000|         New York|  NY|   10021|         66.0|      6.0|    18.0|\n",
      "|   3|    1|1932| 849999|    Staten Island|  NY|   10305|        103.0|      6.0|    40.0|\n",
      "|   3|    2|1152| 550000|            Bronx|  NY|   10455|          9.0|      6.0|    51.0|\n",
      "|   3|    1|1280| 599000|    Staten Island|  NY|   10306|        103.0|      6.0|    41.0|\n",
      "|   1|    1| 760| 599000|        Rego Park|  NY|   11374|         87.0|      6.0|   128.0|\n",
      "|   2|    2| 888| 579000|         Brooklyn|  NY|   11229|         10.0|      6.0|   101.0|\n",
      "|   6|    3|2046|1349000|         Brooklyn|  NY|   11226|         10.0|      6.0|    99.0|\n",
      "|   2|    1|1075| 349900|          Bayside|  NY|   11360|          5.0|      6.0|   115.0|\n",
      "|   0|    2|2450|1599000|         Brooklyn|  NY|   11220|         10.0|      6.0|    94.0|\n",
      "|   4|    2|1750| 659999|    Staten Island|  NY|   10304|        103.0|      6.0|    39.0|\n",
      "|   1|    1| 820| 278000|         Brooklyn|  NY|   11235|         10.0|      6.0|   106.0|\n",
      "|   3|    2|1440| 739000|    Staten Island|  NY|   10314|        103.0|      6.0|    47.0|\n",
      "|   2|    1| 779| 660000|    Richmond Hill|  NY|   11418|         89.0|      6.0|   138.0|\n",
      "|   2|    2|1650| 799000|         New York|  NY|   10031|         66.0|      6.0|    28.0|\n",
      "|   3|    2|1152| 550000|            Bronx|  NY|   10455|          9.0|      6.0|    51.0|\n",
      "|   4|    2|2108| 799999|    Staten Island|  NY|   10309|        103.0|      6.0|    44.0|\n",
      "|   3|    1|1064| 330000|            Bronx|  NY|   10462|          9.0|      6.0|    56.0|\n",
      "|   2|    1| 940| 469000|           Queens|  NY|   11378|         86.0|      6.0|   131.0|\n",
      "|   3|    2|1080| 790000| Long Island City|  NY|   11102|         54.0|      6.0|    73.0|\n",
      "|   3|    2|1560| 775000|         Brooklyn|  NY|   11230|         10.0|      6.0|   102.0|\n",
      "+----+-----+----+-------+-----------------+----+--------+-------------+---------+--------+\n",
      "only showing top 20 rows\n",
      "\n"
     ]
    }
   ],
   "source": [
    "from pyspark.ml.feature import StringIndexer\n",
    "\n",
    "indexer = StringIndexer(inputCols=[\"District\", \"City\", \"Zip code\"], \n",
    "                        outputCols=[\"districtIndex\", \"cityIndex\", \"zipIndex\"], \n",
    "                        stringOrderType=\"alphabetAsc\")\n",
    "indexed = indexer.fit(df_selected).transform(df_selected)\n",
    "indexed.show()"
   ]
  },
  {
   "cell_type": "code",
   "execution_count": 21,
   "id": "f16deefb",
   "metadata": {},
   "outputs": [
    {
     "name": "stdout",
     "output_type": "stream",
     "text": [
      "+----+-----+----+-------+-----------------+----+--------+-------------+---------+--------+-----------------+------------+-----------------+\n",
      "|Beds|Baths|Area|  Price|         District|City|Zip code|districtIndex|cityIndex|zipIndex| categoryDistrict|categoryCity|      categoryZip|\n",
      "+----+-----+----+-------+-----------------+----+--------+-------------+---------+--------+-----------------+------------+-----------------+\n",
      "|   1|    2| 800|1900000|         New York|  NY|   10021|         66.0|      6.0|    18.0| (131,[66],[1.0])|   (6,[],[])| (435,[18],[1.0])|\n",
      "|   3|    1|1932| 849999|    Staten Island|  NY|   10305|        103.0|      6.0|    40.0|(131,[103],[1.0])|   (6,[],[])| (435,[40],[1.0])|\n",
      "|   3|    2|1152| 550000|            Bronx|  NY|   10455|          9.0|      6.0|    51.0|  (131,[9],[1.0])|   (6,[],[])| (435,[51],[1.0])|\n",
      "|   3|    1|1280| 599000|    Staten Island|  NY|   10306|        103.0|      6.0|    41.0|(131,[103],[1.0])|   (6,[],[])| (435,[41],[1.0])|\n",
      "|   1|    1| 760| 599000|        Rego Park|  NY|   11374|         87.0|      6.0|   128.0| (131,[87],[1.0])|   (6,[],[])|(435,[128],[1.0])|\n",
      "|   2|    2| 888| 579000|         Brooklyn|  NY|   11229|         10.0|      6.0|   101.0| (131,[10],[1.0])|   (6,[],[])|(435,[101],[1.0])|\n",
      "|   6|    3|2046|1349000|         Brooklyn|  NY|   11226|         10.0|      6.0|    99.0| (131,[10],[1.0])|   (6,[],[])| (435,[99],[1.0])|\n",
      "|   2|    1|1075| 349900|          Bayside|  NY|   11360|          5.0|      6.0|   115.0|  (131,[5],[1.0])|   (6,[],[])|(435,[115],[1.0])|\n",
      "|   0|    2|2450|1599000|         Brooklyn|  NY|   11220|         10.0|      6.0|    94.0| (131,[10],[1.0])|   (6,[],[])| (435,[94],[1.0])|\n",
      "|   4|    2|1750| 659999|    Staten Island|  NY|   10304|        103.0|      6.0|    39.0|(131,[103],[1.0])|   (6,[],[])| (435,[39],[1.0])|\n",
      "|   1|    1| 820| 278000|         Brooklyn|  NY|   11235|         10.0|      6.0|   106.0| (131,[10],[1.0])|   (6,[],[])|(435,[106],[1.0])|\n",
      "|   3|    2|1440| 739000|    Staten Island|  NY|   10314|        103.0|      6.0|    47.0|(131,[103],[1.0])|   (6,[],[])| (435,[47],[1.0])|\n",
      "|   2|    1| 779| 660000|    Richmond Hill|  NY|   11418|         89.0|      6.0|   138.0| (131,[89],[1.0])|   (6,[],[])|(435,[138],[1.0])|\n",
      "|   2|    2|1650| 799000|         New York|  NY|   10031|         66.0|      6.0|    28.0| (131,[66],[1.0])|   (6,[],[])| (435,[28],[1.0])|\n",
      "|   3|    2|1152| 550000|            Bronx|  NY|   10455|          9.0|      6.0|    51.0|  (131,[9],[1.0])|   (6,[],[])| (435,[51],[1.0])|\n",
      "|   4|    2|2108| 799999|    Staten Island|  NY|   10309|        103.0|      6.0|    44.0|(131,[103],[1.0])|   (6,[],[])| (435,[44],[1.0])|\n",
      "|   3|    1|1064| 330000|            Bronx|  NY|   10462|          9.0|      6.0|    56.0|  (131,[9],[1.0])|   (6,[],[])| (435,[56],[1.0])|\n",
      "|   2|    1| 940| 469000|           Queens|  NY|   11378|         86.0|      6.0|   131.0| (131,[86],[1.0])|   (6,[],[])|(435,[131],[1.0])|\n",
      "|   3|    2|1080| 790000| Long Island City|  NY|   11102|         54.0|      6.0|    73.0| (131,[54],[1.0])|   (6,[],[])| (435,[73],[1.0])|\n",
      "|   3|    2|1560| 775000|         Brooklyn|  NY|   11230|         10.0|      6.0|   102.0| (131,[10],[1.0])|   (6,[],[])|(435,[102],[1.0])|\n",
      "+----+-----+----+-------+-----------------+----+--------+-------------+---------+--------+-----------------+------------+-----------------+\n",
      "only showing top 20 rows\n",
      "\n"
     ]
    }
   ],
   "source": [
    "from pyspark.ml.feature import OneHotEncoder\n",
    "\n",
    "encoder = OneHotEncoder(inputCols=[\"districtIndex\", \"cityIndex\", \"zipIndex\"],\n",
    "                        outputCols=[\"categoryDistrict\", \"categoryCity\", \"categoryZip\"])\n",
    "model = encoder.fit(indexed)\n",
    "encoded = model.transform(indexed)\n",
    "encoded.show()"
   ]
  },
  {
   "cell_type": "code",
   "execution_count": 22,
   "id": "65c31c57",
   "metadata": {},
   "outputs": [
    {
     "data": {
      "text/plain": [
       "['Beds',\n",
       " 'Baths',\n",
       " 'Area',\n",
       " 'Price',\n",
       " 'District',\n",
       " 'City',\n",
       " 'Zip code',\n",
       " 'districtIndex',\n",
       " 'cityIndex',\n",
       " 'zipIndex',\n",
       " 'categoryDistrict',\n",
       " 'categoryCity',\n",
       " 'categoryZip']"
      ]
     },
     "execution_count": 22,
     "metadata": {},
     "output_type": "execute_result"
    }
   ],
   "source": [
    "encoded.columns"
   ]
  },
  {
   "cell_type": "code",
   "execution_count": 23,
   "id": "4519c5dd",
   "metadata": {},
   "outputs": [],
   "source": [
    "# from pyspark.ml import Pipeline\n",
    "# from pyspark.ml.feature import MinMaxScaler\n",
    "# columns_to_scale = [\"Price\"]\n",
    "# assemblers = [VectorAssembler(inputCols=[col], outputCol=col + \"_vec\") for col in columns_to_scale]\n",
    "# scalers = [MinMaxScaler(inputCol=col + \"_vec\", outputCol=col + \"_scaled\") for col in columns_to_scale]\n",
    "# pipeline = Pipeline(stages=assemblers + scalers)\n",
    "# scalerModel = pipeline.fit(encoded)\n",
    "# scaledData = scalerModel.transform(encoded)"
   ]
  },
  {
   "cell_type": "markdown",
   "id": "3e0fb16c",
   "metadata": {},
   "source": [
    "### Make the Features into a Vector"
   ]
  },
  {
   "cell_type": "code",
   "execution_count": 24,
   "id": "7ad67da9",
   "metadata": {},
   "outputs": [],
   "source": [
    "from pyspark.ml.feature import VectorAssembler\n",
    "featureassembler=VectorAssembler(inputCols=['Baths', 'Area', 'Beds', 'categoryDistrict', 'categoryCity', 'categoryZip'],\n",
    "                                 outputCol=\"Independent Features\")\n",
    "output=featureassembler.transform(encoded)"
   ]
  },
  {
   "cell_type": "code",
   "execution_count": 25,
   "id": "b7528380",
   "metadata": {},
   "outputs": [
    {
     "name": "stdout",
     "output_type": "stream",
     "text": [
      "+----+-----+----+-------+-----------------+----+--------+-------------+---------+--------+-----------------+------------+-----------------+--------------------+\n",
      "|Beds|Baths|Area|  Price|         District|City|Zip code|districtIndex|cityIndex|zipIndex| categoryDistrict|categoryCity|      categoryZip|Independent Features|\n",
      "+----+-----+----+-------+-----------------+----+--------+-------------+---------+--------+-----------------+------------+-----------------+--------------------+\n",
      "|   1|    2| 800|1900000|         New York|  NY|   10021|         66.0|      6.0|    18.0| (131,[66],[1.0])|   (6,[],[])| (435,[18],[1.0])|(575,[0,1,2,69,15...|\n",
      "|   3|    1|1932| 849999|    Staten Island|  NY|   10305|        103.0|      6.0|    40.0|(131,[103],[1.0])|   (6,[],[])| (435,[40],[1.0])|(575,[0,1,2,106,1...|\n",
      "|   3|    2|1152| 550000|            Bronx|  NY|   10455|          9.0|      6.0|    51.0|  (131,[9],[1.0])|   (6,[],[])| (435,[51],[1.0])|(575,[0,1,2,12,19...|\n",
      "|   3|    1|1280| 599000|    Staten Island|  NY|   10306|        103.0|      6.0|    41.0|(131,[103],[1.0])|   (6,[],[])| (435,[41],[1.0])|(575,[0,1,2,106,1...|\n",
      "|   1|    1| 760| 599000|        Rego Park|  NY|   11374|         87.0|      6.0|   128.0| (131,[87],[1.0])|   (6,[],[])|(435,[128],[1.0])|(575,[0,1,2,90,26...|\n",
      "|   2|    2| 888| 579000|         Brooklyn|  NY|   11229|         10.0|      6.0|   101.0| (131,[10],[1.0])|   (6,[],[])|(435,[101],[1.0])|(575,[0,1,2,13,24...|\n",
      "|   6|    3|2046|1349000|         Brooklyn|  NY|   11226|         10.0|      6.0|    99.0| (131,[10],[1.0])|   (6,[],[])| (435,[99],[1.0])|(575,[0,1,2,13,23...|\n",
      "|   2|    1|1075| 349900|          Bayside|  NY|   11360|          5.0|      6.0|   115.0|  (131,[5],[1.0])|   (6,[],[])|(435,[115],[1.0])|(575,[0,1,2,8,255...|\n",
      "|   0|    2|2450|1599000|         Brooklyn|  NY|   11220|         10.0|      6.0|    94.0| (131,[10],[1.0])|   (6,[],[])| (435,[94],[1.0])|(575,[0,1,13,234]...|\n",
      "|   4|    2|1750| 659999|    Staten Island|  NY|   10304|        103.0|      6.0|    39.0|(131,[103],[1.0])|   (6,[],[])| (435,[39],[1.0])|(575,[0,1,2,106,1...|\n",
      "|   1|    1| 820| 278000|         Brooklyn|  NY|   11235|         10.0|      6.0|   106.0| (131,[10],[1.0])|   (6,[],[])|(435,[106],[1.0])|(575,[0,1,2,13,24...|\n",
      "|   3|    2|1440| 739000|    Staten Island|  NY|   10314|        103.0|      6.0|    47.0|(131,[103],[1.0])|   (6,[],[])| (435,[47],[1.0])|(575,[0,1,2,106,1...|\n",
      "|   2|    1| 779| 660000|    Richmond Hill|  NY|   11418|         89.0|      6.0|   138.0| (131,[89],[1.0])|   (6,[],[])|(435,[138],[1.0])|(575,[0,1,2,92,27...|\n",
      "|   2|    2|1650| 799000|         New York|  NY|   10031|         66.0|      6.0|    28.0| (131,[66],[1.0])|   (6,[],[])| (435,[28],[1.0])|(575,[0,1,2,69,16...|\n",
      "|   3|    2|1152| 550000|            Bronx|  NY|   10455|          9.0|      6.0|    51.0|  (131,[9],[1.0])|   (6,[],[])| (435,[51],[1.0])|(575,[0,1,2,12,19...|\n",
      "|   4|    2|2108| 799999|    Staten Island|  NY|   10309|        103.0|      6.0|    44.0|(131,[103],[1.0])|   (6,[],[])| (435,[44],[1.0])|(575,[0,1,2,106,1...|\n",
      "|   3|    1|1064| 330000|            Bronx|  NY|   10462|          9.0|      6.0|    56.0|  (131,[9],[1.0])|   (6,[],[])| (435,[56],[1.0])|(575,[0,1,2,12,19...|\n",
      "|   2|    1| 940| 469000|           Queens|  NY|   11378|         86.0|      6.0|   131.0| (131,[86],[1.0])|   (6,[],[])|(435,[131],[1.0])|(575,[0,1,2,89,27...|\n",
      "|   3|    2|1080| 790000| Long Island City|  NY|   11102|         54.0|      6.0|    73.0| (131,[54],[1.0])|   (6,[],[])| (435,[73],[1.0])|(575,[0,1,2,57,21...|\n",
      "|   3|    2|1560| 775000|         Brooklyn|  NY|   11230|         10.0|      6.0|   102.0| (131,[10],[1.0])|   (6,[],[])|(435,[102],[1.0])|(575,[0,1,2,13,24...|\n",
      "+----+-----+----+-------+-----------------+----+--------+-------------+---------+--------+-----------------+------------+-----------------+--------------------+\n",
      "only showing top 20 rows\n",
      "\n"
     ]
    }
   ],
   "source": [
    "output.show()"
   ]
  },
  {
   "cell_type": "code",
   "execution_count": 26,
   "id": "34b3597a",
   "metadata": {},
   "outputs": [],
   "source": [
    "finalized_data=output.select(\"Independent Features\",\"Price\")"
   ]
  },
  {
   "cell_type": "code",
   "execution_count": 27,
   "id": "5dcc7706",
   "metadata": {},
   "outputs": [
    {
     "name": "stdout",
     "output_type": "stream",
     "text": [
      "+--------------------+-------+\n",
      "|Independent Features|  Price|\n",
      "+--------------------+-------+\n",
      "|(575,[0,1,2,69,15...|1900000|\n",
      "|(575,[0,1,2,106,1...| 849999|\n",
      "|(575,[0,1,2,12,19...| 550000|\n",
      "|(575,[0,1,2,106,1...| 599000|\n",
      "|(575,[0,1,2,90,26...| 599000|\n",
      "|(575,[0,1,2,13,24...| 579000|\n",
      "|(575,[0,1,2,13,23...|1349000|\n",
      "|(575,[0,1,2,8,255...| 349900|\n",
      "|(575,[0,1,13,234]...|1599000|\n",
      "|(575,[0,1,2,106,1...| 659999|\n",
      "|(575,[0,1,2,13,24...| 278000|\n",
      "|(575,[0,1,2,106,1...| 739000|\n",
      "|(575,[0,1,2,92,27...| 660000|\n",
      "|(575,[0,1,2,69,16...| 799000|\n",
      "|(575,[0,1,2,12,19...| 550000|\n",
      "|(575,[0,1,2,106,1...| 799999|\n",
      "|(575,[0,1,2,12,19...| 330000|\n",
      "|(575,[0,1,2,89,27...| 469000|\n",
      "|(575,[0,1,2,57,21...| 790000|\n",
      "|(575,[0,1,2,13,24...| 775000|\n",
      "+--------------------+-------+\n",
      "only showing top 20 rows\n",
      "\n"
     ]
    }
   ],
   "source": [
    "finalized_data.show()"
   ]
  },
  {
   "cell_type": "code",
   "execution_count": 28,
   "id": "c034c63a",
   "metadata": {},
   "outputs": [],
   "source": [
    "##train test split\n",
    "train_data,test_data=finalized_data.randomSplit([0.8,0.2])"
   ]
  },
  {
   "cell_type": "markdown",
   "id": "b2aa697b",
   "metadata": {},
   "source": [
    "### Simple Linear Regression "
   ]
  },
  {
   "cell_type": "code",
   "execution_count": 29,
   "id": "6e1afb87",
   "metadata": {},
   "outputs": [
    {
     "name": "stdout",
     "output_type": "stream",
     "text": [
      "Coefficients: [99663.04300170258,216.4232342979904,39185.2890888283,-50769.7640933765,-175794.79740775438,-140146.02283080143,206378.92898102873,-240152.6579052283,-317038.61717539094,-46710.96103409387,249745.96531317712,-230698.7147771512,-107035.85350588078,98467.69522379692,-42038.321604549375,-7112.811082971376,-25173.20150807183,-56659.6754166538,-97399.436602962,-124873.44933878005,-155202.72695214523,157518.93511181494,97311.61607320838,-123582.4500260222,-8415.83889990429,-129985.54542649114,-319786.70946384966,282146.5628080423,235888.3420751696,17173.278925151582,-101732.42509973343,40538.2485569563,-159853.97050475184,-147189.07552284256,135338.2385674601,-69266.59501583071,145684.4199222653,-47148.44736229998,-98240.28128693998,-236470.57262652548,5698.338502996121,-26922.057667240115,-359552.9739369702,-70856.75364027981,-198870.1186574118,-28472.679734671063,-165112.41032447945,163357.89630101723,-49645.86244356173,-36929.65864560126,-209253.10213758328,-99419.2059271391,-139483.35627983112,70077.93564835201,-176570.3370789269,-66653.65097966885,220044.52067463065,206531.3817380512,341705.46546749823,123121.45461578458,346745.7517089184,-107256.58782948516,26275.517926699657,120498.44560321432,-110739.9679604537,-144932.27194733956,267340.5248322031,44341.0805878713,-160012.6207953429,319997.971270395,-217960.48564988014,17831.51321016071,-7679.415101570512,-157916.7406210431,-18028.456573365078,419645.6145822847,-103390.67990215034,383572.12090954965,-14852.270423543438,-158317.06103121722,-117441.10061041654,-187210.32970383659,-116571.94091054719,16541.59525544675,-202008.67832322622,-100177.21253917953,220168.02906167007,148260.78217663048,65409.848715681095,-238250.19560961451,29321.587640127716,-41203.90211435282,13924.66138432726,-7864.180530742685,283281.31654630246,42026.182893084944,120648.11186231938,-101441.11649740596,-85624.12359182078,53879.67093158857,-95205.43008448173,-57353.24002782026,198871.3510219013,181560.5901208879,-108142.99756910665,-127699.59328394568,-41959.926227592194,1745.857083331343,310142.9914537836,576490.2606936116,-54242.20256702942,33547.41135381757,86869.66897227633,-57452.94567676309,-162532.06800811674,-88645.32011333379,-79632.70147851895,-197458.8290720868,1205.3874773590032,393904.09285586595,86472.82596062473,-167415.27292508373,-34978.44636232726,263971.0308086718,160497.67816859574,396548.6186765534,-99181.80711293314,64510.238672586696,256692.7532726109,27389.34823581671,-290977.39105019066,-37252.83617973739,-12128.551039647211,96542.50094860123,-113270.16260514798,102311.6061691109,-134942.24703995424,393904.09285586595,-95871.58115001365,-129559.40427708418,-34978.44636232726,-135061.03261451147,-66653.65097966885,-107256.58782948516,575457.7416819845,197050.51428688454,490980.6442291641,680130.818178993,677037.6785637368,259606.22171932922,-15712.943851864531,1053268.031991966,356568.32795551955,221693.4773870463,917494.0337897297,96378.45377613224,371494.78734129237,647413.7374950532,492927.9029432241,623373.6971492829,652852.1711889823,93727.95814252291,-1922.1535702684691,383020.0481229267,-48837.70493607127,85549.62120852643,56872.86716715918,41639.10774941397,-199379.19725692345,-240831.91910107623,-182682.98628682183,677299.6928379133,-226731.89132595973,1305000.6906725317,155582.54959064204,240389.72316886758,156722.81635307963,13317.071945506977,-114258.53445562659,-87238.90428184024,52387.14513381646,-14285.694136329506,31676.5057499071,85238.72451530716,-8124.682199389122,-97078.11487448467,-97226.00166954721,-59100.04348624361,-149503.53754481257,-124017.20104220673,-340245.03281953075,4638.772232166439,67964.20212415003,-55048.01463875267,-183799.66340441388,-61868.466699280194,-113676.98222634988,12547.297339183582,-282886.1524491275,31967.325654666853,-123412.10194850506,-325808.5012788708,-115504.81117051179,-153702.03612988794,350540.47906649485,31355.702719119887,-216569.59673569538,-201146.32669465963,-454507.133798925,-47148.44736229998,-147189.07552284256,44341.0805878713,809516.103705502,-136983.24168084128,86869.66897227633,294793.2438004169,235349.84712558228,-13519.397058617307,280186.7533399666,-328390.1698262346,369443.57324340375,-281272.6092851766,-170023.45372530975,-310928.7384356743,6906.487425863268,100417.8575317375,559973.0474055526,-322141.201292883,231951.7362346854,228712.01649338467,-172411.4245840664,147101.3590997948,46670.01687831433,47733.16979152506,203725.2895581398,155666.645008286,192298.58012518857,-175938.9493882462,421260.0755457442,160046.08902403864,348644.9575840777,128102.34441928958,135518.22006045765,523080.5903737097,-177188.9114075346,-46276.19299068547,33907.867414285174,-103875.69780076628,417257.4046104865,-303154.8042290676,49401.60177819119,113157.12370391496,58977.55588280951,27389.34823581671,35916.76976819804,211727.26242523026,442699.3869964192,220044.52067463065,2352.263126051776,-163278.8679658582,-113671.29973575249,-33117.62540436582,-272279.0424165628,-8415.83889990429,-377423.1521251812,-85509.02272388311,17608.231642209503,17173.278925151582,29321.587640127716,282660.66989155643,195573.08488711072,239597.35812087057,120498.44560321432,-39268.36975440915,-122428.79255762853,-75204.68505745604,-54679.21228485828,-103390.67990215034,46261.614922059714,61741.92534717952,-28472.679734671063,-46710.96103409387,-294130.8574951417,37717.55671061167,-2388.31453697269,-40049.04320956747,283281.31654630246,-144932.27194733956,-50769.7640933765,-85624.12359182078,-99181.80711293314,-230698.7147771512,-198870.1186574118,-158317.06103121722,182063.20591261258,89660.4249071877,60811.55561905921,90654.40661755728,90695.86546502842,100424.20195547449,-87361.360726402,-179345.81196592696,50979.088355736574,234172.65840704646,-51118.2956671066,61507.554421563174,144016.83554614877,-206516.3194299565,-49756.76308353686,-318994.916670474,-87233.86983555857,-347945.0217458806,-373280.98959058424,-358550.9429623064,51658.94115038126,-157144.77404198455,-330038.3893585614,-79423.19049484534,-63814.310411509156,-340488.8089350064,-417719.4932523431,-385193.38464768196,-37615.12167956408,-237152.95910760976,-216218.889358996,-211564.3550294143,-321670.4158090258,-366182.99405863316,-197695.69384288136,-283728.4852429037,-69247.17322039737,-168944.69031989668,4418.723385105997,-288815.11032782117,-306564.06218663615,-134558.3973174316,-55196.689531173826,1512.9708434737076,-312083.79909097956,-225864.45747631096,-183464.8341283655,-294160.53356852155,441238.179735074,-176415.82744173738,-73886.210159922,150494.31389417802,-115520.70559783245,-80386.55098948837,63209.75737700019,57433.33800457167,-245088.02709651325,-130537.62510753913,-155202.72695214523,-159853.97050475184,-224731.05803215315,96994.36866911393,10343.157872216192,85736.46945033538,-40492.09447368434,-182724.8779520063,50612.97264865747,83534.62188960427,87946.8896599762,-116264.01757537264,58315.551835576174,-209149.60262010925,344989.891357177,-134571.09003695828,-38839.21211914933,57370.4185755858,-111706.0313373706,-131219.2289869296,-57859.9556848729,-111461.82635388797,24108.01414739773,-132021.55975790802,-194051.1809771121,-30765.108182200704,-124168.34009316757,-226362.856279806,-191084.32088917543,-131209.5995136843,-224497.69489337108,-149462.43738496958,-217700.5510870978,-79290.8980977276,-5919.655712172551,-81305.12702644058,16679.382353109286,-147344.38237361016,-163857.49463260578,47545.07972773517,-210644.33963898936,-123018.30645368289,-99328.52252415993,-163292.64551053406,-100210.66645277069,16541.59525544675,74550.47608287593,-92677.1381383001,-214695.34587619005,-213997.92658874227,-103317.0202565112,-144439.12097721908,-115839.60300965494,-60366.244893029274,-240152.6579052283,-56659.6754166538,-236470.57262652548,-176570.3370789269,-323634.80177958275,-197458.8290720868,-80323.36124564559,-162532.06800811674,-211197.21324412298,0.0,-232092.85590333625,-147316.8830774196,63836.270758034836,-95164.27772967303,-117679.01931578976,-125300.03757175816,-164266.6287388647,-92656.68404174774,-115423.67875534459,152348.76084997944,-178035.4160986459,-154865.04936114815,-181664.74726574463,-115103.26519675384,-119418.02105111035,3589.3212361834594,-138432.00729988678,-174067.15927867682,-160150.22004519682,-107006.77132236592,267340.5248322031,-80496.52891158604,-172635.3243768593,-139292.86522883034,-179746.76498232756,-70193.851793945,-6267.41627091008,-5883.450332123268,-161256.0550725796,-145644.33864208075,-187736.12837810552,-200058.74212836832,-10725.48807596231,42084.33359735257,-132843.84918369792,-67184.95402534003,-122156.83714426162,-158179.44536725275,-181280.79476940862,474354.72788568266,-235245.22085922884,-31125.716768551218,-107575.93445773366,-190804.46884319992,-172102.98909021172,-374917.04371533677,-436019.65070902894,-444662.88282719423,425883.3389611448,-35141.747511170106,199727.73871080249,-114155.6600175092,71958.5849976894,-138272.82072511915,-242663.21359081217,43518.76366680126,80598.22928145816,-101967.73595988174,151238.1576042481,186630.88494393046,5749.840555945105,-41025.01526527567,10271.207000887463,-136154.9204206977,111130.08548662341,-474025.51404743665,364781.5877182223,236748.818696893,467761.13724121166,402801.0770007578,123714.93725474687,147382.22697166417,-250473.6636501475,-206431.98743004253,-143342.84035430523,531392.5033956423,-35587.50795839633,260990.98614406982,-137725.74449030936,301346.9880914626,388125.1258227808,362174.082293219,-37367.373867332484,-73389.60697939577,-217721.14256026718,612140.6687186392,355978.1673222396,-133014.38764799264,597123.4259705709,75523.08302353458,276844.4440551629,-7836.946622392461,-475393.46120584395,-432080.049473391,-188384.22809737382,-272950.0312882913,-38690.802468086535,217610.07203282407,534004.3922280521,163723.97537972068,595791.7239923235,256692.7532726109,651947.293732643,148260.78217663048,249745.96531317712,-123582.4500260222,612141.6137834062,110815.7183045255,383572.12090954965,396548.6186765534,346745.7517089184,220168.02906167007,1205.3874773590032,-290977.39105019066,-319786.70946384966,-26922.057667240115,341705.46546749823,799710.1237887375,3607.94776555342,-95205.43008448173,-37252.83617973739,33547.41135381757,86472.82596062473,-70696.49886861026,-12007.962041905823,-12128.551039647607,64510.238672586696,-97399.436602962,-116690.09237974469,-108526.75639940384,20049.096592087797,67957.18877378132,-14852.270423543438,-41203.90211435282,-97551.46924743266,17831.51321016071,5698.338502996121,-110739.9679604537,-101441.11649740596,-54242.20256702942,-79632.70147851895,168767.14102871087,29871.26167033016,6366.659505316204,-117441.10061041654,491880.0168129857,-238301.6686022861,-105637.67648946603,-104453.59224306428,183000.97285262533,151713.44494815063,-42038.321604549375,140124.81777603508,11877.95480172045,310142.9914537836,-190218.97177784433,134292.0056946007,6010.889032494185,198871.3510219013]\n",
      "Intercept: 86197.63044428515\n"
     ]
    }
   ],
   "source": [
    "from pyspark.ml.regression import LinearRegression\n",
    "\n",
    "regressor=LinearRegression(featuresCol='Independent Features', labelCol='Price')\n",
    "regressor=regressor.fit(train_data)\n",
    "print(\"Coefficients: \" + str(regressor.coefficients))\n",
    "print(\"Intercept: \" + str(regressor.intercept))"
   ]
  },
  {
   "cell_type": "code",
   "execution_count": 30,
   "id": "250e86b3",
   "metadata": {},
   "outputs": [
    {
     "name": "stdout",
     "output_type": "stream",
     "text": [
      "RMSE: 203245.433807\n",
      "r2: 0.813443\n"
     ]
    }
   ],
   "source": [
    "trainingSummary = regressor.summary\n",
    "print(\"RMSE: %f\" % trainingSummary.rootMeanSquaredError)\n",
    "print(\"r2: %f\" % trainingSummary.r2)"
   ]
  },
  {
   "cell_type": "code",
   "execution_count": 31,
   "id": "37dfe74a",
   "metadata": {},
   "outputs": [],
   "source": [
    "### Prediction of Linear Regression\n",
    "pred_results=regressor.evaluate(test_data)"
   ]
  },
  {
   "cell_type": "code",
   "execution_count": 32,
   "id": "17f17fe5",
   "metadata": {},
   "outputs": [
    {
     "data": {
      "text/plain": [
       "(143200.4778807347, 204741.45791918394)"
      ]
     },
     "execution_count": 32,
     "metadata": {},
     "output_type": "execute_result"
    }
   ],
   "source": [
    "pred_results.meanAbsoluteError,pred_results.rootMeanSquaredError"
   ]
  },
  {
   "cell_type": "markdown",
   "id": "4cde42fc",
   "metadata": {},
   "source": [
    "### Random Forest Model"
   ]
  },
  {
   "cell_type": "code",
   "execution_count": 33,
   "id": "3474cdd5",
   "metadata": {},
   "outputs": [],
   "source": [
    "from pyspark.ml.regression import RandomForestRegressor\n",
    "\n",
    "rf=RandomForestRegressor(featuresCol='Independent Features', labelCol='Price')\n",
    "rf_model=rf.fit(train_data)"
   ]
  },
  {
   "cell_type": "code",
   "execution_count": 34,
   "id": "cf8f0486",
   "metadata": {},
   "outputs": [
    {
     "name": "stdout",
     "output_type": "stream",
     "text": [
      "Root Mean Squared Error (RMSE) on test data = 297281\n"
     ]
    }
   ],
   "source": [
    "### Prediction of random forest model\n",
    "from pyspark.ml.evaluation import RegressionEvaluator\n",
    "rf_predictions = rf_model.transform(test_data)\n",
    "rf_evaluator = RegressionEvaluator(labelCol=\"Price\", predictionCol=\"prediction\", metricName=\"rmse\")\n",
    "rmse = rf_evaluator.evaluate(rf_predictions)\n",
    "print(\"Root Mean Squared Error (RMSE) on test data = %g\" % rmse)"
   ]
  },
  {
   "cell_type": "code",
   "execution_count": 35,
   "id": "e1d567f8",
   "metadata": {},
   "outputs": [
    {
     "name": "stdout",
     "output_type": "stream",
     "text": [
      "+--------------------+-------+------------------+\n",
      "|Independent Features|  Price|        prediction|\n",
      "+--------------------+-------+------------------+\n",
      "|(575,[0,1,2,3,136...| 305000|399703.76929645665|\n",
      "|(575,[0,1,2,4,136...| 121000|399703.76929645665|\n",
      "|(575,[0,1,2,4,136...| 169000|399703.76929645665|\n",
      "|(575,[0,1,2,4,136...| 169000|399703.76929645665|\n",
      "|(575,[0,1,2,4,136...| 399000| 819804.1101659948|\n",
      "|(575,[0,1,2,5,134...| 729000| 687775.9001049759|\n",
      "|(575,[0,1,2,6,215...|1598000| 812526.8887728349|\n",
      "|(575,[0,1,2,6,215...|1598000| 812526.8887728349|\n",
      "|(575,[0,1,2,6,215...|1598000| 812526.8887728349|\n",
      "|(575,[0,1,2,6,215...|1598000| 812526.8887728349|\n",
      "|(575,[0,1,2,6,215...|1598000| 812526.8887728349|\n",
      "|(575,[0,1,2,6,215...|1598000| 812526.8887728349|\n",
      "|(575,[0,1,2,6,215...|1598000| 812526.8887728349|\n",
      "|(575,[0,1,2,7,134...| 668490| 902781.5698682014|\n",
      "|(575,[0,1,2,8,255...| 349900|  548010.760723152|\n",
      "|(575,[0,1,2,8,255...| 349900|  548010.760723152|\n",
      "|(575,[0,1,2,8,255...| 349900|  548010.760723152|\n",
      "|(575,[0,1,2,8,256...|1350000|1087068.9390453445|\n",
      "|(575,[0,1,2,8,256...|1350000|1087068.9390453445|\n",
      "|(575,[0,1,2,8,256...|1350000|1087068.9390453445|\n",
      "+--------------------+-------+------------------+\n",
      "only showing top 20 rows\n",
      "\n"
     ]
    }
   ],
   "source": [
    "rf_predictions.show()"
   ]
  },
  {
   "cell_type": "code",
   "execution_count": 36,
   "id": "d0ce33c7",
   "metadata": {},
   "outputs": [
    {
     "data": {
      "text/plain": [
       "SparseVector(575, {0: 0.1629, 1: 0.1768, 2: 0.0346, 8: 0.0002, 12: 0.0018, 13: 0.0436, 18: 0.0004, 19: 0.0635, 25: 0.002, 26: 0.0002, 34: 0.001, 56: 0.0003, 57: 0.0009, 59: 0.0226, 60: 0.0009, 69: 0.0739, 77: 0.0001, 85: 0.004, 96: 0.0005, 99: 0.0005, 101: 0.0001, 108: 0.0001, 109: 0.0001, 125: 0.0007, 130: 0.0002, 134: 0.0246, 135: 0.2631, 136: 0.0513, 139: 0.0132, 148: 0.0001, 151: 0.0002, 157: 0.0024, 160: 0.0028, 162: 0.0001, 168: 0.0005, 172: 0.0005, 173: 0.003, 195: 0.0, 212: 0.0017, 219: 0.0002, 223: 0.0005, 224: 0.0001, 225: 0.0002, 226: 0.0004, 229: 0.0001, 238: 0.0005, 240: 0.0035, 246: 0.001, 248: 0.001, 256: 0.0014, 257: 0.0004, 300: 0.0, 303: 0.0033, 306: 0.0, 307: 0.0, 314: 0.001, 319: 0.0005, 326: 0.0, 332: 0.0, 335: 0.0, 338: 0.0001, 342: 0.0029, 345: 0.0001, 347: 0.0, 349: 0.0, 366: 0.0008, 393: 0.0, 399: 0.0, 429: 0.0, 433: 0.0, 436: 0.0, 443: 0.0, 462: 0.0005, 482: 0.0002, 484: 0.0009, 485: 0.0002, 491: 0.0008, 501: 0.0024, 502: 0.0007, 504: 0.0008, 508: 0.001, 514: 0.0026, 516: 0.0085, 517: 0.0004, 522: 0.0038, 524: 0.0002, 525: 0.0005, 526: 0.0002, 533: 0.0015, 543: 0.0003, 550: 0.0005, 560: 0.0002, 561: 0.0001, 570: 0.0002})"
      ]
     },
     "execution_count": 36,
     "metadata": {},
     "output_type": "execute_result"
    }
   ],
   "source": [
    "rf_model.featureImportances"
   ]
  },
  {
   "cell_type": "code",
   "execution_count": 37,
   "id": "7997b5fc",
   "metadata": {},
   "outputs": [
    {
     "data": {
      "text/plain": [
       "[Row(Independent Features=SparseVector(575, {0: 2.0, 1: 800.0, 2: 1.0, 69: 1.0, 158: 1.0})),\n",
       " Row(Independent Features=SparseVector(575, {0: 1.0, 1: 1932.0, 2: 3.0, 106: 1.0, 180: 1.0}))]"
      ]
     },
     "execution_count": 37,
     "metadata": {},
     "output_type": "execute_result"
    }
   ],
   "source": [
    "finalized_data.select('Independent Features').take(2)"
   ]
  },
  {
   "cell_type": "markdown",
   "id": "6411770d",
   "metadata": {},
   "source": [
    "feature_columns = ['Baths', 'Area', 'Beds', 'District', 'City', 'Zip']"
   ]
  },
  {
   "cell_type": "markdown",
   "id": "2a6daefd",
   "metadata": {},
   "source": [
    "### Gradient Boosting Tree Model"
   ]
  },
  {
   "cell_type": "code",
   "execution_count": 38,
   "id": "a1a3db49",
   "metadata": {},
   "outputs": [],
   "source": [
    "from pyspark.ml.regression import GBTRegressor\n",
    "train_data,test_data=finalized_data.randomSplit([0.8,0.2])\n",
    "gbt=GBTRegressor(featuresCol='Independent Features', labelCol='Price')\n",
    "gbt_model=gbt.fit(train_data)"
   ]
  },
  {
   "cell_type": "code",
   "execution_count": 39,
   "id": "da047846",
   "metadata": {},
   "outputs": [
    {
     "name": "stdout",
     "output_type": "stream",
     "text": [
      "Root Mean Squared Error (RMSE) on test data = 249755\n"
     ]
    }
   ],
   "source": [
    "### Prediction of GBT Model\n",
    "gbt_predictions = gbt_model.transform(test_data)\n",
    "gbt_evaluator = RegressionEvaluator(labelCol=\"Price\", predictionCol=\"prediction\", metricName=\"rmse\")\n",
    "rmse = gbt_evaluator.evaluate(gbt_predictions)\n",
    "print(\"Root Mean Squared Error (RMSE) on test data = %g\" % rmse)"
   ]
  },
  {
   "cell_type": "code",
   "execution_count": 40,
   "id": "4d111124",
   "metadata": {},
   "outputs": [
    {
     "name": "stdout",
     "output_type": "stream",
     "text": [
      "+--------------------+-------+------------------+\n",
      "|Independent Features|  Price|        prediction|\n",
      "+--------------------+-------+------------------+\n",
      "|(575,[0,1,2,4,136...| 121000|234946.70238474893|\n",
      "|(575,[0,1,2,4,136...| 121000|234946.70238474893|\n",
      "|(575,[0,1,2,4,136...| 169000| 248620.3973794887|\n",
      "|(575,[0,1,2,4,136...| 169000| 248620.3973794887|\n",
      "|(575,[0,1,2,4,136...| 169000| 248620.3973794887|\n",
      "|(575,[0,1,2,4,136...| 345000|281989.20100772195|\n",
      "|(575,[0,1,2,4,136...| 399000| 733217.4860062656|\n",
      "|(575,[0,1,2,5,134...| 620000| 599615.2537050897|\n",
      "|(575,[0,1,2,5,134...| 620000| 599615.2537050897|\n",
      "|(575,[0,1,2,5,134...| 685000| 786487.7206427073|\n",
      "|(575,[0,1,2,6,215...|1598000| 1097122.515133293|\n",
      "|(575,[0,1,2,7,134...| 668490|1080399.7832907895|\n",
      "|(575,[0,1,2,8,255...| 349900|468617.79749605857|\n",
      "|(575,[0,1,2,8,255...| 349900|468617.79749605857|\n",
      "|(575,[0,1,2,8,255...| 374999|468617.79749605857|\n",
      "|(575,[0,1,2,8,255...| 374999|468617.79749605857|\n",
      "|(575,[0,1,2,8,256...|1350000|1395682.5539331457|\n",
      "|(575,[0,1,2,8,256...|1350000|1395682.5539331457|\n",
      "|(575,[0,1,2,8,256...|1350000|1395682.5539331457|\n",
      "|(575,[0,1,2,8,256...|1890000|1935682.5539331457|\n",
      "+--------------------+-------+------------------+\n",
      "only showing top 20 rows\n",
      "\n"
     ]
    }
   ],
   "source": [
    "gbt_predictions.show()"
   ]
  }
 ],
 "metadata": {
  "kernelspec": {
   "display_name": "Python [conda env:tensorflow_env] *",
   "language": "python",
   "name": "conda-env-tensorflow_env-py"
  },
  "language_info": {
   "codemirror_mode": {
    "name": "ipython",
    "version": 3
   },
   "file_extension": ".py",
   "mimetype": "text/x-python",
   "name": "python",
   "nbconvert_exporter": "python",
   "pygments_lexer": "ipython3",
   "version": "3.7.13"
  }
 },
 "nbformat": 4,
 "nbformat_minor": 5
}
