{
 "cells": [
  {
   "cell_type": "markdown",
   "metadata": {},
   "source": [
    "# Simple A/B Testing with Python"
   ]
  },
  {
   "cell_type": "markdown",
   "metadata": {},
   "source": [
    "Pada notebook ini, kita akan mencoba menganalisis menggunakan A/B test, dari memformulasikan hipotesis, mengujinya, dan mengintepretasikan hasilnya. Data yang digunakan <a href='https://www.kaggle.com/zhangluyuan/ab-testing?select=ab_data.csv'>dataset dari Kaggle</a> yang berisi hasil A/B test dari 2 desain halaman website yang berbeda (old_page vs new_page). Hal yang akan kita lakukan sebagai berikut:\n",
    "\n",
    "1. Desain eksperimen\n",
    "2. Mengumpulkan dan mempersiapkan data\n",
    "3. Visualisasi Data\n",
    "4. Uji Hipotesis\n",
    "5. Menarik kesimpulan\n",
    "\n",
    "Skenario yang ingin diuji pada analisis ini dapat dicontohkan sebagai berikut:\n",
    "\n",
    "> Bayangkan kita bekerja pada tim produk suatu bisnis e-commerce online. UX designer telah bekerja untuk membuat versi baru dari halaman website dari produk kita dengan harapan conversion rate-nya akan naik.PM memberitahu bahwa conversion rate saat ini sebesar 11% secara rata-rata dalam setahun dan tim berkespektasi dengan adanya kenaikan 3%. Artinya desain baru akan dipertimbangkan apabila dapat menaikkan conversion rate hingga 14%\n",
    "\n",
    "Sebelum meluncurkan perubahan, tim akan mengujinya pada sejumlah kecil pengguna untuk melihat kinerjanya, jadi A/B testing akan diuji pada subset dari dataset."
   ]
  },
  {
   "cell_type": "markdown",
   "metadata": {},
   "source": [
    "***\n",
    "## 1. Desain Eksperimen"
   ]
  },
  {
   "cell_type": "markdown",
   "metadata": {},
   "source": [
    "### Formulasi Hipotesis\n",
    "\n",
    "\n",
    "Hal pertama, kita ingin memastikan bahwa kita perlu merumuskan hipotesis di awal proyek. Proses ini akan memastikan interpretasi kita terhadap hasilnya benar dan tepat.\n",
    "\n",
    "Tugas yang diberikan kita untuk mengetahui apakah desain baru memiliki performa yang lebih baik, lebih buruk, atau sama. Untuk itu, kita akan memilih <a href=\"https://en.wikipedia.org/wiki/One-_and_two-tailed_tests\">**two-tailed test**</a>:\n",
    "\n",
    "$$H_0: p = p_0$$\n",
    "$$H_a: p \\ne p_0$$\n",
    "\n",
    "dimana $p$ dan $p_0$ secara berturut-turut berarti conversion rate dari the new and old design. Kita juga mengatur confidence level sebesar 95%:\n",
    "\n",
    "$$\\alpha = 0.05$$\n",
    "\n",
    "Nilai $\\alpha$ adalah ambang batas yang kita atur, yang berarti \"jika probabilitas dari hasil yang diobservasi ($p$-value) kurang dari $\\alpha$, maka null hypothesis ditolak\". Karena nilai yang diatur $\\alpha=0.05$, tingkat keyakinan kita (1 - $\\alpha$) adalah 95%."
   ]
  },
  {
   "cell_type": "markdown",
   "metadata": {},
   "source": [
    "### Memilih Variabel\n",
    "\n",
    "Pada pengujian yang dilakukan, kita membutuhkan 2 grup:\n",
    "* Grup kontrol - old design\n",
    "* Grup perlakuan - new design\n",
    "\n",
    "Ini merupakan variabel independen pada pengujian ini. Variabel lain selain desain halaman produk dijaga agar tetap sama. Hal ini dikarenakan kita ingin langsung membandingkan antara dua grup yang berbeda secara langsung. Apabila variabel lain tidak dijaga tetap sama (misal waktu pengujian, level pengguna, promosi), maka kita tidak dapat memastikan variabel mana yang mempengaruhi conversion rate. Oleh karena itu, perbedaan sistematis yang diuji pada pengujian ini hanya terletak pada desain website.\n",
    "\n",
    "Variabel terikat pada pengujian ini adalah conversion rate, yang dilambangkan sebagai berikut:\n",
    "* `0` - Pengguna tidak membeli produk selama sesi ini\n",
    "* `1` - Pengguna membeli produk selama sesi ini"
   ]
  },
  {
   "cell_type": "markdown",
   "metadata": {},
   "source": [
    "### Pemilihan Ukuran Sampel\n",
    "\n",
    "Pada pengujian ini, ukuran sampel minimal dicoba, tidak menggunakan keseluruhan dataset. Oleh karena itu, conversion rates yang kita dapat akan berupa estimasi.\n",
    "\n",
    "Jumlah orang (atau sesi pengguna) yang dipuyuskan untuk dicatat di setiap grup akan memengaruhi ketepatan taksiran rasio konversi: semakin besar ukuran sampel, semakin tepat perkiraan uji, semakin tinggi peluang untuk mendeteksi perbedaan di kedua kelompok. Di sisi lain, semakin besar sampel yang digunakan, semakin mahal (dan tidak praktis) pengujiannya.\n",
    "\n",
    "\n",
    "Ukuran sampel diperkirakan dengan suatu perkiraan ukuran yang dinamakan statistical power, dan itu bergantung oleh beberapa faktor:\n",
    "* Power of test ($1 - \\beta$) - Nilai yang merepresentasikan probabilitas menemukan perbedaan statistik antara kelompok dalam pengujian jika perbedaan benar-benar ada. Ini biasanya ditetapkan pada 0,8 sebagai konvensi (berikut info lebih lanjut tentang <a href=\"https://en.wikipedia.org/wiki/Power_of_a_test\">statistical power</a>, jika Anda penasaran)\n",
    "* Niai alpha ($\\alpha$) - Nilai ambang batas, ditetapkan di awal sebesar 0.05\n",
    "* Effect size- Besarnya perbedaan yang diekspektasikan antar conversion rate\n",
    "\n",
    "Dikarenakan tim kita berekspektasi adanya perbedaan sebesar 3%, kita dapat menggunakan 11% dan 14% untuk menghitung effect size pada pengujian ini."
   ]
  },
  {
   "cell_type": "code",
   "execution_count": 1,
   "metadata": {},
   "outputs": [
    {
     "name": "stderr",
     "output_type": "stream",
     "text": [
      "C:\\Users\\kana\\Anaconda3\\envs\\tensorflow_env\\lib\\site-packages\\numpy\\_distributor_init.py:32: UserWarning: loaded more than 1 DLL from .libs:\n",
      "C:\\Users\\kana\\Anaconda3\\envs\\tensorflow_env\\lib\\site-packages\\numpy\\.libs\\libopenblas.NOIJJG62EMASZI6NYURL6JBKM4EVBGM7.gfortran-win_amd64.dll\n",
      "C:\\Users\\kana\\Anaconda3\\envs\\tensorflow_env\\lib\\site-packages\\numpy\\.libs\\libopenblas.XWYDX2IKJW2NMTWSFYNGFUWKQU3LYTCZ.gfortran-win_amd64.dll\n",
      "  stacklevel=1)\n"
     ]
    }
   ],
   "source": [
    "# Import package\n",
    "import numpy as np\n",
    "import pandas as pd\n",
    "import scipy.stats as stats\n",
    "import statsmodels.stats.api as sms\n",
    "import matplotlib as mpl\n",
    "import matplotlib.pyplot as plt\n",
    "import seaborn as sns\n",
    "from math import ceil\n",
    "\n",
    "%matplotlib inline\n",
    "\n",
    "# Some plot styling preferences\n",
    "plt.style.use('seaborn-whitegrid')\n",
    "font = {'family' : 'Helvetica',\n",
    "        'weight' : 'bold',\n",
    "        'size'   : 14}\n",
    "\n",
    "mpl.rc('font', **font)"
   ]
  },
  {
   "cell_type": "code",
   "execution_count": 2,
   "metadata": {},
   "outputs": [
    {
     "name": "stdout",
     "output_type": "stream",
     "text": [
      "1902\n"
     ]
    }
   ],
   "source": [
    "effect_size = sms.proportion_effectsize(0.11, 0.14)    # Menghitung effect size berdasarkan ekspektasi rate\n",
    "\n",
    "required_n = sms.NormalIndPower().solve_power(\n",
    "    effect_size, \n",
    "    power=0.8, \n",
    "    alpha=0.05, \n",
    "    ratio=1\n",
    "    )                                                  # Calculating sample size needed\n",
    "\n",
    "required_n = ceil(required_n)                          # Rounding up to next whole number                          \n",
    "\n",
    "print(required_n)"
   ]
  },
  {
   "cell_type": "markdown",
   "metadata": {},
   "source": [
    "Kita butuh setidaknya 1902 data setiap grup. Pada analisis ini, perbedaan jumlah data akan dibandingkan juga.\n",
    "\n",
    "Ukuran parameter power 0,8 berarti jika terdapat perbedaan aktual dalam conversion rate antara desain yang dibangun (dalam hal ini 11% dan 14%), kita memiliki kemungkinan 80% untuk mendeteksi perbedaan tersebut signifikan secara statistik dalam pengujain kita dengan ukuran sampel yang dihitung."
   ]
  },
  {
   "cell_type": "markdown",
   "metadata": {},
   "source": [
    "***\n",
    "## 2. Mengumpulkan dan Mempersiapkan Data"
   ]
  },
  {
   "cell_type": "markdown",
   "metadata": {},
   "source": [
    "Data yang dikumpulkan pada analisis ini menggunakan dataset online sebagai simulasi:\n",
    "1. Download data dari <a href='https://www.kaggle.com/zhangluyuan/ab-testing?select=ab_data.csv'>Kaggle</a>\n",
    "2. Baca data menggunakan dataframe\n",
    "3. Cek dan bersihkan data jika diperlukan\n",
    "4. Ambil n=1902 sampel secara acak dari dataframe setuap grup"
   ]
  },
  {
   "cell_type": "code",
   "execution_count": 3,
   "metadata": {},
   "outputs": [
    {
     "data": {
      "text/html": [
       "<div>\n",
       "<style scoped>\n",
       "    .dataframe tbody tr th:only-of-type {\n",
       "        vertical-align: middle;\n",
       "    }\n",
       "\n",
       "    .dataframe tbody tr th {\n",
       "        vertical-align: top;\n",
       "    }\n",
       "\n",
       "    .dataframe thead th {\n",
       "        text-align: right;\n",
       "    }\n",
       "</style>\n",
       "<table border=\"1\" class=\"dataframe\">\n",
       "  <thead>\n",
       "    <tr style=\"text-align: right;\">\n",
       "      <th></th>\n",
       "      <th>user_id</th>\n",
       "      <th>timestamp</th>\n",
       "      <th>group</th>\n",
       "      <th>landing_page</th>\n",
       "      <th>converted</th>\n",
       "    </tr>\n",
       "  </thead>\n",
       "  <tbody>\n",
       "    <tr>\n",
       "      <th>0</th>\n",
       "      <td>851104</td>\n",
       "      <td>2017-01-21 22:11:48.556739</td>\n",
       "      <td>control</td>\n",
       "      <td>old_page</td>\n",
       "      <td>0</td>\n",
       "    </tr>\n",
       "    <tr>\n",
       "      <th>1</th>\n",
       "      <td>804228</td>\n",
       "      <td>2017-01-12 08:01:45.159739</td>\n",
       "      <td>control</td>\n",
       "      <td>old_page</td>\n",
       "      <td>0</td>\n",
       "    </tr>\n",
       "    <tr>\n",
       "      <th>2</th>\n",
       "      <td>661590</td>\n",
       "      <td>2017-01-11 16:55:06.154213</td>\n",
       "      <td>treatment</td>\n",
       "      <td>new_page</td>\n",
       "      <td>0</td>\n",
       "    </tr>\n",
       "    <tr>\n",
       "      <th>3</th>\n",
       "      <td>853541</td>\n",
       "      <td>2017-01-08 18:28:03.143765</td>\n",
       "      <td>treatment</td>\n",
       "      <td>new_page</td>\n",
       "      <td>0</td>\n",
       "    </tr>\n",
       "    <tr>\n",
       "      <th>4</th>\n",
       "      <td>864975</td>\n",
       "      <td>2017-01-21 01:52:26.210827</td>\n",
       "      <td>control</td>\n",
       "      <td>old_page</td>\n",
       "      <td>1</td>\n",
       "    </tr>\n",
       "  </tbody>\n",
       "</table>\n",
       "</div>"
      ],
      "text/plain": [
       "   user_id                   timestamp      group landing_page  converted\n",
       "0   851104  2017-01-21 22:11:48.556739    control     old_page          0\n",
       "1   804228  2017-01-12 08:01:45.159739    control     old_page          0\n",
       "2   661590  2017-01-11 16:55:06.154213  treatment     new_page          0\n",
       "3   853541  2017-01-08 18:28:03.143765  treatment     new_page          0\n",
       "4   864975  2017-01-21 01:52:26.210827    control     old_page          1"
      ]
     },
     "execution_count": 3,
     "metadata": {},
     "output_type": "execute_result"
    }
   ],
   "source": [
    "df = pd.read_csv('https://raw.githubusercontent.com/wandakinasih/gg2/main/ab_data.csv')\n",
    "\n",
    "df.head()"
   ]
  },
  {
   "cell_type": "code",
   "execution_count": 4,
   "metadata": {},
   "outputs": [
    {
     "name": "stdout",
     "output_type": "stream",
     "text": [
      "<class 'pandas.core.frame.DataFrame'>\n",
      "RangeIndex: 294478 entries, 0 to 294477\n",
      "Data columns (total 5 columns):\n",
      " #   Column        Non-Null Count   Dtype \n",
      "---  ------        --------------   ----- \n",
      " 0   user_id       294478 non-null  int64 \n",
      " 1   timestamp     294478 non-null  object\n",
      " 2   group         294478 non-null  object\n",
      " 3   landing_page  294478 non-null  object\n",
      " 4   converted     294478 non-null  int64 \n",
      "dtypes: int64(2), object(3)\n",
      "memory usage: 11.2+ MB\n"
     ]
    }
   ],
   "source": [
    "df.info()"
   ]
  },
  {
   "cell_type": "markdown",
   "metadata": {},
   "source": [
    "Terdapat 294478 baris DataFrame dengan 5 kolom:\n",
    "* `user_id` - User ID setiap sesi\n",
    "* `timestamp` - Timestamp setiap sesi\n",
    "* `group` - Grup yang ditentukan {`control`, `treatment`}\n",
    "* `landing_page` - Desain yayng dilihat pengguna {`old_page`, `new_page`}\n",
    "* `converted` - Hasil konversi atau tidak (biner, `0`=not converted, `1`=converted)\n",
    "\n",
    "Kita hanya akan menggunakan kolom group dan converted untuk analisis."
   ]
  },
  {
   "cell_type": "code",
   "execution_count": 5,
   "metadata": {},
   "outputs": [
    {
     "name": "stdout",
     "output_type": "stream",
     "text": [
      "Terdapat 3894 pengguna yang muncul beberapa kali\n"
     ]
    }
   ],
   "source": [
    "session_counts = df['user_id'].value_counts(ascending=False)\n",
    "multi_users = session_counts[session_counts > 1].count()\n",
    "\n",
    "print(f'Terdapat {multi_users} pengguna yang muncul beberapa kali')"
   ]
  },
  {
   "cell_type": "code",
   "execution_count": 6,
   "metadata": {},
   "outputs": [
    {
     "name": "stdout",
     "output_type": "stream",
     "text": [
      "Dataset yang telah difilter memiliki 286690 baris\n"
     ]
    }
   ],
   "source": [
    "users_to_drop = session_counts[session_counts > 1].index\n",
    "\n",
    "df = df[~df['user_id'].isin(users_to_drop)]\n",
    "print(f'Dataset yang telah difilter memiliki {df.shape[0]} baris')"
   ]
  },
  {
   "cell_type": "code",
   "execution_count": 7,
   "metadata": {},
   "outputs": [
    {
     "data": {
      "text/html": [
       "<div>\n",
       "<style scoped>\n",
       "    .dataframe tbody tr th:only-of-type {\n",
       "        vertical-align: middle;\n",
       "    }\n",
       "\n",
       "    .dataframe tbody tr th {\n",
       "        vertical-align: top;\n",
       "    }\n",
       "\n",
       "    .dataframe thead th {\n",
       "        text-align: right;\n",
       "    }\n",
       "</style>\n",
       "<table border=\"1\" class=\"dataframe\">\n",
       "  <thead>\n",
       "    <tr style=\"text-align: right;\">\n",
       "      <th>landing_page</th>\n",
       "      <th>new_page</th>\n",
       "      <th>old_page</th>\n",
       "    </tr>\n",
       "    <tr>\n",
       "      <th>group</th>\n",
       "      <th></th>\n",
       "      <th></th>\n",
       "    </tr>\n",
       "  </thead>\n",
       "  <tbody>\n",
       "    <tr>\n",
       "      <th>control</th>\n",
       "      <td>0</td>\n",
       "      <td>143293</td>\n",
       "    </tr>\n",
       "    <tr>\n",
       "      <th>treatment</th>\n",
       "      <td>143397</td>\n",
       "      <td>0</td>\n",
       "    </tr>\n",
       "  </tbody>\n",
       "</table>\n",
       "</div>"
      ],
      "text/plain": [
       "landing_page  new_page  old_page\n",
       "group                           \n",
       "control              0    143293\n",
       "treatment       143397         0"
      ]
     },
     "execution_count": 7,
     "metadata": {},
     "output_type": "execute_result"
    }
   ],
   "source": [
    "# Memastikan grup kontrol memperlihatkan old page dan sebaliknya\n",
    "\n",
    "pd.crosstab(df['group'], df['landing_page'])"
   ]
  },
  {
   "cell_type": "code",
   "execution_count": 8,
   "metadata": {},
   "outputs": [],
   "source": [
    "#Filter kolom yang sesuai\n",
    "\n",
    "df = df[((df['group']=='control') & (df['landing_page']=='old_page')) | ((df['group']=='treatment') & (df['landing_page']=='new_page'))]"
   ]
  },
  {
   "cell_type": "code",
   "execution_count": 9,
   "metadata": {},
   "outputs": [
    {
     "name": "stdout",
     "output_type": "stream",
     "text": [
      "Dataset yang telah diupdate memiliki 286690 baris\n"
     ]
    }
   ],
   "source": [
    "print(f'Dataset yang telah diupdate memiliki {df.shape[0]} baris')"
   ]
  },
  {
   "cell_type": "markdown",
   "metadata": {},
   "source": [
    "### Sampling\n",
    "\n",
    "Sekarang setelah DataFrame kita bagus dan bersih, kita dapat melanjutkan dan mengambil sampel entri `n=1769` untuk setiap grup. Kita bisa menggunakan metode `DataFrame.sample()` panda untuk melakukan ini, yang akan melakukan simple random sampling."
   ]
  },
  {
   "cell_type": "code",
   "execution_count": 10,
   "metadata": {},
   "outputs": [],
   "source": [
    "control_sample = df[df['group'] == 'control'].sample(n=required_n, random_state=42)\n",
    "treatment_sample = df[df['group'] == 'treatment'].sample(n=required_n, random_state=42)\n",
    "\n",
    "ab_test = pd.concat([control_sample, treatment_sample], axis=0)\n",
    "ab_test.reset_index(drop=True, inplace=True)"
   ]
  },
  {
   "cell_type": "code",
   "execution_count": 11,
   "metadata": {},
   "outputs": [
    {
     "data": {
      "text/html": [
       "<div>\n",
       "<style scoped>\n",
       "    .dataframe tbody tr th:only-of-type {\n",
       "        vertical-align: middle;\n",
       "    }\n",
       "\n",
       "    .dataframe tbody tr th {\n",
       "        vertical-align: top;\n",
       "    }\n",
       "\n",
       "    .dataframe thead th {\n",
       "        text-align: right;\n",
       "    }\n",
       "</style>\n",
       "<table border=\"1\" class=\"dataframe\">\n",
       "  <thead>\n",
       "    <tr style=\"text-align: right;\">\n",
       "      <th></th>\n",
       "      <th>user_id</th>\n",
       "      <th>timestamp</th>\n",
       "      <th>group</th>\n",
       "      <th>landing_page</th>\n",
       "      <th>converted</th>\n",
       "    </tr>\n",
       "  </thead>\n",
       "  <tbody>\n",
       "    <tr>\n",
       "      <th>0</th>\n",
       "      <td>663037</td>\n",
       "      <td>2017-01-05 02:13:38.063443</td>\n",
       "      <td>control</td>\n",
       "      <td>old_page</td>\n",
       "      <td>0</td>\n",
       "    </tr>\n",
       "    <tr>\n",
       "      <th>1</th>\n",
       "      <td>932826</td>\n",
       "      <td>2017-01-13 04:50:06.941679</td>\n",
       "      <td>control</td>\n",
       "      <td>old_page</td>\n",
       "      <td>1</td>\n",
       "    </tr>\n",
       "    <tr>\n",
       "      <th>2</th>\n",
       "      <td>922999</td>\n",
       "      <td>2017-01-04 07:19:23.813317</td>\n",
       "      <td>control</td>\n",
       "      <td>old_page</td>\n",
       "      <td>0</td>\n",
       "    </tr>\n",
       "    <tr>\n",
       "      <th>3</th>\n",
       "      <td>857826</td>\n",
       "      <td>2017-01-19 02:27:37.678241</td>\n",
       "      <td>control</td>\n",
       "      <td>old_page</td>\n",
       "      <td>0</td>\n",
       "    </tr>\n",
       "    <tr>\n",
       "      <th>4</th>\n",
       "      <td>762926</td>\n",
       "      <td>2017-01-18 17:50:59.261406</td>\n",
       "      <td>control</td>\n",
       "      <td>old_page</td>\n",
       "      <td>0</td>\n",
       "    </tr>\n",
       "    <tr>\n",
       "      <th>...</th>\n",
       "      <td>...</td>\n",
       "      <td>...</td>\n",
       "      <td>...</td>\n",
       "      <td>...</td>\n",
       "      <td>...</td>\n",
       "    </tr>\n",
       "    <tr>\n",
       "      <th>3799</th>\n",
       "      <td>854044</td>\n",
       "      <td>2017-01-09 16:25:24.436815</td>\n",
       "      <td>treatment</td>\n",
       "      <td>new_page</td>\n",
       "      <td>0</td>\n",
       "    </tr>\n",
       "    <tr>\n",
       "      <th>3800</th>\n",
       "      <td>876909</td>\n",
       "      <td>2017-01-04 03:54:23.469079</td>\n",
       "      <td>treatment</td>\n",
       "      <td>new_page</td>\n",
       "      <td>0</td>\n",
       "    </tr>\n",
       "    <tr>\n",
       "      <th>3801</th>\n",
       "      <td>665311</td>\n",
       "      <td>2017-01-06 05:08:57.647599</td>\n",
       "      <td>treatment</td>\n",
       "      <td>new_page</td>\n",
       "      <td>0</td>\n",
       "    </tr>\n",
       "    <tr>\n",
       "      <th>3802</th>\n",
       "      <td>845595</td>\n",
       "      <td>2017-01-09 12:02:57.076190</td>\n",
       "      <td>treatment</td>\n",
       "      <td>new_page</td>\n",
       "      <td>0</td>\n",
       "    </tr>\n",
       "    <tr>\n",
       "      <th>3803</th>\n",
       "      <td>874444</td>\n",
       "      <td>2017-01-04 12:56:21.280368</td>\n",
       "      <td>treatment</td>\n",
       "      <td>new_page</td>\n",
       "      <td>0</td>\n",
       "    </tr>\n",
       "  </tbody>\n",
       "</table>\n",
       "<p>3804 rows × 5 columns</p>\n",
       "</div>"
      ],
      "text/plain": [
       "      user_id                   timestamp      group landing_page  converted\n",
       "0      663037  2017-01-05 02:13:38.063443    control     old_page          0\n",
       "1      932826  2017-01-13 04:50:06.941679    control     old_page          1\n",
       "2      922999  2017-01-04 07:19:23.813317    control     old_page          0\n",
       "3      857826  2017-01-19 02:27:37.678241    control     old_page          0\n",
       "4      762926  2017-01-18 17:50:59.261406    control     old_page          0\n",
       "...       ...                         ...        ...          ...        ...\n",
       "3799   854044  2017-01-09 16:25:24.436815  treatment     new_page          0\n",
       "3800   876909  2017-01-04 03:54:23.469079  treatment     new_page          0\n",
       "3801   665311  2017-01-06 05:08:57.647599  treatment     new_page          0\n",
       "3802   845595  2017-01-09 12:02:57.076190  treatment     new_page          0\n",
       "3803   874444  2017-01-04 12:56:21.280368  treatment     new_page          0\n",
       "\n",
       "[3804 rows x 5 columns]"
      ]
     },
     "execution_count": 11,
     "metadata": {},
     "output_type": "execute_result"
    }
   ],
   "source": [
    "ab_test"
   ]
  },
  {
   "cell_type": "code",
   "execution_count": 12,
   "metadata": {},
   "outputs": [
    {
     "name": "stdout",
     "output_type": "stream",
     "text": [
      "<class 'pandas.core.frame.DataFrame'>\n",
      "RangeIndex: 3804 entries, 0 to 3803\n",
      "Data columns (total 5 columns):\n",
      " #   Column        Non-Null Count  Dtype \n",
      "---  ------        --------------  ----- \n",
      " 0   user_id       3804 non-null   int64 \n",
      " 1   timestamp     3804 non-null   object\n",
      " 2   group         3804 non-null   object\n",
      " 3   landing_page  3804 non-null   object\n",
      " 4   converted     3804 non-null   int64 \n",
      "dtypes: int64(2), object(3)\n",
      "memory usage: 148.7+ KB\n"
     ]
    }
   ],
   "source": [
    "ab_test.info()"
   ]
  },
  {
   "cell_type": "code",
   "execution_count": 13,
   "metadata": {},
   "outputs": [
    {
     "data": {
      "text/plain": [
       "treatment    1902\n",
       "control      1902\n",
       "Name: group, dtype: int64"
      ]
     },
     "execution_count": 13,
     "metadata": {},
     "output_type": "execute_result"
    }
   ],
   "source": [
    "ab_test['group'].value_counts()"
   ]
  },
  {
   "cell_type": "markdown",
   "metadata": {},
   "source": [
    "***\n",
    "## 3. Visualisasi Hasil"
   ]
  },
  {
   "cell_type": "code",
   "execution_count": 14,
   "metadata": {},
   "outputs": [
    {
     "data": {
      "text/html": [
       "<style  type=\"text/css\" >\n",
       "</style><table id=\"T_1bb59dc2_f966_11ec_b903_b8bafc164c02\" ><thead>    <tr>        <th class=\"blank level0\" ></th>        <th class=\"col_heading level0 col0\" >conversion_rate</th>        <th class=\"col_heading level0 col1\" >std_deviation</th>        <th class=\"col_heading level0 col2\" >std_error</th>    </tr>    <tr>        <th class=\"index_name level0\" >group</th>        <th class=\"blank\" ></th>        <th class=\"blank\" ></th>        <th class=\"blank\" ></th>    </tr></thead><tbody>\n",
       "                <tr>\n",
       "                        <th id=\"T_1bb59dc2_f966_11ec_b903_b8bafc164c02level0_row0\" class=\"row_heading level0 row0\" >control</th>\n",
       "                        <td id=\"T_1bb59dc2_f966_11ec_b903_b8bafc164c02row0_col0\" class=\"data row0 col0\" >0.114</td>\n",
       "                        <td id=\"T_1bb59dc2_f966_11ec_b903_b8bafc164c02row0_col1\" class=\"data row0 col1\" >0.317</td>\n",
       "                        <td id=\"T_1bb59dc2_f966_11ec_b903_b8bafc164c02row0_col2\" class=\"data row0 col2\" >0.007</td>\n",
       "            </tr>\n",
       "            <tr>\n",
       "                        <th id=\"T_1bb59dc2_f966_11ec_b903_b8bafc164c02level0_row1\" class=\"row_heading level0 row1\" >treatment</th>\n",
       "                        <td id=\"T_1bb59dc2_f966_11ec_b903_b8bafc164c02row1_col0\" class=\"data row1 col0\" >0.128</td>\n",
       "                        <td id=\"T_1bb59dc2_f966_11ec_b903_b8bafc164c02row1_col1\" class=\"data row1 col1\" >0.334</td>\n",
       "                        <td id=\"T_1bb59dc2_f966_11ec_b903_b8bafc164c02row1_col2\" class=\"data row1 col2\" >0.008</td>\n",
       "            </tr>\n",
       "    </tbody></table>"
      ],
      "text/plain": [
       "<pandas.io.formats.style.Styler at 0x22116c89748>"
      ]
     },
     "execution_count": 14,
     "metadata": {},
     "output_type": "execute_result"
    }
   ],
   "source": [
    "conversion_rates = ab_test.groupby('group')['converted']\n",
    "\n",
    "std_p = lambda x: np.std(x, ddof=0)              # Std. deviation of the proportion\n",
    "se_p = lambda x: stats.sem(x, ddof=0)            # Std. error of the proportion (std / sqrt(n))\n",
    "\n",
    "conversion_rates = conversion_rates.agg([np.mean, std_p, se_p])\n",
    "conversion_rates.columns = ['conversion_rate', 'std_deviation', 'std_error']\n",
    "\n",
    "\n",
    "conversion_rates.style.format('{:.3f}')"
   ]
  },
  {
   "cell_type": "markdown",
   "metadata": {},
   "source": [
    "Berdasarkan statistik, hasil pengujian menunjukkan adanya kemiripan antara desain yang dibuat dengan desain baru memiliki conversion rate yang lebih baik sekitar 11,4% vs 12,8% conversion rate.\n",
    "\n"
   ]
  },
  {
   "cell_type": "code",
   "execution_count": 15,
   "metadata": {},
   "outputs": [
    {
     "name": "stderr",
     "output_type": "stream",
     "text": [
      "findfont: Font family ['Helvetica'] not found. Falling back to DejaVu Sans.\n",
      "findfont: Font family ['Helvetica'] not found. Falling back to DejaVu Sans.\n",
      "findfont: Font family ['Helvetica'] not found. Falling back to DejaVu Sans.\n"
     ]
    },
    {
     "data": {
      "image/png": "[encoded data removed]",
      "text/plain": [
       "<Figure size 576x432 with 1 Axes>"
      ]
     },
     "metadata": {},
     "output_type": "display_data"
    }
   ],
   "source": [
    "plt.figure(figsize=(8,6))\n",
    "\n",
    "sns.barplot(x=ab_test['group'], y=ab_test['converted'], ci=False)\n",
    "\n",
    "plt.ylim(0, 0.17)\n",
    "plt.title('Conversion rate by group', pad=20)\n",
    "plt.xlabel('Group', labelpad=15)\n",
    "plt.ylabel('Converted (proportion)', labelpad=15);"
   ]
  },
  {
   "cell_type": "markdown",
   "metadata": {},
   "source": [
    "Conversion rate cukup mirip dan ada kenaikan yang cukup bila dibandingkan desain lama, yaitu sekitar 1,4%. Kita perlu mengecek kembali apakah perbedaannya signifikan secara statistik dengan menguji hipotesis."
   ]
  },
  {
   "cell_type": "markdown",
   "metadata": {},
   "source": [
    "***\n",
    "## 4. Uji hipotesis"
   ]
  },
  {
   "cell_type": "code",
   "execution_count": 16,
   "metadata": {},
   "outputs": [],
   "source": [
    "from statsmodels.stats.proportion import proportions_ztest, proportion_confint"
   ]
  },
  {
   "cell_type": "code",
   "execution_count": 17,
   "metadata": {},
   "outputs": [],
   "source": [
    "control_results = ab_test[ab_test['group'] == 'control']['converted']\n",
    "treatment_results = ab_test[ab_test['group'] == 'treatment']['converted']"
   ]
  },
  {
   "cell_type": "code",
   "execution_count": 18,
   "metadata": {},
   "outputs": [
    {
     "name": "stdout",
     "output_type": "stream",
     "text": [
      "z statistic: -1.39\n",
      "p-value: 0.164\n",
      "ci 95% for control group: [0.099, 0.128]\n",
      "ci 95% for treatment group: [0.113, 0.143]\n"
     ]
    }
   ],
   "source": [
    "n_con = control_results.count()\n",
    "n_treat = treatment_results.count()\n",
    "successes = [control_results.sum(), treatment_results.sum()]\n",
    "nobs = [n_con, n_treat]\n",
    "\n",
    "z_stat, pval = proportions_ztest(successes, nobs=nobs)\n",
    "(lower_con, lower_treat), (upper_con, upper_treat) = proportion_confint(successes, nobs=nobs, alpha=0.05)\n",
    "\n",
    "print(f'z statistic: {z_stat:.2f}')\n",
    "print(f'p-value: {pval:.3f}')\n",
    "print(f'ci 95% for control group: [{lower_con:.3f}, {upper_con:.3f}]')\n",
    "print(f'ci 95% for treatment group: [{lower_treat:.3f}, {upper_treat:.3f}]')"
   ]
  },
  {
   "cell_type": "markdown",
   "metadata": {},
   "source": [
    "***\n",
    "## 5. Menarik Kesimpulan"
   ]
  },
  {
   "cell_type": "markdown",
   "metadata": {},
   "source": [
    "Karena nilai $p$-value=0.164 yang mana lebih tinggi sedikit dari nilai $\\alpha$=0.05, kita tidak dapat menolak null hipotesis $H_0$, yang artinya desain baru tidak menunjukkan kinerja yang berbeda secara signifikan dengan desain lama. Atau dari angka yang didapat, perbedaan nilai 1,4% bernilai kurang signifikan.\n",
    "\n",
    "Akan tetapi, nilai yang didapat menunjukkan bahwa adanya kemungkinan desain baru bekerja dengan baik karena desain baru memiliki interval conversion rate (0,113 - 0,143) yang berarti:\n",
    "1. Itu tidak masuk dalam baseline 11%\n",
    "2. Itu masuk dalam target conversion rate 14%\n",
    "\n",
    "Oleh karena itu, desain baru masih bisa dipertimbangkan lebih lanjut karena hanya sedikit tidak signifikan."
   ]
  },
  {
   "cell_type": "markdown",
   "metadata": {},
   "source": [
    "## Seluruh Dataset"
   ]
  },
  {
   "cell_type": "markdown",
   "metadata": {},
   "source": [
    "Bagaimana jika menggunakan seluruh data? Apakah dapat menarik kesimpulan dengan lebih baik?"
   ]
  },
  {
   "cell_type": "code",
   "execution_count": 19,
   "metadata": {},
   "outputs": [
    {
     "data": {
      "text/plain": [
       "(286690, 5)"
      ]
     },
     "execution_count": 19,
     "metadata": {},
     "output_type": "execute_result"
    }
   ],
   "source": [
    "df.shape"
   ]
  },
  {
   "cell_type": "code",
   "execution_count": 20,
   "metadata": {},
   "outputs": [
    {
     "data": {
      "text/html": [
       "<style  type=\"text/css\" >\n",
       "</style><table id=\"T_1c12fff0_f966_11ec_88a7_b8bafc164c02\" ><thead>    <tr>        <th class=\"blank level0\" ></th>        <th class=\"col_heading level0 col0\" >conversion_rate</th>        <th class=\"col_heading level0 col1\" >std_deviation</th>        <th class=\"col_heading level0 col2\" >std_error</th>    </tr>    <tr>        <th class=\"index_name level0\" >group</th>        <th class=\"blank\" ></th>        <th class=\"blank\" ></th>        <th class=\"blank\" ></th>    </tr></thead><tbody>\n",
       "                <tr>\n",
       "                        <th id=\"T_1c12fff0_f966_11ec_88a7_b8bafc164c02level0_row0\" class=\"row_heading level0 row0\" >control</th>\n",
       "                        <td id=\"T_1c12fff0_f966_11ec_88a7_b8bafc164c02row0_col0\" class=\"data row0 col0\" >0.120</td>\n",
       "                        <td id=\"T_1c12fff0_f966_11ec_88a7_b8bafc164c02row0_col1\" class=\"data row0 col1\" >0.325</td>\n",
       "                        <td id=\"T_1c12fff0_f966_11ec_88a7_b8bafc164c02row0_col2\" class=\"data row0 col2\" >0.001</td>\n",
       "            </tr>\n",
       "            <tr>\n",
       "                        <th id=\"T_1c12fff0_f966_11ec_88a7_b8bafc164c02level0_row1\" class=\"row_heading level0 row1\" >treatment</th>\n",
       "                        <td id=\"T_1c12fff0_f966_11ec_88a7_b8bafc164c02row1_col0\" class=\"data row1 col0\" >0.119</td>\n",
       "                        <td id=\"T_1c12fff0_f966_11ec_88a7_b8bafc164c02row1_col1\" class=\"data row1 col1\" >0.323</td>\n",
       "                        <td id=\"T_1c12fff0_f966_11ec_88a7_b8bafc164c02row1_col2\" class=\"data row1 col2\" >0.001</td>\n",
       "            </tr>\n",
       "    </tbody></table>"
      ],
      "text/plain": [
       "<pandas.io.formats.style.Styler at 0x22117170088>"
      ]
     },
     "execution_count": 20,
     "metadata": {},
     "output_type": "execute_result"
    }
   ],
   "source": [
    "conversion_rates = df.groupby('group')['converted']\n",
    "\n",
    "std_p = lambda x: np.std(x, ddof=0)              # Std. deviation of the proportion\n",
    "se_p = lambda x: stats.sem(x, ddof=0)            # Std. error of the proportion (std / sqrt(n))\n",
    "\n",
    "conversion_rates = conversion_rates.agg([np.mean, std_p, se_p])\n",
    "conversion_rates.columns = ['conversion_rate', 'std_deviation', 'std_error']\n",
    "\n",
    "\n",
    "conversion_rates.style.format('{:.3f}')"
   ]
  },
  {
   "cell_type": "code",
   "execution_count": 21,
   "metadata": {},
   "outputs": [
    {
     "data": {
      "image/png": "[encoded data removed]",
      "text/plain": [
       "<Figure size 576x432 with 1 Axes>"
      ]
     },
     "metadata": {},
     "output_type": "display_data"
    }
   ],
   "source": [
    "plt.figure(figsize=(8,6))\n",
    "\n",
    "sns.barplot(x=df['group'], y=df['converted'], ci=False)\n",
    "\n",
    "plt.ylim(0, 0.17)\n",
    "plt.title('Conversion rate by group', pad=20)\n",
    "plt.xlabel('Group', labelpad=15)\n",
    "plt.ylabel('Converted (proportion)', labelpad=15);"
   ]
  },
  {
   "cell_type": "code",
   "execution_count": 22,
   "metadata": {},
   "outputs": [],
   "source": [
    "control_results = df[df['group'] == 'control']['converted']\n",
    "treatment_results = df[df['group'] == 'treatment']['converted']"
   ]
  },
  {
   "cell_type": "code",
   "execution_count": 23,
   "metadata": {},
   "outputs": [
    {
     "name": "stdout",
     "output_type": "stream",
     "text": [
      "z statistic: 1.19\n",
      "p-value: 0.232\n",
      "ci 95% for control group: [0.118, 0.122]\n",
      "ci 95% for treatment group: [0.117, 0.120]\n"
     ]
    }
   ],
   "source": [
    "n_con = control_results.count()\n",
    "n_treat = treatment_results.count()\n",
    "successes = [control_results.sum(), treatment_results.sum()]\n",
    "nobs = [n_con, n_treat]\n",
    "\n",
    "z_stat, pval = proportions_ztest(successes, nobs=nobs)\n",
    "(lower_con, lower_treat), (upper_con, upper_treat) = proportion_confint(successes, nobs=nobs, alpha=0.05)\n",
    "\n",
    "print(f'z statistic: {z_stat:.2f}')\n",
    "print(f'p-value: {pval:.3f}')\n",
    "print(f'ci 95% for control group: [{lower_con:.3f}, {upper_con:.3f}]')\n",
    "print(f'ci 95% for treatment group: [{lower_treat:.3f}, {upper_treat:.3f}]')"
   ]
  },
  {
   "cell_type": "markdown",
   "metadata": {},
   "source": [
    "Karena nilai $p$-value=0.232 yang mana lebih tinggi dari nilai $\\alpha$=0.05, kita tidak dapat menolak null hipotesis $H_0$, yang artinya desain baru tidak menunjukkan kinerja yang berbeda secara signifikan dengan desain lama.\n",
    "\n",
    "Nilai conversion rate pada desain lama justru lebih tinggi dibandingkan conversion rate desain baru pada keseluruhan dataset.\n",
    "\n",
    "Selain itu, nilai yang didapat menunjukkan bahwa adanya desain baru memiliki interval conversion rate (0,117 - 0,120) yang berarti tidak sesuai dengan ekspektasi yanng bernilai 0,14.\n",
    "\n",
    "Ini semakin meyakinkan kita bahwa desain baru tidak meningkatkan conversion rate dari website.\n",
    "\n",
    "Berdasarkan pengujian ini, kita jadi lebih mengerti bahwa dengan menggunakan data yang lebih besar, kita lebih mengetahui secara presisi dan benar untuk merepresentasikan keseluruhan data. Namun hal ini perlu dipertimbangkan terkait waktu dan biayanya."
   ]
  },
  {
   "cell_type": "code",
   "execution_count": null,
   "metadata": {},
   "outputs": [],
   "source": []
  }
 ],
 "metadata": {
  "kernelspec": {
   "display_name": "Python 3",
   "language": "python",
   "name": "python3"
  },
  "language_info": {
   "codemirror_mode": {
    "name": "ipython",
    "version": 3
   },
   "file_extension": ".py",
   "mimetype": "text/x-python",
   "name": "python",
   "nbconvert_exporter": "python",
   "pygments_lexer": "ipython3",
   "version": "3.7.13"
  }
 },
 "nbformat": 4,
 "nbformat_minor": 4
}
