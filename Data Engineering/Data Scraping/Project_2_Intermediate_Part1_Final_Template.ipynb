{
 "cells": [
  {
   "cell_type": "markdown",
   "metadata": {},
   "source": [
    "### Imports"
   ]
  },
  {
   "cell_type": "code",
   "execution_count": 1,
   "metadata": {},
   "outputs": [],
   "source": [
    "from bs4 import BeautifulSoup\n",
    "import requests\n",
    "import pandas as pd "
   ]
  },
  {
   "cell_type": "markdown",
   "metadata": {},
   "source": [
    "### HTTP Request"
   ]
  },
  {
   "cell_type": "markdown",
   "metadata": {},
   "source": [
    "#### store website in variable"
   ]
  },
  {
   "cell_type": "code",
   "execution_count": 2,
   "metadata": {},
   "outputs": [],
   "source": [
    "website = 'https://www.trulia.com/CA/San_Francisco/'"
   ]
  },
  {
   "cell_type": "markdown",
   "metadata": {},
   "source": [
    "#### Get Request"
   ]
  },
  {
   "cell_type": "code",
   "execution_count": 3,
   "metadata": {},
   "outputs": [],
   "source": [
    "response = requests.get(website)"
   ]
  },
  {
   "cell_type": "markdown",
   "metadata": {},
   "source": [
    "#### Status Code"
   ]
  },
  {
   "cell_type": "code",
   "execution_count": 4,
   "metadata": {},
   "outputs": [
    {
     "data": {
      "text/plain": [
       "200"
      ]
     },
     "execution_count": 4,
     "metadata": {},
     "output_type": "execute_result"
    }
   ],
   "source": [
    "response.status_code"
   ]
  },
  {
   "cell_type": "markdown",
   "metadata": {},
   "source": [
    "### Soup Object"
   ]
  },
  {
   "cell_type": "code",
   "execution_count": 5,
   "metadata": {},
   "outputs": [],
   "source": [
    "soup = BeautifulSoup(response.content, 'html.parser')"
   ]
  },
  {
   "cell_type": "code",
   "execution_count": 7,
   "metadata": {},
   "outputs": [],
   "source": [
    "# soup"
   ]
  },
  {
   "cell_type": "markdown",
   "metadata": {},
   "source": [
    "### Results"
   ]
  },
  {
   "cell_type": "code",
   "execution_count": 9,
   "metadata": {},
   "outputs": [],
   "source": [
    "result = soup.find_all('li', {'class': 'SearchResultsList__WideCell-b7y9ki-2'})"
   ]
  },
  {
   "cell_type": "code",
   "execution_count": 10,
   "metadata": {},
   "outputs": [
    {
     "data": {
      "text/plain": [
       "32"
      ]
     },
     "execution_count": 10,
     "metadata": {},
     "output_type": "execute_result"
    }
   ],
   "source": [
    "len(result)"
   ]
  },
  {
   "cell_type": "code",
   "execution_count": null,
   "metadata": {},
   "outputs": [],
   "source": []
  },
  {
   "cell_type": "markdown",
   "metadata": {},
   "source": [
    "### Update Results"
   ]
  },
  {
   "cell_type": "markdown",
   "metadata": {},
   "source": [
    "we just want to target the elements which have the attribute 'data-testid'"
   ]
  },
  {
   "cell_type": "code",
   "execution_count": 11,
   "metadata": {},
   "outputs": [],
   "source": [
    "results_update = []"
   ]
  },
  {
   "cell_type": "code",
   "execution_count": 12,
   "metadata": {},
   "outputs": [],
   "source": [
    "for r in result:\n",
    "    if r.has_attr('data-testid'):\n",
    "        results_update.append(r)"
   ]
  },
  {
   "cell_type": "code",
   "execution_count": 13,
   "metadata": {},
   "outputs": [
    {
     "data": {
      "text/plain": [
       "30"
      ]
     },
     "execution_count": 13,
     "metadata": {},
     "output_type": "execute_result"
    }
   ],
   "source": [
    "len(results_update)"
   ]
  },
  {
   "cell_type": "code",
   "execution_count": null,
   "metadata": {},
   "outputs": [],
   "source": []
  },
  {
   "cell_type": "markdown",
   "metadata": {},
   "source": [
    "### Target necessary data"
   ]
  },
  {
   "cell_type": "code",
   "execution_count": 23,
   "metadata": {},
   "outputs": [],
   "source": [
    "# Street\n",
    "# Region\n",
    "# Bedrooms\n",
    "# Bathrooms\n",
    "# Price"
   ]
  },
  {
   "cell_type": "markdown",
   "metadata": {},
   "source": [
    "#### Street"
   ]
  },
  {
   "cell_type": "code",
   "execution_count": 16,
   "metadata": {},
   "outputs": [
    {
     "data": {
      "text/plain": [
       "'224 Sea Cliff Ave'"
      ]
     },
     "execution_count": 16,
     "metadata": {},
     "output_type": "execute_result"
    }
   ],
   "source": [
    "results_update[1].find('div', {'data-testid': 'property-street'}).get_text()"
   ]
  },
  {
   "cell_type": "markdown",
   "metadata": {},
   "source": [
    "#### Region"
   ]
  },
  {
   "cell_type": "code",
   "execution_count": 18,
   "metadata": {},
   "outputs": [
    {
     "data": {
      "text/plain": [
       "'Seacliff, San Francisco, CA'"
      ]
     },
     "execution_count": 18,
     "metadata": {},
     "output_type": "execute_result"
    }
   ],
   "source": [
    "results_update[1].find('div', {'data-testid': 'property-region'}).get_text()"
   ]
  },
  {
   "cell_type": "markdown",
   "metadata": {},
   "source": [
    "#### Bedrooms"
   ]
  },
  {
   "cell_type": "code",
   "execution_count": 19,
   "metadata": {},
   "outputs": [
    {
     "data": {
      "text/plain": [
       "'4bd'"
      ]
     },
     "execution_count": 19,
     "metadata": {},
     "output_type": "execute_result"
    }
   ],
   "source": [
    "results_update[0].find('div', {'data-testid': 'property-beds'}).get_text()"
   ]
  },
  {
   "cell_type": "markdown",
   "metadata": {},
   "source": [
    "#### Bathrooms"
   ]
  },
  {
   "cell_type": "code",
   "execution_count": 20,
   "metadata": {},
   "outputs": [
    {
     "data": {
      "text/plain": [
       "'3ba'"
      ]
     },
     "execution_count": 20,
     "metadata": {},
     "output_type": "execute_result"
    }
   ],
   "source": [
    "results_update[0].find('div', {'data-testid': 'property-baths'}).get_text()"
   ]
  },
  {
   "cell_type": "markdown",
   "metadata": {},
   "source": [
    "#### Price"
   ]
  },
  {
   "cell_type": "code",
   "execution_count": 21,
   "metadata": {},
   "outputs": [
    {
     "data": {
      "text/plain": [
       "'$1,695,000'"
      ]
     },
     "execution_count": 21,
     "metadata": {},
     "output_type": "execute_result"
    }
   ],
   "source": [
    "results_update[0].find('div', {'data-testid': 'property-price'}).get_text()"
   ]
  },
  {
   "cell_type": "code",
   "execution_count": null,
   "metadata": {},
   "outputs": [],
   "source": []
  },
  {
   "cell_type": "markdown",
   "metadata": {},
   "source": [
    "### Append all Results in Lists with List Comprehension"
   ]
  },
  {
   "cell_type": "code",
   "execution_count": 25,
   "metadata": {},
   "outputs": [],
   "source": [
    "streets = [result.find('div', {'data-testid': 'property-street'}).get_text() for result in results_update]\n",
    "regions = [result.find('div', {'data-testid': 'property-region'}).get_text() for result in results_update]\n",
    "beds = [result.find('div', {'data-testid': 'property-beds'}).get_text() for result in results_update]\n",
    "baths = [result.find('div', {'data-testid': 'property-baths'}).get_text() for result in results_update]\n",
    "prices = [result.find('div', {'data-testid': 'property-price'}).get_text() for result in results_update]"
   ]
  },
  {
   "cell_type": "code",
   "execution_count": 27,
   "metadata": {},
   "outputs": [
    {
     "data": {
      "text/plain": [
       "30"
      ]
     },
     "execution_count": 27,
     "metadata": {},
     "output_type": "execute_result"
    }
   ],
   "source": [
    "len(prices)"
   ]
  },
  {
   "cell_type": "markdown",
   "metadata": {},
   "source": [
    "### Create Pandas Dataframe"
   ]
  },
  {
   "cell_type": "code",
   "execution_count": 28,
   "metadata": {},
   "outputs": [],
   "source": [
    "real_estate = pd.DataFrame({'Street':streets, 'Region': regions, 'Bedrooms': beds, 'Bathrooms': baths, 'Price': prices})"
   ]
  },
  {
   "cell_type": "code",
   "execution_count": 29,
   "metadata": {},
   "outputs": [
    {
     "data": {
      "text/html": [
       "<div>\n",
       "<style scoped>\n",
       "    .dataframe tbody tr th:only-of-type {\n",
       "        vertical-align: middle;\n",
       "    }\n",
       "\n",
       "    .dataframe tbody tr th {\n",
       "        vertical-align: top;\n",
       "    }\n",
       "\n",
       "    .dataframe thead th {\n",
       "        text-align: right;\n",
       "    }\n",
       "</style>\n",
       "<table border=\"1\" class=\"dataframe\">\n",
       "  <thead>\n",
       "    <tr style=\"text-align: right;\">\n",
       "      <th></th>\n",
       "      <th>Street</th>\n",
       "      <th>Region</th>\n",
       "      <th>Bedrooms</th>\n",
       "      <th>Bathrooms</th>\n",
       "      <th>Price</th>\n",
       "    </tr>\n",
       "  </thead>\n",
       "  <tbody>\n",
       "    <tr>\n",
       "      <th>0</th>\n",
       "      <td>144 Idora Ave</td>\n",
       "      <td>Laguna Honda, San Francisco, CA</td>\n",
       "      <td>4bd</td>\n",
       "      <td>3ba</td>\n",
       "      <td>$1,695,000</td>\n",
       "    </tr>\n",
       "    <tr>\n",
       "      <th>1</th>\n",
       "      <td>224 Sea Cliff Ave</td>\n",
       "      <td>Seacliff, San Francisco, CA</td>\n",
       "      <td>6bd</td>\n",
       "      <td>7ba</td>\n",
       "      <td>$15,375,000</td>\n",
       "    </tr>\n",
       "    <tr>\n",
       "      <th>2</th>\n",
       "      <td>72 Winfield St</td>\n",
       "      <td>Bernal Heights, San Francisco, CA</td>\n",
       "      <td>3bd</td>\n",
       "      <td>2ba</td>\n",
       "      <td>$1,795,000</td>\n",
       "    </tr>\n",
       "    <tr>\n",
       "      <th>3</th>\n",
       "      <td>469 27th St</td>\n",
       "      <td>Noe Valley, San Francisco, CA</td>\n",
       "      <td>4bd</td>\n",
       "      <td>2ba</td>\n",
       "      <td>$1,995,000</td>\n",
       "    </tr>\n",
       "    <tr>\n",
       "      <th>4</th>\n",
       "      <td>2582 Filbert St</td>\n",
       "      <td>Cow Hollow, San Francisco, CA</td>\n",
       "      <td>6bd</td>\n",
       "      <td>9ba</td>\n",
       "      <td>$46,000,000</td>\n",
       "    </tr>\n",
       "    <tr>\n",
       "      <th>5</th>\n",
       "      <td>253 Chicago Way</td>\n",
       "      <td>Crocker Amazon, San Francisco, CA</td>\n",
       "      <td>3bd</td>\n",
       "      <td>2ba</td>\n",
       "      <td>$1,198,000</td>\n",
       "    </tr>\n",
       "    <tr>\n",
       "      <th>6</th>\n",
       "      <td>2454 Vallejo St</td>\n",
       "      <td>Pacific Heights, San Francisco, CA</td>\n",
       "      <td>3bd</td>\n",
       "      <td>2ba</td>\n",
       "      <td>$3,595,000</td>\n",
       "    </tr>\n",
       "    <tr>\n",
       "      <th>7</th>\n",
       "      <td>1530 Newcomb Ave</td>\n",
       "      <td>Bayview, San Francisco, CA</td>\n",
       "      <td>2bd</td>\n",
       "      <td>2ba</td>\n",
       "      <td>$595,000</td>\n",
       "    </tr>\n",
       "    <tr>\n",
       "      <th>8</th>\n",
       "      <td>3335 21st St</td>\n",
       "      <td>Dolores Heights, San Francisco, CA</td>\n",
       "      <td>3bd</td>\n",
       "      <td>2ba</td>\n",
       "      <td>$1,295,000</td>\n",
       "    </tr>\n",
       "    <tr>\n",
       "      <th>9</th>\n",
       "      <td>140 Cresta Vista Dr</td>\n",
       "      <td>Sherwood Forest, San Francisco, CA</td>\n",
       "      <td>4bd</td>\n",
       "      <td>3ba</td>\n",
       "      <td>$1,498,000</td>\n",
       "    </tr>\n",
       "    <tr>\n",
       "      <th>10</th>\n",
       "      <td>1738 17th Ave</td>\n",
       "      <td>Golden Gate Heights, San Francisco, CA</td>\n",
       "      <td>3bd</td>\n",
       "      <td>2ba</td>\n",
       "      <td>$1,095,000</td>\n",
       "    </tr>\n",
       "    <tr>\n",
       "      <th>11</th>\n",
       "      <td>318 Hearst Ave</td>\n",
       "      <td>Sunnyside, San Francisco, CA</td>\n",
       "      <td>2bd</td>\n",
       "      <td>1ba</td>\n",
       "      <td>$995,000</td>\n",
       "    </tr>\n",
       "    <tr>\n",
       "      <th>12</th>\n",
       "      <td>2698 Pacific Ave</td>\n",
       "      <td>Pacific Heights, San Francisco, CA</td>\n",
       "      <td>8bd</td>\n",
       "      <td>8ba</td>\n",
       "      <td>$25,800,000</td>\n",
       "    </tr>\n",
       "    <tr>\n",
       "      <th>13</th>\n",
       "      <td>225 Claremont Blvd</td>\n",
       "      <td>Laguna Honda, San Francisco, CA</td>\n",
       "      <td>4bd</td>\n",
       "      <td>2ba</td>\n",
       "      <td>$1,849,000</td>\n",
       "    </tr>\n",
       "    <tr>\n",
       "      <th>14</th>\n",
       "      <td>227 Vicente St</td>\n",
       "      <td>West Portal, San Francisco, CA</td>\n",
       "      <td>3bd</td>\n",
       "      <td>2ba</td>\n",
       "      <td>$1,995,000</td>\n",
       "    </tr>\n",
       "    <tr>\n",
       "      <th>15</th>\n",
       "      <td>12 Brumiss Ter</td>\n",
       "      <td>Crocker Amazon, San Francisco, CA</td>\n",
       "      <td>5bd</td>\n",
       "      <td>3ba</td>\n",
       "      <td>$1,250,000</td>\n",
       "    </tr>\n",
       "    <tr>\n",
       "      <th>16</th>\n",
       "      <td>449 Prentiss St</td>\n",
       "      <td>Bernal Heights, San Francisco, CA</td>\n",
       "      <td>2bd</td>\n",
       "      <td>2ba</td>\n",
       "      <td>$1,049,000</td>\n",
       "    </tr>\n",
       "    <tr>\n",
       "      <th>17</th>\n",
       "      <td>1130 Quintara St</td>\n",
       "      <td>Parkside, San Francisco, CA</td>\n",
       "      <td>2bd</td>\n",
       "      <td>1ba</td>\n",
       "      <td>$1,000,000</td>\n",
       "    </tr>\n",
       "    <tr>\n",
       "      <th>18</th>\n",
       "      <td>55 Tioga Ave</td>\n",
       "      <td>Visitacion Valley, San Francisco, CA</td>\n",
       "      <td>3bd</td>\n",
       "      <td>2ba</td>\n",
       "      <td>$999,950</td>\n",
       "    </tr>\n",
       "    <tr>\n",
       "      <th>19</th>\n",
       "      <td>1695 18th St #308</td>\n",
       "      <td>Potrero Hill, San Francisco, CA</td>\n",
       "      <td>Studio</td>\n",
       "      <td>1ba</td>\n",
       "      <td>$257,158</td>\n",
       "    </tr>\n",
       "    <tr>\n",
       "      <th>20</th>\n",
       "      <td>1356 Waller St</td>\n",
       "      <td>Haight, San Francisco, CA</td>\n",
       "      <td>3bd</td>\n",
       "      <td>2ba</td>\n",
       "      <td>$1,575,000</td>\n",
       "    </tr>\n",
       "    <tr>\n",
       "      <th>21</th>\n",
       "      <td>2950 Pacific Ave</td>\n",
       "      <td>Pacific Heights, San Francisco, CA</td>\n",
       "      <td>8bd</td>\n",
       "      <td>13ba</td>\n",
       "      <td>$29,500,000</td>\n",
       "    </tr>\n",
       "    <tr>\n",
       "      <th>22</th>\n",
       "      <td>354 27th Ave</td>\n",
       "      <td>Outer Richmond, San Francisco, CA</td>\n",
       "      <td>4bd</td>\n",
       "      <td>4ba</td>\n",
       "      <td>$3,900,000</td>\n",
       "    </tr>\n",
       "    <tr>\n",
       "      <th>23</th>\n",
       "      <td>2839 Pacific Ave</td>\n",
       "      <td>Pacific Heights, San Francisco, CA</td>\n",
       "      <td>5bd</td>\n",
       "      <td>6ba</td>\n",
       "      <td>$16,950,000</td>\n",
       "    </tr>\n",
       "    <tr>\n",
       "      <th>24</th>\n",
       "      <td>1419 Palou Ave</td>\n",
       "      <td>Bayview, San Francisco, CA</td>\n",
       "      <td>1bd</td>\n",
       "      <td>1ba</td>\n",
       "      <td>$799,000</td>\n",
       "    </tr>\n",
       "    <tr>\n",
       "      <th>25</th>\n",
       "      <td>672 27th Ave</td>\n",
       "      <td>Outer Richmond, San Francisco, CA</td>\n",
       "      <td>3bd</td>\n",
       "      <td>2ba</td>\n",
       "      <td>$1,595,000</td>\n",
       "    </tr>\n",
       "    <tr>\n",
       "      <th>26</th>\n",
       "      <td>333 Haight St #3</td>\n",
       "      <td>Mint Hill, San Francisco, CA</td>\n",
       "      <td>3bd</td>\n",
       "      <td>2ba</td>\n",
       "      <td>$850,000</td>\n",
       "    </tr>\n",
       "    <tr>\n",
       "      <th>27</th>\n",
       "      <td>18 Latona St</td>\n",
       "      <td>Silver Terrace, San Francisco, CA</td>\n",
       "      <td>7bd</td>\n",
       "      <td>3ba</td>\n",
       "      <td>$859,000</td>\n",
       "    </tr>\n",
       "    <tr>\n",
       "      <th>28</th>\n",
       "      <td>10 Sea Cliff Ave</td>\n",
       "      <td>Seacliff, San Francisco, CA</td>\n",
       "      <td>4bd</td>\n",
       "      <td>5ba</td>\n",
       "      <td>$6,500,000</td>\n",
       "    </tr>\n",
       "    <tr>\n",
       "      <th>29</th>\n",
       "      <td>3680 16th St</td>\n",
       "      <td>Duboce Triangle, San Francisco, CA</td>\n",
       "      <td>4bd</td>\n",
       "      <td>3ba</td>\n",
       "      <td>$1,595,000</td>\n",
       "    </tr>\n",
       "  </tbody>\n",
       "</table>\n",
       "</div>"
      ],
      "text/plain": [
       "                 Street                                  Region Bedrooms  \\\n",
       "0         144 Idora Ave         Laguna Honda, San Francisco, CA      4bd   \n",
       "1     224 Sea Cliff Ave             Seacliff, San Francisco, CA      6bd   \n",
       "2        72 Winfield St       Bernal Heights, San Francisco, CA      3bd   \n",
       "3           469 27th St           Noe Valley, San Francisco, CA      4bd   \n",
       "4       2582 Filbert St           Cow Hollow, San Francisco, CA      6bd   \n",
       "5       253 Chicago Way       Crocker Amazon, San Francisco, CA      3bd   \n",
       "6       2454 Vallejo St      Pacific Heights, San Francisco, CA      3bd   \n",
       "7      1530 Newcomb Ave              Bayview, San Francisco, CA      2bd   \n",
       "8          3335 21st St      Dolores Heights, San Francisco, CA      3bd   \n",
       "9   140 Cresta Vista Dr      Sherwood Forest, San Francisco, CA      4bd   \n",
       "10        1738 17th Ave  Golden Gate Heights, San Francisco, CA      3bd   \n",
       "11       318 Hearst Ave            Sunnyside, San Francisco, CA      2bd   \n",
       "12     2698 Pacific Ave      Pacific Heights, San Francisco, CA      8bd   \n",
       "13   225 Claremont Blvd         Laguna Honda, San Francisco, CA      4bd   \n",
       "14       227 Vicente St          West Portal, San Francisco, CA      3bd   \n",
       "15       12 Brumiss Ter       Crocker Amazon, San Francisco, CA      5bd   \n",
       "16      449 Prentiss St       Bernal Heights, San Francisco, CA      2bd   \n",
       "17     1130 Quintara St             Parkside, San Francisco, CA      2bd   \n",
       "18         55 Tioga Ave    Visitacion Valley, San Francisco, CA      3bd   \n",
       "19    1695 18th St #308         Potrero Hill, San Francisco, CA   Studio   \n",
       "20       1356 Waller St               Haight, San Francisco, CA      3bd   \n",
       "21     2950 Pacific Ave      Pacific Heights, San Francisco, CA      8bd   \n",
       "22         354 27th Ave       Outer Richmond, San Francisco, CA      4bd   \n",
       "23     2839 Pacific Ave      Pacific Heights, San Francisco, CA      5bd   \n",
       "24       1419 Palou Ave              Bayview, San Francisco, CA      1bd   \n",
       "25         672 27th Ave       Outer Richmond, San Francisco, CA      3bd   \n",
       "26     333 Haight St #3            Mint Hill, San Francisco, CA      3bd   \n",
       "27         18 Latona St       Silver Terrace, San Francisco, CA      7bd   \n",
       "28     10 Sea Cliff Ave             Seacliff, San Francisco, CA      4bd   \n",
       "29         3680 16th St      Duboce Triangle, San Francisco, CA      4bd   \n",
       "\n",
       "   Bathrooms        Price  \n",
       "0        3ba   $1,695,000  \n",
       "1        7ba  $15,375,000  \n",
       "2        2ba   $1,795,000  \n",
       "3        2ba   $1,995,000  \n",
       "4        9ba  $46,000,000  \n",
       "5        2ba   $1,198,000  \n",
       "6        2ba   $3,595,000  \n",
       "7        2ba     $595,000  \n",
       "8        2ba   $1,295,000  \n",
       "9        3ba   $1,498,000  \n",
       "10       2ba   $1,095,000  \n",
       "11       1ba     $995,000  \n",
       "12       8ba  $25,800,000  \n",
       "13       2ba   $1,849,000  \n",
       "14       2ba   $1,995,000  \n",
       "15       3ba   $1,250,000  \n",
       "16       2ba   $1,049,000  \n",
       "17       1ba   $1,000,000  \n",
       "18       2ba     $999,950  \n",
       "19       1ba     $257,158  \n",
       "20       2ba   $1,575,000  \n",
       "21      13ba  $29,500,000  \n",
       "22       4ba   $3,900,000  \n",
       "23       6ba  $16,950,000  \n",
       "24       1ba     $799,000  \n",
       "25       2ba   $1,595,000  \n",
       "26       2ba     $850,000  \n",
       "27       3ba     $859,000  \n",
       "28       5ba   $6,500,000  \n",
       "29       3ba   $1,595,000  "
      ]
     },
     "execution_count": 29,
     "metadata": {},
     "output_type": "execute_result"
    }
   ],
   "source": [
    "real_estate"
   ]
  },
  {
   "cell_type": "code",
   "execution_count": null,
   "metadata": {},
   "outputs": [],
   "source": []
  },
  {
   "cell_type": "markdown",
   "metadata": {},
   "source": [
    "### Output in Excel"
   ]
  },
  {
   "cell_type": "code",
   "execution_count": 30,
   "metadata": {},
   "outputs": [],
   "source": [
    "real_estate.to_excel('real_estate_page_1.xlsx', index=False)"
   ]
  }
 ],
 "metadata": {
  "kernelspec": {
   "display_name": "Python 3",
   "language": "python",
   "name": "python3"
  },
  "language_info": {
   "codemirror_mode": {
    "name": "ipython",
    "version": 3
   },
   "file_extension": ".py",
   "mimetype": "text/x-python",
   "name": "python",
   "nbconvert_exporter": "python",
   "pygments_lexer": "ipython3",
   "version": "3.9.2"
  }
 },
 "nbformat": 4,
 "nbformat_minor": 4
}
