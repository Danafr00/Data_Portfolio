{
 "cells": [
  {
   "cell_type": "markdown",
   "metadata": {},
   "source": [
    "### Imports"
   ]
  },
  {
   "cell_type": "code",
   "execution_count": 1,
   "metadata": {},
   "outputs": [],
   "source": [
    "from bs4 import BeautifulSoup\n",
    "import requests\n",
    "import pandas as pd "
   ]
  },
  {
   "cell_type": "markdown",
   "metadata": {},
   "source": [
    "### HTTP Request"
   ]
  },
  {
   "cell_type": "markdown",
   "metadata": {},
   "source": [
    "#### store website in variable"
   ]
  },
  {
   "cell_type": "code",
   "execution_count": 2,
   "metadata": {},
   "outputs": [],
   "source": [
    "website = 'https://www.cars.com/shopping/results/?stock_type=cpo&makes%5B%5D=mercedes_benz&models%5B%5D=&list_price_max=&maximum_distance=20&zip='"
   ]
  },
  {
   "cell_type": "markdown",
   "metadata": {},
   "source": [
    "#### Get Request"
   ]
  },
  {
   "cell_type": "code",
   "execution_count": 3,
   "metadata": {},
   "outputs": [],
   "source": [
    "response = requests.get(website)"
   ]
  },
  {
   "cell_type": "markdown",
   "metadata": {},
   "source": [
    "#### Status Code"
   ]
  },
  {
   "cell_type": "code",
   "execution_count": 4,
   "metadata": {},
   "outputs": [
    {
     "data": {
      "text/plain": [
       "200"
      ]
     },
     "execution_count": 4,
     "metadata": {},
     "output_type": "execute_result"
    }
   ],
   "source": [
    "response.status_code"
   ]
  },
  {
   "cell_type": "markdown",
   "metadata": {},
   "source": [
    "### Soup Object"
   ]
  },
  {
   "cell_type": "code",
   "execution_count": 5,
   "metadata": {},
   "outputs": [],
   "source": [
    "soup = BeautifulSoup(response.content, 'html.parser')"
   ]
  },
  {
   "cell_type": "markdown",
   "metadata": {},
   "source": [
    "### Results"
   ]
  },
  {
   "cell_type": "code",
   "execution_count": 8,
   "metadata": {},
   "outputs": [],
   "source": [
    "results = soup.find_all('div', {'class' : 'vehicle-card'})"
   ]
  },
  {
   "cell_type": "code",
   "execution_count": 9,
   "metadata": {},
   "outputs": [
    {
     "data": {
      "text/plain": [
       "20"
      ]
     },
     "execution_count": 9,
     "metadata": {},
     "output_type": "execute_result"
    }
   ],
   "source": [
    "len(results)"
   ]
  },
  {
   "cell_type": "markdown",
   "metadata": {},
   "source": [
    "### Target necessary data"
   ]
  },
  {
   "cell_type": "code",
   "execution_count": 17,
   "metadata": {},
   "outputs": [],
   "source": [
    "# Name\n",
    "# Mileage\n",
    "# Dealer Name\n",
    "# Rating\n",
    "# Rating Count\n",
    "# Price"
   ]
  },
  {
   "cell_type": "markdown",
   "metadata": {},
   "source": [
    "#### Name"
   ]
  },
  {
   "cell_type": "code",
   "execution_count": 12,
   "metadata": {},
   "outputs": [
    {
     "data": {
      "text/plain": [
       "'2018 Mercedes-Benz E-Class E 300'"
      ]
     },
     "execution_count": 12,
     "metadata": {},
     "output_type": "execute_result"
    }
   ],
   "source": [
    "results[0].find('h2').get_text()"
   ]
  },
  {
   "cell_type": "markdown",
   "metadata": {},
   "source": [
    "#### Mileage"
   ]
  },
  {
   "cell_type": "code",
   "execution_count": 14,
   "metadata": {},
   "outputs": [
    {
     "data": {
      "text/plain": [
       "'48,112 mi.'"
      ]
     },
     "execution_count": 14,
     "metadata": {},
     "output_type": "execute_result"
    }
   ],
   "source": [
    "results[0].find('div', {'class':'mileage'}).get_text()"
   ]
  },
  {
   "cell_type": "markdown",
   "metadata": {},
   "source": [
    "#### Dealer Name"
   ]
  },
  {
   "cell_type": "code",
   "execution_count": 16,
   "metadata": {},
   "outputs": [
    {
     "data": {
      "text/plain": [
       "'Mercedes-Benz of Calabasas'"
      ]
     },
     "execution_count": 16,
     "metadata": {},
     "output_type": "execute_result"
    }
   ],
   "source": [
    "results[0].find('div', {'class':'dealer-name'}).get_text().strip()"
   ]
  },
  {
   "cell_type": "markdown",
   "metadata": {},
   "source": [
    "#### Rating"
   ]
  },
  {
   "cell_type": "code",
   "execution_count": 17,
   "metadata": {},
   "outputs": [
    {
     "data": {
      "text/plain": [
       "'4.7'"
      ]
     },
     "execution_count": 17,
     "metadata": {},
     "output_type": "execute_result"
    }
   ],
   "source": [
    "results[0].find('span', {'class':'sds-rating__count'}).get_text()"
   ]
  },
  {
   "cell_type": "markdown",
   "metadata": {},
   "source": [
    "#### Review Count"
   ]
  },
  {
   "cell_type": "code",
   "execution_count": 18,
   "metadata": {},
   "outputs": [
    {
     "data": {
      "text/plain": [
       "'(555 reviews)'"
      ]
     },
     "execution_count": 18,
     "metadata": {},
     "output_type": "execute_result"
    }
   ],
   "source": [
    "results[0].find('span', {'class':'sds-rating__link'}).get_text()"
   ]
  },
  {
   "cell_type": "markdown",
   "metadata": {},
   "source": [
    "#### Price"
   ]
  },
  {
   "cell_type": "code",
   "execution_count": 19,
   "metadata": {},
   "outputs": [
    {
     "data": {
      "text/plain": [
       "'$34,999'"
      ]
     },
     "execution_count": 19,
     "metadata": {},
     "output_type": "execute_result"
    }
   ],
   "source": [
    "results[0].find('span', {'class':'primary-price'}).get_text()"
   ]
  },
  {
   "cell_type": "markdown",
   "metadata": {},
   "source": [
    "### Put everything together inside a For-Loop"
   ]
  },
  {
   "cell_type": "code",
   "execution_count": 20,
   "metadata": {},
   "outputs": [],
   "source": [
    "name = []\n",
    "mileage = []\n",
    "dealer_name = []\n",
    "rating = []\n",
    "review_count = []\n",
    "price = []\n",
    "\n",
    "for result in results:\n",
    "    \n",
    "    # name\n",
    "    try:\n",
    "        name.append(result.find('h2').get_text()) \n",
    "    except:\n",
    "        name.append('n/a')\n",
    "    \n",
    "    # mileage\n",
    "    try:\n",
    "        mileage.append(result.find('div', {'class':'mileage'}).get_text())\n",
    "    except:\n",
    "        mileage.append('n/a')\n",
    "    \n",
    "    # dealer_name\n",
    "    try:\n",
    "        dealer_name.append(result.find('div', {'class':'dealer-name'}).get_text().strip())\n",
    "    except:\n",
    "        dealer_name.append('n/a')\n",
    "        \n",
    "    # rating\n",
    "    try:\n",
    "        rating.append(result.find('span', {'class':'sds-rating__count'}).get_text())\n",
    "    except:\n",
    "        rating.append('n/a')\n",
    "    \n",
    "    # review_count\n",
    "    try:\n",
    "        review_count.append(result.find('span', {'class':'sds-rating__link'}).get_text())\n",
    "    except:\n",
    "        review_count.append('n/a')\n",
    "    \n",
    "    #price \n",
    "    try:\n",
    "        price.append(result.find('span', {'class':'primary-price'}).get_text())\n",
    "    except:\n",
    "        price.append('n/a')"
   ]
  },
  {
   "cell_type": "markdown",
   "metadata": {},
   "source": [
    "### Create Pandas Dataframe"
   ]
  },
  {
   "cell_type": "code",
   "execution_count": 33,
   "metadata": {},
   "outputs": [],
   "source": [
    "# dictionary\n",
    "car_dealer = pd.DataFrame({'Name': name, 'Mileage':mileage, 'Dealer Name':dealer_name,\n",
    "                                'Rating': rating, 'Review Count': review_count, 'Price': price})"
   ]
  },
  {
   "cell_type": "code",
   "execution_count": 34,
   "metadata": {},
   "outputs": [
    {
     "data": {
      "text/html": [
       "<div>\n",
       "<style scoped>\n",
       "    .dataframe tbody tr th:only-of-type {\n",
       "        vertical-align: middle;\n",
       "    }\n",
       "\n",
       "    .dataframe tbody tr th {\n",
       "        vertical-align: top;\n",
       "    }\n",
       "\n",
       "    .dataframe thead th {\n",
       "        text-align: right;\n",
       "    }\n",
       "</style>\n",
       "<table border=\"1\" class=\"dataframe\">\n",
       "  <thead>\n",
       "    <tr style=\"text-align: right;\">\n",
       "      <th></th>\n",
       "      <th>Name</th>\n",
       "      <th>Mileage</th>\n",
       "      <th>Dealer Name</th>\n",
       "      <th>Rating</th>\n",
       "      <th>Review Count</th>\n",
       "      <th>Price</th>\n",
       "    </tr>\n",
       "  </thead>\n",
       "  <tbody>\n",
       "    <tr>\n",
       "      <th>0</th>\n",
       "      <td>2018 Mercedes-Benz E-Class E 300</td>\n",
       "      <td>48,112 mi.</td>\n",
       "      <td>Mercedes-Benz of Calabasas</td>\n",
       "      <td>4.7</td>\n",
       "      <td>(555 reviews)</td>\n",
       "      <td>$34,999</td>\n",
       "    </tr>\n",
       "    <tr>\n",
       "      <th>1</th>\n",
       "      <td>2015 Mercedes-Benz SL-Class SL 400</td>\n",
       "      <td>30,841 mi.</td>\n",
       "      <td>Mercedes-Benz of Edison</td>\n",
       "      <td>4.9</td>\n",
       "      <td>(2,051 reviews)</td>\n",
       "      <td>$59,998</td>\n",
       "    </tr>\n",
       "    <tr>\n",
       "      <th>2</th>\n",
       "      <td>2017 Mercedes-Benz C-Class C 300</td>\n",
       "      <td>40,185 mi.</td>\n",
       "      <td>Mercedes-Benz of Plano</td>\n",
       "      <td>4.4</td>\n",
       "      <td>(978 reviews)</td>\n",
       "      <td>$34,000</td>\n",
       "    </tr>\n",
       "    <tr>\n",
       "      <th>3</th>\n",
       "      <td>2021 Mercedes-Benz GLC 300 Base 4MATIC</td>\n",
       "      <td>12,484 mi.</td>\n",
       "      <td>Mercedes-Benz of Willoughby</td>\n",
       "      <td>4.9</td>\n",
       "      <td>(122 reviews)</td>\n",
       "      <td>$51,122</td>\n",
       "    </tr>\n",
       "    <tr>\n",
       "      <th>4</th>\n",
       "      <td>2018 Mercedes-Benz E-Class E 400</td>\n",
       "      <td>30,029 mi.</td>\n",
       "      <td>Mercedes-Benz of Arcadia</td>\n",
       "      <td>4.9</td>\n",
       "      <td>(1,073 reviews)</td>\n",
       "      <td>$53,405</td>\n",
       "    </tr>\n",
       "    <tr>\n",
       "      <th>5</th>\n",
       "      <td>2019 Mercedes-Benz AMG S 63 Base 4MATIC</td>\n",
       "      <td>12,917 mi.</td>\n",
       "      <td>Motor Werks - Barrington Auto Mall</td>\n",
       "      <td>4.8</td>\n",
       "      <td>(4,414 reviews)</td>\n",
       "      <td>$126,900</td>\n",
       "    </tr>\n",
       "    <tr>\n",
       "      <th>6</th>\n",
       "      <td>2018 Mercedes-Benz AMG GLE 43 Coupe 4MATIC</td>\n",
       "      <td>37,548 mi.</td>\n",
       "      <td>Benzel-Busch Motor Car</td>\n",
       "      <td>4.8</td>\n",
       "      <td>(4,055 reviews)</td>\n",
       "      <td>$63,973</td>\n",
       "    </tr>\n",
       "    <tr>\n",
       "      <th>7</th>\n",
       "      <td>2018 Mercedes-Benz C-Class C 300</td>\n",
       "      <td>16,314 mi.</td>\n",
       "      <td>Mercedes-Benz of Plano</td>\n",
       "      <td>4.4</td>\n",
       "      <td>(978 reviews)</td>\n",
       "      <td>$49,500</td>\n",
       "    </tr>\n",
       "    <tr>\n",
       "      <th>8</th>\n",
       "      <td>2019 Mercedes-Benz GLA 250 Base 4MATIC</td>\n",
       "      <td>16,097 mi.</td>\n",
       "      <td>Mercedes-Benz of North Scottsdale</td>\n",
       "      <td>4.9</td>\n",
       "      <td>(340 reviews)</td>\n",
       "      <td>$34,588</td>\n",
       "    </tr>\n",
       "    <tr>\n",
       "      <th>9</th>\n",
       "      <td>2018 Mercedes-Benz E-Class E 300</td>\n",
       "      <td>34,301 mi.</td>\n",
       "      <td>Mercedes-Benz of Boerne</td>\n",
       "      <td>4.8</td>\n",
       "      <td>(199 reviews)</td>\n",
       "      <td>$44,887</td>\n",
       "    </tr>\n",
       "    <tr>\n",
       "      <th>10</th>\n",
       "      <td>2018 Mercedes-Benz C-Class C 350e</td>\n",
       "      <td>28,866 mi.</td>\n",
       "      <td>Mercedes-Benz of Walnut Creek</td>\n",
       "      <td>4.6</td>\n",
       "      <td>(680 reviews)</td>\n",
       "      <td>$28,488</td>\n",
       "    </tr>\n",
       "    <tr>\n",
       "      <th>11</th>\n",
       "      <td>2018 Mercedes-Benz C-Class C 300 4MATIC</td>\n",
       "      <td>30,475 mi.</td>\n",
       "      <td>Napleton Autowerks Schererville</td>\n",
       "      <td>4.6</td>\n",
       "      <td>(125 reviews)</td>\n",
       "      <td>$34,705</td>\n",
       "    </tr>\n",
       "    <tr>\n",
       "      <th>12</th>\n",
       "      <td>2018 Mercedes-Benz E-Class E 400</td>\n",
       "      <td>33,504 mi.</td>\n",
       "      <td>W.I. Simonson Inc.</td>\n",
       "      <td>4.6</td>\n",
       "      <td>(503 reviews)</td>\n",
       "      <td>$45,499</td>\n",
       "    </tr>\n",
       "    <tr>\n",
       "      <th>13</th>\n",
       "      <td>2017 Mercedes-Benz GLS 450 Base 4MATIC</td>\n",
       "      <td>37,836 mi.</td>\n",
       "      <td>Mercedes-Benz of Fredericksburg</td>\n",
       "      <td>4.6</td>\n",
       "      <td>(121 reviews)</td>\n",
       "      <td>$49,000</td>\n",
       "    </tr>\n",
       "    <tr>\n",
       "      <th>14</th>\n",
       "      <td>2020 Mercedes-Benz C-Class C 300 4MATIC</td>\n",
       "      <td>12,444 mi.</td>\n",
       "      <td>Mercedes-Benz of Delray</td>\n",
       "      <td>4.6</td>\n",
       "      <td>(829 reviews)</td>\n",
       "      <td>$39,949</td>\n",
       "    </tr>\n",
       "    <tr>\n",
       "      <th>15</th>\n",
       "      <td>2019 Mercedes-Benz AMG S 63 Base 4MATIC</td>\n",
       "      <td>13,539 mi.</td>\n",
       "      <td>Motor Werks - Barrington Auto Mall</td>\n",
       "      <td>4.8</td>\n",
       "      <td>(4,414 reviews)</td>\n",
       "      <td>$126,987</td>\n",
       "    </tr>\n",
       "    <tr>\n",
       "      <th>16</th>\n",
       "      <td>2019 Mercedes-Benz CLA 250 Base 4MATIC</td>\n",
       "      <td>19,345 mi.</td>\n",
       "      <td>Mercedes-Benz of Bellevue</td>\n",
       "      <td>4.7</td>\n",
       "      <td>(482 reviews)</td>\n",
       "      <td>$32,400</td>\n",
       "    </tr>\n",
       "    <tr>\n",
       "      <th>17</th>\n",
       "      <td>2019 Mercedes-Benz CLA 250 Base</td>\n",
       "      <td>18,400 mi.</td>\n",
       "      <td>Mercedes-Benz of Gainesville</td>\n",
       "      <td>4.8</td>\n",
       "      <td>(733 reviews)</td>\n",
       "      <td>$32,277</td>\n",
       "    </tr>\n",
       "    <tr>\n",
       "      <th>18</th>\n",
       "      <td>2018 Mercedes-Benz E-Class E 400</td>\n",
       "      <td>14,125 mi.</td>\n",
       "      <td>Mercedes-Benz of Pleasanton</td>\n",
       "      <td>2.9</td>\n",
       "      <td>(24 reviews)</td>\n",
       "      <td>$48,716</td>\n",
       "    </tr>\n",
       "    <tr>\n",
       "      <th>19</th>\n",
       "      <td>2018 Mercedes-Benz GLE 350 Base 4MATIC</td>\n",
       "      <td>23,978 mi.</td>\n",
       "      <td>Smith Motor Sales of Haverhill,Inc.</td>\n",
       "      <td>4.8</td>\n",
       "      <td>(861 reviews)</td>\n",
       "      <td>$47,743</td>\n",
       "    </tr>\n",
       "  </tbody>\n",
       "</table>\n",
       "</div>"
      ],
      "text/plain": [
       "                                          Name     Mileage  \\\n",
       "0             2018 Mercedes-Benz E-Class E 300  48,112 mi.   \n",
       "1           2015 Mercedes-Benz SL-Class SL 400  30,841 mi.   \n",
       "2             2017 Mercedes-Benz C-Class C 300  40,185 mi.   \n",
       "3       2021 Mercedes-Benz GLC 300 Base 4MATIC  12,484 mi.   \n",
       "4             2018 Mercedes-Benz E-Class E 400  30,029 mi.   \n",
       "5      2019 Mercedes-Benz AMG S 63 Base 4MATIC  12,917 mi.   \n",
       "6   2018 Mercedes-Benz AMG GLE 43 Coupe 4MATIC  37,548 mi.   \n",
       "7             2018 Mercedes-Benz C-Class C 300  16,314 mi.   \n",
       "8       2019 Mercedes-Benz GLA 250 Base 4MATIC  16,097 mi.   \n",
       "9             2018 Mercedes-Benz E-Class E 300  34,301 mi.   \n",
       "10           2018 Mercedes-Benz C-Class C 350e  28,866 mi.   \n",
       "11     2018 Mercedes-Benz C-Class C 300 4MATIC  30,475 mi.   \n",
       "12            2018 Mercedes-Benz E-Class E 400  33,504 mi.   \n",
       "13      2017 Mercedes-Benz GLS 450 Base 4MATIC  37,836 mi.   \n",
       "14     2020 Mercedes-Benz C-Class C 300 4MATIC  12,444 mi.   \n",
       "15     2019 Mercedes-Benz AMG S 63 Base 4MATIC  13,539 mi.   \n",
       "16      2019 Mercedes-Benz CLA 250 Base 4MATIC  19,345 mi.   \n",
       "17             2019 Mercedes-Benz CLA 250 Base  18,400 mi.   \n",
       "18            2018 Mercedes-Benz E-Class E 400  14,125 mi.   \n",
       "19      2018 Mercedes-Benz GLE 350 Base 4MATIC  23,978 mi.   \n",
       "\n",
       "                            Dealer Name Rating     Review Count     Price  \n",
       "0            Mercedes-Benz of Calabasas    4.7    (555 reviews)   $34,999  \n",
       "1               Mercedes-Benz of Edison    4.9  (2,051 reviews)   $59,998  \n",
       "2                Mercedes-Benz of Plano    4.4    (978 reviews)   $34,000  \n",
       "3           Mercedes-Benz of Willoughby    4.9    (122 reviews)   $51,122  \n",
       "4              Mercedes-Benz of Arcadia    4.9  (1,073 reviews)   $53,405  \n",
       "5    Motor Werks - Barrington Auto Mall    4.8  (4,414 reviews)  $126,900  \n",
       "6                Benzel-Busch Motor Car    4.8  (4,055 reviews)   $63,973  \n",
       "7                Mercedes-Benz of Plano    4.4    (978 reviews)   $49,500  \n",
       "8     Mercedes-Benz of North Scottsdale    4.9    (340 reviews)   $34,588  \n",
       "9               Mercedes-Benz of Boerne    4.8    (199 reviews)   $44,887  \n",
       "10        Mercedes-Benz of Walnut Creek    4.6    (680 reviews)   $28,488  \n",
       "11      Napleton Autowerks Schererville    4.6    (125 reviews)   $34,705  \n",
       "12                   W.I. Simonson Inc.    4.6    (503 reviews)   $45,499  \n",
       "13      Mercedes-Benz of Fredericksburg    4.6    (121 reviews)   $49,000  \n",
       "14              Mercedes-Benz of Delray    4.6    (829 reviews)   $39,949  \n",
       "15   Motor Werks - Barrington Auto Mall    4.8  (4,414 reviews)  $126,987  \n",
       "16            Mercedes-Benz of Bellevue    4.7    (482 reviews)   $32,400  \n",
       "17         Mercedes-Benz of Gainesville    4.8    (733 reviews)   $32,277  \n",
       "18          Mercedes-Benz of Pleasanton    2.9     (24 reviews)   $48,716  \n",
       "19  Smith Motor Sales of Haverhill,Inc.    4.8    (861 reviews)   $47,743  "
      ]
     },
     "execution_count": 34,
     "metadata": {},
     "output_type": "execute_result"
    }
   ],
   "source": [
    "car_dealer"
   ]
  },
  {
   "cell_type": "markdown",
   "metadata": {},
   "source": [
    "#### Data Cleaning"
   ]
  },
  {
   "cell_type": "code",
   "execution_count": 35,
   "metadata": {},
   "outputs": [],
   "source": [
    "car_dealer['Review Count'] = car_dealer['Review Count'].apply(lambda x: x.strip('reviews)').strip('('))"
   ]
  },
  {
   "cell_type": "code",
   "execution_count": 36,
   "metadata": {},
   "outputs": [
    {
     "data": {
      "text/html": [
       "<div>\n",
       "<style scoped>\n",
       "    .dataframe tbody tr th:only-of-type {\n",
       "        vertical-align: middle;\n",
       "    }\n",
       "\n",
       "    .dataframe tbody tr th {\n",
       "        vertical-align: top;\n",
       "    }\n",
       "\n",
       "    .dataframe thead th {\n",
       "        text-align: right;\n",
       "    }\n",
       "</style>\n",
       "<table border=\"1\" class=\"dataframe\">\n",
       "  <thead>\n",
       "    <tr style=\"text-align: right;\">\n",
       "      <th></th>\n",
       "      <th>Name</th>\n",
       "      <th>Mileage</th>\n",
       "      <th>Dealer Name</th>\n",
       "      <th>Rating</th>\n",
       "      <th>Review Count</th>\n",
       "      <th>Price</th>\n",
       "    </tr>\n",
       "  </thead>\n",
       "  <tbody>\n",
       "    <tr>\n",
       "      <th>0</th>\n",
       "      <td>2018 Mercedes-Benz E-Class E 300</td>\n",
       "      <td>48,112 mi.</td>\n",
       "      <td>Mercedes-Benz of Calabasas</td>\n",
       "      <td>4.7</td>\n",
       "      <td>555</td>\n",
       "      <td>$34,999</td>\n",
       "    </tr>\n",
       "    <tr>\n",
       "      <th>1</th>\n",
       "      <td>2015 Mercedes-Benz SL-Class SL 400</td>\n",
       "      <td>30,841 mi.</td>\n",
       "      <td>Mercedes-Benz of Edison</td>\n",
       "      <td>4.9</td>\n",
       "      <td>2,051</td>\n",
       "      <td>$59,998</td>\n",
       "    </tr>\n",
       "    <tr>\n",
       "      <th>2</th>\n",
       "      <td>2017 Mercedes-Benz C-Class C 300</td>\n",
       "      <td>40,185 mi.</td>\n",
       "      <td>Mercedes-Benz of Plano</td>\n",
       "      <td>4.4</td>\n",
       "      <td>978</td>\n",
       "      <td>$34,000</td>\n",
       "    </tr>\n",
       "    <tr>\n",
       "      <th>3</th>\n",
       "      <td>2021 Mercedes-Benz GLC 300 Base 4MATIC</td>\n",
       "      <td>12,484 mi.</td>\n",
       "      <td>Mercedes-Benz of Willoughby</td>\n",
       "      <td>4.9</td>\n",
       "      <td>122</td>\n",
       "      <td>$51,122</td>\n",
       "    </tr>\n",
       "    <tr>\n",
       "      <th>4</th>\n",
       "      <td>2018 Mercedes-Benz E-Class E 400</td>\n",
       "      <td>30,029 mi.</td>\n",
       "      <td>Mercedes-Benz of Arcadia</td>\n",
       "      <td>4.9</td>\n",
       "      <td>1,073</td>\n",
       "      <td>$53,405</td>\n",
       "    </tr>\n",
       "    <tr>\n",
       "      <th>5</th>\n",
       "      <td>2019 Mercedes-Benz AMG S 63 Base 4MATIC</td>\n",
       "      <td>12,917 mi.</td>\n",
       "      <td>Motor Werks - Barrington Auto Mall</td>\n",
       "      <td>4.8</td>\n",
       "      <td>4,414</td>\n",
       "      <td>$126,900</td>\n",
       "    </tr>\n",
       "    <tr>\n",
       "      <th>6</th>\n",
       "      <td>2018 Mercedes-Benz AMG GLE 43 Coupe 4MATIC</td>\n",
       "      <td>37,548 mi.</td>\n",
       "      <td>Benzel-Busch Motor Car</td>\n",
       "      <td>4.8</td>\n",
       "      <td>4,055</td>\n",
       "      <td>$63,973</td>\n",
       "    </tr>\n",
       "    <tr>\n",
       "      <th>7</th>\n",
       "      <td>2018 Mercedes-Benz C-Class C 300</td>\n",
       "      <td>16,314 mi.</td>\n",
       "      <td>Mercedes-Benz of Plano</td>\n",
       "      <td>4.4</td>\n",
       "      <td>978</td>\n",
       "      <td>$49,500</td>\n",
       "    </tr>\n",
       "    <tr>\n",
       "      <th>8</th>\n",
       "      <td>2019 Mercedes-Benz GLA 250 Base 4MATIC</td>\n",
       "      <td>16,097 mi.</td>\n",
       "      <td>Mercedes-Benz of North Scottsdale</td>\n",
       "      <td>4.9</td>\n",
       "      <td>340</td>\n",
       "      <td>$34,588</td>\n",
       "    </tr>\n",
       "    <tr>\n",
       "      <th>9</th>\n",
       "      <td>2018 Mercedes-Benz E-Class E 300</td>\n",
       "      <td>34,301 mi.</td>\n",
       "      <td>Mercedes-Benz of Boerne</td>\n",
       "      <td>4.8</td>\n",
       "      <td>199</td>\n",
       "      <td>$44,887</td>\n",
       "    </tr>\n",
       "    <tr>\n",
       "      <th>10</th>\n",
       "      <td>2018 Mercedes-Benz C-Class C 350e</td>\n",
       "      <td>28,866 mi.</td>\n",
       "      <td>Mercedes-Benz of Walnut Creek</td>\n",
       "      <td>4.6</td>\n",
       "      <td>680</td>\n",
       "      <td>$28,488</td>\n",
       "    </tr>\n",
       "    <tr>\n",
       "      <th>11</th>\n",
       "      <td>2018 Mercedes-Benz C-Class C 300 4MATIC</td>\n",
       "      <td>30,475 mi.</td>\n",
       "      <td>Napleton Autowerks Schererville</td>\n",
       "      <td>4.6</td>\n",
       "      <td>125</td>\n",
       "      <td>$34,705</td>\n",
       "    </tr>\n",
       "    <tr>\n",
       "      <th>12</th>\n",
       "      <td>2018 Mercedes-Benz E-Class E 400</td>\n",
       "      <td>33,504 mi.</td>\n",
       "      <td>W.I. Simonson Inc.</td>\n",
       "      <td>4.6</td>\n",
       "      <td>503</td>\n",
       "      <td>$45,499</td>\n",
       "    </tr>\n",
       "    <tr>\n",
       "      <th>13</th>\n",
       "      <td>2017 Mercedes-Benz GLS 450 Base 4MATIC</td>\n",
       "      <td>37,836 mi.</td>\n",
       "      <td>Mercedes-Benz of Fredericksburg</td>\n",
       "      <td>4.6</td>\n",
       "      <td>121</td>\n",
       "      <td>$49,000</td>\n",
       "    </tr>\n",
       "    <tr>\n",
       "      <th>14</th>\n",
       "      <td>2020 Mercedes-Benz C-Class C 300 4MATIC</td>\n",
       "      <td>12,444 mi.</td>\n",
       "      <td>Mercedes-Benz of Delray</td>\n",
       "      <td>4.6</td>\n",
       "      <td>829</td>\n",
       "      <td>$39,949</td>\n",
       "    </tr>\n",
       "    <tr>\n",
       "      <th>15</th>\n",
       "      <td>2019 Mercedes-Benz AMG S 63 Base 4MATIC</td>\n",
       "      <td>13,539 mi.</td>\n",
       "      <td>Motor Werks - Barrington Auto Mall</td>\n",
       "      <td>4.8</td>\n",
       "      <td>4,414</td>\n",
       "      <td>$126,987</td>\n",
       "    </tr>\n",
       "    <tr>\n",
       "      <th>16</th>\n",
       "      <td>2019 Mercedes-Benz CLA 250 Base 4MATIC</td>\n",
       "      <td>19,345 mi.</td>\n",
       "      <td>Mercedes-Benz of Bellevue</td>\n",
       "      <td>4.7</td>\n",
       "      <td>482</td>\n",
       "      <td>$32,400</td>\n",
       "    </tr>\n",
       "    <tr>\n",
       "      <th>17</th>\n",
       "      <td>2019 Mercedes-Benz CLA 250 Base</td>\n",
       "      <td>18,400 mi.</td>\n",
       "      <td>Mercedes-Benz of Gainesville</td>\n",
       "      <td>4.8</td>\n",
       "      <td>733</td>\n",
       "      <td>$32,277</td>\n",
       "    </tr>\n",
       "    <tr>\n",
       "      <th>18</th>\n",
       "      <td>2018 Mercedes-Benz E-Class E 400</td>\n",
       "      <td>14,125 mi.</td>\n",
       "      <td>Mercedes-Benz of Pleasanton</td>\n",
       "      <td>2.9</td>\n",
       "      <td>24</td>\n",
       "      <td>$48,716</td>\n",
       "    </tr>\n",
       "    <tr>\n",
       "      <th>19</th>\n",
       "      <td>2018 Mercedes-Benz GLE 350 Base 4MATIC</td>\n",
       "      <td>23,978 mi.</td>\n",
       "      <td>Smith Motor Sales of Haverhill,Inc.</td>\n",
       "      <td>4.8</td>\n",
       "      <td>861</td>\n",
       "      <td>$47,743</td>\n",
       "    </tr>\n",
       "  </tbody>\n",
       "</table>\n",
       "</div>"
      ],
      "text/plain": [
       "                                          Name     Mileage  \\\n",
       "0             2018 Mercedes-Benz E-Class E 300  48,112 mi.   \n",
       "1           2015 Mercedes-Benz SL-Class SL 400  30,841 mi.   \n",
       "2             2017 Mercedes-Benz C-Class C 300  40,185 mi.   \n",
       "3       2021 Mercedes-Benz GLC 300 Base 4MATIC  12,484 mi.   \n",
       "4             2018 Mercedes-Benz E-Class E 400  30,029 mi.   \n",
       "5      2019 Mercedes-Benz AMG S 63 Base 4MATIC  12,917 mi.   \n",
       "6   2018 Mercedes-Benz AMG GLE 43 Coupe 4MATIC  37,548 mi.   \n",
       "7             2018 Mercedes-Benz C-Class C 300  16,314 mi.   \n",
       "8       2019 Mercedes-Benz GLA 250 Base 4MATIC  16,097 mi.   \n",
       "9             2018 Mercedes-Benz E-Class E 300  34,301 mi.   \n",
       "10           2018 Mercedes-Benz C-Class C 350e  28,866 mi.   \n",
       "11     2018 Mercedes-Benz C-Class C 300 4MATIC  30,475 mi.   \n",
       "12            2018 Mercedes-Benz E-Class E 400  33,504 mi.   \n",
       "13      2017 Mercedes-Benz GLS 450 Base 4MATIC  37,836 mi.   \n",
       "14     2020 Mercedes-Benz C-Class C 300 4MATIC  12,444 mi.   \n",
       "15     2019 Mercedes-Benz AMG S 63 Base 4MATIC  13,539 mi.   \n",
       "16      2019 Mercedes-Benz CLA 250 Base 4MATIC  19,345 mi.   \n",
       "17             2019 Mercedes-Benz CLA 250 Base  18,400 mi.   \n",
       "18            2018 Mercedes-Benz E-Class E 400  14,125 mi.   \n",
       "19      2018 Mercedes-Benz GLE 350 Base 4MATIC  23,978 mi.   \n",
       "\n",
       "                            Dealer Name Rating Review Count     Price  \n",
       "0            Mercedes-Benz of Calabasas    4.7         555    $34,999  \n",
       "1               Mercedes-Benz of Edison    4.9       2,051    $59,998  \n",
       "2                Mercedes-Benz of Plano    4.4         978    $34,000  \n",
       "3           Mercedes-Benz of Willoughby    4.9         122    $51,122  \n",
       "4              Mercedes-Benz of Arcadia    4.9       1,073    $53,405  \n",
       "5    Motor Werks - Barrington Auto Mall    4.8       4,414   $126,900  \n",
       "6                Benzel-Busch Motor Car    4.8       4,055    $63,973  \n",
       "7                Mercedes-Benz of Plano    4.4         978    $49,500  \n",
       "8     Mercedes-Benz of North Scottsdale    4.9         340    $34,588  \n",
       "9               Mercedes-Benz of Boerne    4.8         199    $44,887  \n",
       "10        Mercedes-Benz of Walnut Creek    4.6         680    $28,488  \n",
       "11      Napleton Autowerks Schererville    4.6         125    $34,705  \n",
       "12                   W.I. Simonson Inc.    4.6         503    $45,499  \n",
       "13      Mercedes-Benz of Fredericksburg    4.6         121    $49,000  \n",
       "14              Mercedes-Benz of Delray    4.6         829    $39,949  \n",
       "15   Motor Werks - Barrington Auto Mall    4.8       4,414   $126,987  \n",
       "16            Mercedes-Benz of Bellevue    4.7         482    $32,400  \n",
       "17         Mercedes-Benz of Gainesville    4.8         733    $32,277  \n",
       "18          Mercedes-Benz of Pleasanton    2.9          24    $48,716  \n",
       "19  Smith Motor Sales of Haverhill,Inc.    4.8         861    $47,743  "
      ]
     },
     "execution_count": 36,
     "metadata": {},
     "output_type": "execute_result"
    }
   ],
   "source": [
    "# dataframe updated\n",
    "car_dealer"
   ]
  },
  {
   "cell_type": "markdown",
   "metadata": {},
   "source": [
    "### Output in Excel"
   ]
  },
  {
   "cell_type": "code",
   "execution_count": 38,
   "metadata": {},
   "outputs": [],
   "source": [
    "car_dealer.to_excel('car_dealer_single_page.xlsx', index=False)"
   ]
  },
  {
   "cell_type": "markdown",
   "metadata": {},
   "source": [
    "### Part 2 - Pagination "
   ]
  },
  {
   "cell_type": "code",
   "execution_count": 39,
   "metadata": {},
   "outputs": [],
   "source": [
    "name = []\n",
    "mileage = []\n",
    "dealer_name = []\n",
    "rating = []\n",
    "review_count = []\n",
    "price = []\n",
    "\n",
    "for i in range (1,11):\n",
    "    \n",
    "    # website in variable\n",
    "    website = 'https://www.cars.com/shopping/results/?page='+ str(i) +'&page_size=20&dealer_id=&list_price_max=&list_price_min=&makes[]=mercedes_benz&maximum_distance=20&mileage_max=&sort=best_match_desc&stock_type=cpo&year_max=&year_min=&zip=' \n",
    "    \n",
    "    # request to website\n",
    "    response = requests.get(website)\n",
    "    \n",
    "    # soup object\n",
    "    soup = BeautifulSoup(response.content, 'html.parser')\n",
    "    \n",
    "    # results\n",
    "    results = soup.find_all('div', {'class' : 'vehicle-card'})\n",
    "    \n",
    "    # loop through results\n",
    "    for result in results:\n",
    "    \n",
    "        # name\n",
    "        try:\n",
    "            name.append(result.find('h2').get_text()) \n",
    "        except:\n",
    "            name.append('n/a')\n",
    "\n",
    "        # mileage\n",
    "        try:\n",
    "            mileage.append(result.find('div', {'class':'mileage'}).get_text())\n",
    "        except:\n",
    "            mileage.append('n/a')\n",
    "\n",
    "        # dealer_name\n",
    "        try:\n",
    "            dealer_name.append(result.find('div', {'class':'dealer-name'}).get_text().strip())\n",
    "        except:\n",
    "            dealer_name.append('n/a')\n",
    "\n",
    "        # rating\n",
    "        try:\n",
    "            rating.append(result.find('span', {'class':'sds-rating__count'}).get_text())\n",
    "        except:\n",
    "            rating.append('n/a')\n",
    "\n",
    "        # review_count\n",
    "        try:\n",
    "            review_count.append(result.find('span', {'class':'sds-rating__link'}).get_text())\n",
    "        except:\n",
    "            review_count.append('n/a')\n",
    "\n",
    "        #price \n",
    "        try:\n",
    "            price.append(result.find('span', {'class':'primary-price'}).get_text())\n",
    "        except:\n",
    "            price.append('n/a')"
   ]
  },
  {
   "cell_type": "code",
   "execution_count": 46,
   "metadata": {},
   "outputs": [],
   "source": [
    "# dictionary\n",
    "car_dealer = pd.DataFrame({'Name': name, 'Mileage':mileage, 'Dealer Name':dealer_name,\n",
    "                                'Rating': rating, 'Review Count': review_count, 'Price': price})"
   ]
  },
  {
   "cell_type": "code",
   "execution_count": 47,
   "metadata": {},
   "outputs": [
    {
     "data": {
      "text/html": [
       "<div>\n",
       "<style scoped>\n",
       "    .dataframe tbody tr th:only-of-type {\n",
       "        vertical-align: middle;\n",
       "    }\n",
       "\n",
       "    .dataframe tbody tr th {\n",
       "        vertical-align: top;\n",
       "    }\n",
       "\n",
       "    .dataframe thead th {\n",
       "        text-align: right;\n",
       "    }\n",
       "</style>\n",
       "<table border=\"1\" class=\"dataframe\">\n",
       "  <thead>\n",
       "    <tr style=\"text-align: right;\">\n",
       "      <th></th>\n",
       "      <th>Name</th>\n",
       "      <th>Mileage</th>\n",
       "      <th>Dealer Name</th>\n",
       "      <th>Rating</th>\n",
       "      <th>Review Count</th>\n",
       "      <th>Price</th>\n",
       "    </tr>\n",
       "  </thead>\n",
       "  <tbody>\n",
       "    <tr>\n",
       "      <th>0</th>\n",
       "      <td>2018 Mercedes-Benz E-Class E 300</td>\n",
       "      <td>48,112 mi.</td>\n",
       "      <td>Mercedes-Benz of Calabasas</td>\n",
       "      <td>4.7</td>\n",
       "      <td>(555 reviews)</td>\n",
       "      <td>$34,999</td>\n",
       "    </tr>\n",
       "    <tr>\n",
       "      <th>1</th>\n",
       "      <td>2015 Mercedes-Benz SL-Class SL 400</td>\n",
       "      <td>30,841 mi.</td>\n",
       "      <td>Mercedes-Benz of Edison</td>\n",
       "      <td>4.9</td>\n",
       "      <td>(2,051 reviews)</td>\n",
       "      <td>$59,998</td>\n",
       "    </tr>\n",
       "    <tr>\n",
       "      <th>2</th>\n",
       "      <td>2017 Mercedes-Benz C-Class C 300</td>\n",
       "      <td>40,185 mi.</td>\n",
       "      <td>Mercedes-Benz of Plano</td>\n",
       "      <td>4.4</td>\n",
       "      <td>(978 reviews)</td>\n",
       "      <td>$34,000</td>\n",
       "    </tr>\n",
       "    <tr>\n",
       "      <th>3</th>\n",
       "      <td>2021 Mercedes-Benz GLC 300 Base 4MATIC</td>\n",
       "      <td>12,484 mi.</td>\n",
       "      <td>Mercedes-Benz of Willoughby</td>\n",
       "      <td>4.9</td>\n",
       "      <td>(122 reviews)</td>\n",
       "      <td>$51,122</td>\n",
       "    </tr>\n",
       "    <tr>\n",
       "      <th>4</th>\n",
       "      <td>2018 Mercedes-Benz E-Class E 400</td>\n",
       "      <td>30,029 mi.</td>\n",
       "      <td>Mercedes-Benz of Arcadia</td>\n",
       "      <td>4.9</td>\n",
       "      <td>(1,073 reviews)</td>\n",
       "      <td>$53,405</td>\n",
       "    </tr>\n",
       "    <tr>\n",
       "      <th>...</th>\n",
       "      <td>...</td>\n",
       "      <td>...</td>\n",
       "      <td>...</td>\n",
       "      <td>...</td>\n",
       "      <td>...</td>\n",
       "      <td>...</td>\n",
       "    </tr>\n",
       "    <tr>\n",
       "      <th>194</th>\n",
       "      <td>2018 Mercedes-Benz GLE 350 Base 4MATIC</td>\n",
       "      <td>48,488 mi.</td>\n",
       "      <td>Mercedes-Benz of Catonsville</td>\n",
       "      <td>4.1</td>\n",
       "      <td>(128 reviews)</td>\n",
       "      <td>$41,990</td>\n",
       "    </tr>\n",
       "    <tr>\n",
       "      <th>195</th>\n",
       "      <td>2020 Mercedes-Benz CLA 250 4MATIC</td>\n",
       "      <td>14,382 mi.</td>\n",
       "      <td>Bobby Rahal Motorcar Company</td>\n",
       "      <td>4.6</td>\n",
       "      <td>(94 reviews)</td>\n",
       "      <td>$38,880</td>\n",
       "    </tr>\n",
       "    <tr>\n",
       "      <th>196</th>\n",
       "      <td>2018 Mercedes-Benz C-Class C 300 4MATIC</td>\n",
       "      <td>19,226 mi.</td>\n",
       "      <td>Mercedes-Benz of West Chester</td>\n",
       "      <td>4.6</td>\n",
       "      <td>(1,524 reviews)</td>\n",
       "      <td>$34,871</td>\n",
       "    </tr>\n",
       "    <tr>\n",
       "      <th>197</th>\n",
       "      <td>2018 Mercedes-Benz AMG C 43 Base 4MATIC</td>\n",
       "      <td>26,023 mi.</td>\n",
       "      <td>Mercedes-Benz of South Bay</td>\n",
       "      <td>4.7</td>\n",
       "      <td>(901 reviews)</td>\n",
       "      <td>$46,991</td>\n",
       "    </tr>\n",
       "    <tr>\n",
       "      <th>198</th>\n",
       "      <td>2018 Mercedes-Benz C-Class C 300 4MATIC</td>\n",
       "      <td>32,390 mi.</td>\n",
       "      <td>Sears Imported Autos</td>\n",
       "      <td>4.9</td>\n",
       "      <td>(1,565 reviews)</td>\n",
       "      <td>$33,706</td>\n",
       "    </tr>\n",
       "  </tbody>\n",
       "</table>\n",
       "<p>199 rows × 6 columns</p>\n",
       "</div>"
      ],
      "text/plain": [
       "                                        Name     Mileage  \\\n",
       "0           2018 Mercedes-Benz E-Class E 300  48,112 mi.   \n",
       "1         2015 Mercedes-Benz SL-Class SL 400  30,841 mi.   \n",
       "2           2017 Mercedes-Benz C-Class C 300  40,185 mi.   \n",
       "3     2021 Mercedes-Benz GLC 300 Base 4MATIC  12,484 mi.   \n",
       "4           2018 Mercedes-Benz E-Class E 400  30,029 mi.   \n",
       "..                                       ...         ...   \n",
       "194   2018 Mercedes-Benz GLE 350 Base 4MATIC  48,488 mi.   \n",
       "195        2020 Mercedes-Benz CLA 250 4MATIC  14,382 mi.   \n",
       "196  2018 Mercedes-Benz C-Class C 300 4MATIC  19,226 mi.   \n",
       "197  2018 Mercedes-Benz AMG C 43 Base 4MATIC  26,023 mi.   \n",
       "198  2018 Mercedes-Benz C-Class C 300 4MATIC  32,390 mi.   \n",
       "\n",
       "                       Dealer Name Rating     Review Count    Price  \n",
       "0       Mercedes-Benz of Calabasas    4.7    (555 reviews)  $34,999  \n",
       "1          Mercedes-Benz of Edison    4.9  (2,051 reviews)  $59,998  \n",
       "2           Mercedes-Benz of Plano    4.4    (978 reviews)  $34,000  \n",
       "3      Mercedes-Benz of Willoughby    4.9    (122 reviews)  $51,122  \n",
       "4         Mercedes-Benz of Arcadia    4.9  (1,073 reviews)  $53,405  \n",
       "..                             ...    ...              ...      ...  \n",
       "194   Mercedes-Benz of Catonsville    4.1    (128 reviews)  $41,990  \n",
       "195   Bobby Rahal Motorcar Company    4.6     (94 reviews)  $38,880  \n",
       "196  Mercedes-Benz of West Chester    4.6  (1,524 reviews)  $34,871  \n",
       "197     Mercedes-Benz of South Bay    4.7    (901 reviews)  $46,991  \n",
       "198           Sears Imported Autos    4.9  (1,565 reviews)  $33,706  \n",
       "\n",
       "[199 rows x 6 columns]"
      ]
     },
     "execution_count": 47,
     "metadata": {},
     "output_type": "execute_result"
    }
   ],
   "source": [
    "car_dealer"
   ]
  },
  {
   "cell_type": "code",
   "execution_count": 48,
   "metadata": {},
   "outputs": [],
   "source": [
    "car_dealer['Review Count'] = car_dealer['Review Count'].apply(lambda x: x.strip('reviews)').strip('('))"
   ]
  },
  {
   "cell_type": "code",
   "execution_count": 49,
   "metadata": {},
   "outputs": [
    {
     "data": {
      "text/html": [
       "<div>\n",
       "<style scoped>\n",
       "    .dataframe tbody tr th:only-of-type {\n",
       "        vertical-align: middle;\n",
       "    }\n",
       "\n",
       "    .dataframe tbody tr th {\n",
       "        vertical-align: top;\n",
       "    }\n",
       "\n",
       "    .dataframe thead th {\n",
       "        text-align: right;\n",
       "    }\n",
       "</style>\n",
       "<table border=\"1\" class=\"dataframe\">\n",
       "  <thead>\n",
       "    <tr style=\"text-align: right;\">\n",
       "      <th></th>\n",
       "      <th>Name</th>\n",
       "      <th>Mileage</th>\n",
       "      <th>Dealer Name</th>\n",
       "      <th>Rating</th>\n",
       "      <th>Review Count</th>\n",
       "      <th>Price</th>\n",
       "    </tr>\n",
       "  </thead>\n",
       "  <tbody>\n",
       "    <tr>\n",
       "      <th>0</th>\n",
       "      <td>2018 Mercedes-Benz E-Class E 300</td>\n",
       "      <td>48,112 mi.</td>\n",
       "      <td>Mercedes-Benz of Calabasas</td>\n",
       "      <td>4.7</td>\n",
       "      <td>555</td>\n",
       "      <td>$34,999</td>\n",
       "    </tr>\n",
       "    <tr>\n",
       "      <th>1</th>\n",
       "      <td>2015 Mercedes-Benz SL-Class SL 400</td>\n",
       "      <td>30,841 mi.</td>\n",
       "      <td>Mercedes-Benz of Edison</td>\n",
       "      <td>4.9</td>\n",
       "      <td>2,051</td>\n",
       "      <td>$59,998</td>\n",
       "    </tr>\n",
       "    <tr>\n",
       "      <th>2</th>\n",
       "      <td>2017 Mercedes-Benz C-Class C 300</td>\n",
       "      <td>40,185 mi.</td>\n",
       "      <td>Mercedes-Benz of Plano</td>\n",
       "      <td>4.4</td>\n",
       "      <td>978</td>\n",
       "      <td>$34,000</td>\n",
       "    </tr>\n",
       "    <tr>\n",
       "      <th>3</th>\n",
       "      <td>2021 Mercedes-Benz GLC 300 Base 4MATIC</td>\n",
       "      <td>12,484 mi.</td>\n",
       "      <td>Mercedes-Benz of Willoughby</td>\n",
       "      <td>4.9</td>\n",
       "      <td>122</td>\n",
       "      <td>$51,122</td>\n",
       "    </tr>\n",
       "    <tr>\n",
       "      <th>4</th>\n",
       "      <td>2018 Mercedes-Benz E-Class E 400</td>\n",
       "      <td>30,029 mi.</td>\n",
       "      <td>Mercedes-Benz of Arcadia</td>\n",
       "      <td>4.9</td>\n",
       "      <td>1,073</td>\n",
       "      <td>$53,405</td>\n",
       "    </tr>\n",
       "    <tr>\n",
       "      <th>...</th>\n",
       "      <td>...</td>\n",
       "      <td>...</td>\n",
       "      <td>...</td>\n",
       "      <td>...</td>\n",
       "      <td>...</td>\n",
       "      <td>...</td>\n",
       "    </tr>\n",
       "    <tr>\n",
       "      <th>194</th>\n",
       "      <td>2018 Mercedes-Benz GLE 350 Base 4MATIC</td>\n",
       "      <td>48,488 mi.</td>\n",
       "      <td>Mercedes-Benz of Catonsville</td>\n",
       "      <td>4.1</td>\n",
       "      <td>128</td>\n",
       "      <td>$41,990</td>\n",
       "    </tr>\n",
       "    <tr>\n",
       "      <th>195</th>\n",
       "      <td>2020 Mercedes-Benz CLA 250 4MATIC</td>\n",
       "      <td>14,382 mi.</td>\n",
       "      <td>Bobby Rahal Motorcar Company</td>\n",
       "      <td>4.6</td>\n",
       "      <td>94</td>\n",
       "      <td>$38,880</td>\n",
       "    </tr>\n",
       "    <tr>\n",
       "      <th>196</th>\n",
       "      <td>2018 Mercedes-Benz C-Class C 300 4MATIC</td>\n",
       "      <td>19,226 mi.</td>\n",
       "      <td>Mercedes-Benz of West Chester</td>\n",
       "      <td>4.6</td>\n",
       "      <td>1,524</td>\n",
       "      <td>$34,871</td>\n",
       "    </tr>\n",
       "    <tr>\n",
       "      <th>197</th>\n",
       "      <td>2018 Mercedes-Benz AMG C 43 Base 4MATIC</td>\n",
       "      <td>26,023 mi.</td>\n",
       "      <td>Mercedes-Benz of South Bay</td>\n",
       "      <td>4.7</td>\n",
       "      <td>901</td>\n",
       "      <td>$46,991</td>\n",
       "    </tr>\n",
       "    <tr>\n",
       "      <th>198</th>\n",
       "      <td>2018 Mercedes-Benz C-Class C 300 4MATIC</td>\n",
       "      <td>32,390 mi.</td>\n",
       "      <td>Sears Imported Autos</td>\n",
       "      <td>4.9</td>\n",
       "      <td>1,565</td>\n",
       "      <td>$33,706</td>\n",
       "    </tr>\n",
       "  </tbody>\n",
       "</table>\n",
       "<p>199 rows × 6 columns</p>\n",
       "</div>"
      ],
      "text/plain": [
       "                                        Name     Mileage  \\\n",
       "0           2018 Mercedes-Benz E-Class E 300  48,112 mi.   \n",
       "1         2015 Mercedes-Benz SL-Class SL 400  30,841 mi.   \n",
       "2           2017 Mercedes-Benz C-Class C 300  40,185 mi.   \n",
       "3     2021 Mercedes-Benz GLC 300 Base 4MATIC  12,484 mi.   \n",
       "4           2018 Mercedes-Benz E-Class E 400  30,029 mi.   \n",
       "..                                       ...         ...   \n",
       "194   2018 Mercedes-Benz GLE 350 Base 4MATIC  48,488 mi.   \n",
       "195        2020 Mercedes-Benz CLA 250 4MATIC  14,382 mi.   \n",
       "196  2018 Mercedes-Benz C-Class C 300 4MATIC  19,226 mi.   \n",
       "197  2018 Mercedes-Benz AMG C 43 Base 4MATIC  26,023 mi.   \n",
       "198  2018 Mercedes-Benz C-Class C 300 4MATIC  32,390 mi.   \n",
       "\n",
       "                       Dealer Name Rating Review Count    Price  \n",
       "0       Mercedes-Benz of Calabasas    4.7         555   $34,999  \n",
       "1          Mercedes-Benz of Edison    4.9       2,051   $59,998  \n",
       "2           Mercedes-Benz of Plano    4.4         978   $34,000  \n",
       "3      Mercedes-Benz of Willoughby    4.9         122   $51,122  \n",
       "4         Mercedes-Benz of Arcadia    4.9       1,073   $53,405  \n",
       "..                             ...    ...          ...      ...  \n",
       "194   Mercedes-Benz of Catonsville    4.1         128   $41,990  \n",
       "195   Bobby Rahal Motorcar Company    4.6          94   $38,880  \n",
       "196  Mercedes-Benz of West Chester    4.6       1,524   $34,871  \n",
       "197     Mercedes-Benz of South Bay    4.7         901   $46,991  \n",
       "198           Sears Imported Autos    4.9       1,565   $33,706  \n",
       "\n",
       "[199 rows x 6 columns]"
      ]
     },
     "execution_count": 49,
     "metadata": {},
     "output_type": "execute_result"
    }
   ],
   "source": [
    "car_dealer"
   ]
  }
 ],
 "metadata": {
  "kernelspec": {
   "display_name": "Python 3",
   "language": "python",
   "name": "python3"
  },
  "language_info": {
   "codemirror_mode": {
    "name": "ipython",
    "version": 3
   },
   "file_extension": ".py",
   "mimetype": "text/x-python",
   "name": "python",
   "nbconvert_exporter": "python",
   "pygments_lexer": "ipython3",
   "version": "3.7.13"
  }
 },
 "nbformat": 4,
 "nbformat_minor": 4
}
