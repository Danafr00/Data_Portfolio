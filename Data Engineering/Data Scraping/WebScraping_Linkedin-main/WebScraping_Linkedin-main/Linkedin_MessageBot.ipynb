{
 "cells": [
  {
   "cell_type": "markdown",
   "id": "fifth-touch",
   "metadata": {},
   "source": [
    "## Linkedin Message Bot\n",
    "\n",
    "<br>\n",
    "In this Notebook we will build a messaging bot with Python & Selenium! We will send custom messages to as many of our LinkedIn contacts as we'd like with nearly 0 effort on our end and a 100% automation!\n",
    "<br>\n",
    "<b>Author</b>: Mariya Sha\n",
    "<br>\n",
    "<br>\n",
    "<b>Watch Step by Step Tutorial on YouTube:</b> \n",
    "<br>\n",
    "Part 1: https://youtu.be/XdFUpFUDt88\n",
    "<br>\n",
    "Part 2: https://youtu.be/TXdgMkf9gP0\n",
    "<br>\n",
    "<br>\n",
    "<b>Exstend Bot to Connect with People:</b>\n",
    "<br>\n",
    "https://youtu.be/7aIb6iQZkDw"
   ]
  },
  {
   "cell_type": "code",
   "execution_count": 129,
   "id": "vanilla-logging",
   "metadata": {},
   "outputs": [],
   "source": [
    "from selenium import webdriver\n",
    "from selenium.webdriver.common.keys import Keys\n",
    "from selenium.webdriver.support import expected_conditions as EC\n",
    "from selenium.webdriver.common.by import By\n",
    "from selenium.webdriver.support.wait import WebDriverWait\n",
    "import time"
   ]
  },
  {
   "cell_type": "markdown",
   "id": "thorough-section",
   "metadata": {},
   "source": [
    "<b>Initiallize Webdriver and Open Linkedin with it</b>"
   ]
  },
  {
   "cell_type": "code",
   "execution_count": 130,
   "id": "single-battlefield",
   "metadata": {},
   "outputs": [],
   "source": [
    "driver = webdriver.Chrome(\"C:/Users/Mariya/chromedriver.exe\")\n",
    "driver.get(\"https://linkedin.com\")"
   ]
  },
  {
   "cell_type": "markdown",
   "id": "rough-tactics",
   "metadata": {},
   "source": [
    "<b>Log Into Your Own Linkedin Account</b>\n",
    "<br>\n",
    "Please replace \"my_username\" and \"my_password\" with your own information"
   ]
  },
  {
   "cell_type": "code",
   "execution_count": 131,
   "id": "perfect-permit",
   "metadata": {},
   "outputs": [],
   "source": [
    "time.sleep(2)\n",
    "\n",
    "username = driver.find_element_by_xpath(\"//input[@name='session_key']\")\n",
    "password = driver.find_element_by_xpath(\"//input[@name='session_password']\")\n",
    "\n",
    "username.send_keys(\"my_username\")\n",
    "password.send_keys(\"my_password\")\n",
    "\n",
    "time.sleep(2)\n",
    "\n",
    "submit = driver.find_element_by_xpath(\"//button[@type='submit']\").click()\n",
    "time.sleep(2)"
   ]
  },
  {
   "cell_type": "markdown",
   "id": "common-pension",
   "metadata": {},
   "source": [
    "<b>Send Messages</b>\n",
    "<br>\n",
    "1. Access multiple pages of contacts, choose how many with \"n_pages\"\n",
    "<br>\n",
    "2. Select all the \"Message\" Buttons\n",
    "<br>\n",
    "3. Generate a custom message with a personal greeting & first name of contact\n",
    "<br>\n",
    "4. Send these messages to as many contacts as you'd like!\n"
   ]
  },
  {
   "cell_type": "code",
   "execution_count": 132,
   "id": "surprised-protein",
   "metadata": {},
   "outputs": [],
   "source": [
    "import random\n",
    "\n",
    "n_pages = 3\n",
    "\n",
    "for n in range(1, n_pages + 1):\n",
    "\n",
    "    driver.get(\"https://www.linkedin.com/search/results/people/?network=%5B%22F%22%5D&origin=FACETED_SEARCH&page=\" + str(n))\n",
    "    time.sleep(2)\n",
    "\n",
    "    all_buttons = driver.find_elements_by_tag_name(\"button\")\n",
    "    message_buttons = [btn for btn in all_buttons if btn.text == \"Message\"]\n",
    "\n",
    "    for i in range(6, 7):\n",
    "        #click on \"Message\" button\n",
    "        driver.execute_script(\"arguments[0].click();\", message_buttons[i])\n",
    "        time.sleep(2)\n",
    "\n",
    "        #activate main div\n",
    "        main_div = driver.find_element_by_xpath(\"//div[starts-with(@class, 'msg-form__msg-content-container')]\")\n",
    "        driver.execute_script(\"arguments[0].click();\", main_div)\n",
    "\n",
    "        #type message\n",
    "        paragraphs = driver.find_elements_by_tag_name(\"p\")\n",
    "        \n",
    "        all_span = driver.find_elements_by_tag_name(\"span\")\n",
    "        all_span = [s for s in all_span if s.get_attribute(\"aria-hidden\") == \"true\"]\n",
    "\n",
    "        idx = [*range(3,23,2)]\n",
    "        greetings = [\"Hello\", \"Hi\", \"Hey\", \"Ahoy\", \"Yo yo\", \"Sup\"]\n",
    "        all_names = []\n",
    "        \n",
    "        for j in idx:\n",
    "            name = all_span[j].text.split(\" \")[0]\n",
    "            all_names.append(name)\n",
    "             \n",
    "        greetings_idx = random.randint(0, len(greetings)-1)\n",
    "        message = greetings[greetings_idx] + \" \" + all_names[i] + \", Sorry, I didn't mean to bother you, I'm just building a Linkedin Web Scraper Bot and testing its' capabilities... My apologies!:) This is not Mariya, this message is automated\"\n",
    "        \n",
    "        paragraphs[-5].send_keys(message)\n",
    "        time.sleep(2)\n",
    "\n",
    "        #send message\n",
    "        submit = driver.find_element_by_xpath(\"//button[@type='submit']\").click()\n",
    "        time.sleep(2)\n",
    "\n",
    "        #close div\n",
    "        close_button = driver.find_element_by_xpath(\"//button[starts-with(@data-control-name, 'overlay.close_conversation_window')]\")\n",
    "        driver.execute_script(\"arguments[0].click();\", close_button)\n",
    "        time.sleep(2)"
   ]
  }
 ],
 "metadata": {
  "kernelspec": {
   "display_name": "Python 3",
   "language": "python",
   "name": "python3"
  },
  "language_info": {
   "codemirror_mode": {
    "name": "ipython",
    "version": 3
   },
   "file_extension": ".py",
   "mimetype": "text/x-python",
   "name": "python",
   "nbconvert_exporter": "python",
   "pygments_lexer": "ipython3",
   "version": "3.7.13"
  }
 },
 "nbformat": 4,
 "nbformat_minor": 5
}
