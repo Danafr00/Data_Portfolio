{
 "cells": [
  {
   "cell_type": "markdown",
   "metadata": {},
   "source": [
    "### Imports"
   ]
  },
  {
   "cell_type": "code",
   "execution_count": 24,
   "metadata": {},
   "outputs": [],
   "source": [
    "from bs4 import BeautifulSoup\n",
    "import requests\n",
    "import pandas as pd\n",
    "import numpy as np\n",
    "import urllib.parse\n",
    "from selenium import webdriver\n",
    "import time"
   ]
  },
  {
   "cell_type": "markdown",
   "metadata": {},
   "source": [
    "### HTTP Request"
   ]
  },
  {
   "cell_type": "markdown",
   "metadata": {},
   "source": [
    "#### store website in variable"
   ]
  },
  {
   "cell_type": "code",
   "execution_count": 19,
   "metadata": {},
   "outputs": [],
   "source": [
    "website = 'https://www.laptopsdirect.co.uk/ct/laptops-and-netbooks/laptops?fts=laptops'\n",
    "headers = ({'User-Agent': 'Mozilla/5.0 (Windows NT 10.0; Win64; x64) AppleWebKit/537.36 (KHTML, like Gecko) Chrome/104.0.0.0 Safari/537.36'})"
   ]
  },
  {
   "cell_type": "markdown",
   "metadata": {},
   "source": [
    "#### Get Request"
   ]
  },
  {
   "cell_type": "code",
   "execution_count": 20,
   "metadata": {},
   "outputs": [],
   "source": [
    "response = requests.get(website, headers=headers)"
   ]
  },
  {
   "cell_type": "markdown",
   "metadata": {},
   "source": [
    "#### Status Code"
   ]
  },
  {
   "cell_type": "code",
   "execution_count": 21,
   "metadata": {},
   "outputs": [
    {
     "data": {
      "text/plain": [
       "403"
      ]
     },
     "execution_count": 21,
     "metadata": {},
     "output_type": "execute_result"
    }
   ],
   "source": [
    "response.status_code"
   ]
  },
  {
   "cell_type": "code",
   "execution_count": 41,
   "metadata": {},
   "outputs": [
    {
     "name": "stderr",
     "output_type": "stream",
     "text": [
      "C:\\Users\\kana\\Anaconda3\\envs\\tensorflow_env\\lib\\site-packages\\ipykernel_launcher.py:2: DeprecationWarning: executable_path has been deprecated, please pass in a Service object\n",
      "  \n"
     ]
    }
   ],
   "source": [
    "#Open the website\n",
    "driver = webdriver.Edge(executable_path= r'C:\\Users\\kana\\Documents\\Portofolio\\Python\\Data Scraping\\Web Driver\\edgedriver_win64\\msedgedriver.exe')\n",
    "driver.get(website)\n",
    "time.sleep(1)\n"
   ]
  },
  {
   "cell_type": "code",
   "execution_count": 42,
   "metadata": {},
   "outputs": [
    {
     "name": "stderr",
     "output_type": "stream",
     "text": [
      "C:\\Users\\kana\\Anaconda3\\envs\\tensorflow_env\\lib\\site-packages\\ipykernel_launcher.py:2: DeprecationWarning: find_element_by_* commands are deprecated. Please use find_element() instead\n",
      "  \n"
     ]
    },
    {
     "ename": "NoSuchElementException",
     "evalue": "Message: no such element: Unable to locate element: {\"method\":\"xpath\",\"selector\":\"//*[@id=\"termly-code-snippet-support\"]/div/div/div/div/div/div[2]/div[2]/button\"}\n  (Session info: MicrosoftEdge=104.0.1293.54)\nStacktrace:\nBacktrace:\n\tMicrosoft::Applications::Events::EventProperties::unpack [0x00007FF7F49741A2+26370]\n\tMicrosoft::Applications::Events::GUID_t::GUID_t [0x00007FF7F48C9502+339106]\n\tOrdinal0 [0x00007FF7F4457821+620577]\n\tOrdinal0 [0x00007FF7F4493E41+867905]\n\tOrdinal0 [0x00007FF7F4494053+868435]\n\tOrdinal0 [0x00007FF7F44C5DB7+1072567]\n\tOrdinal0 [0x00007FF7F44AF48F+980111]\n\tOrdinal0 [0x00007FF7F44C358F+1062287]\n\tOrdinal0 [0x00007FF7F44AF263+979555]\n\tOrdinal0 [0x00007FF7F4486070+811120]\n\tOrdinal0 [0x00007FF7F4487668+816744]\n\tMicrosoft::Applications::Events::EventProperty::EventProperty [0x00007FF7F4722998+128088]\n\tMicrosoft::Applications::Events::EventProperty::EventProperty [0x00007FF7F470C2EB+36267]\n\tMicrosoft::Applications::Events::EventProperty::EventProperty [0x00007FF7F470F30C+48588]\n\tMicrosoft::Applications::Events::EventProperty::to_string [0x00007FF7F4564393+22115]\n\tMicrosoft::Applications::Events::GUID_t::GUID_t [0x00007FF7F48D0B2B+369355]\n\tMicrosoft::Applications::Events::GUID_t::GUID_t [0x00007FF7F48D59C4+389476]\n\tMicrosoft::Applications::Events::GUID_t::GUID_t [0x00007FF7F48D5B1D+389821]\n\tMicrosoft::Applications::Events::time_ticks_t::time_ticks_t [0x00007FF7F48E05A9+40761]\n\tBaseThreadInitThunk [0x00007FFF0FB554E0+16]\n\tRtlUserThreadStart [0x00007FFF0FDE485B+43]\n",
     "output_type": "error",
     "traceback": [
      "\u001b[1;31m---------------------------------------------------------------------------\u001b[0m",
      "\u001b[1;31mNoSuchElementException\u001b[0m                    Traceback (most recent call last)",
      "\u001b[1;32m<ipython-input-42-5dd5e30b640f>\u001b[0m in \u001b[0;36m<module>\u001b[1;34m\u001b[0m\n\u001b[0;32m      1\u001b[0m \u001b[1;31m#Accept the Cookies\u001b[0m\u001b[1;33m\u001b[0m\u001b[1;33m\u001b[0m\u001b[1;33m\u001b[0m\u001b[0m\n\u001b[1;32m----> 2\u001b[1;33m \u001b[0mcookies\u001b[0m \u001b[1;33m=\u001b[0m \u001b[0mdriver\u001b[0m\u001b[1;33m.\u001b[0m\u001b[0mfind_element_by_xpath\u001b[0m\u001b[1;33m(\u001b[0m\u001b[1;34m'//*[@id=\"termly-code-snippet-support\"]/div/div/div/div/div/div[2]/div[2]/button'\u001b[0m\u001b[1;33m)\u001b[0m\u001b[1;33m\u001b[0m\u001b[1;33m\u001b[0m\u001b[0m\n\u001b[0m\u001b[0;32m      3\u001b[0m \u001b[0mcookies\u001b[0m\u001b[1;33m.\u001b[0m\u001b[0mclick\u001b[0m\u001b[1;33m(\u001b[0m\u001b[1;33m)\u001b[0m\u001b[1;33m\u001b[0m\u001b[1;33m\u001b[0m\u001b[0m\n",
      "\u001b[1;32m~\\Anaconda3\\envs\\tensorflow_env\\lib\\site-packages\\selenium\\webdriver\\remote\\webdriver.py\u001b[0m in \u001b[0;36mfind_element_by_xpath\u001b[1;34m(self, xpath)\u001b[0m\n\u001b[0;32m    518\u001b[0m             \u001b[0mstacklevel\u001b[0m\u001b[1;33m=\u001b[0m\u001b[1;36m2\u001b[0m\u001b[1;33m,\u001b[0m\u001b[1;33m\u001b[0m\u001b[1;33m\u001b[0m\u001b[0m\n\u001b[0;32m    519\u001b[0m         )\n\u001b[1;32m--> 520\u001b[1;33m         \u001b[1;32mreturn\u001b[0m \u001b[0mself\u001b[0m\u001b[1;33m.\u001b[0m\u001b[0mfind_element\u001b[0m\u001b[1;33m(\u001b[0m\u001b[0mby\u001b[0m\u001b[1;33m=\u001b[0m\u001b[0mBy\u001b[0m\u001b[1;33m.\u001b[0m\u001b[0mXPATH\u001b[0m\u001b[1;33m,\u001b[0m \u001b[0mvalue\u001b[0m\u001b[1;33m=\u001b[0m\u001b[0mxpath\u001b[0m\u001b[1;33m)\u001b[0m\u001b[1;33m\u001b[0m\u001b[1;33m\u001b[0m\u001b[0m\n\u001b[0m\u001b[0;32m    521\u001b[0m \u001b[1;33m\u001b[0m\u001b[0m\n\u001b[0;32m    522\u001b[0m     \u001b[1;32mdef\u001b[0m \u001b[0mfind_elements_by_xpath\u001b[0m\u001b[1;33m(\u001b[0m\u001b[0mself\u001b[0m\u001b[1;33m,\u001b[0m \u001b[0mxpath\u001b[0m\u001b[1;33m)\u001b[0m \u001b[1;33m->\u001b[0m \u001b[0mWebElement\u001b[0m\u001b[1;33m:\u001b[0m\u001b[1;33m\u001b[0m\u001b[1;33m\u001b[0m\u001b[0m\n",
      "\u001b[1;32m~\\Anaconda3\\envs\\tensorflow_env\\lib\\site-packages\\selenium\\webdriver\\remote\\webdriver.py\u001b[0m in \u001b[0;36mfind_element\u001b[1;34m(self, by, value)\u001b[0m\n\u001b[0;32m   1244\u001b[0m         return self.execute(Command.FIND_ELEMENT, {\n\u001b[0;32m   1245\u001b[0m             \u001b[1;34m'using'\u001b[0m\u001b[1;33m:\u001b[0m \u001b[0mby\u001b[0m\u001b[1;33m,\u001b[0m\u001b[1;33m\u001b[0m\u001b[1;33m\u001b[0m\u001b[0m\n\u001b[1;32m-> 1246\u001b[1;33m             'value': value})['value']\n\u001b[0m\u001b[0;32m   1247\u001b[0m \u001b[1;33m\u001b[0m\u001b[0m\n\u001b[0;32m   1248\u001b[0m     \u001b[1;32mdef\u001b[0m \u001b[0mfind_elements\u001b[0m\u001b[1;33m(\u001b[0m\u001b[0mself\u001b[0m\u001b[1;33m,\u001b[0m \u001b[0mby\u001b[0m\u001b[1;33m=\u001b[0m\u001b[0mBy\u001b[0m\u001b[1;33m.\u001b[0m\u001b[0mID\u001b[0m\u001b[1;33m,\u001b[0m \u001b[0mvalue\u001b[0m\u001b[1;33m=\u001b[0m\u001b[1;32mNone\u001b[0m\u001b[1;33m)\u001b[0m \u001b[1;33m->\u001b[0m \u001b[0mList\u001b[0m\u001b[1;33m[\u001b[0m\u001b[0mWebElement\u001b[0m\u001b[1;33m]\u001b[0m\u001b[1;33m:\u001b[0m\u001b[1;33m\u001b[0m\u001b[1;33m\u001b[0m\u001b[0m\n",
      "\u001b[1;32m~\\Anaconda3\\envs\\tensorflow_env\\lib\\site-packages\\selenium\\webdriver\\remote\\webdriver.py\u001b[0m in \u001b[0;36mexecute\u001b[1;34m(self, driver_command, params)\u001b[0m\n\u001b[0;32m    422\u001b[0m         \u001b[0mresponse\u001b[0m \u001b[1;33m=\u001b[0m \u001b[0mself\u001b[0m\u001b[1;33m.\u001b[0m\u001b[0mcommand_executor\u001b[0m\u001b[1;33m.\u001b[0m\u001b[0mexecute\u001b[0m\u001b[1;33m(\u001b[0m\u001b[0mdriver_command\u001b[0m\u001b[1;33m,\u001b[0m \u001b[0mparams\u001b[0m\u001b[1;33m)\u001b[0m\u001b[1;33m\u001b[0m\u001b[1;33m\u001b[0m\u001b[0m\n\u001b[0;32m    423\u001b[0m         \u001b[1;32mif\u001b[0m \u001b[0mresponse\u001b[0m\u001b[1;33m:\u001b[0m\u001b[1;33m\u001b[0m\u001b[1;33m\u001b[0m\u001b[0m\n\u001b[1;32m--> 424\u001b[1;33m             \u001b[0mself\u001b[0m\u001b[1;33m.\u001b[0m\u001b[0merror_handler\u001b[0m\u001b[1;33m.\u001b[0m\u001b[0mcheck_response\u001b[0m\u001b[1;33m(\u001b[0m\u001b[0mresponse\u001b[0m\u001b[1;33m)\u001b[0m\u001b[1;33m\u001b[0m\u001b[1;33m\u001b[0m\u001b[0m\n\u001b[0m\u001b[0;32m    425\u001b[0m             response['value'] = self._unwrap_value(\n\u001b[0;32m    426\u001b[0m                 response.get('value', None))\n",
      "\u001b[1;32m~\\Anaconda3\\envs\\tensorflow_env\\lib\\site-packages\\selenium\\webdriver\\remote\\errorhandler.py\u001b[0m in \u001b[0;36mcheck_response\u001b[1;34m(self, response)\u001b[0m\n\u001b[0;32m    245\u001b[0m                 \u001b[0malert_text\u001b[0m \u001b[1;33m=\u001b[0m \u001b[0mvalue\u001b[0m\u001b[1;33m[\u001b[0m\u001b[1;34m'alert'\u001b[0m\u001b[1;33m]\u001b[0m\u001b[1;33m.\u001b[0m\u001b[0mget\u001b[0m\u001b[1;33m(\u001b[0m\u001b[1;34m'text'\u001b[0m\u001b[1;33m)\u001b[0m\u001b[1;33m\u001b[0m\u001b[1;33m\u001b[0m\u001b[0m\n\u001b[0;32m    246\u001b[0m             \u001b[1;32mraise\u001b[0m \u001b[0mexception_class\u001b[0m\u001b[1;33m(\u001b[0m\u001b[0mmessage\u001b[0m\u001b[1;33m,\u001b[0m \u001b[0mscreen\u001b[0m\u001b[1;33m,\u001b[0m \u001b[0mstacktrace\u001b[0m\u001b[1;33m,\u001b[0m \u001b[0malert_text\u001b[0m\u001b[1;33m)\u001b[0m  \u001b[1;31m# type: ignore[call-arg]  # mypy is not smart enough here\u001b[0m\u001b[1;33m\u001b[0m\u001b[1;33m\u001b[0m\u001b[0m\n\u001b[1;32m--> 247\u001b[1;33m         \u001b[1;32mraise\u001b[0m \u001b[0mexception_class\u001b[0m\u001b[1;33m(\u001b[0m\u001b[0mmessage\u001b[0m\u001b[1;33m,\u001b[0m \u001b[0mscreen\u001b[0m\u001b[1;33m,\u001b[0m \u001b[0mstacktrace\u001b[0m\u001b[1;33m)\u001b[0m\u001b[1;33m\u001b[0m\u001b[1;33m\u001b[0m\u001b[0m\n\u001b[0m\u001b[0;32m    248\u001b[0m \u001b[1;33m\u001b[0m\u001b[0m\n\u001b[0;32m    249\u001b[0m     \u001b[1;32mdef\u001b[0m \u001b[0m_value_or_default\u001b[0m\u001b[1;33m(\u001b[0m\u001b[0mself\u001b[0m\u001b[1;33m,\u001b[0m \u001b[0mobj\u001b[0m\u001b[1;33m:\u001b[0m \u001b[0mMapping\u001b[0m\u001b[1;33m[\u001b[0m\u001b[0m_KT\u001b[0m\u001b[1;33m,\u001b[0m \u001b[0m_VT\u001b[0m\u001b[1;33m]\u001b[0m\u001b[1;33m,\u001b[0m \u001b[0mkey\u001b[0m\u001b[1;33m:\u001b[0m \u001b[0m_KT\u001b[0m\u001b[1;33m,\u001b[0m \u001b[0mdefault\u001b[0m\u001b[1;33m:\u001b[0m \u001b[0m_VT\u001b[0m\u001b[1;33m)\u001b[0m \u001b[1;33m->\u001b[0m \u001b[0m_VT\u001b[0m\u001b[1;33m:\u001b[0m\u001b[1;33m\u001b[0m\u001b[1;33m\u001b[0m\u001b[0m\n",
      "\u001b[1;31mNoSuchElementException\u001b[0m: Message: no such element: Unable to locate element: {\"method\":\"xpath\",\"selector\":\"//*[@id=\"termly-code-snippet-support\"]/div/div/div/div/div/div[2]/div[2]/button\"}\n  (Session info: MicrosoftEdge=104.0.1293.54)\nStacktrace:\nBacktrace:\n\tMicrosoft::Applications::Events::EventProperties::unpack [0x00007FF7F49741A2+26370]\n\tMicrosoft::Applications::Events::GUID_t::GUID_t [0x00007FF7F48C9502+339106]\n\tOrdinal0 [0x00007FF7F4457821+620577]\n\tOrdinal0 [0x00007FF7F4493E41+867905]\n\tOrdinal0 [0x00007FF7F4494053+868435]\n\tOrdinal0 [0x00007FF7F44C5DB7+1072567]\n\tOrdinal0 [0x00007FF7F44AF48F+980111]\n\tOrdinal0 [0x00007FF7F44C358F+1062287]\n\tOrdinal0 [0x00007FF7F44AF263+979555]\n\tOrdinal0 [0x00007FF7F4486070+811120]\n\tOrdinal0 [0x00007FF7F4487668+816744]\n\tMicrosoft::Applications::Events::EventProperty::EventProperty [0x00007FF7F4722998+128088]\n\tMicrosoft::Applications::Events::EventProperty::EventProperty [0x00007FF7F470C2EB+36267]\n\tMicrosoft::Applications::Events::EventProperty::EventProperty [0x00007FF7F470F30C+48588]\n\tMicrosoft::Applications::Events::EventProperty::to_string [0x00007FF7F4564393+22115]\n\tMicrosoft::Applications::Events::GUID_t::GUID_t [0x00007FF7F48D0B2B+369355]\n\tMicrosoft::Applications::Events::GUID_t::GUID_t [0x00007FF7F48D59C4+389476]\n\tMicrosoft::Applications::Events::GUID_t::GUID_t [0x00007FF7F48D5B1D+389821]\n\tMicrosoft::Applications::Events::time_ticks_t::time_ticks_t [0x00007FF7F48E05A9+40761]\n\tBaseThreadInitThunk [0x00007FFF0FB554E0+16]\n\tRtlUserThreadStart [0x00007FFF0FDE485B+43]\n"
     ]
    }
   ],
   "source": [
    "#Accept the Cookies\n",
    "cookies = driver.find_element_by_xpath('//*[@id=\"termly-code-snippet-support\"]/div/div/div/div/div/div[2]/div[2]/button')\n",
    "cookies.click()"
   ]
  },
  {
   "cell_type": "code",
   "execution_count": 38,
   "metadata": {},
   "outputs": [
    {
     "data": {
      "text/plain": [
       "<selenium.webdriver.edge.webdriver.WebDriver (session=\"b8e68f460beb301e5b279b37f469b8b1\")>"
      ]
     },
     "execution_count": 38,
     "metadata": {},
     "output_type": "execute_result"
    }
   ],
   "source": [
    "driver"
   ]
  },
  {
   "cell_type": "markdown",
   "metadata": {},
   "source": [
    "### Soup Object"
   ]
  },
  {
   "cell_type": "code",
   "execution_count": 22,
   "metadata": {},
   "outputs": [],
   "source": [
    "soup = BeautifulSoup(response.content, 'html.parser')"
   ]
  },
  {
   "cell_type": "code",
   "execution_count": 23,
   "metadata": {},
   "outputs": [
    {
     "data": {
      "text/plain": [
       "<html><head><title>laptopsdirect.co.uk</title><style>#cmsg{animation: A 1.5s;}@keyframes A{0%{opacity:0;}99%{opacity:0;}100%{opacity:1;}}</style></head><body style=\"margin:0\"><p id=\"cmsg\">Please enable JS and disable any ad blocker</p><script>var dd={'cid':'AHrlqAAAAAMAVscWDKbyOZAAdmCZUQ==','hsh':'D55721017B90E65A550A6C81084B3A','t':'fe','s':35952,'e':'881e7e1c43e80b97bf103ac9a12a3af86cf8cd67c04ef95f02f723e904c9e4a5','host':'geo.captcha-delivery.com'}</script><script src=\"https://ct.captcha-delivery.com/c.js\"></script></body></html>"
      ]
     },
     "execution_count": 23,
     "metadata": {},
     "output_type": "execute_result"
    }
   ],
   "source": [
    "soup"
   ]
  },
  {
   "cell_type": "markdown",
   "metadata": {},
   "source": [
    "### Results"
   ]
  },
  {
   "cell_type": "code",
   "execution_count": 145,
   "metadata": {},
   "outputs": [],
   "source": [
    "results = soup.find_all('div', {'class':'OfferBox'})"
   ]
  },
  {
   "cell_type": "code",
   "execution_count": 146,
   "metadata": {},
   "outputs": [
    {
     "data": {
      "text/plain": [
       "48"
      ]
     },
     "execution_count": 146,
     "metadata": {},
     "output_type": "execute_result"
    }
   ],
   "source": [
    "# length\n",
    "len(results)"
   ]
  },
  {
   "cell_type": "code",
   "execution_count": 67,
   "metadata": {},
   "outputs": [
    {
     "data": {
      "text/plain": [
       "<div class=\"OfferBox\">\n",
       "<div class=\"merchTopofCentreColumn top5icon\" onload=\"dataLayer.push({'event':'top5IconShown'});\" style=\"display:none; z-index: 20; position: absolute; top: 50px; left: 10px; cursor: pointer;  pointer-events: none; width: 70px;\">\n",
       "<img alt=\"Top 5\" border=\"0\" src=\"https://www.appliancesdirect.co.uk/images/top5-apd.png\"/>\n",
       "</div>\n",
       "<div class=\"SRpercent\">\n",
       "<strong>SAVE <span>12%</span></strong>\n",
       "</div>\n",
       "<div class=\"SavingsPrice\">\n",
       "<strong>SAVE <span>£70<span class=\"tilesUnitText\"></span></span></strong>\n",
       "</div>\n",
       "<div class=\"sr_image\">\n",
       "<div class=\"sr_compare\">\n",
       "<div class=\"sli_compare\" id=\"1474399_compare\">\n",
       "<input class=\"compare\" onclick=\"AddRemoveFromProductCompareCookie(this, event);\" type=\"checkbox\" value=\"1474399\"/>\n",
       "<input id=\"comphid_1474399\" type=\"hidden\" value=\"Laptops\">\n",
       "<span class=\"compareText\">Compare</span>\n",
       "</input></div>\n",
       "<div class=\"comparedialog\" id=\"msg_1474399\" style=\"display:none;\" title=\"Compare products\">\n",
       "<p>Sorry, you can only compare a maximum of 4 items per category.</p>\n",
       "</div>\n",
       "<div class=\"compBtn\" id=\"compBtn_1474399\">\n",
       "<a href=\"/Compare\" type=\"button\">Compare products »</a>\n",
       "</div>\n",
       "</div>\n",
       "<a href=\"/lenovo-v15-iil-core-i5-1035u-8gb-256gb-ssd-15.6-inch-fhd-windows-10-laptop-82c50075uk/version.asp\" onclick=\"EnEcomProdClick('82C50075UK', 'lenovo-v15-iil-core-i5-1035u-8gb-256gb-ssd-15.6-inch-fhd-windows-10-laptop-82c50075uk/version.asp', '2');\" title=\"Lenovo V15-IIL Core i5-1035G1 8GB 256GB SSD 15.6 Inch FHD Windows 10 Laptop\">\n",
       "<img alt=\"Lenovo V15-IIL Core i5-1035G1 8GB 256GB SSD 15.6 Inch FHD Windows 10 Laptop\" border=\"0\" class=\"offerImage\" id=\"productImage_1474399\" pid=\"1474399\" src=\"/Images/82C50075UK_1_classic.jpg?v=3&amp;width=200&amp;height=200&amp;switchoff=enabled\" title=\"Lenovo V15-IIL Core i5-1035G1 8GB 256GB SSD 15.6 Inch FHD Windows 10 Laptop\"/>\n",
       "</a>\n",
       "<div class=\"merchTopofCentreColumn plogo plogo-lenovo\" style=\"\">\n",
       "<img border=\"0\" src=\"/files/images/lenovo-logo-new.jpg\"/>\n",
       "</div>\n",
       "</div>\n",
       "<div class=\"OfferBoxProdInfo\">\n",
       "<div class=\"OfferBoxTitle\">\n",
       "<h3>\n",
       "<a class=\"offerboxtitle\" href=\"/lenovo-v15-iil-core-i5-1035u-8gb-256gb-ssd-15.6-inch-fhd-windows-10-laptop-82c50075uk/version.asp\" onclick=\"EnEcomProdClick('82C50075UK', 'lenovo-v15-iil-core-i5-1035u-8gb-256gb-ssd-15.6-inch-fhd-windows-10-laptop-82c50075uk/version.asp', '2');\" title=\"Lenovo V15-IIL Core i5-1035G1 8GB 256GB SSD 15.6 Inch FHD Windows 10 Laptop - 82C50075UK\">Lenovo V15-IIL Core i5-1035G1 8GB 256GB SSD 15.6 Inch FHD Windows 10 Laptop - 82C50075UK</a>\n",
       "</h3>\n",
       "<star-rating product-url=\"lenovo-v15-iil-core-i5-1035u-8gb-256gb-ssd-15.6-inch-fhd-windows-10-laptop-82c50075uk/version.asp\" rating-value=\"8.7\" ratings-count=\"890\"></star-rating>\n",
       "<wishlist-amend currency=\"GBP\" exvatprice=\"441.64\" multiple-mode=\"true\" productavailable=\"true\" productid=\"1474399\" siteid=\"3\" vatrate=\"1.200\"></wishlist-amend>\n",
       "</div>\n",
       "<div class=\"condition-label\">\n",
       "<div class=\"savings-calculated-tooltip\">\n",
       "<div class=\"save-tooltip bottom-tooltip\"><strong>Condition:</strong> Brand new <img class=\"saving-tooltip-icon\" src=\"https://www.laptopsdirect.co.uk/files/images/apd/info-btn-light.png\"/>\n",
       "<div class=\"tooltip-new condition-new\"><p><label>This item is brand new and has never been opened</label> </p></div>\n",
       "</div></div>\n",
       "</div>\n",
       "<div class=\"productInfo\" id=\"productInfo_1474399\">\n",
       "<ul>\n",
       "<li><span class=\"proddescvalue\">UHD Graphics 620</span> <span class=\"proddesctitle\">Graphics card</span></li>\n",
       "<li><span class=\"proddescvalue\">Intel Core i5 1035G1</span> <span class=\"proddesctitle\">Processor</span></li>\n",
       "<li><span class=\"proddescvalue\">15.6 Inch Full HD Screen</span></li>\n",
       "<li><span class=\"proddescvalue\">8GB</span> <span class=\"proddesctitle\">RAM</span></li>\n",
       "<li><span class=\"proddescvalue\">256GB</span> <span class=\"proddesctitle\">SSD</span></li>\n",
       "</ul>\n",
       "</div>\n",
       "<div class=\"merchTopofCentreColumn searchicon-laptops\" style=\"\">\n",
       "<img alt=\"Intel Laptop Icon Test\" border=\"0\" src=\"/files/images/ld/558949_942Icons_Intel_101519.png\">\n",
       "</img></div>\n",
       "<div class=\"merchTopofCentreColumn searchicon-laptops\" style=\"\">\n",
       "<img alt=\"Thin and Light icon test\" border=\"0\" src=\"/files/images/ld/Lightweight-Icon.png\"/>\n",
       "</div>\n",
       "<div class=\"merchTopofCentreColumn searchicon-laptops\" style=\"\">\n",
       "<img alt=\"hdmi icon laptop test\" border=\"0\" src=\"/files/images/ld/HDMI2.png\"/>\n",
       "</div>\n",
       "</div>\n",
       "<div class=\"OfferBoxPrice\">\n",
       "<span class=\"strikethrough\">  £599.98 </span>\n",
       "<div class=\"accpricemsgs\">\n",
       "</div>\n",
       "<span class=\"offerpricetext\">Only </span>\n",
       "<span class=\"offerprice\">£529.97<span class=\"tilesUnitText\"></span></span>\n",
       "<div class=\"accpricemsgs\">\n",
       "</div>\n",
       "<a class=\"finance\" onclick=\"ga('send', 'event', 'product page', 'Pay Later');\">\n",
       "<span class=\"financemessage\">or </span>\n",
       "<span class=\"financeprice\">£18.11 a month</span>\n",
       "<span class=\"paypal-credit-ab-test-show\"><span class=\"paypalcredit-srtext\">0% finance available <span class=\"paypal-credit-logo\"></span></span></span>\n",
       "</a>\n",
       "<div class=\"Availability\" id=\"availability_1474399\"></div>\n",
       "<a class=\"offerboxlink btn-prime\" href=\"/lenovo-v15-iil-core-i5-1035u-8gb-256gb-ssd-15.6-inch-fhd-windows-10-laptop-82c50075uk/version.asp\" onclick=\"document.location.href='/lenovo-v15-iil-core-i5-1035u-8gb-256gb-ssd-15.6-inch-fhd-windows-10-laptop-82c50075uk/version.asp'; EnEcomProdClick('82C50075UK', 'lenovo-v15-iil-core-i5-1035u-8gb-256gb-ssd-15.6-inch-fhd-windows-10-laptop-82c50075uk/version.asp', '2'); return false;\" title=\"Lenovo V15-IIL Core i5-1035G1 8GB 256GB SSD 15.6 Inch FHD Windows 10 Laptop\">Find Out More</a>\n",
       "<div class=\"quickview\">\n",
       "<a class=\"dialoganchor btn-second\" id=\"alink_1474399\" onclick=\"CaptureProductClick(39826,1474399,8,48,1,2,28) ; ga('send', 'event', 'QuickView', 'quick view – view', '82C50075UK');\" style=\"cursor:pointer\">Quick View</a>\n",
       "</div>\n",
       "</div>\n",
       "<script type=\"text/javascript\">\n",
       "            $(function () {\n",
       "                if ('False' == 'True') {\n",
       "                    //get the keywords for videos\n",
       "                    GetKeywordsForSearchPage('1474399')\n",
       "                }\n",
       "            });\n",
       "        </script>\n",
       "</div>"
      ]
     },
     "execution_count": 67,
     "metadata": {},
     "output_type": "execute_result"
    }
   ],
   "source": [
    "results[1]"
   ]
  },
  {
   "cell_type": "markdown",
   "metadata": {},
   "source": [
    "### Target necessary data"
   ]
  },
  {
   "cell_type": "code",
   "execution_count": 17,
   "metadata": {},
   "outputs": [],
   "source": [
    "# Name\n",
    "# Price\n",
    "# Review Rating\n",
    "# Review Count\n",
    "# Product Link\n",
    "# Product Details"
   ]
  },
  {
   "cell_type": "markdown",
   "metadata": {},
   "source": [
    "#### Name"
   ]
  },
  {
   "cell_type": "code",
   "execution_count": 68,
   "metadata": {},
   "outputs": [
    {
     "data": {
      "text/plain": [
       "'Medion Akoya E15407 Core i5-1035G1 8GB 256GB SSD 15.6 Inch Full HD Windows 10 Laptop  - 30030444'"
      ]
     },
     "execution_count": 68,
     "metadata": {},
     "output_type": "execute_result"
    }
   ],
   "source": [
    "results[0].find('a', {'class':'offerboxtitle'}).get_text()"
   ]
  },
  {
   "cell_type": "markdown",
   "metadata": {},
   "source": [
    "#### Price"
   ]
  },
  {
   "cell_type": "code",
   "execution_count": 69,
   "metadata": {},
   "outputs": [
    {
     "data": {
      "text/plain": [
       "'£449.97'"
      ]
     },
     "execution_count": 69,
     "metadata": {},
     "output_type": "execute_result"
    }
   ],
   "source": [
    "results[0].find('span', {'class':'offerprice'}).get_text()"
   ]
  },
  {
   "cell_type": "markdown",
   "metadata": {},
   "source": [
    "#### Review Rating"
   ]
  },
  {
   "cell_type": "code",
   "execution_count": 70,
   "metadata": {},
   "outputs": [
    {
     "data": {
      "text/plain": [
       "'8.1'"
      ]
     },
     "execution_count": 70,
     "metadata": {},
     "output_type": "execute_result"
    }
   ],
   "source": [
    "results[0].find('star-rating').get('rating-value')"
   ]
  },
  {
   "cell_type": "markdown",
   "metadata": {},
   "source": [
    "#### Review Count"
   ]
  },
  {
   "cell_type": "code",
   "execution_count": 71,
   "metadata": {},
   "outputs": [
    {
     "data": {
      "text/plain": [
       "'40'"
      ]
     },
     "execution_count": 71,
     "metadata": {},
     "output_type": "execute_result"
    }
   ],
   "source": [
    "results[0].find('star-rating').get('ratings-count')"
   ]
  },
  {
   "cell_type": "markdown",
   "metadata": {},
   "source": [
    "#### Relative URL"
   ]
  },
  {
   "cell_type": "code",
   "execution_count": 72,
   "metadata": {},
   "outputs": [],
   "source": [
    "relative_url = results[0].find('a', {'class':'offerboxtitle'}).get('href')"
   ]
  },
  {
   "cell_type": "code",
   "execution_count": 73,
   "metadata": {},
   "outputs": [
    {
     "data": {
      "text/plain": [
       "'/-core-i5-1035g1-8gb-256gb-ssd-15.6-inch-windows-10-laptop-30030444/version.asp'"
      ]
     },
     "execution_count": 73,
     "metadata": {},
     "output_type": "execute_result"
    }
   ],
   "source": [
    "relative_url"
   ]
  },
  {
   "cell_type": "code",
   "execution_count": 74,
   "metadata": {},
   "outputs": [],
   "source": [
    "root_url = 'https://www.laptopsdirect.co.uk/'"
   ]
  },
  {
   "cell_type": "code",
   "execution_count": 75,
   "metadata": {},
   "outputs": [],
   "source": [
    "# combine URLs\n",
    "url_combined = root_url + relative_url"
   ]
  },
  {
   "cell_type": "code",
   "execution_count": 76,
   "metadata": {},
   "outputs": [
    {
     "data": {
      "text/plain": [
       "'https://www.laptopsdirect.co.uk//-core-i5-1035g1-8gb-256gb-ssd-15.6-inch-windows-10-laptop-30030444/version.asp'"
      ]
     },
     "execution_count": 76,
     "metadata": {},
     "output_type": "execute_result"
    }
   ],
   "source": [
    "url_combined"
   ]
  },
  {
   "cell_type": "markdown",
   "metadata": {},
   "source": [
    "#### Product Details"
   ]
  },
  {
   "cell_type": "code",
   "execution_count": 77,
   "metadata": {},
   "outputs": [
    {
     "data": {
      "text/plain": [
       "'Iris Xe Graphics Graphics card, Intel Core i5 1035G1 Processor, 15.6 Inch Full HD Screen, 8GB RAM, 256GB SSD'"
      ]
     },
     "execution_count": 77,
     "metadata": {},
     "output_type": "execute_result"
    }
   ],
   "source": [
    "results[0].find('div', {'class':'productInfo'}).get_text().strip().replace('\\n',', ')"
   ]
  },
  {
   "cell_type": "markdown",
   "metadata": {},
   "source": [
    "### Put everything together inside a For-Loop"
   ]
  },
  {
   "cell_type": "code",
   "execution_count": 154,
   "metadata": {},
   "outputs": [],
   "source": [
    "product_name = []\n",
    "product_price = []\n",
    "review_rating = []\n",
    "review_count = []\n",
    "relative_url = []\n",
    "product_details = []\n",
    "\n",
    "for result in results:\n",
    "    \n",
    "    # name\n",
    "    try:\n",
    "        product_name.append(result.find('a', {'class':'offerboxtitle'}).get_text()) \n",
    "    except:\n",
    "        product_name.append('n/a')\n",
    "    \n",
    "    # price\n",
    "    try:\n",
    "        product_price.append(result.find('span', {'class':'offerprice'}).get_text())\n",
    "    except:\n",
    "        product_price.append('n/a')\n",
    "    \n",
    "    # review rating\n",
    "    try:\n",
    "        review_rating.append(result.find('star-rating').get('rating-value'))\n",
    "    except:\n",
    "        review_rating.append('n/a')\n",
    "        \n",
    "    # review count\n",
    "    try:\n",
    "        review_count.append(result.find('star-rating').get('ratings-count'))\n",
    "    except:\n",
    "        review_count.append('n/a')\n",
    "    \n",
    "    # relative URL\n",
    "    try:\n",
    "        relative_url.append(result.find('a', {'class':'offerboxtitle'}).get('href'))\n",
    "    except:\n",
    "        relative_url.append('n/a')\n",
    "    \n",
    "    #product details\n",
    "    try:\n",
    "        product_details.append(result.find('div', {'class':'productInfo'}).get_text().strip().replace('\\n',', '))\n",
    "    except:\n",
    "        product_details.append('n/a')"
   ]
  },
  {
   "cell_type": "markdown",
   "metadata": {},
   "source": [
    "#### Combine URLs"
   ]
  },
  {
   "cell_type": "code",
   "execution_count": 167,
   "metadata": {},
   "outputs": [],
   "source": [
    "url_combined = []\n",
    "\n",
    "for link in relative_url:\n",
    "    url_combined.append(urllib.parse.urljoin(root_url, link))"
   ]
  },
  {
   "cell_type": "markdown",
   "metadata": {},
   "source": [
    "### Create Pandas Dataframe"
   ]
  },
  {
   "cell_type": "code",
   "execution_count": null,
   "metadata": {},
   "outputs": [],
   "source": [
    "# pandas dataframe takes a dictionary\n",
    "# dictionary: key-value pair"
   ]
  },
  {
   "cell_type": "code",
   "execution_count": 174,
   "metadata": {},
   "outputs": [],
   "source": [
    "product_overview = pd.DataFrame({'Name': product_name, 'Price':product_price, 'Rating':review_rating,\n",
    "                                'Review Count': review_count, 'Link': url_combined, 'Details': product_details})"
   ]
  },
  {
   "cell_type": "code",
   "execution_count": 175,
   "metadata": {},
   "outputs": [
    {
     "data": {
      "text/html": [
       "<div>\n",
       "<style scoped>\n",
       "    .dataframe tbody tr th:only-of-type {\n",
       "        vertical-align: middle;\n",
       "    }\n",
       "\n",
       "    .dataframe tbody tr th {\n",
       "        vertical-align: top;\n",
       "    }\n",
       "\n",
       "    .dataframe thead th {\n",
       "        text-align: right;\n",
       "    }\n",
       "</style>\n",
       "<table border=\"1\" class=\"dataframe\">\n",
       "  <thead>\n",
       "    <tr style=\"text-align: right;\">\n",
       "      <th></th>\n",
       "      <th>Name</th>\n",
       "      <th>Price</th>\n",
       "      <th>Rating</th>\n",
       "      <th>Review Count</th>\n",
       "      <th>Link</th>\n",
       "      <th>Details</th>\n",
       "    </tr>\n",
       "  </thead>\n",
       "  <tbody>\n",
       "    <tr>\n",
       "      <th>0</th>\n",
       "      <td>Medion Akoya E15407 Core i5-1035G1 8GB 256GB S...</td>\n",
       "      <td>£449.97</td>\n",
       "      <td>8.1</td>\n",
       "      <td>40</td>\n",
       "      <td>https://www.laptopsdirect.co.uk/-core-i5-1035g...</td>\n",
       "      <td>Iris Xe Graphics Graphics card, Intel Core i5 ...</td>\n",
       "    </tr>\n",
       "    <tr>\n",
       "      <th>1</th>\n",
       "      <td>Lenovo V15-IIL Core i5-1035G1 8GB 256GB SSD 15...</td>\n",
       "      <td>£529.97</td>\n",
       "      <td>8.7</td>\n",
       "      <td>890</td>\n",
       "      <td>https://www.laptopsdirect.co.uk/lenovo-v15-iil...</td>\n",
       "      <td>UHD Graphics 620 Graphics card, Intel Core i5 ...</td>\n",
       "    </tr>\n",
       "    <tr>\n",
       "      <th>2</th>\n",
       "      <td>CODA 3.4 Core i3-6157U 4GB 128GB SSD 14.1 Inch...</td>\n",
       "      <td>£269.97</td>\n",
       "      <td>7.6</td>\n",
       "      <td>25</td>\n",
       "      <td>https://www.laptopsdirect.co.uk/coda-340-core-...</td>\n",
       "      <td>UHD Graphics 620 Graphics card, Intel Core i3 ...</td>\n",
       "    </tr>\n",
       "    <tr>\n",
       "      <th>3</th>\n",
       "      <td>Asus C223NA Intel Celeron N3350 4GB 32GB eMMC ...</td>\n",
       "      <td>£177.97</td>\n",
       "      <td>n/a</td>\n",
       "      <td>n/a</td>\n",
       "      <td>https://www.laptopsdirect.co.uk/asus-c223na-in...</td>\n",
       "      <td>Intel Celeron N3350 Processor, 11.6 Inch 1366 ...</td>\n",
       "    </tr>\n",
       "    <tr>\n",
       "      <th>4</th>\n",
       "      <td>Refurbished Lenovo Yoga 11e Intel Celeron N294...</td>\n",
       "      <td>£119.97</td>\n",
       "      <td>n/a</td>\n",
       "      <td>n/a</td>\n",
       "      <td>https://www.laptopsdirect.co.uk/refurbished-le...</td>\n",
       "      <td>Intel Celeron N2940 Processor, 11.6 Inch 1366 ...</td>\n",
       "    </tr>\n",
       "    <tr>\n",
       "      <th>5</th>\n",
       "      <td>Asus C523 Intel Celeron N3350 4GB 64GB eMMC 15...</td>\n",
       "      <td>£277.97</td>\n",
       "      <td>9</td>\n",
       "      <td>10</td>\n",
       "      <td>https://www.laptopsdirect.co.uk/-c523na-br0067...</td>\n",
       "      <td>Intel Celeron N3350 Processor, 15.6 Inch 1366 ...</td>\n",
       "    </tr>\n",
       "    <tr>\n",
       "      <th>6</th>\n",
       "      <td>Lenovo V14-ADA Athlon Gold 3150U 8GB 256GB SSD...</td>\n",
       "      <td>£359.97</td>\n",
       "      <td>8.8</td>\n",
       "      <td>29</td>\n",
       "      <td>https://www.laptopsdirect.co.uk/lenovo-v14-ada...</td>\n",
       "      <td>Radeon Graphics Graphics card, Athlon Gold 315...</td>\n",
       "    </tr>\n",
       "    <tr>\n",
       "      <th>7</th>\n",
       "      <td>MSI GF63 Thin 9SCSR-1069UK Core i5-9300H 8GB 2...</td>\n",
       "      <td>£599.97</td>\n",
       "      <td>8.9</td>\n",
       "      <td>77</td>\n",
       "      <td>https://www.laptopsdirect.co.uk/msi-gf63-thin-...</td>\n",
       "      <td>GeForce GTX 1650 Ti 4GB Graphics card, Intel C...</td>\n",
       "    </tr>\n",
       "    <tr>\n",
       "      <th>8</th>\n",
       "      <td>Lenovo V14-ADA AMD Ryzen 3 3250U 8GB 256GB SSD...</td>\n",
       "      <td>£399.97</td>\n",
       "      <td>8.8</td>\n",
       "      <td>22</td>\n",
       "      <td>https://www.laptopsdirect.co.uk/lenovo-v14-ada...</td>\n",
       "      <td>Radeon Graphics Graphics card, AMD Ryzen 3 325...</td>\n",
       "    </tr>\n",
       "    <tr>\n",
       "      <th>9</th>\n",
       "      <td>ASUS Vivobook X712JA Core i3-1005G1 8GB 1TB 17...</td>\n",
       "      <td>£397.97</td>\n",
       "      <td>n/a</td>\n",
       "      <td>n/a</td>\n",
       "      <td>https://www.laptopsdirect.co.uk/asus-vivobook-...</td>\n",
       "      <td>UHD Graphics 620 Graphics card, Intel Core i3 ...</td>\n",
       "    </tr>\n",
       "    <tr>\n",
       "      <th>10</th>\n",
       "      <td>Lenovo ThinkBook 15 Core i5-1035G1 8GB 256GB S...</td>\n",
       "      <td>£679.97</td>\n",
       "      <td>8.8</td>\n",
       "      <td>101</td>\n",
       "      <td>https://www.laptopsdirect.co.uk/lenovo-thinkbo...</td>\n",
       "      <td>Iris Xe Graphics Graphics card, Intel Core i5 ...</td>\n",
       "    </tr>\n",
       "    <tr>\n",
       "      <th>11</th>\n",
       "      <td>ASUS M415DA AMD Ryzen 5 3500U 8GB 256GB SSD 14...</td>\n",
       "      <td>£429.97</td>\n",
       "      <td>9</td>\n",
       "      <td>6</td>\n",
       "      <td>https://www.laptopsdirect.co.uk/asus-amd-ryzen...</td>\n",
       "      <td>AMD Ryzen 5 3500U Processor, 14 Inch Full HD S...</td>\n",
       "    </tr>\n",
       "    <tr>\n",
       "      <th>12</th>\n",
       "      <td>Dell Latitude 3510 Core i5-10210U 8GB 256GB SS...</td>\n",
       "      <td>£709.97</td>\n",
       "      <td>8.7</td>\n",
       "      <td>20</td>\n",
       "      <td>https://www.laptopsdirect.co.uk/dell-latitude-...</td>\n",
       "      <td>Intel Core i5 10210U Processor, 15.6 Inch Full...</td>\n",
       "    </tr>\n",
       "    <tr>\n",
       "      <th>13</th>\n",
       "      <td>Lenovo V15 Althlon Silver 3050U 4GB 128GB SSD ...</td>\n",
       "      <td>£299.97</td>\n",
       "      <td>8.7</td>\n",
       "      <td>890</td>\n",
       "      <td>https://www.laptopsdirect.co.uk/lenovo-v15-alt...</td>\n",
       "      <td>Radeon Graphics Graphics card, Athlon Silver 3...</td>\n",
       "    </tr>\n",
       "    <tr>\n",
       "      <th>14</th>\n",
       "      <td>HP 250 G7 Core i5-1035G1 8GB 256GB SSD 15.6 In...</td>\n",
       "      <td>£599.97</td>\n",
       "      <td>8.8</td>\n",
       "      <td>260</td>\n",
       "      <td>https://www.laptopsdirect.co.uk/hp-250-g7-core...</td>\n",
       "      <td>UHD Graphics 620 Graphics card, Intel Core i5 ...</td>\n",
       "    </tr>\n",
       "    <tr>\n",
       "      <th>15</th>\n",
       "      <td>Lenovo Legion 5 AMD Ryzen 7-5800H 16GB 512GB S...</td>\n",
       "      <td>£1294.97</td>\n",
       "      <td>9</td>\n",
       "      <td>30</td>\n",
       "      <td>https://www.laptopsdirect.co.uk/lenovo-legion-...</td>\n",
       "      <td>GeForce RTX 3070 8GB Graphics card, AMD Ryzen ...</td>\n",
       "    </tr>\n",
       "    <tr>\n",
       "      <th>16</th>\n",
       "      <td>Asus Vivobook 14  Core i3-1005G1 8GB 256GB SSD...</td>\n",
       "      <td>£399.97</td>\n",
       "      <td>n/a</td>\n",
       "      <td>n/a</td>\n",
       "      <td>https://www.laptopsdirect.co.uk/asus-core-i3-1...</td>\n",
       "      <td>UHD Graphics 620 Graphics card, Intel Core i3 ...</td>\n",
       "    </tr>\n",
       "    <tr>\n",
       "      <th>17</th>\n",
       "      <td>HP 250 G8 Core i5-1035G1 8GB 256GB SSD 15.6 In...</td>\n",
       "      <td>£729.97</td>\n",
       "      <td>8.8</td>\n",
       "      <td>260</td>\n",
       "      <td>https://www.laptopsdirect.co.uk/hp-250-g8-core...</td>\n",
       "      <td>UHD Graphics 620 Graphics card, Intel Core i5 ...</td>\n",
       "    </tr>\n",
       "    <tr>\n",
       "      <th>18</th>\n",
       "      <td>HP 255 G7 Ryzen 3 3200U 8GB 256GB SSD 15.6 Inc...</td>\n",
       "      <td>£529.97</td>\n",
       "      <td>6.5</td>\n",
       "      <td>4</td>\n",
       "      <td>https://www.laptopsdirect.co.uk/hp-255-g7-ryze...</td>\n",
       "      <td>Radeon Graphics Graphics card, AMD Ryzen 3 320...</td>\n",
       "    </tr>\n",
       "    <tr>\n",
       "      <th>19</th>\n",
       "      <td>Asus Vivobook Core i5-1035G1 8GB 256GB SSD 14 ...</td>\n",
       "      <td>£429.97</td>\n",
       "      <td>8</td>\n",
       "      <td>1</td>\n",
       "      <td>https://www.laptopsdirect.co.uk/asus-vivobook-...</td>\n",
       "      <td>UHD Graphics 620 Graphics card, Intel Core i5 ...</td>\n",
       "    </tr>\n",
       "    <tr>\n",
       "      <th>20</th>\n",
       "      <td>Lenovo ThinkBook 14 Gen 2 Core i7-1165 16GB 51...</td>\n",
       "      <td>£799.97</td>\n",
       "      <td>9.5</td>\n",
       "      <td>2</td>\n",
       "      <td>https://www.laptopsdirect.co.uk/lenovo-thinkbo...</td>\n",
       "      <td>Iris Xe Graphics Graphics card, Intel Core i7 ...</td>\n",
       "    </tr>\n",
       "    <tr>\n",
       "      <th>21</th>\n",
       "      <td>Acer Aspire 7 A715-75G Core i5-9300H 8GB 512GB...</td>\n",
       "      <td>£599.97</td>\n",
       "      <td>9.2</td>\n",
       "      <td>9</td>\n",
       "      <td>https://www.laptopsdirect.co.uk/acer-aspire-7-...</td>\n",
       "      <td>GeForce GTX 1650 Ti 4GB Graphics card, Intel C...</td>\n",
       "    </tr>\n",
       "    <tr>\n",
       "      <th>22</th>\n",
       "      <td>HP 255 G8 AMD Ryzen 5-3500U 8GB 256GB SSD 15 I...</td>\n",
       "      <td>£509.97</td>\n",
       "      <td>8.7</td>\n",
       "      <td>6</td>\n",
       "      <td>https://www.laptopsdirect.co.uk/hp-255-g8-amd-...</td>\n",
       "      <td>Radeon Graphics Graphics card, AMD Ryzen 5 350...</td>\n",
       "    </tr>\n",
       "    <tr>\n",
       "      <th>23</th>\n",
       "      <td>HP 250 G8 Core i7-1065G7 8GB 256GB SSD 15.6 In...</td>\n",
       "      <td>£769.97</td>\n",
       "      <td>8</td>\n",
       "      <td>1</td>\n",
       "      <td>https://www.laptopsdirect.co.uk/hp-250-g8-core...</td>\n",
       "      <td>UHD Graphics 620 Graphics card, Intel Core i7 ...</td>\n",
       "    </tr>\n",
       "    <tr>\n",
       "      <th>24</th>\n",
       "      <td>HP ProBook 450 G8 Core i5-1135G7 8GB 256GB SSD...</td>\n",
       "      <td>£754.97</td>\n",
       "      <td>9</td>\n",
       "      <td>1</td>\n",
       "      <td>https://www.laptopsdirect.co.uk/hp-probook-450...</td>\n",
       "      <td>UHD Graphics 620 Graphics card, Intel Core i5 ...</td>\n",
       "    </tr>\n",
       "    <tr>\n",
       "      <th>25</th>\n",
       "      <td>Asus VivoBook R429MA-BV286TS Celeron N4000 4GB...</td>\n",
       "      <td>£199.97</td>\n",
       "      <td>8.6</td>\n",
       "      <td>12</td>\n",
       "      <td>https://www.laptopsdirect.co.uk/asus-cloudbook...</td>\n",
       "      <td>UHD Graphics 620 Graphics card, Intel Celeron ...</td>\n",
       "    </tr>\n",
       "    <tr>\n",
       "      <th>26</th>\n",
       "      <td>Acer TravelMate P2 Core i5-10210U 8GB 256GB SS...</td>\n",
       "      <td>£607.97</td>\n",
       "      <td>8</td>\n",
       "      <td>1</td>\n",
       "      <td>https://www.laptopsdirect.co.uk/acer-travelmat...</td>\n",
       "      <td>UHD Graphics 620 Graphics card, Intel Core i5 ...</td>\n",
       "    </tr>\n",
       "    <tr>\n",
       "      <th>27</th>\n",
       "      <td>Refurbished HP EliteBook 840 G1 Ultrabook Core...</td>\n",
       "      <td>£359.97</td>\n",
       "      <td>9.2</td>\n",
       "      <td>27</td>\n",
       "      <td>https://www.laptopsdirect.co.uk/refurbished-hp...</td>\n",
       "      <td>Intel Core i5 4200U Processor, 14 Inch 1366 x ...</td>\n",
       "    </tr>\n",
       "    <tr>\n",
       "      <th>28</th>\n",
       "      <td>ASUS ZenBook 14 with Screen Pad Core i7-10510U...</td>\n",
       "      <td>£829.97</td>\n",
       "      <td>n/a</td>\n",
       "      <td>n/a</td>\n",
       "      <td>https://www.laptopsdirect.co.uk/asus-zenbook-1...</td>\n",
       "      <td>GeForce MX 350 2GB Graphics card, Intel Core i...</td>\n",
       "    </tr>\n",
       "    <tr>\n",
       "      <th>29</th>\n",
       "      <td>HP 250 G7 Core i5-1035G1 8GB 256GB SSD 15.6 In...</td>\n",
       "      <td>£747.97</td>\n",
       "      <td>8.4</td>\n",
       "      <td>14</td>\n",
       "      <td>https://www.laptopsdirect.co.uk/hp-250-g7-core...</td>\n",
       "      <td>UHD Graphics 620 Graphics card, Intel Core i5 ...</td>\n",
       "    </tr>\n",
       "    <tr>\n",
       "      <th>30</th>\n",
       "      <td>Lenovo Legion 5 AMD Ryzen 5 15.6 Inch Full HD ...</td>\n",
       "      <td>£969.97</td>\n",
       "      <td>9</td>\n",
       "      <td>30</td>\n",
       "      <td>https://www.laptopsdirect.co.uk/lenovo-legion-...</td>\n",
       "      <td>GeForce RTX 3060 6GB Graphics card, AMD Ryzen ...</td>\n",
       "    </tr>\n",
       "    <tr>\n",
       "      <th>31</th>\n",
       "      <td>HP ZBook Firefly 15 G7 Core i7-10510U 16GB 512...</td>\n",
       "      <td>£1394.97</td>\n",
       "      <td>8.8</td>\n",
       "      <td>4</td>\n",
       "      <td>https://www.laptopsdirect.co.uk/hp-zbook-firef...</td>\n",
       "      <td>Quadro P520 4GB Graphics card, Intel Core i7 1...</td>\n",
       "    </tr>\n",
       "    <tr>\n",
       "      <th>32</th>\n",
       "      <td>Lenovo ThinkBook 14 Gen 2  Ryzen 7 4700 16GB 5...</td>\n",
       "      <td>£847.97</td>\n",
       "      <td>n/a</td>\n",
       "      <td>n/a</td>\n",
       "      <td>https://www.laptopsdirect.co.uk/lenovo-thinkbo...</td>\n",
       "      <td>Radeon Graphics Graphics card, AMD Ryzen 7 470...</td>\n",
       "    </tr>\n",
       "    <tr>\n",
       "      <th>33</th>\n",
       "      <td>Lenovo V14-ADA AMD Ryzen 3 3250U 8 GB RAM 256 ...</td>\n",
       "      <td>£432.29</td>\n",
       "      <td>8</td>\n",
       "      <td>1</td>\n",
       "      <td>https://www.laptopsdirect.co.uk/lenovo-v14-ada...</td>\n",
       "      <td>Radeon Graphics Graphics card, AMD Ryzen 3 325...</td>\n",
       "    </tr>\n",
       "    <tr>\n",
       "      <th>34</th>\n",
       "      <td>Lenovo V15-ADA AMD Ryzen 5-3500U 8GB 256GB SSD...</td>\n",
       "      <td>£619.97</td>\n",
       "      <td>9</td>\n",
       "      <td>4</td>\n",
       "      <td>https://www.laptopsdirect.co.uk/lenovo-v15-ada...</td>\n",
       "      <td>Radeon Graphics Graphics card, AMD Ryzen 5 350...</td>\n",
       "    </tr>\n",
       "    <tr>\n",
       "      <th>35</th>\n",
       "      <td>Dell Vostro 5502 Core i5-1135G7 8GB 256GB SSD ...</td>\n",
       "      <td>£679.97</td>\n",
       "      <td>n/a</td>\n",
       "      <td>n/a</td>\n",
       "      <td>https://www.laptopsdirect.co.uk/-cmtwc/version...</td>\n",
       "      <td>UHD Graphics 620 Graphics card, Intel Core i5 ...</td>\n",
       "    </tr>\n",
       "    <tr>\n",
       "      <th>36</th>\n",
       "      <td>Acer Aspire 5 Core i5-1035G1 8GB 512GB SSD 15....</td>\n",
       "      <td>£529.97</td>\n",
       "      <td>n/a</td>\n",
       "      <td>n/a</td>\n",
       "      <td>https://www.laptopsdirect.co.uk/acer-aspire-5-...</td>\n",
       "      <td>UHD Graphics 620 Graphics card, Intel Core i5 ...</td>\n",
       "    </tr>\n",
       "    <tr>\n",
       "      <th>37</th>\n",
       "      <td>Dell Vostro 3501 Core i3-1115G4 8GB 256GB SSD ...</td>\n",
       "      <td>£569.97</td>\n",
       "      <td>n/a</td>\n",
       "      <td>n/a</td>\n",
       "      <td>https://www.laptopsdirect.co.uk/dell-vostro-35...</td>\n",
       "      <td>UHD Graphics 620 Graphics card, Intel Core i3 ...</td>\n",
       "    </tr>\n",
       "    <tr>\n",
       "      <th>38</th>\n",
       "      <td>Lenovo ThinkBook 15 Gen 2 Core i5-1135 8GB 256...</td>\n",
       "      <td>£589.97</td>\n",
       "      <td>8.2</td>\n",
       "      <td>15</td>\n",
       "      <td>https://www.laptopsdirect.co.uk/lenovo-thinkbo...</td>\n",
       "      <td>Iris Xe Graphics Graphics card, Intel Core i5 ...</td>\n",
       "    </tr>\n",
       "    <tr>\n",
       "      <th>39</th>\n",
       "      <td>HP ProBook 450 G7 Core i5-10210U 8GB 256GB SSD...</td>\n",
       "      <td>£739.97</td>\n",
       "      <td>9.3</td>\n",
       "      <td>3</td>\n",
       "      <td>https://www.laptopsdirect.co.uk/hewlett-packar...</td>\n",
       "      <td>UHD Graphics 620 Graphics card, Intel Core i5 ...</td>\n",
       "    </tr>\n",
       "    <tr>\n",
       "      <th>40</th>\n",
       "      <td>Refurbished HP Stream 11-ak0506sa Intel Celero...</td>\n",
       "      <td>£139.97</td>\n",
       "      <td>n/a</td>\n",
       "      <td>n/a</td>\n",
       "      <td>https://www.laptopsdirect.co.uk/refurbished-hp...</td>\n",
       "      <td>Intel Celeron N4020 Processor, 11.6 Inch 1366 ...</td>\n",
       "    </tr>\n",
       "    <tr>\n",
       "      <th>41</th>\n",
       "      <td>Acer Swift 3 SF314-59 Core i5-1135G7 8GB 256GB...</td>\n",
       "      <td>£499.97</td>\n",
       "      <td>8.9</td>\n",
       "      <td>15</td>\n",
       "      <td>https://www.laptopsdirect.co.uk/acer-swift-3-s...</td>\n",
       "      <td>Iris Xe Graphics Graphics card, Intel Core i5 ...</td>\n",
       "    </tr>\n",
       "    <tr>\n",
       "      <th>42</th>\n",
       "      <td>Dell Latitude 3410 Core i5-10210U 8GB 256GB SS...</td>\n",
       "      <td>£679.97</td>\n",
       "      <td>8.4</td>\n",
       "      <td>13</td>\n",
       "      <td>https://www.laptopsdirect.co.uk/dell-lati-3410...</td>\n",
       "      <td>UHD Graphics 620 Graphics card, Intel Core i5 ...</td>\n",
       "    </tr>\n",
       "    <tr>\n",
       "      <th>43</th>\n",
       "      <td>Asus C223NA Intel Celeron N3350 4GB 32GB eMMC ...</td>\n",
       "      <td>£177.97</td>\n",
       "      <td>8</td>\n",
       "      <td>194</td>\n",
       "      <td>https://www.laptopsdirect.co.uk/asus-chromeboo...</td>\n",
       "      <td>Intel Celeron N3350 Processor, 11.6 Inch 1366 ...</td>\n",
       "    </tr>\n",
       "    <tr>\n",
       "      <th>44</th>\n",
       "      <td>ACER Nitro 5 AMD Ryzen 7 5800H 16 GB 1024GB SS...</td>\n",
       "      <td>£1149.97</td>\n",
       "      <td>9.1</td>\n",
       "      <td>11</td>\n",
       "      <td>https://www.laptopsdirect.co.uk/acer-nitro-5-a...</td>\n",
       "      <td>GeForce RTX 3060 6GB Graphics card, AMD Ryzen ...</td>\n",
       "    </tr>\n",
       "    <tr>\n",
       "      <th>45</th>\n",
       "      <td>Lenovo ThinkPad P15s Core i7-1165G7 16GB 512GB...</td>\n",
       "      <td>£1410.97</td>\n",
       "      <td>n/a</td>\n",
       "      <td>n/a</td>\n",
       "      <td>https://www.laptopsdirect.co.uk/lenovo-thinkpa...</td>\n",
       "      <td>Quadro T500 4GB Graphics card, Intel Core i7 1...</td>\n",
       "    </tr>\n",
       "    <tr>\n",
       "      <th>46</th>\n",
       "      <td>Toshiba Dynabook Satellite Pro R50-EC-11J Core...</td>\n",
       "      <td>£469.97</td>\n",
       "      <td>9.7</td>\n",
       "      <td>7</td>\n",
       "      <td>https://www.laptopsdirect.co.uk/toshiba-dynabo...</td>\n",
       "      <td>UHD Graphics 620 Graphics card, Intel Core i3 ...</td>\n",
       "    </tr>\n",
       "    <tr>\n",
       "      <th>47</th>\n",
       "      <td>Lenovo Thinkbook 13 Core i5-10210U 8GB 256GB S...</td>\n",
       "      <td>£542.98</td>\n",
       "      <td>8.8</td>\n",
       "      <td>36</td>\n",
       "      <td>https://www.laptopsdirect.co.uk/lenovo-thinkbo...</td>\n",
       "      <td>Iris Xe Graphics Graphics card, Intel Core i5 ...</td>\n",
       "    </tr>\n",
       "  </tbody>\n",
       "</table>\n",
       "</div>"
      ],
      "text/plain": [
       "                                                 Name     Price Rating  \\\n",
       "0   Medion Akoya E15407 Core i5-1035G1 8GB 256GB S...   £449.97    8.1   \n",
       "1   Lenovo V15-IIL Core i5-1035G1 8GB 256GB SSD 15...   £529.97    8.7   \n",
       "2   CODA 3.4 Core i3-6157U 4GB 128GB SSD 14.1 Inch...   £269.97    7.6   \n",
       "3   Asus C223NA Intel Celeron N3350 4GB 32GB eMMC ...   £177.97    n/a   \n",
       "4   Refurbished Lenovo Yoga 11e Intel Celeron N294...   £119.97    n/a   \n",
       "5   Asus C523 Intel Celeron N3350 4GB 64GB eMMC 15...   £277.97      9   \n",
       "6   Lenovo V14-ADA Athlon Gold 3150U 8GB 256GB SSD...   £359.97    8.8   \n",
       "7   MSI GF63 Thin 9SCSR-1069UK Core i5-9300H 8GB 2...   £599.97    8.9   \n",
       "8   Lenovo V14-ADA AMD Ryzen 3 3250U 8GB 256GB SSD...   £399.97    8.8   \n",
       "9   ASUS Vivobook X712JA Core i3-1005G1 8GB 1TB 17...   £397.97    n/a   \n",
       "10  Lenovo ThinkBook 15 Core i5-1035G1 8GB 256GB S...   £679.97    8.8   \n",
       "11  ASUS M415DA AMD Ryzen 5 3500U 8GB 256GB SSD 14...   £429.97      9   \n",
       "12  Dell Latitude 3510 Core i5-10210U 8GB 256GB SS...   £709.97    8.7   \n",
       "13  Lenovo V15 Althlon Silver 3050U 4GB 128GB SSD ...   £299.97    8.7   \n",
       "14  HP 250 G7 Core i5-1035G1 8GB 256GB SSD 15.6 In...   £599.97    8.8   \n",
       "15  Lenovo Legion 5 AMD Ryzen 7-5800H 16GB 512GB S...  £1294.97      9   \n",
       "16  Asus Vivobook 14  Core i3-1005G1 8GB 256GB SSD...   £399.97    n/a   \n",
       "17  HP 250 G8 Core i5-1035G1 8GB 256GB SSD 15.6 In...   £729.97    8.8   \n",
       "18  HP 255 G7 Ryzen 3 3200U 8GB 256GB SSD 15.6 Inc...   £529.97    6.5   \n",
       "19  Asus Vivobook Core i5-1035G1 8GB 256GB SSD 14 ...   £429.97      8   \n",
       "20  Lenovo ThinkBook 14 Gen 2 Core i7-1165 16GB 51...   £799.97    9.5   \n",
       "21  Acer Aspire 7 A715-75G Core i5-9300H 8GB 512GB...   £599.97    9.2   \n",
       "22  HP 255 G8 AMD Ryzen 5-3500U 8GB 256GB SSD 15 I...   £509.97    8.7   \n",
       "23  HP 250 G8 Core i7-1065G7 8GB 256GB SSD 15.6 In...   £769.97      8   \n",
       "24  HP ProBook 450 G8 Core i5-1135G7 8GB 256GB SSD...   £754.97      9   \n",
       "25  Asus VivoBook R429MA-BV286TS Celeron N4000 4GB...   £199.97    8.6   \n",
       "26  Acer TravelMate P2 Core i5-10210U 8GB 256GB SS...   £607.97      8   \n",
       "27  Refurbished HP EliteBook 840 G1 Ultrabook Core...   £359.97    9.2   \n",
       "28  ASUS ZenBook 14 with Screen Pad Core i7-10510U...   £829.97    n/a   \n",
       "29  HP 250 G7 Core i5-1035G1 8GB 256GB SSD 15.6 In...   £747.97    8.4   \n",
       "30  Lenovo Legion 5 AMD Ryzen 5 15.6 Inch Full HD ...   £969.97      9   \n",
       "31  HP ZBook Firefly 15 G7 Core i7-10510U 16GB 512...  £1394.97    8.8   \n",
       "32  Lenovo ThinkBook 14 Gen 2  Ryzen 7 4700 16GB 5...   £847.97    n/a   \n",
       "33  Lenovo V14-ADA AMD Ryzen 3 3250U 8 GB RAM 256 ...   £432.29      8   \n",
       "34  Lenovo V15-ADA AMD Ryzen 5-3500U 8GB 256GB SSD...   £619.97      9   \n",
       "35  Dell Vostro 5502 Core i5-1135G7 8GB 256GB SSD ...   £679.97    n/a   \n",
       "36  Acer Aspire 5 Core i5-1035G1 8GB 512GB SSD 15....   £529.97    n/a   \n",
       "37  Dell Vostro 3501 Core i3-1115G4 8GB 256GB SSD ...   £569.97    n/a   \n",
       "38  Lenovo ThinkBook 15 Gen 2 Core i5-1135 8GB 256...   £589.97    8.2   \n",
       "39  HP ProBook 450 G7 Core i5-10210U 8GB 256GB SSD...   £739.97    9.3   \n",
       "40  Refurbished HP Stream 11-ak0506sa Intel Celero...   £139.97    n/a   \n",
       "41  Acer Swift 3 SF314-59 Core i5-1135G7 8GB 256GB...   £499.97    8.9   \n",
       "42  Dell Latitude 3410 Core i5-10210U 8GB 256GB SS...   £679.97    8.4   \n",
       "43  Asus C223NA Intel Celeron N3350 4GB 32GB eMMC ...   £177.97      8   \n",
       "44  ACER Nitro 5 AMD Ryzen 7 5800H 16 GB 1024GB SS...  £1149.97    9.1   \n",
       "45  Lenovo ThinkPad P15s Core i7-1165G7 16GB 512GB...  £1410.97    n/a   \n",
       "46  Toshiba Dynabook Satellite Pro R50-EC-11J Core...   £469.97    9.7   \n",
       "47  Lenovo Thinkbook 13 Core i5-10210U 8GB 256GB S...   £542.98    8.8   \n",
       "\n",
       "   Review Count                                               Link  \\\n",
       "0            40  https://www.laptopsdirect.co.uk/-core-i5-1035g...   \n",
       "1           890  https://www.laptopsdirect.co.uk/lenovo-v15-iil...   \n",
       "2            25  https://www.laptopsdirect.co.uk/coda-340-core-...   \n",
       "3           n/a  https://www.laptopsdirect.co.uk/asus-c223na-in...   \n",
       "4           n/a  https://www.laptopsdirect.co.uk/refurbished-le...   \n",
       "5            10  https://www.laptopsdirect.co.uk/-c523na-br0067...   \n",
       "6            29  https://www.laptopsdirect.co.uk/lenovo-v14-ada...   \n",
       "7            77  https://www.laptopsdirect.co.uk/msi-gf63-thin-...   \n",
       "8            22  https://www.laptopsdirect.co.uk/lenovo-v14-ada...   \n",
       "9           n/a  https://www.laptopsdirect.co.uk/asus-vivobook-...   \n",
       "10          101  https://www.laptopsdirect.co.uk/lenovo-thinkbo...   \n",
       "11            6  https://www.laptopsdirect.co.uk/asus-amd-ryzen...   \n",
       "12           20  https://www.laptopsdirect.co.uk/dell-latitude-...   \n",
       "13          890  https://www.laptopsdirect.co.uk/lenovo-v15-alt...   \n",
       "14          260  https://www.laptopsdirect.co.uk/hp-250-g7-core...   \n",
       "15           30  https://www.laptopsdirect.co.uk/lenovo-legion-...   \n",
       "16          n/a  https://www.laptopsdirect.co.uk/asus-core-i3-1...   \n",
       "17          260  https://www.laptopsdirect.co.uk/hp-250-g8-core...   \n",
       "18            4  https://www.laptopsdirect.co.uk/hp-255-g7-ryze...   \n",
       "19            1  https://www.laptopsdirect.co.uk/asus-vivobook-...   \n",
       "20            2  https://www.laptopsdirect.co.uk/lenovo-thinkbo...   \n",
       "21            9  https://www.laptopsdirect.co.uk/acer-aspire-7-...   \n",
       "22            6  https://www.laptopsdirect.co.uk/hp-255-g8-amd-...   \n",
       "23            1  https://www.laptopsdirect.co.uk/hp-250-g8-core...   \n",
       "24            1  https://www.laptopsdirect.co.uk/hp-probook-450...   \n",
       "25           12  https://www.laptopsdirect.co.uk/asus-cloudbook...   \n",
       "26            1  https://www.laptopsdirect.co.uk/acer-travelmat...   \n",
       "27           27  https://www.laptopsdirect.co.uk/refurbished-hp...   \n",
       "28          n/a  https://www.laptopsdirect.co.uk/asus-zenbook-1...   \n",
       "29           14  https://www.laptopsdirect.co.uk/hp-250-g7-core...   \n",
       "30           30  https://www.laptopsdirect.co.uk/lenovo-legion-...   \n",
       "31            4  https://www.laptopsdirect.co.uk/hp-zbook-firef...   \n",
       "32          n/a  https://www.laptopsdirect.co.uk/lenovo-thinkbo...   \n",
       "33            1  https://www.laptopsdirect.co.uk/lenovo-v14-ada...   \n",
       "34            4  https://www.laptopsdirect.co.uk/lenovo-v15-ada...   \n",
       "35          n/a  https://www.laptopsdirect.co.uk/-cmtwc/version...   \n",
       "36          n/a  https://www.laptopsdirect.co.uk/acer-aspire-5-...   \n",
       "37          n/a  https://www.laptopsdirect.co.uk/dell-vostro-35...   \n",
       "38           15  https://www.laptopsdirect.co.uk/lenovo-thinkbo...   \n",
       "39            3  https://www.laptopsdirect.co.uk/hewlett-packar...   \n",
       "40          n/a  https://www.laptopsdirect.co.uk/refurbished-hp...   \n",
       "41           15  https://www.laptopsdirect.co.uk/acer-swift-3-s...   \n",
       "42           13  https://www.laptopsdirect.co.uk/dell-lati-3410...   \n",
       "43          194  https://www.laptopsdirect.co.uk/asus-chromeboo...   \n",
       "44           11  https://www.laptopsdirect.co.uk/acer-nitro-5-a...   \n",
       "45          n/a  https://www.laptopsdirect.co.uk/lenovo-thinkpa...   \n",
       "46            7  https://www.laptopsdirect.co.uk/toshiba-dynabo...   \n",
       "47           36  https://www.laptopsdirect.co.uk/lenovo-thinkbo...   \n",
       "\n",
       "                                              Details  \n",
       "0   Iris Xe Graphics Graphics card, Intel Core i5 ...  \n",
       "1   UHD Graphics 620 Graphics card, Intel Core i5 ...  \n",
       "2   UHD Graphics 620 Graphics card, Intel Core i3 ...  \n",
       "3   Intel Celeron N3350 Processor, 11.6 Inch 1366 ...  \n",
       "4   Intel Celeron N2940 Processor, 11.6 Inch 1366 ...  \n",
       "5   Intel Celeron N3350 Processor, 15.6 Inch 1366 ...  \n",
       "6   Radeon Graphics Graphics card, Athlon Gold 315...  \n",
       "7   GeForce GTX 1650 Ti 4GB Graphics card, Intel C...  \n",
       "8   Radeon Graphics Graphics card, AMD Ryzen 3 325...  \n",
       "9   UHD Graphics 620 Graphics card, Intel Core i3 ...  \n",
       "10  Iris Xe Graphics Graphics card, Intel Core i5 ...  \n",
       "11  AMD Ryzen 5 3500U Processor, 14 Inch Full HD S...  \n",
       "12  Intel Core i5 10210U Processor, 15.6 Inch Full...  \n",
       "13  Radeon Graphics Graphics card, Athlon Silver 3...  \n",
       "14  UHD Graphics 620 Graphics card, Intel Core i5 ...  \n",
       "15  GeForce RTX 3070 8GB Graphics card, AMD Ryzen ...  \n",
       "16  UHD Graphics 620 Graphics card, Intel Core i3 ...  \n",
       "17  UHD Graphics 620 Graphics card, Intel Core i5 ...  \n",
       "18  Radeon Graphics Graphics card, AMD Ryzen 3 320...  \n",
       "19  UHD Graphics 620 Graphics card, Intel Core i5 ...  \n",
       "20  Iris Xe Graphics Graphics card, Intel Core i7 ...  \n",
       "21  GeForce GTX 1650 Ti 4GB Graphics card, Intel C...  \n",
       "22  Radeon Graphics Graphics card, AMD Ryzen 5 350...  \n",
       "23  UHD Graphics 620 Graphics card, Intel Core i7 ...  \n",
       "24  UHD Graphics 620 Graphics card, Intel Core i5 ...  \n",
       "25  UHD Graphics 620 Graphics card, Intel Celeron ...  \n",
       "26  UHD Graphics 620 Graphics card, Intel Core i5 ...  \n",
       "27  Intel Core i5 4200U Processor, 14 Inch 1366 x ...  \n",
       "28  GeForce MX 350 2GB Graphics card, Intel Core i...  \n",
       "29  UHD Graphics 620 Graphics card, Intel Core i5 ...  \n",
       "30  GeForce RTX 3060 6GB Graphics card, AMD Ryzen ...  \n",
       "31  Quadro P520 4GB Graphics card, Intel Core i7 1...  \n",
       "32  Radeon Graphics Graphics card, AMD Ryzen 7 470...  \n",
       "33  Radeon Graphics Graphics card, AMD Ryzen 3 325...  \n",
       "34  Radeon Graphics Graphics card, AMD Ryzen 5 350...  \n",
       "35  UHD Graphics 620 Graphics card, Intel Core i5 ...  \n",
       "36  UHD Graphics 620 Graphics card, Intel Core i5 ...  \n",
       "37  UHD Graphics 620 Graphics card, Intel Core i3 ...  \n",
       "38  Iris Xe Graphics Graphics card, Intel Core i5 ...  \n",
       "39  UHD Graphics 620 Graphics card, Intel Core i5 ...  \n",
       "40  Intel Celeron N4020 Processor, 11.6 Inch 1366 ...  \n",
       "41  Iris Xe Graphics Graphics card, Intel Core i5 ...  \n",
       "42  UHD Graphics 620 Graphics card, Intel Core i5 ...  \n",
       "43  Intel Celeron N3350 Processor, 11.6 Inch 1366 ...  \n",
       "44  GeForce RTX 3060 6GB Graphics card, AMD Ryzen ...  \n",
       "45  Quadro T500 4GB Graphics card, Intel Core i7 1...  \n",
       "46  UHD Graphics 620 Graphics card, Intel Core i3 ...  \n",
       "47  Iris Xe Graphics Graphics card, Intel Core i5 ...  "
      ]
     },
     "execution_count": 175,
     "metadata": {},
     "output_type": "execute_result"
    }
   ],
   "source": [
    "product_overview"
   ]
  },
  {
   "cell_type": "markdown",
   "metadata": {},
   "source": [
    "### Output in Excel"
   ]
  },
  {
   "cell_type": "code",
   "execution_count": 176,
   "metadata": {},
   "outputs": [],
   "source": [
    "product_overview.to_excel('Laptops_.xlsx', index=False)"
   ]
  },
  {
   "cell_type": "code",
   "execution_count": null,
   "metadata": {},
   "outputs": [],
   "source": []
  },
  {
   "cell_type": "markdown",
   "metadata": {},
   "source": [
    "### Part 2 - Pagination - Scrape 20 Pages"
   ]
  },
  {
   "cell_type": "code",
   "execution_count": 181,
   "metadata": {},
   "outputs": [],
   "source": [
    "product_name = []\n",
    "product_price = []\n",
    "review_rating = []\n",
    "review_count = []\n",
    "relative_url = []\n",
    "product_details = []\n",
    "\n",
    "for i in range (1,21):\n",
    "    \n",
    "    # website in variable\n",
    "    website = 'https://www.laptopsdirect.co.uk/ct/laptops-and-netbooks/laptops?pageNumber=' + str(i)\n",
    "    \n",
    "    # request\n",
    "    response = requests.get(website)\n",
    "    \n",
    "    # soup object\n",
    "    soup = BeautifulSoup(response.content, 'html.parser')\n",
    "    \n",
    "    # results\n",
    "    results = soup.find_all('div', {'class':'OfferBox'})\n",
    "    \n",
    "    # loop through results\n",
    "    for result in results:\n",
    "\n",
    "        # name\n",
    "        try:\n",
    "            product_name.append(result.find('a', {'class':'offerboxtitle'}).get_text()) \n",
    "        except:\n",
    "            product_name.append('n/a')\n",
    "\n",
    "        # price\n",
    "        try:\n",
    "            product_price.append(result.find('span', {'class':'offerprice'}).get_text())\n",
    "        except:\n",
    "            product_price.append('n/a')\n",
    "\n",
    "        # review rating\n",
    "        try:\n",
    "            review_rating.append(result.find('star-rating').get('rating-value'))\n",
    "        except:\n",
    "            review_rating.append('n/a')\n",
    "\n",
    "        # review count\n",
    "        try:\n",
    "            review_count.append(result.find('star-rating').get('ratings-count'))\n",
    "        except:\n",
    "            review_count.append('n/a')\n",
    "\n",
    "        # relative URL\n",
    "        try:\n",
    "            relative_url.append(result.find('a', {'class':'offerboxtitle'}).get('href'))\n",
    "        except:\n",
    "            relative_url.append('n/a')\n",
    "\n",
    "        #product details\n",
    "        try:\n",
    "            product_details.append(result.find('div', {'class':'productInfo'}).get_text().strip().replace('\\n',', '))\n",
    "        except:\n",
    "            product_details.append('n/a')"
   ]
  },
  {
   "cell_type": "code",
   "execution_count": 185,
   "metadata": {},
   "outputs": [],
   "source": [
    "url_combined = []\n",
    "\n",
    "for link in relative_url:\n",
    "    url_combined.append(urllib.parse.urljoin(root_url, link))"
   ]
  },
  {
   "cell_type": "code",
   "execution_count": 186,
   "metadata": {},
   "outputs": [],
   "source": [
    "product_overview = pd.DataFrame({'Name': product_name, 'Price':product_price, 'Rating':review_rating,\n",
    "                                'Review Count': review_count, 'Link': url_combined, 'Details': product_details})"
   ]
  },
  {
   "cell_type": "code",
   "execution_count": 187,
   "metadata": {},
   "outputs": [
    {
     "data": {
      "text/html": [
       "<div>\n",
       "<style scoped>\n",
       "    .dataframe tbody tr th:only-of-type {\n",
       "        vertical-align: middle;\n",
       "    }\n",
       "\n",
       "    .dataframe tbody tr th {\n",
       "        vertical-align: top;\n",
       "    }\n",
       "\n",
       "    .dataframe thead th {\n",
       "        text-align: right;\n",
       "    }\n",
       "</style>\n",
       "<table border=\"1\" class=\"dataframe\">\n",
       "  <thead>\n",
       "    <tr style=\"text-align: right;\">\n",
       "      <th></th>\n",
       "      <th>Name</th>\n",
       "      <th>Price</th>\n",
       "      <th>Rating</th>\n",
       "      <th>Review Count</th>\n",
       "      <th>Link</th>\n",
       "      <th>Details</th>\n",
       "    </tr>\n",
       "  </thead>\n",
       "  <tbody>\n",
       "    <tr>\n",
       "      <th>0</th>\n",
       "      <td>Medion Akoya E15407 Core i5-1035G1 8GB 256GB S...</td>\n",
       "      <td>£449.97</td>\n",
       "      <td>8.1</td>\n",
       "      <td>40</td>\n",
       "      <td>https://www.laptopsdirect.co.uk/-core-i5-1035g...</td>\n",
       "      <td>Iris Xe Graphics Graphics card, Intel Core i5 ...</td>\n",
       "    </tr>\n",
       "    <tr>\n",
       "      <th>1</th>\n",
       "      <td>Lenovo V15-IIL Core i5-1035G1 8GB 256GB SSD 15...</td>\n",
       "      <td>£529.97</td>\n",
       "      <td>8.7</td>\n",
       "      <td>890</td>\n",
       "      <td>https://www.laptopsdirect.co.uk/lenovo-v15-iil...</td>\n",
       "      <td>UHD Graphics 620 Graphics card, Intel Core i5 ...</td>\n",
       "    </tr>\n",
       "    <tr>\n",
       "      <th>2</th>\n",
       "      <td>CODA 3.4 Core i3-6157U 4GB 128GB SSD 14.1 Inch...</td>\n",
       "      <td>£269.97</td>\n",
       "      <td>7.6</td>\n",
       "      <td>25</td>\n",
       "      <td>https://www.laptopsdirect.co.uk/coda-340-core-...</td>\n",
       "      <td>UHD Graphics 620 Graphics card, Intel Core i3 ...</td>\n",
       "    </tr>\n",
       "    <tr>\n",
       "      <th>3</th>\n",
       "      <td>Asus C223NA Intel Celeron N3350 4GB 32GB eMMC ...</td>\n",
       "      <td>£177.97</td>\n",
       "      <td>n/a</td>\n",
       "      <td>n/a</td>\n",
       "      <td>https://www.laptopsdirect.co.uk/asus-c223na-in...</td>\n",
       "      <td>Intel Celeron N3350 Processor, 11.6 Inch 1366 ...</td>\n",
       "    </tr>\n",
       "    <tr>\n",
       "      <th>4</th>\n",
       "      <td>Refurbished Lenovo Yoga 11e Intel Celeron N294...</td>\n",
       "      <td>£119.97</td>\n",
       "      <td>n/a</td>\n",
       "      <td>n/a</td>\n",
       "      <td>https://www.laptopsdirect.co.uk/refurbished-le...</td>\n",
       "      <td>Intel Celeron N2940 Processor, 11.6 Inch 1366 ...</td>\n",
       "    </tr>\n",
       "    <tr>\n",
       "      <th>...</th>\n",
       "      <td>...</td>\n",
       "      <td>...</td>\n",
       "      <td>...</td>\n",
       "      <td>...</td>\n",
       "      <td>...</td>\n",
       "      <td>...</td>\n",
       "    </tr>\n",
       "    <tr>\n",
       "      <th>474</th>\n",
       "      <td>Dell XPS 13 9310 Core i5-1135G7 8GB 256GB SSD ...</td>\n",
       "      <td>£1399.97</td>\n",
       "      <td>n/a</td>\n",
       "      <td>n/a</td>\n",
       "      <td>https://www.laptopsdirect.co.uk/dell-xps-13-93...</td>\n",
       "      <td>UHD Graphics 620 Graphics card, Intel Core i5 ...</td>\n",
       "    </tr>\n",
       "    <tr>\n",
       "      <th>475</th>\n",
       "      <td>Dell XPS 13 9310 Core i5-1135G7 8GB 512GB SSD ...</td>\n",
       "      <td>£1299.97</td>\n",
       "      <td>n/a</td>\n",
       "      <td>n/a</td>\n",
       "      <td>https://www.laptopsdirect.co.uk/dell-xps-13-93...</td>\n",
       "      <td>UHD Graphics 620 Graphics card, Intel Core i5 ...</td>\n",
       "    </tr>\n",
       "    <tr>\n",
       "      <th>476</th>\n",
       "      <td>Acer Travel Mate B3 Intel Celeron  N4020 4GB 6...</td>\n",
       "      <td>n/a</td>\n",
       "      <td>n/a</td>\n",
       "      <td>n/a</td>\n",
       "      <td>https://www.laptopsdirect.co.uk/acer-travel-ma...</td>\n",
       "      <td>UHD Graphics 620 Graphics card, Intel Celeron ...</td>\n",
       "    </tr>\n",
       "    <tr>\n",
       "      <th>477</th>\n",
       "      <td>Lenovo ThinkPad X1 Nano Gen 1 Core i7-1160G7 1...</td>\n",
       "      <td>£1979.97</td>\n",
       "      <td>9</td>\n",
       "      <td>1</td>\n",
       "      <td>https://www.laptopsdirect.co.uk/lenovo-thinkpa...</td>\n",
       "      <td>Iris Xe Graphics Graphics card, Intel Core i7 ...</td>\n",
       "    </tr>\n",
       "    <tr>\n",
       "      <th>478</th>\n",
       "      <td>Lenovo ThinkPad X1 Extreme Gen 3 Core i7-10750...</td>\n",
       "      <td>£2419.97</td>\n",
       "      <td>10</td>\n",
       "      <td>1</td>\n",
       "      <td>https://www.laptopsdirect.co.uk/lenovo-thinkpa...</td>\n",
       "      <td>GeForce GTX 1650 Ti 4GB Graphics card, Intel C...</td>\n",
       "    </tr>\n",
       "  </tbody>\n",
       "</table>\n",
       "<p>479 rows × 6 columns</p>\n",
       "</div>"
      ],
      "text/plain": [
       "                                                  Name     Price Rating  \\\n",
       "0    Medion Akoya E15407 Core i5-1035G1 8GB 256GB S...   £449.97    8.1   \n",
       "1    Lenovo V15-IIL Core i5-1035G1 8GB 256GB SSD 15...   £529.97    8.7   \n",
       "2    CODA 3.4 Core i3-6157U 4GB 128GB SSD 14.1 Inch...   £269.97    7.6   \n",
       "3    Asus C223NA Intel Celeron N3350 4GB 32GB eMMC ...   £177.97    n/a   \n",
       "4    Refurbished Lenovo Yoga 11e Intel Celeron N294...   £119.97    n/a   \n",
       "..                                                 ...       ...    ...   \n",
       "474  Dell XPS 13 9310 Core i5-1135G7 8GB 256GB SSD ...  £1399.97    n/a   \n",
       "475  Dell XPS 13 9310 Core i5-1135G7 8GB 512GB SSD ...  £1299.97    n/a   \n",
       "476  Acer Travel Mate B3 Intel Celeron  N4020 4GB 6...       n/a    n/a   \n",
       "477  Lenovo ThinkPad X1 Nano Gen 1 Core i7-1160G7 1...  £1979.97      9   \n",
       "478  Lenovo ThinkPad X1 Extreme Gen 3 Core i7-10750...  £2419.97     10   \n",
       "\n",
       "    Review Count                                               Link  \\\n",
       "0             40  https://www.laptopsdirect.co.uk/-core-i5-1035g...   \n",
       "1            890  https://www.laptopsdirect.co.uk/lenovo-v15-iil...   \n",
       "2             25  https://www.laptopsdirect.co.uk/coda-340-core-...   \n",
       "3            n/a  https://www.laptopsdirect.co.uk/asus-c223na-in...   \n",
       "4            n/a  https://www.laptopsdirect.co.uk/refurbished-le...   \n",
       "..           ...                                                ...   \n",
       "474          n/a  https://www.laptopsdirect.co.uk/dell-xps-13-93...   \n",
       "475          n/a  https://www.laptopsdirect.co.uk/dell-xps-13-93...   \n",
       "476          n/a  https://www.laptopsdirect.co.uk/acer-travel-ma...   \n",
       "477            1  https://www.laptopsdirect.co.uk/lenovo-thinkpa...   \n",
       "478            1  https://www.laptopsdirect.co.uk/lenovo-thinkpa...   \n",
       "\n",
       "                                               Details  \n",
       "0    Iris Xe Graphics Graphics card, Intel Core i5 ...  \n",
       "1    UHD Graphics 620 Graphics card, Intel Core i5 ...  \n",
       "2    UHD Graphics 620 Graphics card, Intel Core i3 ...  \n",
       "3    Intel Celeron N3350 Processor, 11.6 Inch 1366 ...  \n",
       "4    Intel Celeron N2940 Processor, 11.6 Inch 1366 ...  \n",
       "..                                                 ...  \n",
       "474  UHD Graphics 620 Graphics card, Intel Core i5 ...  \n",
       "475  UHD Graphics 620 Graphics card, Intel Core i5 ...  \n",
       "476  UHD Graphics 620 Graphics card, Intel Celeron ...  \n",
       "477  Iris Xe Graphics Graphics card, Intel Core i7 ...  \n",
       "478  GeForce GTX 1650 Ti 4GB Graphics card, Intel C...  \n",
       "\n",
       "[479 rows x 6 columns]"
      ]
     },
     "execution_count": 187,
     "metadata": {},
     "output_type": "execute_result"
    }
   ],
   "source": [
    "product_overview"
   ]
  },
  {
   "cell_type": "code",
   "execution_count": 188,
   "metadata": {},
   "outputs": [],
   "source": [
    "product_overview.to_excel('multiple-ecommerce-pages.xlsx', index=False)"
   ]
  }
 ],
 "metadata": {
  "kernelspec": {
   "display_name": "Python 3",
   "language": "python",
   "name": "python3"
  },
  "language_info": {
   "codemirror_mode": {
    "name": "ipython",
    "version": 3
   },
   "file_extension": ".py",
   "mimetype": "text/x-python",
   "name": "python",
   "nbconvert_exporter": "python",
   "pygments_lexer": "ipython3",
   "version": "3.7.13"
  }
 },
 "nbformat": 4,
 "nbformat_minor": 4
}
