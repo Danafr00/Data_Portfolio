{
 "cells": [
  {
   "cell_type": "code",
   "execution_count": 1,
   "metadata": {},
   "outputs": [
    {
     "name": "stdout",
     "output_type": "stream",
     "text": [
      "- Finish importing packages\n"
     ]
    }
   ],
   "source": [
    "# Import libraries and packages for the project \n",
    "\n",
    "from selenium import webdriver\n",
    "from selenium.webdriver.common.keys import Keys\n",
    "from bs4 import BeautifulSoup\n",
    "from time import sleep\n",
    "import csv\n",
    "import requests\n",
    "import pandas as pd\n",
    "import numpy as np\n",
    "import urllib.parse\n",
    "import time\n",
    "\n",
    "print('- Finish importing packages')"
   ]
  },
  {
   "cell_type": "code",
   "execution_count": 6,
   "metadata": {},
   "outputs": [
    {
     "name": "stderr",
     "output_type": "stream",
     "text": [
      "C:\\Users\\kana\\Anaconda3\\envs\\tensorflow_env\\lib\\site-packages\\ipykernel_launcher.py:4: DeprecationWarning: executable_path has been deprecated, please pass in a Service object\n",
      "  after removing the cwd from sys.path.\n"
     ]
    },
    {
     "name": "stdout",
     "output_type": "stream",
     "text": [
      "- Finish initializing a driver\n",
      "- Finish importing the login credentials\n"
     ]
    },
    {
     "name": "stderr",
     "output_type": "stream",
     "text": [
      "C:\\Users\\kana\\Anaconda3\\envs\\tensorflow_env\\lib\\site-packages\\ipykernel_launcher.py:20: DeprecationWarning: find_element_by_* commands are deprecated. Please use find_element() instead\n"
     ]
    },
    {
     "name": "stdout",
     "output_type": "stream",
     "text": [
      "- Finish keying in email\n"
     ]
    },
    {
     "name": "stderr",
     "output_type": "stream",
     "text": [
      "C:\\Users\\kana\\Anaconda3\\envs\\tensorflow_env\\lib\\site-packages\\ipykernel_launcher.py:25: DeprecationWarning: find_element_by_* commands are deprecated. Please use find_element() instead\n"
     ]
    },
    {
     "name": "stdout",
     "output_type": "stream",
     "text": [
      "- Finish keying in password\n"
     ]
    },
    {
     "name": "stderr",
     "output_type": "stream",
     "text": [
      "C:\\Users\\kana\\Anaconda3\\envs\\tensorflow_env\\lib\\site-packages\\ipykernel_launcher.py:31: DeprecationWarning: find_element_by_* commands are deprecated. Please use find_element() instead\n"
     ]
    },
    {
     "name": "stdout",
     "output_type": "stream",
     "text": [
      "- Finish Task 1: Login to Linkedin\n"
     ]
    }
   ],
   "source": [
    "# Task 1: Login to Linkedin\n",
    "\n",
    "# Task 1.1: Open Chrome and Access Linkedin login site\n",
    "driver = webdriver.Edge(executable_path= r'C:\\Users\\kana\\Documents\\Portofolio\\Python\\Data Scraping\\Web Driver\\edgedriver_win64\\msedgedriver.exe')\n",
    "sleep(2)\n",
    "url = 'https://www.linkedin.com/login'\n",
    "driver.get(url)\n",
    "print('- Finish initializing a driver')\n",
    "sleep(2)\n",
    "\n",
    "# Task 1.2: Import username and password\n",
    "credential = open('credentials.txt')\n",
    "line = credential.readlines()\n",
    "username = line[0]\n",
    "password = line[1]\n",
    "print('- Finish importing the login credentials')\n",
    "sleep(2)\n",
    "\n",
    "# Task 1.2: Key in login credentials\n",
    "email_field = driver.find_element_by_id('username')\n",
    "email_field.send_keys(username)\n",
    "print('- Finish keying in email')\n",
    "sleep(3)\n",
    "\n",
    "password_field = driver.find_element_by_name('session_password')\n",
    "password_field.send_keys(password)\n",
    "print('- Finish keying in password')\n",
    "sleep(3)\n",
    "\n",
    "# Task 1.2: Click the Login button\n",
    "signin_field = driver.find_element_by_xpath('//*[@id=\"organic-div\"]/form/div[3]/button')\n",
    "signin_field.click()\n",
    "sleep(3)\n",
    "\n",
    "print('- Finish Task 1: Login to Linkedin')"
   ]
  },
  {
   "cell_type": "code",
   "execution_count": 11,
   "metadata": {},
   "outputs": [
    {
     "name": "stderr",
     "output_type": "stream",
     "text": [
      "C:\\Users\\kana\\Anaconda3\\envs\\tensorflow_env\\lib\\site-packages\\ipykernel_launcher.py:3: DeprecationWarning: find_element_by_* commands are deprecated. Please use find_element() instead\n",
      "  This is separate from the ipykernel package so we can avoid doing imports until\n",
      "C:\\Users\\kana\\Anaconda3\\envs\\tensorflow_env\\lib\\site-packages\\ipykernel_launcher.py:7: DeprecationWarning: find_element_by_* commands are deprecated. Please use find_element() instead\n",
      "  import sys\n"
     ]
    },
    {
     "name": "stdout",
     "output_type": "stream",
     "text": [
      "What profile do you want to scrape? software engineer\n"
     ]
    },
    {
     "name": "stderr",
     "output_type": "stream",
     "text": [
      "C:\\Users\\kana\\Anaconda3\\envs\\tensorflow_env\\lib\\site-packages\\ipykernel_launcher.py:16: DeprecationWarning: find_element_by_* commands are deprecated. Please use find_element() instead\n",
      "  app.launch_new_instance()\n"
     ]
    },
    {
     "name": "stdout",
     "output_type": "stream",
     "text": [
      "- Finish Task 2: Search for profiles\n"
     ]
    }
   ],
   "source": [
    "# Task 2: Search for the profile we want to crawl\n",
    "\n",
    "search = driver.find_element_by_xpath('//*[@id=\"global-nav-search\"]/div/button')\n",
    "search.click()\n",
    "\n",
    "# Task 2.1: Locate the search bar element\n",
    "search_field = driver.find_element_by_xpath('//*[@id=\"global-nav-typeahead\"]/input')\n",
    "\n",
    "# Task 2.2: Input the search query to the search bar\n",
    "search_query = input('What profile do you want to scrape? ')\n",
    "search_field.send_keys(search_query)\n",
    "\n",
    "# Task 2.3: Search\n",
    "search_field.send_keys(Keys.RETURN)\n",
    "\n",
    "search_person = driver.find_element_by_xpath('//*[@id=\"search-reusables__filters-bar\"]/ul/li[2]/button')\n",
    "search_person.click()\n",
    "\n",
    "print('- Finish Task 2: Search for profiles')"
   ]
  },
  {
   "cell_type": "code",
   "execution_count": 13,
   "metadata": {},
   "outputs": [
    {
     "name": "stdout",
     "output_type": "stream",
     "text": [
      "How many pages you want to scrape: 2\n"
     ]
    },
    {
     "name": "stderr",
     "output_type": "stream",
     "text": [
      "C:\\Users\\kana\\Anaconda3\\envs\\tensorflow_env\\lib\\site-packages\\ipykernel_launcher.py:24: DeprecationWarning: find_element_by_* commands are deprecated. Please use find_element() instead\n"
     ]
    },
    {
     "name": "stdout",
     "output_type": "stream",
     "text": [
      "- Finish Task 3: Scrape the URLs\n"
     ]
    }
   ],
   "source": [
    "# Task 3: Scrape the URLs of the profiles\n",
    "\n",
    "# Task 3.1: Write a function to extract the URLs of one page\n",
    "def GetURL():\n",
    "    page_source = BeautifulSoup(driver.page_source)\n",
    "    profiles = page_source.find_all('a', {'class':'app-aware-link'})\n",
    "    all_profile_URL = []\n",
    "    for profile in profiles:\n",
    "        profile_ID = profile.get('href')\n",
    "        profile_URL = profile_ID\n",
    "        if profile_URL not in all_profile_URL:\n",
    "            all_profile_URL.append(profile_URL)\n",
    "    return all_profile_URL\n",
    "\n",
    "# Task 3.2: Navigate through many page, and extract the profile URLs of each page\n",
    "\n",
    "input_page = int(input('How many pages you want to scrape: '))\n",
    "URLs_all_page = []\n",
    "for page in range(input_page):\n",
    "    URLs_one_page = GetURL()\n",
    "    sleep(2)\n",
    "    driver.execute_script('window.scrollTo(0, document.body.scrollHeight);') #scroll to the end of the page\n",
    "    sleep(3)\n",
    "    next_button = driver.find_element_by_class_name(\"artdeco-pagination__button--next\")\n",
    "    driver.execute_script(\"arguments[0].click();\", next_button)\n",
    "    URLs_all_page = URLs_all_page + URLs_one_page\n",
    "    sleep(2)\n",
    "\n",
    "print('- Finish Task 3: Scrape the URLs')"
   ]
  },
  {
   "cell_type": "code",
   "execution_count": 14,
   "metadata": {},
   "outputs": [
    {
     "data": {
      "text/plain": [
       "['https://www.linkedin.com/feed/?nis=true&',\n",
       " 'https://www.linkedin.com/mynetwork/?',\n",
       " 'https://www.linkedin.com/jobs/?',\n",
       " 'https://www.linkedin.com/messaging/?',\n",
       " 'https://www.linkedin.com/notifications/?',\n",
       " 'https://www.linkedin.com/in/rachmad-hartono-937823140?miniProfileUrn=urn%3Ali%3Afs_miniProfile%3AACoAACJLG3sBbos5GUtkuI3-9crnbRY0ubJH8Nk',\n",
       " 'https://www.linkedin.com/in/ACoAACQjyxkBA0etUEz2OOLdxKYSXlx8V8wAneE?miniProfileUrn=urn%3Ali%3Afs_miniProfile%3AACoAACQjyxkBA0etUEz2OOLdxKYSXlx8V8wAneE',\n",
       " 'https://www.linkedin.com/in/ACoAAC3sZCkBwFL0EdUJu7Swqp7_xuxMPjBuhrM?miniProfileUrn=urn%3Ali%3Afs_miniProfile%3AACoAAC3sZCkBwFL0EdUJu7Swqp7_xuxMPjBuhrM',\n",
       " 'https://www.linkedin.com/in/abdussalam-faqih?miniProfileUrn=urn%3Ali%3Afs_miniProfile%3AACoAACr1L4gBVXzrNIzs-NZ3pf7Fw_ixb7Aijq4',\n",
       " 'https://www.linkedin.com/in/wikanrahmantyo?miniProfileUrn=urn%3Ali%3Afs_miniProfile%3AACoAACkjhqsBg-rgWhWtkMSOqkPdOGDTa4KD7QM',\n",
       " 'https://www.linkedin.com/in/ACoAACi3vxMB95GxhzhCJd14LDDCeSYZzMbrHlo?miniProfileUrn=urn%3Ali%3Afs_miniProfile%3AACoAACi3vxMB95GxhzhCJd14LDDCeSYZzMbrHlo',\n",
       " 'https://www.linkedin.com/in/ezra-alvansga-6b6b76187?miniProfileUrn=urn%3Ali%3Afs_miniProfile%3AACoAACwiF2oBuIkyhbegBTUoDabTPOIEef4sLnM',\n",
       " 'https://www.linkedin.com/in/hidayat-eko-saputro?miniProfileUrn=urn%3Ali%3Afs_miniProfile%3AACoAACxyXwMBXi-3EQJGGSjkZ50hD0Vi-UaXx58',\n",
       " 'https://www.linkedin.com/in/ACoAABkksw4BwdpyOqtI8OHwqx7dZiN6hwm0Md0?miniProfileUrn=urn%3Ali%3Afs_miniProfile%3AACoAABkksw4BwdpyOqtI8OHwqx7dZiN6hwm0Md0',\n",
       " 'https://www.linkedin.com/in/ACoAACN2q2EBsRh4cT6BTf-E6ITIa6Ajr0yEqRA?miniProfileUrn=urn%3Ali%3Afs_miniProfile%3AACoAACN2q2EBsRh4cT6BTf-E6ITIa6Ajr0yEqRA',\n",
       " 'https://www.linkedin.com/search/results/people/?facetNetwork=%5B%22F%22%5D&facetConnectionOf=%5B%22ACoAACxyXwMBXi-3EQJGGSjkZ50hD0Vi-UaXx58%22%5D&origin=SHARED_CONNECTIONS_CANNED_SEARCH',\n",
       " 'https://www.linkedin.com/in/rexy-dwy-brundy-21473b159?miniProfileUrn=urn%3Ali%3Afs_miniProfile%3AACoAACYEonAB9zPgvWm9LVrM3B0b9Qf9BoqVBHc',\n",
       " 'https://www.linkedin.com/in/ACoAAAyS9oYB3rvtPA3QDw9NecW1kw_6eOX0mOI?miniProfileUrn=urn%3Ali%3Afs_miniProfile%3AACoAAAyS9oYB3rvtPA3QDw9NecW1kw_6eOX0mOI',\n",
       " 'https://www.linkedin.com/in/buigun?miniProfileUrn=urn%3Ali%3Afs_miniProfile%3AACoAACDDwtkBgyRWIBF5jKFUIRFZWFsbc9LMrWc',\n",
       " 'https://www.linkedin.com/in/ACoAAAjCrQYB-dU0UAtj7wUBs1tEvc4Omglx03E?miniProfileUrn=urn%3Ali%3Afs_miniProfile%3AACoAAAjCrQYB-dU0UAtj7wUBs1tEvc4Omglx03E',\n",
       " 'https://www.linkedin.com/in/adityanuar?miniProfileUrn=urn%3Ali%3Afs_miniProfile%3AACoAAAnEmiUBh8pPvT5cWC2wU8qXmq_enKR9EwU',\n",
       " 'https://www.linkedin.com/in/ACoAAAZ0kxMBHUl1f8XCAWgRdEqSRPANdZflIbo?miniProfileUrn=urn%3Ali%3Afs_miniProfile%3AACoAAAZ0kxMBHUl1f8XCAWgRdEqSRPANdZflIbo',\n",
       " 'https://www.linkedin.com/in/ACoAAC41HjQBnTntuOG6gAmSecHsxghb62bkFXY?miniProfileUrn=urn%3Ali%3Afs_miniProfile%3AACoAAC41HjQBnTntuOG6gAmSecHsxghb62bkFXY',\n",
       " 'https://www.linkedin.com/in/muhammad-fajri-azka?miniProfileUrn=urn%3Ali%3Afs_miniProfile%3AACoAAChWj3UB7ZhqT0HALpJisIFGJx_OK5-PgBA',\n",
       " 'https://www.linkedin.com/in/ACoAAAH682UBOuOUhsMrNJbPFWOam5ukJwFApYs?miniProfileUrn=urn%3Ali%3Afs_miniProfile%3AACoAAAH682UBOuOUhsMrNJbPFWOam5ukJwFApYs',\n",
       " 'https://www.linkedin.com/in/muhammad-dhiaulhaq?miniProfileUrn=urn%3Ali%3Afs_miniProfile%3AACoAACQjvnYBjKidADHButR_W6ye4VvtvRGt3ng',\n",
       " 'https://www.linkedin.com/in/ACoAAB-A2IQBOA7iL8L87EmTlnWV0p9P-WEbrjE?miniProfileUrn=urn%3Ali%3Afs_miniProfile%3AACoAAB-A2IQBOA7iL8L87EmTlnWV0p9P-WEbrjE',\n",
       " 'https://www.linkedin.com/search/results/people/?facetNetwork=%5B%22F%22%5D&facetConnectionOf=%5B%22ACoAACQjvnYBjKidADHButR_W6ye4VvtvRGt3ng%22%5D&origin=SHARED_CONNECTIONS_CANNED_SEARCH',\n",
       " 'https://www.linkedin.com/feed/?nis=true&',\n",
       " 'https://www.linkedin.com/mynetwork/?',\n",
       " 'https://www.linkedin.com/jobs/?',\n",
       " 'https://www.linkedin.com/messaging/?',\n",
       " 'https://www.linkedin.com/notifications/?',\n",
       " 'https://www.linkedin.com/in/amilio-asmaramis-7129b3142?miniProfileUrn=urn%3Ali%3Afs_miniProfile%3AACoAACKs3z4BCFrSTvsFFGnNh5wrVQ7L_MVruj4',\n",
       " 'https://www.linkedin.com/in/ACoAAC3sZCkBwFL0EdUJu7Swqp7_xuxMPjBuhrM?miniProfileUrn=urn%3Ali%3Afs_miniProfile%3AACoAAC3sZCkBwFL0EdUJu7Swqp7_xuxMPjBuhrM',\n",
       " 'https://www.linkedin.com/in/christiansoetanto?miniProfileUrn=urn%3Ali%3Afs_miniProfile%3AACoAACih5sQBc14m4nS2XXYfvUFwylf2AdMcIow',\n",
       " 'https://www.linkedin.com/in/ACoAAAjCrQYB-dU0UAtj7wUBs1tEvc4Omglx03E?miniProfileUrn=urn%3Ali%3Afs_miniProfile%3AACoAAAjCrQYB-dU0UAtj7wUBs1tEvc4Omglx03E',\n",
       " 'https://www.linkedin.com/in/budiprihhastomo?miniProfileUrn=urn%3Ali%3Afs_miniProfile%3AACoAAC4gKjcBpMXRr4IEhtSOvtkBbBi-6R575HA',\n",
       " 'https://www.linkedin.com/in/fariz-akbar?miniProfileUrn=urn%3Ali%3Afs_miniProfile%3AACoAACjNH1QBMS8NEZa6Aw5VAODJXxMf5AAPdb0',\n",
       " 'https://www.linkedin.com/in/kristiawan-devianto-65a27b201?miniProfileUrn=urn%3Ali%3Afs_miniProfile%3AACoAADN5rOYBmMN1FEkyZA2vcrrXdC-8iPbmCyM',\n",
       " 'https://www.linkedin.com/in/hanif-khoirul-fathansyah-513839171?miniProfileUrn=urn%3Ali%3Afs_miniProfile%3AACoAACjhYp8BKhDpJGyRlNevEqsB11_kmgMJse4',\n",
       " 'https://www.linkedin.com/in/ACoAAB-A2IQBOA7iL8L87EmTlnWV0p9P-WEbrjE?miniProfileUrn=urn%3Ali%3Afs_miniProfile%3AACoAAB-A2IQBOA7iL8L87EmTlnWV0p9P-WEbrjE',\n",
       " 'https://www.linkedin.com/in/ACoAACVFpY0Bj_3A0jK8OBsweXHA9G5hNM8NRWs?miniProfileUrn=urn%3Ali%3Afs_miniProfile%3AACoAACVFpY0Bj_3A0jK8OBsweXHA9G5hNM8NRWs',\n",
       " 'https://www.linkedin.com/search/results/people/?facetNetwork=%5B%22F%22%5D&facetConnectionOf=%5B%22ACoAACjhYp8BKhDpJGyRlNevEqsB11_kmgMJse4%22%5D&origin=SHARED_CONNECTIONS_CANNED_SEARCH',\n",
       " 'https://www.linkedin.com/in/muhammad-naufal-a-77480a148?miniProfileUrn=urn%3Ali%3Afs_miniProfile%3AACoAACO3J8gBQq07aor86huV6FLs8iVlauahl4w',\n",
       " 'https://www.linkedin.com/in/ACoAAAyS9oYB3rvtPA3QDw9NecW1kw_6eOX0mOI?miniProfileUrn=urn%3Ali%3Afs_miniProfile%3AACoAAAyS9oYB3rvtPA3QDw9NecW1kw_6eOX0mOI',\n",
       " 'https://www.linkedin.com/in/ACoAACvc1isBJNGHtkGiblP_Jt2M1F8J2GO43dw?miniProfileUrn=urn%3Ali%3Afs_miniProfile%3AACoAACvc1isBJNGHtkGiblP_Jt2M1F8J2GO43dw',\n",
       " 'https://www.linkedin.com/search/results/people/?facetNetwork=%5B%22F%22%5D&facetConnectionOf=%5B%22ACoAACO3J8gBQq07aor86huV6FLs8iVlauahl4w%22%5D&origin=SHARED_CONNECTIONS_CANNED_SEARCH',\n",
       " 'https://www.linkedin.com/in/ignasius-gayoh-adi-jaya?miniProfileUrn=urn%3Ali%3Afs_miniProfile%3AACoAAB0dgYwBDo5nvQDeegNpo8ItADnfZz2Uab8',\n",
       " 'https://www.linkedin.com/in/ahmad-fahrudin?miniProfileUrn=urn%3Ali%3Afs_miniProfile%3AACoAABjuxwcBluAl-029dFY1P_K884QOl5tNrFI',\n",
       " 'https://www.linkedin.com/in/agussaputran?miniProfileUrn=urn%3Ali%3Afs_miniProfile%3AACoAACkg7EsBD2C8c4Pc8bwgN9lFtgM3q0bDhFE']"
      ]
     },
     "execution_count": 14,
     "metadata": {},
     "output_type": "execute_result"
    }
   ],
   "source": [
    "URLs_all_page"
   ]
  },
  {
   "cell_type": "code",
   "execution_count": 22,
   "metadata": {},
   "outputs": [
    {
     "name": "stdout",
     "output_type": "stream",
     "text": [
      "- Accessing profile:  https://www.linkedin.com/feed/?nis=true&\n",
      "- Accessing profile:  https://www.linkedin.com/mynetwork/\n",
      "- Accessing profile:  https://www.linkedin.com/jobs/\n",
      "- Accessing profile:  https://www.linkedin.com/messaging/thread/2-NzczOGZhNTctNmI4YS00YWMzLWE2MzctM2E2ODAxYjQ3MjZjXzAxMw==/\n",
      "- Accessing profile:  https://www.linkedin.com/notifications/\n",
      "- Accessing profile:  https://www.linkedin.com/in/rachmad-hartono-937823140/\n",
      "--- Profile name is:  Rachmad Hartono\n",
      "--- Profile location is:  Daerah Istimewa Yogyakarta, Indonesia\n",
      "--- Profile title is:  Software Engineer di Badan Sistem Informasi - Universitas Islam Indonesia\n",
      "\n",
      "\n",
      "- Accessing profile:  https://www.linkedin.com/in/nindikusuma/\n",
      "--- Profile name is:  Nindi Kusuma\n",
      "--- Profile location is:  Daerah Istimewa Yogyakarta, Indonesia\n",
      "--- Profile title is:  CEO of YLabs Indonesia | I create the unthinkable and innovate the unsolvable | A dot connector in pentahelix ecosystem\n",
      "\n",
      "\n",
      "- Accessing profile:  https://www.linkedin.com/in/danielwetan/\n",
      "--- Profile name is:  Daniel Saputra\n",
      "--- Profile location is:  Jakarta Raya, Indonesia\n",
      "--- Profile title is:  Software Engineer at Ralali.com - B2B Marketplace\n",
      "\n",
      "\n",
      "- Accessing profile:  https://www.linkedin.com/in/abdussalam-faqih/\n",
      "--- Profile name is:  Faqih Abdussalam\n",
      "--- Profile location is:  Jakarta Raya, Indonesia\n",
      "--- Profile title is:  Software Engineer at Ralali.com - B2B Marketplace\n",
      "\n",
      "\n",
      "- Accessing profile:  https://www.linkedin.com/in/wikanrahmantyo/\n",
      "--- Profile name is:  Wikan Rahmantyo\n",
      "--- Profile location is:  Sleman, Daerah Istimewa Yogyakarta, Indonesia\n",
      "--- Profile title is:  Software Engineer\n",
      "\n",
      "\n",
      "- Accessing profile:  https://www.linkedin.com/in/mochamad-rafli-ramadhan/\n",
      "--- Profile name is:  Mochamad Rafli Ramadhan\n",
      "--- Profile location is:  Daerah Istimewa Yogyakarta, Indonesia\n",
      "--- Profile title is:  Final Year Student | Take an Interest in JavaScript Full Stack (React.js, Next js, Nuxt.js and Node.js) | FGA 2022 Ruby on Rails\n",
      "\n",
      "\n",
      "- Accessing profile:  https://www.linkedin.com/in/ezra-alvansga-6b6b76187/\n",
      "--- Profile name is:  Ezra Alvansga\n",
      "--- Profile location is:  Kota Kudus, Jawa Tengah, Indonesia\n",
      "--- Profile title is:  Software Engineer\n",
      "\n",
      "\n",
      "- Accessing profile:  https://www.linkedin.com/in/hidayat-eko-saputro/\n",
      "--- Profile name is:  Hidayat Eko Saputro\n",
      "--- Profile location is:  Daerah Istimewa Yogyakarta, Indonesia\n",
      "--- Profile title is:  Software Engineer at PT. Helber Elektronika Indonesia\n",
      "\n",
      "\n",
      "- Accessing profile:  https://www.linkedin.com/in/mahatma-wisesa/\n",
      "--- Profile name is:  Mahatma Ageng Wisesa\n",
      "--- Profile location is:  Indonesia\n",
      "--- Profile title is:  Machine Learning Enthusiast | Engineering Physics Fresh Graduate\n",
      "\n",
      "\n",
      "- Accessing profile:  https://www.linkedin.com/in/umamhafidul5/\n",
      "--- Profile name is:  Hafidul Umam\n",
      "--- Profile location is:  Cilacap, Jawa Tengah, Indonesia\n",
      "--- Profile title is:  Spirit Fighting\n",
      "\n",
      "\n",
      "- Accessing profile:  https://www.linkedin.com/search/results/people/?facetConnectionOf=%5B%22ACoAACxyXwMBXi-3EQJGGSjkZ50hD0Vi-UaXx58%22%5D&facetNetwork=%5B%22F%22%5D&origin=SHARED_CONNECTIONS_CANNED_SEARCH&sid=%3B(u\n",
      "- Accessing profile:  https://www.linkedin.com/in/rexy-dwy-brundy-21473b159/\n",
      "--- Profile name is:  Rexy Dwy Brundy\n",
      "--- Profile location is:  Indonesia\n",
      "--- Profile title is:  Software Engineer at AccelByte Inc\n",
      "\n",
      "\n",
      "- Accessing profile:  https://www.linkedin.com/in/farid-ridwanto-19a7965a/\n",
      "--- Profile name is:  Farid Ridwanto\n",
      "--- Profile location is:  Indonesia\n",
      "--- Profile title is:  Software Engineer at AccelByte Inc\n",
      "\n",
      "\n",
      "- Accessing profile:  https://www.linkedin.com/in/buigun/\n",
      "--- Profile name is:  Budi Indra Gunawan\n",
      "--- Profile location is:  Jakarta Raya, Indonesia\n",
      "--- Profile title is:  Software Engineer at Paragon Technology And Innovation\n",
      "\n",
      "\n",
      "- Accessing profile:  https://www.linkedin.com/in/paulus-l-ginting-pg-68627b41/\n",
      "--- Profile name is:  Paulus L Ginting (PG)\n",
      "--- Profile location is:  Sumatera Selatan, Indonesia\n",
      "--- Profile title is:  Process Engineer, YT Content Creator & Speaker (O&G Processing Systems).\n",
      "\n",
      "\n",
      "- Accessing profile:  https://www.linkedin.com/in/adityanuar/\n",
      "--- Profile name is:  Aditya (Adit) Yanuar\n",
      "--- Profile location is:  Daerah Istimewa Yogyakarta, Indonesia\n",
      "--- Profile title is:  Senior Software Engineer at AWC Consulting\n",
      "\n",
      "\n",
      "- Accessing profile:  https://www.linkedin.com/in/eko-s-wibowo/\n",
      "--- Profile name is:  Eko Wibowo\n",
      "--- Profile location is:  Daerah Istimewa Yogyakarta, Indonesia\n",
      "--- Profile title is:  Founder at Remote Worker Indonesia\n",
      "\n",
      "\n",
      "- Accessing profile:  https://www.linkedin.com/in/fitria-nur-rahma-30475a197/\n",
      "--- Profile name is:  Fitria Nur Rahma\n",
      "--- Profile location is:  Purworejo, Jawa Tengah, Indonesia\n",
      "--- Profile title is:  Fresh Graduate D-III Electrical Technology Gadjah Mada University\n",
      "\n",
      "\n",
      "- Accessing profile:  https://www.linkedin.com/in/muhammad-fajri-azka/\n",
      "--- Profile name is:  Muhammad Fajri Azka\n",
      "--- Profile location is:  Daerah Istimewa Yogyakarta, Indonesia\n",
      "--- Profile title is:  Software Engineer at DOKU, PT NUSA SATU INTI ARTHA\n",
      "\n",
      "\n",
      "- Accessing profile:  https://www.linkedin.com/in/aasetiawan/\n",
      "--- Profile name is:  Ahmad Agus Setiawan\n",
      "--- Profile location is:  Daerah Istimewa Yogyakarta, Indonesia\n",
      "--- Profile title is:  Energy expert staff in the Executive Office of the President of Republic of Indonesia\n",
      "\n",
      "\n",
      "- Accessing profile:  https://www.linkedin.com/in/muhammad-dhiaulhaq/\n",
      "--- Profile name is:  Muhammad Zulfa Dhiaulhaq\n",
      "--- Profile location is:  Surakarta, Jawa Tengah, Indonesia\n",
      "--- Profile title is:  Software Engineer di SPE Solution\n",
      "\n",
      "\n",
      "- Accessing profile:  https://www.linkedin.com/in/antoniusyonanda/\n",
      "--- Profile name is:  Antonius Yonanda Chrisma Nugraha\n",
      "--- Profile location is:  Sidoarjo, Jawa Timur, Indonesia\n",
      "--- Profile title is:  Chief Operating Officer at Trisoela Digital\n",
      "\n",
      "\n",
      "- Accessing profile:  https://www.linkedin.com/search/results/people/?facetConnectionOf=%5B%22ACoAACQjvnYBjKidADHButR_W6ye4VvtvRGt3ng%22%5D&facetNetwork=%5B%22F%22%5D&origin=SHARED_CONNECTIONS_CANNED_SEARCH&sid=F4L\n",
      "- Accessing profile:  https://www.linkedin.com/feed/?nis=true&\n",
      "- Accessing profile:  https://www.linkedin.com/mynetwork/\n",
      "- Accessing profile:  https://www.linkedin.com/jobs/\n",
      "- Accessing profile:  https://www.linkedin.com/messaging/thread/2-NzczOGZhNTctNmI4YS00YWMzLWE2MzctM2E2ODAxYjQ3MjZjXzAxMw==/\n",
      "- Accessing profile:  https://www.linkedin.com/notifications/\n",
      "- Accessing profile:  https://www.linkedin.com/in/amilio-asmaramis-7129b3142/\n",
      "--- Profile name is:  Amilio Asmaramis\n",
      "--- Profile location is:  Kota Tegal, Jawa Tengah, Indonesia\n",
      "--- Profile title is:  Software Engineer\n",
      "\n",
      "\n",
      "- Accessing profile:  https://www.linkedin.com/in/danielwetan/\n",
      "--- Profile name is:  Daniel Saputra\n",
      "--- Profile location is:  Jakarta Raya, Indonesia\n",
      "--- Profile title is:  Software Engineer at Ralali.com - B2B Marketplace\n",
      "\n",
      "\n",
      "- Accessing profile:  https://www.linkedin.com/in/christiansoetanto/\n",
      "--- Profile name is:  Christian Soetanto\n",
      "--- Profile location is:  Jakarta Raya, Indonesia\n",
      "--- Profile title is:  Software Engineer - Backend at Tokopedia\n",
      "\n",
      "\n",
      "- Accessing profile:  https://www.linkedin.com/in/paulus-l-ginting-pg-68627b41/\n",
      "--- Profile name is:  Paulus L Ginting (PG)\n",
      "--- Profile location is:  Sumatera Selatan, Indonesia\n",
      "--- Profile title is:  Process Engineer, YT Content Creator & Speaker (O&G Processing Systems).\n",
      "\n",
      "\n",
      "- Accessing profile:  https://www.linkedin.com/in/budiprihhastomo/\n",
      "--- Profile name is:  Budi Prih Hastomo\n",
      "--- Profile location is:  Jawa Tengah, Indonesia\n",
      "--- Profile title is:  Software Engineer at OXY Creative Inc |\n",
      "Full Stack Developer\n",
      "\n",
      "\n",
      "- Accessing profile:  https://www.linkedin.com/in/fariz-akbar/\n",
      "--- Profile name is:  Fariz Akbar Shalahhuddin\n",
      "--- Profile location is:  Jawa Tengah, Indonesia\n",
      "--- Profile title is:  Software Engineer\n",
      "\n",
      "\n",
      "- Accessing profile:  https://www.linkedin.com/in/kristiawan-devianto-65a27b201/\n",
      "--- Profile name is:  Kristiawan Devianto\n",
      "--- Profile location is:  Daerah Istimewa Yogyakarta, Indonesia\n",
      "--- Profile title is:  Software Engineer at PT Stechoq\n",
      "\n",
      "\n",
      "- Accessing profile:  https://www.linkedin.com/in/hanif-khoirul-fathansyah-513839171/\n",
      "--- Profile name is:  Hanif Khoirul Fathansyah\n",
      "--- Profile location is:  Daerah Istimewa Yogyakarta, Indonesia\n",
      "--- Profile title is:  Software Engineer di Elnusa Petrofin\n",
      "\n",
      "\n"
     ]
    },
    {
     "name": "stdout",
     "output_type": "stream",
     "text": [
      "- Accessing profile:  https://www.linkedin.com/in/antoniusyonanda/\n",
      "--- Profile name is:  Antonius Yonanda Chrisma Nugraha\n",
      "--- Profile location is:  Sidoarjo, Jawa Timur, Indonesia\n",
      "--- Profile title is:  Chief Operating Officer at Trisoela Digital\n",
      "\n",
      "\n",
      "- Accessing profile:  https://www.linkedin.com/in/dr-bilal-abdullah-nasir-951503155/\n",
      "--- Profile name is:  Dr. Bilal Abdullah Nasir\n",
      "--- Profile location is:  Iraq\n",
      "--- Profile title is:  Assistant Professor at Northern Technical University /Hawijah Technical Institute -Kirkuk / Iraq\n",
      "\n",
      "\n",
      "- Accessing profile:  https://www.linkedin.com/search/results/people/?facetConnectionOf=%5B%22ACoAACjhYp8BKhDpJGyRlNevEqsB11_kmgMJse4%22%5D&facetNetwork=%5B%22F%22%5D&origin=SHARED_CONNECTIONS_CANNED_SEARCH&sid=%40%2Ck\n",
      "- Accessing profile:  https://www.linkedin.com/in/muhammad-naufal-a-77480a148/\n",
      "--- Profile name is:  Muhammad Naufal A.\n",
      "--- Profile location is:  Semarang, Jawa Tengah, Indonesia\n",
      "--- Profile title is:  Software Engineer\n",
      "\n",
      "\n",
      "- Accessing profile:  https://www.linkedin.com/in/farid-ridwanto-19a7965a/\n",
      "--- Profile name is:  Farid Ridwanto\n",
      "--- Profile location is:  Indonesia\n",
      "--- Profile title is:  Software Engineer at AccelByte Inc\n",
      "\n",
      "\n",
      "- Accessing profile:  https://www.linkedin.com/in/fadhil-sulaeman-037548186/\n",
      "--- Profile name is:  Fadhil Sulaeman\n",
      "--- Profile location is:  Jakarta Raya, Indonesia\n",
      "--- Profile title is:  Cub Reporter di The Jakarta Post\n",
      "\n",
      "\n",
      "- Accessing profile:  https://www.linkedin.com/search/results/people/?facetNetwork=%5B%22F%22%5D&facetConnectionOf=%5B%22ACoAACO3J8gBQq07aor86huV6FLs8iVlauahl4w%22%5D&origin=SHARED_CONNECTIONS_CANNED_SEARCH\n",
      "- Accessing profile:  https://www.linkedin.com/in/ignasius-gayoh-adi-jaya/\n",
      "--- Profile name is:  Ignasius Gayoh Adi Jaya\n",
      "--- Profile location is:  Area DKI Jakarta\n",
      "--- Profile title is:  Software Engineer at Indomaret Group\n",
      "\n",
      "\n",
      "- Accessing profile:  https://www.linkedin.com/in/ahmad-fahrudin/\n",
      "--- Profile name is:  Ahmad Fahrudin\n",
      "--- Profile location is:  Daerah Istimewa Yogyakarta, Indonesia\n",
      "--- Profile title is:  Software Engineer\n",
      "\n",
      "\n",
      "- Accessing profile:  https://www.linkedin.com/in/agussaputran/\n",
      "--- Profile name is:  Agus Saputra Ntoi\n",
      "--- Profile location is:  Daerah Istimewa Yogyakarta, Indonesia\n",
      "--- Profile title is:  Software Engineer di Xapiens Teknologi Indonesia\n",
      "\n",
      "\n",
      "Mission Completed!\n"
     ]
    }
   ],
   "source": [
    "# Task 4: Scrape the data of 1 Linkedin profile, and write the data to a .CSV file\n",
    "\n",
    "with open('output.csv', 'w',  newline = '') as file_output:\n",
    "    headers = ['Name', 'Job Title', 'Location', 'URL']\n",
    "    writer = csv.DictWriter(file_output, delimiter=',', lineterminator='\\n',fieldnames=headers)\n",
    "    writer.writeheader()\n",
    "    for linkedin_URL in URLs_all_page:\n",
    "        driver.get(linkedin_URL)\n",
    "\n",
    "        page_source = BeautifulSoup(driver.page_source, \"html.parser\")\n",
    "\n",
    "        info_div = page_source.find('div',{'class':'mt2 relative'})\n",
    "        \n",
    "        try:\n",
    "            print('- Accessing profile: ', driver.current_url)\n",
    "            name = info_div.find('h1').get_text().strip() #Remove unnecessary characters \n",
    "            print('--- Profile name is: ', name)\n",
    "            location = info_div.find('span', {'class' : 'text-body-small inline t-black--light break-words'}).get_text().strip() #Remove unnecessary characters \n",
    "            print('--- Profile location is: ', location)\n",
    "            title = info_div.find('div', {'class' : 'text-body-medium break-words'}).get_text().strip()\n",
    "            print('--- Profile title is: ', title)\n",
    "            writer.writerow({headers[0]:name, headers[1]:location, headers[2]:title, headers[3]:driver.current_url})\n",
    "            print('\\n')\n",
    "        except:\n",
    "            continue\n",
    "\n",
    "print('Mission Completed!')"
   ]
  },
  {
   "cell_type": "code",
   "execution_count": null,
   "metadata": {},
   "outputs": [],
   "source": []
  }
 ],
 "metadata": {
  "kernelspec": {
   "display_name": "Python 3",
   "language": "python",
   "name": "python3"
  },
  "language_info": {
   "codemirror_mode": {
    "name": "ipython",
    "version": 3
   },
   "file_extension": ".py",
   "mimetype": "text/x-python",
   "name": "python",
   "nbconvert_exporter": "python",
   "pygments_lexer": "ipython3",
   "version": "3.7.13"
  }
 },
 "nbformat": 4,
 "nbformat_minor": 4
}
