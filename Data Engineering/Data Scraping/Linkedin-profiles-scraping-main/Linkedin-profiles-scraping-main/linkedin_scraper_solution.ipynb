{
 "cells": [
  {
   "cell_type": "code",
   "execution_count": 11,
   "metadata": {},
   "outputs": [
    {
     "name": "stdout",
     "output_type": "stream",
     "text": [
      "- Finish importing packages\n"
     ]
    }
   ],
   "source": [
    "# Import libraries and packages for the project \n",
    "\n",
    "from selenium import webdriver\n",
    "from selenium.webdriver.common.keys import Keys\n",
    "from bs4 import BeautifulSoup\n",
    "from time import sleep\n",
    "import csv\n",
    "\n",
    "print('- Finish importing packages')"
   ]
  },
  {
   "cell_type": "code",
   "execution_count": 12,
   "metadata": {},
   "outputs": [
    {
     "name": "stdout",
     "output_type": "stream",
     "text": [
      "- Finish initializing a driver\n",
      "- Finish importing the login credentials\n",
      "- Finish keying in email\n",
      "- Finish keying in password\n",
      "- Finish Task 1: Login to Linkedin\n"
     ]
    }
   ],
   "source": [
    "# Task 1: Login to Linkedin\n",
    "\n",
    "# Task 1.1: Open Chrome and Access Linkedin login site\n",
    "driver = webdriver.Chrome()\n",
    "sleep(2)\n",
    "url = 'https://www.linkedin.com/login'\n",
    "driver.get(url)\n",
    "print('- Finish initializing a driver')\n",
    "sleep(2)\n",
    "\n",
    "# Task 1.2: Import username and password\n",
    "credential = open('credentials.txt')\n",
    "line = credential.readlines()\n",
    "username = line[0]\n",
    "password = line[1]\n",
    "print('- Finish importing the login credentials')\n",
    "sleep(2)\n",
    "\n",
    "# Task 1.2: Key in login credentials\n",
    "email_field = driver.find_element_by_id('username')\n",
    "email_field.send_keys(username)\n",
    "print('- Finish keying in email')\n",
    "sleep(3)\n",
    "\n",
    "password_field = driver.find_element_by_name('session_password')\n",
    "password_field.send_keys(password)\n",
    "print('- Finish keying in password')\n",
    "sleep(2)\n",
    "\n",
    "# Task 1.2: Click the Login button\n",
    "signin_field = driver.find_element_by_xpath('//*[@id=\"app__container\"]/main/div[2]/form/div[3]/button')\n",
    "signin_field.click()\n",
    "sleep(3)\n",
    "\n",
    "print('- Finish Task 1: Login to Linkedin')"
   ]
  },
  {
   "cell_type": "code",
   "execution_count": 13,
   "metadata": {},
   "outputs": [
    {
     "name": "stdout",
     "output_type": "stream",
     "text": [
      "- Finish Task 2: Search for profiles\n"
     ]
    }
   ],
   "source": [
    "# Task 2: Search for the profile we want to crawl\n",
    "\n",
    "# Task 2.1: Locate the search bar element\n",
    "search_field = driver.find_element_by_xpath('//*[@id=\"ember16\"]/input')\n",
    "\n",
    "# Task 2.2: Input the search query to the search bar\n",
    "search_query = input('What profile do you want to scrape? ')\n",
    "search_field.send_keys(search_query)\n",
    "\n",
    "# Task 2.3: Search\n",
    "search_field.send_keys(Keys.RETURN)\n",
    "\n",
    "print('- Finish Task 2: Search for profiles')"
   ]
  },
  {
   "cell_type": "code",
   "execution_count": 16,
   "metadata": {},
   "outputs": [
    {
     "name": "stdout",
     "output_type": "stream",
     "text": [
      "- Finish Task 3: Scrape the URLs\n"
     ]
    }
   ],
   "source": [
    "# Task 3: Scrape the URLs of the profiles\n",
    "\n",
    "# Task 3.1: Write a function to extract the URLs of one page\n",
    "def GetURL():\n",
    "    page_source = BeautifulSoup(driver.page_source)\n",
    "    profiles = page_source.find_all('a', class_ = 'search-result__result-link ember-view')\n",
    "    all_profile_URL = []\n",
    "    for profile in profiles:\n",
    "        profile_ID = profile.get('href')\n",
    "        profile_URL = \"https://www.linkedin.com\" + profile_ID\n",
    "        if profile_URL not in all_profile_URL:\n",
    "            all_profile_URL.append(profile_URL)\n",
    "    return all_profile_URL\n",
    "\n",
    "# Task 3.2: Navigate through many page, and extract the profile URLs of each page\n",
    "\n",
    "input_page = int(input('How many pages you want to scrape: '))\n",
    "URLs_all_page = []\n",
    "for page in range(input_page):\n",
    "    URLs_one_page = GetURL()\n",
    "    sleep(2)\n",
    "    driver.execute_script('window.scrollTo(0, document.body.scrollHeight);') #scroll to the end of the page\n",
    "    sleep(3)\n",
    "    next_button = driver.find_element_by_class_name(\"artdeco-pagination__button--next\")\n",
    "    driver.execute_script(\"arguments[0].click();\", next_button)\n",
    "    URLs_all_page = URLs_all_page + URLs_one_page\n",
    "    sleep(2)\n",
    "\n",
    "print('- Finish Task 3: Scrape the URLs')"
   ]
  },
  {
   "cell_type": "code",
   "execution_count": 17,
   "metadata": {},
   "outputs": [
    {
     "name": "stdout",
     "output_type": "stream",
     "text": [
      "- Accessing profile:  https://www.linkedin.com/in/chau-nguyen-4701a7113/\n",
      "--- Profile name is:  Chau Nguyen\n",
      "--- Profile location is:  Vietnam\n",
      "--- Profile title is:  Software Engineer at AgilityIO\n",
      "\n",
      "\n",
      "- Accessing profile:  https://www.linkedin.com/in/dai-luu-5aa5aa93/\n",
      "--- Profile name is:  Dai Luu\n",
      "--- Profile location is:  Vietnam\n",
      "--- Profile title is:  Software Engineer at DMSpro\n",
      "\n",
      "\n",
      "- Accessing profile:  https://www.linkedin.com/in/phu-nguyen-035ab5137/\n",
      "--- Profile name is:  Phu Nguyen\n",
      "--- Profile location is:  Vietnam\n",
      "--- Profile title is:  Software Engineer at FPT Software\n",
      "\n",
      "\n",
      "- Accessing profile:  https://www.linkedin.com/in/anh-duc-dang-a29514161/\n",
      "--- Profile name is:  Anh Duc Dang\n",
      "--- Profile location is:  Ho Chi Minh City, Vietnam\n",
      "--- Profile title is:  Software developer at ISB VietNam\n",
      "\n",
      "\n",
      "- Accessing profile:  https://www.linkedin.com/in/dtduc/\n",
      "--- Profile name is:  Duc Duong\n",
      "--- Profile location is:  Vietnam\n",
      "--- Profile title is:  Software Engineer\n",
      "\n",
      "\n",
      "- Accessing profile:  https://www.linkedin.com/in/bishal-sahoo-134846107/\n",
      "--- Profile name is:  Bishal Sahoo\n",
      "--- Profile location is:  Vietnam\n",
      "--- Profile title is:  Software Engineer at Xvolve\n",
      "\n",
      "\n",
      "- Accessing profile:  https://www.linkedin.com/in/minh-hoang-3722631b/\n",
      "--- Profile name is:  Minh Hoang\n",
      "--- Profile location is:  Vietnam\n",
      "--- Profile title is:  Lead Software Engineer at Robert Bosch Engineering Vietnam\n",
      "\n",
      "\n",
      "- Accessing profile:  https://www.linkedin.com/in/tranminhri/\n",
      "--- Profile name is:  Trần Minh Trí\n",
      "--- Profile location is:  Ho Chi Minh City, Vietnam\n",
      "--- Profile title is:  Software Engineer at MetroResidences\n",
      "\n",
      "\n",
      "- Accessing profile:  https://www.linkedin.com/in/lam-nguyen-a9a25a74/\n",
      "--- Profile name is:  Lam Nguyen\n",
      "--- Profile location is:  Vietnam\n",
      "--- Profile title is:  Senior Software Engineer at Conexus\n",
      "\n",
      "\n",
      "- Accessing profile:  https://www.linkedin.com/in/trantiendat711/\n",
      "--- Profile name is:  Tien Dat Tran\n",
      "--- Profile location is:  Ho Chi Minh City, Vietnam\n",
      "--- Profile title is:  Software Engineer\n",
      "\n",
      "\n",
      "- Accessing profile:  https://www.linkedin.com/in/nathan-ngo-a9939716a/\n",
      "--- Profile name is:  Nathan Ngo\n",
      "--- Profile location is:  Vietnam\n",
      "--- Profile title is:  Software Engineer Intern at KMS Technology, Inc.\n",
      "\n",
      "\n",
      "- Accessing profile:  https://www.linkedin.com/in/ngtruonggiang2303/\n",
      "--- Profile name is:  Giang Nguyen Truong\n",
      "--- Profile location is:  Vietnam\n",
      "--- Profile title is:  Embedded Software Engineer at Renesas Electronics\n",
      "\n",
      "\n",
      "Mission Completed!\n"
     ]
    }
   ],
   "source": [
    "# Task 4: Scrape the data of 1 Linkedin profile, and write the data to a .CSV file\n",
    "\n",
    "with open('output.csv', 'w',  newline = '') as file_output:\n",
    "    headers = ['Name', 'Job Title', 'Location', 'URL']\n",
    "    writer = csv.DictWriter(file_output, delimiter=',', lineterminator='\\n',fieldnames=headers)\n",
    "    writer.writeheader()\n",
    "    for linkedin_URL in URLs_all_page:\n",
    "        driver.get(linkedin_URL)\n",
    "        print('- Accessing profile: ', linkedin_URL)\n",
    "\n",
    "        page_source = BeautifulSoup(driver.page_source, \"html.parser\")\n",
    "\n",
    "        info_div = page_source.find('div',{'class':'flex-1 mr5'})\n",
    "        info_loc = info_div.find_all('ul')\n",
    "        name = info_loc[0].find('li').get_text().strip() #Remove unnecessary characters \n",
    "        print('--- Profile name is: ', name)\n",
    "        location = info_loc[1].find('li').get_text().strip() #Remove unnecessary characters \n",
    "        print('--- Profile location is: ', location)\n",
    "        title = info_div.find('h2').get_text().strip()\n",
    "        print('--- Profile title is: ', title)\n",
    "        writer.writerow({headers[0]:name, headers[1]:location, headers[2]:title, headers[3]:linkedin_URL})\n",
    "        print('\\n')\n",
    "\n",
    "print('Mission Completed!')"
   ]
  },
  {
   "cell_type": "code",
   "execution_count": null,
   "metadata": {},
   "outputs": [],
   "source": []
  }
 ],
 "metadata": {
  "kernelspec": {
   "display_name": "Python 3",
   "language": "python",
   "name": "python3"
  },
  "language_info": {
   "codemirror_mode": {
    "name": "ipython",
    "version": 3
   },
   "file_extension": ".py",
   "mimetype": "text/x-python",
   "name": "python",
   "nbconvert_exporter": "python",
   "pygments_lexer": "ipython3",
   "version": "3.7.13"
  }
 },
 "nbformat": 4,
 "nbformat_minor": 4
}
