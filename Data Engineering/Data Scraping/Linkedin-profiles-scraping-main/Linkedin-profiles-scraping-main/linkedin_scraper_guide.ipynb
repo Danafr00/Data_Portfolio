{
 "cells": [
  {
   "cell_type": "code",
   "execution_count": null,
   "metadata": {},
   "outputs": [],
   "source": [
    "# Import libraries and packages for the project \n",
    "\n",
    "from selenium import webdriver\n",
    "from selenium.webdriver.common.keys import Keys\n",
    "from bs4 import BeautifulSoup\n",
    "from time import sleep\n",
    "import csv\n",
    "\n",
    "print('- Finish importing package')"
   ]
  },
  {
   "cell_type": "code",
   "execution_count": null,
   "metadata": {},
   "outputs": [],
   "source": [
    "# Task 1: Login to Linkedin\n",
    "\n",
    "# Task 1.1: Open Chrome and Access Linkedin login site\n",
    "driver = ___\n",
    "url = ___\n",
    "driver.get(url)\n",
    "print('- Finish initializing a driver')\n",
    "\n",
    "# Task 1.2: Key in login credentials\n",
    "email_field = driver.find_element_by_*()\n",
    "email_field.___()\n",
    "print('- Finish keying in email')\n",
    "\n",
    "password_field = driver.find_element_by_*()\n",
    "password_field.___()\n",
    "print('- Finish keying in password')\n",
    "\n",
    "# Task 1.2: Click the Login button\n",
    "login_field = driver.find_element_by_*()\n",
    "signin_field.___()\n",
    "print('- Finish Task 1: Login to Linkedin')"
   ]
  },
  {
   "cell_type": "code",
   "execution_count": null,
   "metadata": {},
   "outputs": [],
   "source": [
    "# Task 2: Search for the profile we want to crawl\n",
    "\n",
    "# Task 2.1: Locate the search bar element\n",
    "search_field = driver.find_element_by_*(___)\n",
    "\n",
    "# Task 2.2: Input the search query to the search bar\n",
    "search_query = \n",
    "search_field.___(search_query)\n",
    "\n",
    "# Task 2.3: Search\n",
    "search_field.___()\n",
    "\n",
    "print('- Finish Task 2: Search for profiles')"
   ]
  },
  {
   "cell_type": "code",
   "execution_count": null,
   "metadata": {},
   "outputs": [],
   "source": [
    "# Task 3: Scrape the URLs of the profiles\n",
    "\n",
    "# Task 3.1: Write a function to extract the URLs of one page\n",
    "def GetURL():\n",
    "    page_source = BeautifulSoup(driver.page_source)\n",
    "    profiles = page_source.___() \n",
    "\n",
    "    return ___\n",
    "\n",
    "# Task 3.2: Navigate through the next pages, and extract the profile URLs of each page\n",
    "\n",
    "input_page = ___\n",
    "URLs_all_page = []\n",
    "for page in range(input_page):\n",
    "    URLs_one_page = GetURL()\n",
    "    ___\n",
    "    next_button = driver.find_element_by_*()\n",
    "    ___\n",
    "    URLs_all_page = URLs_all_page + URLs_one_page\n",
    "\n",
    "print('- Finish Task 3: Scrape the URLs')"
   ]
  },
  {
   "cell_type": "code",
   "execution_count": null,
   "metadata": {},
   "outputs": [],
   "source": [
    "# Step 4: Scrape the data of 1 Linkedin profile, and write the data to a .CSV file\n",
    "\n",
    "with open('output.csv', 'w',  newline = '') as file_output:\n",
    "    headers = ['Name', 'Job Title', 'Location', 'URL']\n",
    "    writer = csv.DictWriter(___)\n",
    "    writer.writeheader()\n",
    "\n",
    "    for linkedin_URL in URLs_all_page:\n",
    "        driver.get(linkedin_URL)\n",
    "        print('- Accessing profile: ', linkedin_URL)\n",
    "\n",
    "        page_source = BeautifulSoup(driver.page_source, \"html.parser\")\n",
    "\n",
    "        info_div = page_source.___()\n",
    "        info_loc = ___\n",
    "        name = ___\n",
    "        print('--- Profile name is: ', name)\n",
    "        \n",
    "        location = ___\n",
    "        print('--- Profile location is: ', location)\n",
    "        \n",
    "        title = ___\n",
    "        print('--- Profile title is: ', title)\n",
    "        \n",
    "        writer.writerow(___)"
   ]
  }
 ],
 "metadata": {
  "kernelspec": {
   "display_name": "Python 3",
   "language": "python",
   "name": "python3"
  },
  "language_info": {
   "codemirror_mode": {
    "name": "ipython",
    "version": 3
   },
   "file_extension": ".py",
   "mimetype": "text/x-python",
   "name": "python",
   "nbconvert_exporter": "python",
   "pygments_lexer": "ipython3",
   "version": "3.7.13"
  }
 },
 "nbformat": 4,
 "nbformat_minor": 4
}
