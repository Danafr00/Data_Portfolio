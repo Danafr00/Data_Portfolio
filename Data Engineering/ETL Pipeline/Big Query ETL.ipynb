{
 "cells": [
  {
   "cell_type": "markdown",
   "id": "1136ad7e",
   "metadata": {},
   "source": [
    "## Set up Bigquery Database"
   ]
  },
  {
   "cell_type": "code",
   "execution_count": 1,
   "id": "e70e8392",
   "metadata": {},
   "outputs": [],
   "source": [
    "import pandas as pd\n",
    "import pandas_gbq"
   ]
  },
  {
   "cell_type": "code",
   "execution_count": 50,
   "id": "be74ac28",
   "metadata": {},
   "outputs": [
    {
     "data": {
      "text/plain": [
       "(208150, 9)"
      ]
     },
     "execution_count": 50,
     "metadata": {},
     "output_type": "execute_result"
    }
   ],
   "source": [
    "df = pd.read_csv('Dataset Real Estate.csv', index_col=0)\n",
    "df.shape"
   ]
  },
  {
   "cell_type": "code",
   "execution_count": 51,
   "id": "79adf51d",
   "metadata": {},
   "outputs": [
    {
     "name": "stdout",
     "output_type": "stream",
     "text": [
      "<class 'pandas.core.frame.DataFrame'>\n",
      "Int64Index: 208150 entries, 0 to 208149\n",
      "Data columns (total 9 columns):\n",
      " #   Column    Non-Null Count   Dtype  \n",
      "---  ------    --------------   -----  \n",
      " 0   Address   208150 non-null  object \n",
      " 1   Beds      202309 non-null  object \n",
      " 2   Baths     208150 non-null  object \n",
      " 3   Area      169131 non-null  object \n",
      " 4   Price     207681 non-null  float64\n",
      " 5   Street    208150 non-null  object \n",
      " 6   District  208150 non-null  object \n",
      " 7   City      208150 non-null  object \n",
      " 8   Zip Code  208150 non-null  object \n",
      "dtypes: float64(1), object(8)\n",
      "memory usage: 15.9+ MB\n"
     ]
    }
   ],
   "source": [
    "df.info()"
   ]
  },
  {
   "cell_type": "code",
   "execution_count": 52,
   "id": "64e1b458",
   "metadata": {},
   "outputs": [
    {
     "data": {
      "text/html": [
       "<div>\n",
       "<style scoped>\n",
       "    .dataframe tbody tr th:only-of-type {\n",
       "        vertical-align: middle;\n",
       "    }\n",
       "\n",
       "    .dataframe tbody tr th {\n",
       "        vertical-align: top;\n",
       "    }\n",
       "\n",
       "    .dataframe thead th {\n",
       "        text-align: right;\n",
       "    }\n",
       "</style>\n",
       "<table border=\"1\" class=\"dataframe\">\n",
       "  <thead>\n",
       "    <tr style=\"text-align: right;\">\n",
       "      <th></th>\n",
       "      <th>Address</th>\n",
       "      <th>Beds</th>\n",
       "      <th>Baths</th>\n",
       "      <th>Area</th>\n",
       "      <th>Price</th>\n",
       "      <th>Street</th>\n",
       "      <th>District</th>\n",
       "      <th>City</th>\n",
       "      <th>Zip Code</th>\n",
       "    </tr>\n",
       "  </thead>\n",
       "  <tbody>\n",
       "    <tr>\n",
       "      <th>0</th>\n",
       "      <td>4-74 48th Ave  #9K, Long Island City, NY 11109</td>\n",
       "      <td>1</td>\n",
       "      <td>1</td>\n",
       "      <td>700</td>\n",
       "      <td>555000.0</td>\n",
       "      <td>4-74 48th Ave  #9K</td>\n",
       "      <td>Long Island City</td>\n",
       "      <td>NY</td>\n",
       "      <td>11109</td>\n",
       "    </tr>\n",
       "    <tr>\n",
       "      <th>1</th>\n",
       "      <td>469 E  49th St   #6, Brooklyn, NY 11203</td>\n",
       "      <td>10</td>\n",
       "      <td>6</td>\n",
       "      <td>NaN</td>\n",
       "      <td>1250000.0</td>\n",
       "      <td>469 E  49th St   #6</td>\n",
       "      <td>Brooklyn</td>\n",
       "      <td>NY</td>\n",
       "      <td>11203</td>\n",
       "    </tr>\n",
       "    <tr>\n",
       "      <th>2</th>\n",
       "      <td>715 Avenue L, Brooklyn, NY 11230</td>\n",
       "      <td>8</td>\n",
       "      <td>6</td>\n",
       "      <td>2,015</td>\n",
       "      <td>1690000.0</td>\n",
       "      <td>715 Avenue L</td>\n",
       "      <td>Brooklyn</td>\n",
       "      <td>NY</td>\n",
       "      <td>11230</td>\n",
       "    </tr>\n",
       "    <tr>\n",
       "      <th>3</th>\n",
       "      <td>223 E  62nd St, New York, NY 10065</td>\n",
       "      <td>5</td>\n",
       "      <td>6</td>\n",
       "      <td>3,750</td>\n",
       "      <td>7995000.0</td>\n",
       "      <td>223 E  62nd St</td>\n",
       "      <td>New York</td>\n",
       "      <td>NY</td>\n",
       "      <td>10065</td>\n",
       "    </tr>\n",
       "    <tr>\n",
       "      <th>4</th>\n",
       "      <td>1824 E  17th St   #B2, Brooklyn, NY 11229</td>\n",
       "      <td>2</td>\n",
       "      <td>2</td>\n",
       "      <td>888</td>\n",
       "      <td>579000.0</td>\n",
       "      <td>1824 E  17th St   #B2</td>\n",
       "      <td>Brooklyn</td>\n",
       "      <td>NY</td>\n",
       "      <td>11229</td>\n",
       "    </tr>\n",
       "  </tbody>\n",
       "</table>\n",
       "</div>"
      ],
      "text/plain": [
       "                                          Address Beds Baths   Area  \\\n",
       "0  4-74 48th Ave  #9K, Long Island City, NY 11109    1     1    700   \n",
       "1         469 E  49th St   #6, Brooklyn, NY 11203   10     6    NaN   \n",
       "2                715 Avenue L, Brooklyn, NY 11230    8     6  2,015   \n",
       "3              223 E  62nd St, New York, NY 10065    5     6  3,750   \n",
       "4       1824 E  17th St   #B2, Brooklyn, NY 11229    2     2    888   \n",
       "\n",
       "       Price                 Street           District City Zip Code  \n",
       "0   555000.0     4-74 48th Ave  #9K   Long Island City   NY    11109  \n",
       "1  1250000.0    469 E  49th St   #6           Brooklyn   NY    11203  \n",
       "2  1690000.0           715 Avenue L           Brooklyn   NY    11230  \n",
       "3  7995000.0         223 E  62nd St           New York   NY    10065  \n",
       "4   579000.0  1824 E  17th St   #B2           Brooklyn   NY    11229  "
      ]
     },
     "execution_count": 52,
     "metadata": {},
     "output_type": "execute_result"
    }
   ],
   "source": [
    "df.head()"
   ]
  },
  {
   "cell_type": "code",
   "execution_count": 53,
   "id": "b05dda43",
   "metadata": {},
   "outputs": [],
   "source": [
    "df.columns = ['Address', 'Beds', 'Baths', 'Area', 'Price', 'Street', 'District',\n",
    "       'City', 'Zip_Code']"
   ]
  },
  {
   "cell_type": "code",
   "execution_count": 54,
   "id": "f8108b3f",
   "metadata": {},
   "outputs": [],
   "source": [
    "df['Area'] = df['Area'].str.replace(',', '')\n",
    "df['Area'] = df['Area'].str.split(\" \", n=1, expand=True)[0]"
   ]
  },
  {
   "cell_type": "code",
   "execution_count": 59,
   "id": "2e9c9e95",
   "metadata": {},
   "outputs": [
    {
     "data": {
      "text/html": [
       "<div>\n",
       "<style scoped>\n",
       "    .dataframe tbody tr th:only-of-type {\n",
       "        vertical-align: middle;\n",
       "    }\n",
       "\n",
       "    .dataframe tbody tr th {\n",
       "        vertical-align: top;\n",
       "    }\n",
       "\n",
       "    .dataframe thead th {\n",
       "        text-align: right;\n",
       "    }\n",
       "</style>\n",
       "<table border=\"1\" class=\"dataframe\">\n",
       "  <thead>\n",
       "    <tr style=\"text-align: right;\">\n",
       "      <th></th>\n",
       "      <th>Address</th>\n",
       "      <th>Beds</th>\n",
       "      <th>Baths</th>\n",
       "      <th>Area</th>\n",
       "      <th>Price</th>\n",
       "      <th>Street</th>\n",
       "      <th>District</th>\n",
       "      <th>City</th>\n",
       "      <th>Zip_Code</th>\n",
       "    </tr>\n",
       "  </thead>\n",
       "  <tbody>\n",
       "    <tr>\n",
       "      <th>0</th>\n",
       "      <td>4-74 48th Ave  #9K, Long Island City, NY 11109</td>\n",
       "      <td>1</td>\n",
       "      <td>1</td>\n",
       "      <td>700</td>\n",
       "      <td>555000.0</td>\n",
       "      <td>4-74 48th Ave  #9K</td>\n",
       "      <td>Long Island City</td>\n",
       "      <td>NY</td>\n",
       "      <td>11109</td>\n",
       "    </tr>\n",
       "    <tr>\n",
       "      <th>2</th>\n",
       "      <td>715 Avenue L, Brooklyn, NY 11230</td>\n",
       "      <td>8</td>\n",
       "      <td>6</td>\n",
       "      <td>2015</td>\n",
       "      <td>1690000.0</td>\n",
       "      <td>715 Avenue L</td>\n",
       "      <td>Brooklyn</td>\n",
       "      <td>NY</td>\n",
       "      <td>11230</td>\n",
       "    </tr>\n",
       "    <tr>\n",
       "      <th>3</th>\n",
       "      <td>223 E  62nd St, New York, NY 10065</td>\n",
       "      <td>5</td>\n",
       "      <td>6</td>\n",
       "      <td>3750</td>\n",
       "      <td>7995000.0</td>\n",
       "      <td>223 E  62nd St</td>\n",
       "      <td>New York</td>\n",
       "      <td>NY</td>\n",
       "      <td>10065</td>\n",
       "    </tr>\n",
       "    <tr>\n",
       "      <th>4</th>\n",
       "      <td>1824 E  17th St   #B2, Brooklyn, NY 11229</td>\n",
       "      <td>2</td>\n",
       "      <td>2</td>\n",
       "      <td>888</td>\n",
       "      <td>579000.0</td>\n",
       "      <td>1824 E  17th St   #B2</td>\n",
       "      <td>Brooklyn</td>\n",
       "      <td>NY</td>\n",
       "      <td>11229</td>\n",
       "    </tr>\n",
       "    <tr>\n",
       "      <th>5</th>\n",
       "      <td>335-341 Nostrand Avenue UNIT 401-A, Brooklyn, ...</td>\n",
       "      <td>1</td>\n",
       "      <td>1</td>\n",
       "      <td>469</td>\n",
       "      <td>539000.0</td>\n",
       "      <td>335-341 Nostrand Avenue UNIT 401-A</td>\n",
       "      <td>Brooklyn</td>\n",
       "      <td>NY</td>\n",
       "      <td>11216</td>\n",
       "    </tr>\n",
       "  </tbody>\n",
       "</table>\n",
       "</div>"
      ],
      "text/plain": [
       "                                             Address Beds Baths  Area  \\\n",
       "0     4-74 48th Ave  #9K, Long Island City, NY 11109    1     1   700   \n",
       "2                   715 Avenue L, Brooklyn, NY 11230    8     6  2015   \n",
       "3                 223 E  62nd St, New York, NY 10065    5     6  3750   \n",
       "4          1824 E  17th St   #B2, Brooklyn, NY 11229    2     2   888   \n",
       "5  335-341 Nostrand Avenue UNIT 401-A, Brooklyn, ...    1     1   469   \n",
       "\n",
       "       Price                              Street           District City  \\\n",
       "0   555000.0                  4-74 48th Ave  #9K   Long Island City   NY   \n",
       "2  1690000.0                        715 Avenue L           Brooklyn   NY   \n",
       "3  7995000.0                      223 E  62nd St           New York   NY   \n",
       "4   579000.0               1824 E  17th St   #B2           Brooklyn   NY   \n",
       "5   539000.0  335-341 Nostrand Avenue UNIT 401-A           Brooklyn   NY   \n",
       "\n",
       "  Zip_Code  \n",
       "0    11109  \n",
       "2    11230  \n",
       "3    10065  \n",
       "4    11229  \n",
       "5    11216  "
      ]
     },
     "execution_count": 59,
     "metadata": {},
     "output_type": "execute_result"
    }
   ],
   "source": [
    "df_clean=df.where(df.Area != r'n/a')\n",
    "df_clean=df_clean.where(df.Baths != r'n/')\n",
    "df_clean=df_clean.drop_duplicates()\n",
    "df_clean=df_clean.dropna()\n",
    "df_clean.head()"
   ]
  },
  {
   "cell_type": "code",
   "execution_count": 60,
   "id": "d99dd86e",
   "metadata": {},
   "outputs": [],
   "source": [
    "df_clean['Area'] = df_clean['Area'].astype('int')\n",
    "df_clean['Baths'] = df_clean['Baths'].astype('int')"
   ]
  },
  {
   "cell_type": "code",
   "execution_count": 61,
   "id": "ce461fe9",
   "metadata": {},
   "outputs": [
    {
     "name": "stdout",
     "output_type": "stream",
     "text": [
      "<class 'pandas.core.frame.DataFrame'>\n",
      "Int64Index: 3472 entries, 0 to 208149\n",
      "Data columns (total 9 columns):\n",
      " #   Column    Non-Null Count  Dtype  \n",
      "---  ------    --------------  -----  \n",
      " 0   Address   3472 non-null   object \n",
      " 1   Beds      3472 non-null   object \n",
      " 2   Baths     3472 non-null   int32  \n",
      " 3   Area      3472 non-null   int32  \n",
      " 4   Price     3472 non-null   float64\n",
      " 5   Street    3472 non-null   object \n",
      " 6   District  3472 non-null   object \n",
      " 7   City      3472 non-null   object \n",
      " 8   Zip_Code  3472 non-null   object \n",
      "dtypes: float64(1), int32(2), object(6)\n",
      "memory usage: 244.1+ KB\n"
     ]
    }
   ],
   "source": [
    "df_clean.info()"
   ]
  },
  {
   "cell_type": "code",
   "execution_count": 62,
   "id": "728e4e59",
   "metadata": {},
   "outputs": [
    {
     "data": {
      "text/plain": [
       "(3472, 9)"
      ]
     },
     "execution_count": 62,
     "metadata": {},
     "output_type": "execute_result"
    }
   ],
   "source": [
    "df_clean.shape"
   ]
  },
  {
   "cell_type": "code",
   "execution_count": 63,
   "id": "8a88e54e",
   "metadata": {},
   "outputs": [],
   "source": [
    "project_id = 'latihan-345909'\n",
    "table_id = 'latihan-345909.real_estate.test_1'"
   ]
  },
  {
   "cell_type": "code",
   "execution_count": 64,
   "id": "9581a8ad",
   "metadata": {},
   "outputs": [
    {
     "name": "stderr",
     "output_type": "stream",
     "text": [
      "1it [00:06,  7.00s/it]\n"
     ]
    }
   ],
   "source": [
    "pandas_gbq.to_gbq(df_clean, table_id, project_id=project_id,if_exists='append')"
   ]
  },
  {
   "cell_type": "markdown",
   "id": "c98c8b72",
   "metadata": {},
   "source": [
    "## Scrape New Data"
   ]
  },
  {
   "cell_type": "code",
   "execution_count": null,
   "id": "43ecec82",
   "metadata": {},
   "outputs": [],
   "source": [
    "from bs4 import BeautifulSoup\n",
    "import requests\n",
    "import numpy as np\n",
    "import urllib.parse \n",
    "\n",
    "real_estate_new=pd.DataFrame(columns=['Address', 'Beds', 'Baths', 'Area', 'Price'])\n",
    "headers = ({'User-Agent': 'Mozilla/5.0 (Windows NT 10.0; Win64; x64) AppleWebKit/537.36 (KHTML, like Gecko) Chrome/104.0.5112.81 Safari/537.36 Edg/104.0.1293.54'})\n",
    "\n",
    "address=[]\n",
    "beds=[]\n",
    "baths=[]\n",
    "areas=[]\n",
    "prices=[]\n",
    "\n",
    "web = ['https://www.trulia.com/NY/New_York/',\n",
    "      'https://www.trulia.com/CA/Los_Angeles/',\n",
    "      'https://www.trulia.com/IL/Chicago/',\n",
    "      'https://www.trulia.com/AZ/Phoenix/',\n",
    "      'https://www.trulia.com/NV/Las_Vegas/']\n",
    "\n",
    "for h in web:\n",
    "    for i in range (1,16):\n",
    "        website = requests.get(h + str(i) + '_p/', headers=headers)\n",
    "\n",
    "        soup = BeautifulSoup(website.content, 'html.parser')\n",
    "\n",
    "        result = soup.find_all('li', {'class' : 'Grid__CellBox-sc-144isrp-0 SearchResultsList__WideCell-b7y9ki-2 jiZmPM'})\n",
    "\n",
    "        result_update = [k for k in result if k.has_attr('data-testid')]\n",
    "\n",
    "        for result in result_update:\n",
    "\n",
    "            try:\n",
    "                address.append(result.find('div', {'data-testid':'property-address'}).get_text())\n",
    "            except:\n",
    "                address.append('n/a')\n",
    "\n",
    "            try:\n",
    "                beds.append(result.find('div', {'data-testid':'property-beds'}).get_text())\n",
    "            except:\n",
    "                beds.append('n/a')\n",
    "\n",
    "            try:\n",
    "                baths.append(result.find('div', {'data-testid':'property-baths'}).get_text())\n",
    "            except:\n",
    "                baths.append('n/a')    \n",
    "\n",
    "            try:\n",
    "                areas.append(result.find('div', {'data-testid':'property-floorSpace'}).get_text())\n",
    "            except:\n",
    "                areas.append('n/a')  \n",
    "\n",
    "            try:\n",
    "                prices.append(result.find('div', {'data-testid':'property-price'}).get_text())\n",
    "            except:\n",
    "                prices.append('n/a')      \n",
    "\n",
    "        for j in range (len(address)):\n",
    "            real_estate_new=real_estate_new.append({'Address':address[j], 'Beds':beds[j], 'Baths':baths[j], 'Area':areas[j], 'Price':prices[j]}, ignore_index=True)"
   ]
  },
  {
   "cell_type": "code",
   "execution_count": 19,
   "id": "5618b1e2",
   "metadata": {},
   "outputs": [],
   "source": [
    "real_estate_new['Beds'] = real_estate_new['Beds'].apply(lambda x: x.strip('bd'))\n",
    "real_estate_new['Baths'] = real_estate_new['Baths'].apply(lambda x: x.strip('ba'))\n",
    "real_estate_new['Price'] = real_estate_new['Price'].apply(lambda x: x.strip('$'))\n",
    "real_estate_new['Price'] = real_estate_new['Price'].apply(lambda x: x.replace(\",\",\"\"))\n",
    "real_estate_new['Price'] = real_estate_new['Price'].apply(lambda x: x.replace(\"+\",\"\"))\n",
    "real_estate_new['Area'] = real_estate_new['Area'].apply(lambda x: x.replace(\" sqft\",\"\"))\n",
    "\n",
    "real_estate_new['Street']=real_estate_new['Address'].apply(lambda x: x.split(',')[0])\n",
    "real_estate_new['District']=real_estate_new['Address'].apply(lambda x: x.split(',')[1])\n",
    "real_estate_new['City']=real_estate_new['Address'].apply(lambda x: x.split(',')[2].split(' ')[1])\n",
    "real_estate_new['Zip_Code']=real_estate_new['Address'].apply(lambda x: x.split(',')[2].split(' ')[2])"
   ]
  },
  {
   "cell_type": "code",
   "execution_count": 20,
   "id": "c5e96981",
   "metadata": {},
   "outputs": [],
   "source": [
    "real_estate_new['Area'] = real_estate_new['Area'].str.replace(',', '')\n",
    "real_estate_new['Area'] = real_estate_new['Area'].str.split(\" \", n=1, expand=True)[0]"
   ]
  },
  {
   "cell_type": "code",
   "execution_count": 70,
   "id": "4af37fd9",
   "metadata": {},
   "outputs": [
    {
     "data": {
      "text/html": [
       "<div>\n",
       "<style scoped>\n",
       "    .dataframe tbody tr th:only-of-type {\n",
       "        vertical-align: middle;\n",
       "    }\n",
       "\n",
       "    .dataframe tbody tr th {\n",
       "        vertical-align: top;\n",
       "    }\n",
       "\n",
       "    .dataframe thead th {\n",
       "        text-align: right;\n",
       "    }\n",
       "</style>\n",
       "<table border=\"1\" class=\"dataframe\">\n",
       "  <thead>\n",
       "    <tr style=\"text-align: right;\">\n",
       "      <th></th>\n",
       "      <th>Address</th>\n",
       "      <th>Beds</th>\n",
       "      <th>Baths</th>\n",
       "      <th>Area</th>\n",
       "      <th>Price</th>\n",
       "      <th>Street</th>\n",
       "      <th>District</th>\n",
       "      <th>City</th>\n",
       "      <th>Zip_Code</th>\n",
       "    </tr>\n",
       "  </thead>\n",
       "  <tbody>\n",
       "    <tr>\n",
       "      <th>0</th>\n",
       "      <td>1371 Edwards Ave, Bronx, NY 10461</td>\n",
       "      <td>3</td>\n",
       "      <td>2</td>\n",
       "      <td>1800</td>\n",
       "      <td>698000</td>\n",
       "      <td>1371 Edwards Ave</td>\n",
       "      <td>Bronx</td>\n",
       "      <td>NY</td>\n",
       "      <td>10461</td>\n",
       "    </tr>\n",
       "    <tr>\n",
       "      <th>4</th>\n",
       "      <td>730 E  95th St, Brooklyn, NY 11236</td>\n",
       "      <td>5</td>\n",
       "      <td>3</td>\n",
       "      <td>2700</td>\n",
       "      <td>999000</td>\n",
       "      <td>730 E  95th St</td>\n",
       "      <td>Brooklyn</td>\n",
       "      <td>NY</td>\n",
       "      <td>11236</td>\n",
       "    </tr>\n",
       "    <tr>\n",
       "      <th>5</th>\n",
       "      <td>3751 86th St   #3, Jackson Heights, NY 11372</td>\n",
       "      <td>1</td>\n",
       "      <td>1</td>\n",
       "      <td>800</td>\n",
       "      <td>258000</td>\n",
       "      <td>3751 86th St   #3</td>\n",
       "      <td>Jackson Heights</td>\n",
       "      <td>NY</td>\n",
       "      <td>11372</td>\n",
       "    </tr>\n",
       "    <tr>\n",
       "      <th>6</th>\n",
       "      <td>44 E  67th St #4D, New York, NY 10065</td>\n",
       "      <td>1</td>\n",
       "      <td>1</td>\n",
       "      <td>874</td>\n",
       "      <td>1495000</td>\n",
       "      <td>44 E  67th St #4D</td>\n",
       "      <td>New York</td>\n",
       "      <td>NY</td>\n",
       "      <td>10065</td>\n",
       "    </tr>\n",
       "    <tr>\n",
       "      <th>7</th>\n",
       "      <td>190 22nd St   #2, Brooklyn, NY 11232</td>\n",
       "      <td>9</td>\n",
       "      <td>9</td>\n",
       "      <td>6200</td>\n",
       "      <td>3500000</td>\n",
       "      <td>190 22nd St   #2</td>\n",
       "      <td>Brooklyn</td>\n",
       "      <td>NY</td>\n",
       "      <td>11232</td>\n",
       "    </tr>\n",
       "  </tbody>\n",
       "</table>\n",
       "</div>"
      ],
      "text/plain": [
       "                                        Address Beds Baths  Area    Price  \\\n",
       "0             1371 Edwards Ave, Bronx, NY 10461    3     2  1800   698000   \n",
       "4            730 E  95th St, Brooklyn, NY 11236    5     3  2700   999000   \n",
       "5  3751 86th St   #3, Jackson Heights, NY 11372    1     1   800   258000   \n",
       "6         44 E  67th St #4D, New York, NY 10065    1     1   874  1495000   \n",
       "7          190 22nd St   #2, Brooklyn, NY 11232    9     9  6200  3500000   \n",
       "\n",
       "              Street          District City Zip_Code  \n",
       "0   1371 Edwards Ave             Bronx   NY    10461  \n",
       "4     730 E  95th St          Brooklyn   NY    11236  \n",
       "5  3751 86th St   #3   Jackson Heights   NY    11372  \n",
       "6  44 E  67th St #4D          New York   NY    10065  \n",
       "7   190 22nd St   #2          Brooklyn   NY    11232  "
      ]
     },
     "execution_count": 70,
     "metadata": {},
     "output_type": "execute_result"
    }
   ],
   "source": [
    "real_estate_clean=real_estate_new.where(real_estate_new.Area != r'n/a')\n",
    "real_estate_clean=real_estate_clean.where(real_estate_clean.Baths != r'n/')\n",
    "real_estate_clean=real_estate_clean.where(real_estate_clean.Price != r'')\n",
    "real_estate_clean=real_estate_clean.drop_duplicates()\n",
    "real_estate_clean=real_estate_clean.dropna()\n",
    "real_estate_clean.head()"
   ]
  },
  {
   "cell_type": "code",
   "execution_count": 71,
   "id": "47c71701",
   "metadata": {},
   "outputs": [],
   "source": [
    "real_estate_clean['Area'] = real_estate_clean['Area'].astype('int')\n",
    "real_estate_clean['Baths'] = real_estate_clean['Baths'].astype('int')\n",
    "real_estate_clean['Price'] = real_estate_clean['Price'].astype('float64')"
   ]
  },
  {
   "cell_type": "code",
   "execution_count": 72,
   "id": "a67ca596",
   "metadata": {},
   "outputs": [
    {
     "name": "stdout",
     "output_type": "stream",
     "text": [
      "<class 'pandas.core.frame.DataFrame'>\n",
      "Int64Index: 1713 entries, 0 to 50999\n",
      "Data columns (total 9 columns):\n",
      " #   Column    Non-Null Count  Dtype  \n",
      "---  ------    --------------  -----  \n",
      " 0   Address   1713 non-null   object \n",
      " 1   Beds      1713 non-null   object \n",
      " 2   Baths     1713 non-null   int32  \n",
      " 3   Area      1713 non-null   int32  \n",
      " 4   Price     1713 non-null   float64\n",
      " 5   Street    1713 non-null   object \n",
      " 6   District  1713 non-null   object \n",
      " 7   City      1713 non-null   object \n",
      " 8   Zip_Code  1713 non-null   object \n",
      "dtypes: float64(1), int32(2), object(6)\n",
      "memory usage: 120.4+ KB\n"
     ]
    }
   ],
   "source": [
    "real_estate_clean.info()"
   ]
  },
  {
   "cell_type": "markdown",
   "id": "97993fa3",
   "metadata": {},
   "source": [
    "### Load initial Target Data"
   ]
  },
  {
   "cell_type": "code",
   "execution_count": 73,
   "id": "c309b5ba",
   "metadata": {},
   "outputs": [],
   "source": [
    "from google.cloud import bigquery\n",
    "from google.oauth2 import service_account\n",
    "credentials = service_account.Credentials.from_service_account_file(\n",
    "'latihan-345909-d057684ecb42.json')\n",
    "\n",
    "project_id = 'latihan-345909'\n",
    "client = bigquery.Client(credentials= credentials,project=project_id)"
   ]
  },
  {
   "cell_type": "code",
   "execution_count": 74,
   "id": "33b1b833",
   "metadata": {},
   "outputs": [
    {
     "data": {
      "text/html": [
       "<div>\n",
       "<style scoped>\n",
       "    .dataframe tbody tr th:only-of-type {\n",
       "        vertical-align: middle;\n",
       "    }\n",
       "\n",
       "    .dataframe tbody tr th {\n",
       "        vertical-align: top;\n",
       "    }\n",
       "\n",
       "    .dataframe thead th {\n",
       "        text-align: right;\n",
       "    }\n",
       "</style>\n",
       "<table border=\"1\" class=\"dataframe\">\n",
       "  <thead>\n",
       "    <tr style=\"text-align: right;\">\n",
       "      <th></th>\n",
       "      <th>Address</th>\n",
       "      <th>Beds</th>\n",
       "      <th>Baths</th>\n",
       "      <th>Area</th>\n",
       "      <th>Price</th>\n",
       "      <th>Street</th>\n",
       "      <th>District</th>\n",
       "      <th>City</th>\n",
       "      <th>Zip_Code</th>\n",
       "    </tr>\n",
       "  </thead>\n",
       "  <tbody>\n",
       "    <tr>\n",
       "      <th>0</th>\n",
       "      <td>2014 2nd Ave  #BB, New York, NY 10029</td>\n",
       "      <td>24</td>\n",
       "      <td>8</td>\n",
       "      <td>6000</td>\n",
       "      <td>2500000.0</td>\n",
       "      <td>2014 2nd Ave  #BB</td>\n",
       "      <td>New York</td>\n",
       "      <td>NY</td>\n",
       "      <td>10029</td>\n",
       "    </tr>\n",
       "    <tr>\n",
       "      <th>1</th>\n",
       "      <td>825 Riverside Dr, New York, NY 10032</td>\n",
       "      <td>9</td>\n",
       "      <td>4</td>\n",
       "      <td>4100</td>\n",
       "      <td>1995000.0</td>\n",
       "      <td>825 Riverside Dr</td>\n",
       "      <td>New York</td>\n",
       "      <td>NY</td>\n",
       "      <td>10032</td>\n",
       "    </tr>\n",
       "    <tr>\n",
       "      <th>2</th>\n",
       "      <td>345 E  62nd St, New York, NY 10065</td>\n",
       "      <td>10</td>\n",
       "      <td>9</td>\n",
       "      <td>9453</td>\n",
       "      <td>9500000.0</td>\n",
       "      <td>345 E  62nd St</td>\n",
       "      <td>New York</td>\n",
       "      <td>NY</td>\n",
       "      <td>10065</td>\n",
       "    </tr>\n",
       "    <tr>\n",
       "      <th>3</th>\n",
       "      <td>1902 8th Ave  #1, Brooklyn, NY 11215</td>\n",
       "      <td>19</td>\n",
       "      <td>8</td>\n",
       "      <td>5890</td>\n",
       "      <td>3500000.0</td>\n",
       "      <td>1902 8th Ave  #1</td>\n",
       "      <td>Brooklyn</td>\n",
       "      <td>NY</td>\n",
       "      <td>11215</td>\n",
       "    </tr>\n",
       "    <tr>\n",
       "      <th>4</th>\n",
       "      <td>144 14th St, Brooklyn, NY 11215</td>\n",
       "      <td>12</td>\n",
       "      <td>4</td>\n",
       "      <td>2100</td>\n",
       "      <td>2399000.0</td>\n",
       "      <td>144 14th St</td>\n",
       "      <td>Brooklyn</td>\n",
       "      <td>NY</td>\n",
       "      <td>11215</td>\n",
       "    </tr>\n",
       "  </tbody>\n",
       "</table>\n",
       "</div>"
      ],
      "text/plain": [
       "                                 Address Beds  Baths  Area      Price  \\\n",
       "0  2014 2nd Ave  #BB, New York, NY 10029   24      8  6000  2500000.0   \n",
       "1   825 Riverside Dr, New York, NY 10032    9      4  4100  1995000.0   \n",
       "2     345 E  62nd St, New York, NY 10065   10      9  9453  9500000.0   \n",
       "3   1902 8th Ave  #1, Brooklyn, NY 11215   19      8  5890  3500000.0   \n",
       "4        144 14th St, Brooklyn, NY 11215   12      4  2100  2399000.0   \n",
       "\n",
       "              Street   District City Zip_Code  \n",
       "0  2014 2nd Ave  #BB   New York   NY    10029  \n",
       "1   825 Riverside Dr   New York   NY    10032  \n",
       "2     345 E  62nd St   New York   NY    10065  \n",
       "3   1902 8th Ave  #1   Brooklyn   NY    11215  \n",
       "4        144 14th St   Brooklyn   NY    11215  "
      ]
     },
     "execution_count": 74,
     "metadata": {},
     "output_type": "execute_result"
    }
   ],
   "source": [
    "sql = \"\"\"\n",
    "   SELECT *\n",
    "   FROM real_estate.test_1\n",
    "   \"\"\"\n",
    "\n",
    "df = client.query(sql).to_dataframe()\n",
    "df.head()"
   ]
  },
  {
   "cell_type": "code",
   "execution_count": 75,
   "id": "1a67b38a",
   "metadata": {},
   "outputs": [],
   "source": [
    "df.dropna(inplace=True)"
   ]
  },
  {
   "cell_type": "code",
   "execution_count": 76,
   "id": "13b27a66",
   "metadata": {},
   "outputs": [
    {
     "data": {
      "text/plain": [
       "(3472, 9)"
      ]
     },
     "execution_count": 76,
     "metadata": {},
     "output_type": "execute_result"
    }
   ],
   "source": [
    "df.shape"
   ]
  },
  {
   "cell_type": "markdown",
   "id": "e9a89ea0",
   "metadata": {},
   "source": [
    "### Detect Changes in data by comparing source and target"
   ]
  },
  {
   "cell_type": "code",
   "execution_count": 77,
   "id": "bf07ba20",
   "metadata": {},
   "outputs": [
    {
     "data": {
      "text/plain": [
       "0       (2014 2nd Ave  #BB, New York, NY 10029, 24, 8,...\n",
       "1       (825 Riverside Dr, New York, NY 10032, 9, 4, 4...\n",
       "2       (345 E  62nd St, New York, NY 10065, 10, 9, 94...\n",
       "3       (1902 8th Ave  #1, Brooklyn, NY 11215, 19, 8, ...\n",
       "4       (144 14th St, Brooklyn, NY 11215, 12, 4, 2100,...\n",
       "                              ...                        \n",
       "3467    (620 S  Gramercy Pl #323, Los Angeles, CA 9000...\n",
       "3468    (Studio Plan in Perla Condos, Los Angeles, CA ...\n",
       "3469    (746 S  Los Angeles St #407, Los Angeles, CA 9...\n",
       "3470    (633 Rose Ave, Venice, CA 90291, Studio, 5, 13...\n",
       "3471    (20327 Saticoy St #207, Winnetka, CA 91306, St...\n",
       "Length: 3472, dtype: object"
      ]
     },
     "execution_count": 77,
     "metadata": {},
     "output_type": "execute_result"
    }
   ],
   "source": [
    "df.apply(tuple,1)"
   ]
  },
  {
   "cell_type": "code",
   "execution_count": 78,
   "id": "cd306414",
   "metadata": {},
   "outputs": [
    {
     "data": {
      "text/plain": [
       "0        False\n",
       "4        False\n",
       "5        False\n",
       "6        False\n",
       "7        False\n",
       "         ...  \n",
       "50995    False\n",
       "50996    False\n",
       "50997    False\n",
       "50998    False\n",
       "50999    False\n",
       "Length: 1713, dtype: bool"
      ]
     },
     "execution_count": 78,
     "metadata": {},
     "output_type": "execute_result"
    }
   ],
   "source": [
    "real_estate_clean.apply(tuple,1).isin(df.apply(tuple,1))"
   ]
  },
  {
   "cell_type": "code",
   "execution_count": 79,
   "id": "5b3b4400",
   "metadata": {},
   "outputs": [
    {
     "name": "stdout",
     "output_type": "stream",
     "text": [
      "<class 'pandas.core.frame.DataFrame'>\n",
      "Int64Index: 1626 entries, 0 to 50999\n",
      "Data columns (total 9 columns):\n",
      " #   Column    Non-Null Count  Dtype  \n",
      "---  ------    --------------  -----  \n",
      " 0   Address   1626 non-null   object \n",
      " 1   Beds      1626 non-null   object \n",
      " 2   Baths     1626 non-null   int32  \n",
      " 3   Area      1626 non-null   int32  \n",
      " 4   Price     1626 non-null   float64\n",
      " 5   Street    1626 non-null   object \n",
      " 6   District  1626 non-null   object \n",
      " 7   City      1626 non-null   object \n",
      " 8   Zip_Code  1626 non-null   object \n",
      "dtypes: float64(1), int32(2), object(6)\n",
      "memory usage: 114.3+ KB\n"
     ]
    }
   ],
   "source": [
    "changes = real_estate_clean[~real_estate_clean.apply(tuple,1).isin(df.apply(tuple,1))]\n",
    "changes.info()"
   ]
  },
  {
   "cell_type": "markdown",
   "id": "30b405b3",
   "metadata": {},
   "source": [
    "### Load the Changes to Bigquery"
   ]
  },
  {
   "cell_type": "code",
   "execution_count": 80,
   "id": "88454cac",
   "metadata": {},
   "outputs": [
    {
     "name": "stderr",
     "output_type": "stream",
     "text": [
      "1it [00:04,  4.81s/it]\n"
     ]
    }
   ],
   "source": [
    "pandas_gbq.to_gbq(changes, table_id, project_id=project_id, if_exists='append')"
   ]
  },
  {
   "cell_type": "code",
   "execution_count": null,
   "id": "3ccf1d14",
   "metadata": {},
   "outputs": [],
   "source": []
  }
 ],
 "metadata": {
  "kernelspec": {
   "display_name": "Python [conda env:tensorflow_env] *",
   "language": "python",
   "name": "conda-env-tensorflow_env-py"
  },
  "language_info": {
   "codemirror_mode": {
    "name": "ipython",
    "version": 3
   },
   "file_extension": ".py",
   "mimetype": "text/x-python",
   "name": "python",
   "nbconvert_exporter": "python",
   "pygments_lexer": "ipython3",
   "version": "3.7.13"
  }
 },
 "nbformat": 4,
 "nbformat_minor": 5
}
