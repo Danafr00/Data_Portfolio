{
 "cells": [
  {
   "cell_type": "markdown",
   "id": "1136ad7e",
   "metadata": {},
   "source": [
    "## Set up Bigquery Database"
   ]
  },
  {
   "cell_type": "code",
   "execution_count": 1,
   "id": "e70e8392",
   "metadata": {},
   "outputs": [],
   "source": [
    "import pandas as pd\n",
    "import pandas_gbq"
   ]
  },
  {
   "cell_type": "code",
   "execution_count": 50,
   "id": "be74ac28",
   "metadata": {},
   "outputs": [
    {
     "data": {
      "text/plain": [
       "(208150, 9)"
      ]
     },
     "execution_count": 50,
     "metadata": {},
     "output_type": "execute_result"
    }
   ],
   "source": [
    "df = pd.read_csv('Dataset Real Estate.csv', index_col=0)\n",
    "df.shape"
   ]
  },
  {
   "cell_type": "code",
   "execution_count": 51,
   "id": "79adf51d",
   "metadata": {},
   "outputs": [
    {
     "name": "stdout",
     "output_type": "stream",
     "text": [
      "<class 'pandas.core.frame.DataFrame'>\n",
      "Int64Index: 208150 entries, 0 to 208149\n",
      "Data columns (total 9 columns):\n",
      " #   Column    Non-Null Count   Dtype  \n",
      "---  ------    --------------   -----  \n",
      " 0   Address   208150 non-null  object \n",
      " 1   Beds      202309 non-null  object \n",
      " 2   Baths     208150 non-null  object \n",
      " 3   Area      169131 non-null  object \n",
      " 4   Price     207681 non-null  float64\n",
      " 5   Street    208150 non-null  object \n",
      " 6   District  208150 non-null  object \n",
      " 7   City      208150 non-null  object \n",
      " 8   Zip Code  208150 non-null  object \n",
      "dtypes: float64(1), object(8)\n",
      "memory usage: 15.9+ MB\n"
     ]
    }
   ],
   "source": [
    "df.info()"
   ]
  },
  {
   "cell_type": "code",
   "execution_count": 52,
   "id": "64e1b458",
   "metadata": {},
   "outputs": [
    {
     "data": {
      "text/html": [
       "<div>\n",
       "<style scoped>\n",
       "    .dataframe tbody tr th:only-of-type {\n",
       "        vertical-align: middle;\n",
       "    }\n",
       "\n",
       "    .dataframe tbody tr th {\n",
       "        vertical-align: top;\n",
       "    }\n",
       "\n",
       "    .dataframe thead th {\n",
       "        text-align: right;\n",
       "    }\n",
       "</style>\n",
       "<table border=\"1\" class=\"dataframe\">\n",
       "  <thead>\n",
       "    <tr style=\"text-align: right;\">\n",
       "      <th></th>\n",
       "      <th>Address</th>\n",
       "      <th>Beds</th>\n",
       "      <th>Baths</th>\n",
       "      <th>Area</th>\n",
       "      <th>Price</th>\n",
       "      <th>Street</th>\n",
       "      <th>District</th>\n",
       "      <th>City</th>\n",
       "      <th>Zip Code</th>\n",
       "    </tr>\n",
       "  </thead>\n",
       "  <tbody>\n",
       "    <tr>\n",
       "      <th>0</th>\n",
       "      <td>4-74 48th Ave  #9K, Long Island City, NY 11109</td>\n",
       "      <td>1</td>\n",
       "      <td>1</td>\n",
       "      <td>700</td>\n",
       "      <td>555000.0</td>\n",
       "      <td>4-74 48th Ave  #9K</td>\n",
       "      <td>Long Island City</td>\n",
       "      <td>NY</td>\n",
       "      <td>11109</td>\n",
       "    </tr>\n",
       "    <tr>\n",
       "      <th>1</th>\n",
       "      <td>469 E  49th St   #6, Brooklyn, NY 11203</td>\n",
       "      <td>10</td>\n",
       "      <td>6</td>\n",
       "      <td>NaN</td>\n",
       "      <td>1250000.0</td>\n",
       "      <td>469 E  49th St   #6</td>\n",
       "      <td>Brooklyn</td>\n",
       "      <td>NY</td>\n",
       "      <td>11203</td>\n",
       "    </tr>\n",
       "    <tr>\n",
       "      <th>2</th>\n",
       "      <td>715 Avenue L, Brooklyn, NY 11230</td>\n",
       "      <td>8</td>\n",
       "      <td>6</td>\n",
       "      <td>2,015</td>\n",
       "      <td>1690000.0</td>\n",
       "      <td>715 Avenue L</td>\n",
       "      <td>Brooklyn</td>\n",
       "      <td>NY</td>\n",
       "      <td>11230</td>\n",
       "    </tr>\n",
       "    <tr>\n",
       "      <th>3</th>\n",
       "      <td>223 E  62nd St, New York, NY 10065</td>\n",
       "      <td>5</td>\n",
       "      <td>6</td>\n",
       "      <td>3,750</td>\n",
       "      <td>7995000.0</td>\n",
       "      <td>223 E  62nd St</td>\n",
       "      <td>New York</td>\n",
       "      <td>NY</td>\n",
       "      <td>10065</td>\n",
       "    </tr>\n",
       "    <tr>\n",
       "      <th>4</th>\n",
       "      <td>1824 E  17th St   #B2, Brooklyn, NY 11229</td>\n",
       "      <td>2</td>\n",
       "      <td>2</td>\n",
       "      <td>888</td>\n",
       "      <td>579000.0</td>\n",
       "      <td>1824 E  17th St   #B2</td>\n",
       "      <td>Brooklyn</td>\n",
       "      <td>NY</td>\n",
       "      <td>11229</td>\n",
       "    </tr>\n",
       "  </tbody>\n",
       "</table>\n",
       "</div>"
      ],
      "text/plain": [
       "                                          Address Beds Baths   Area  \\\n",
       "0  4-74 48th Ave  #9K, Long Island City, NY 11109    1     1    700   \n",
       "1         469 E  49th St   #6, Brooklyn, NY 11203   10     6    NaN   \n",
       "2                715 Avenue L, Brooklyn, NY 11230    8     6  2,015   \n",
       "3              223 E  62nd St, New York, NY 10065    5     6  3,750   \n",
       "4       1824 E  17th St   #B2, Brooklyn, NY 11229    2     2    888   \n",
       "\n",
       "       Price                 Street           District City Zip Code  \n",
       "0   555000.0     4-74 48th Ave  #9K   Long Island City   NY    11109  \n",
       "1  1250000.0    469 E  49th St   #6           Brooklyn   NY    11203  \n",
       "2  1690000.0           715 Avenue L           Brooklyn   NY    11230  \n",
       "3  7995000.0         223 E  62nd St           New York   NY    10065  \n",
       "4   579000.0  1824 E  17th St   #B2           Brooklyn   NY    11229  "
      ]
     },
     "execution_count": 52,
     "metadata": {},
     "output_type": "execute_result"
    }
   ],
   "source": [
    "df.head()"
   ]
  },
  {
   "cell_type": "code",
   "execution_count": 53,
   "id": "b05dda43",
   "metadata": {},
   "outputs": [],
   "source": [
    "df.columns = ['Address', 'Beds', 'Baths', 'Area', 'Price', 'Street', 'District',\n",
    "       'City', 'Zip_Code']"
   ]
  },
  {
   "cell_type": "code",
   "execution_count": 54,
   "id": "f8108b3f",
   "metadata": {},
   "outputs": [],
   "source": [
    "df['Area'] = df['Area'].str.replace(',', '')\n",
    "df['Area'] = df['Area'].str.split(\" \", n=1, expand=True)[0]"
   ]
  },
  {
   "cell_type": "code",
   "execution_count": 59,
   "id": "2e9c9e95",
   "metadata": {},
   "outputs": [
    {
     "data": {
      "text/html": [
       "<div>\n",
       "<style scoped>\n",
       "    .dataframe tbody tr th:only-of-type {\n",
       "        vertical-align: middle;\n",
       "    }\n",
       "\n",
       "    .dataframe tbody tr th {\n",
       "        vertical-align: top;\n",
       "    }\n",
       "\n",
       "    .dataframe thead th {\n",
       "        text-align: right;\n",
       "    }\n",
       "</style>\n",
       "<table border=\"1\" class=\"dataframe\">\n",
       "  <thead>\n",
       "    <tr style=\"text-align: right;\">\n",
       "      <th></th>\n",
       "      <th>Address</th>\n",
       "      <th>Beds</th>\n",
       "      <th>Baths</th>\n",
       "      <th>Area</th>\n",
       "      <th>Price</th>\n",
       "      <th>Street</th>\n",
       "      <th>District</th>\n",
       "      <th>City</th>\n",
       "      <th>Zip_Code</th>\n",
       "    </tr>\n",
       "  </thead>\n",
       "  <tbody>\n",
       "    <tr>\n",
       "      <th>0</th>\n",
       "      <td>4-74 48th Ave  #9K, Long Island City, NY 11109</td>\n",
       "      <td>1</td>\n",
       "      <td>1</td>\n",
       "      <td>700</td>\n",
       "      <td>555000.0</td>\n",
       "      <td>4-74 48th Ave  #9K</td>\n",
       "      <td>Long Island City</td>\n",
       "      <td>NY</td>\n",
       "      <td>11109</td>\n",
       "    </tr>\n",
       "    <tr>\n",
       "      <th>2</th>\n",
       "      <td>715 Avenue L, Brooklyn, NY 11230</td>\n",
       "      <td>8</td>\n",
       "      <td>6</td>\n",
       "      <td>2015</td>\n",
       "      <td>1690000.0</td>\n",
       "      <td>715 Avenue L</td>\n",
       "      <td>Brooklyn</td>\n",
       "      <td>NY</td>\n",
       "      <td>11230</td>\n",
       "    </tr>\n",
       "    <tr>\n",
       "      <th>3</th>\n",
       "      <td>223 E  62nd St, New York, NY 10065</td>\n",
       "      <td>5</td>\n",
       "      <td>6</td>\n",
       "      <td>3750</td>\n",
       "      <td>7995000.0</td>\n",
       "      <td>223 E  62nd St</td>\n",
       "      <td>New York</td>\n",
       "      <td>NY</td>\n",
       "      <td>10065</td>\n",
       "    </tr>\n",
       "    <tr>\n",
       "      <th>4</th>\n",
       "      <td>1824 E  17th St   #B2, Brooklyn, NY 11229</td>\n",
       "      <td>2</td>\n",
       "      <td>2</td>\n",
       "      <td>888</td>\n",
       "      <td>579000.0</td>\n",
       "      <td>1824 E  17th St   #B2</td>\n",
       "      <td>Brooklyn</td>\n",
       "      <td>NY</td>\n",
       "      <td>11229</td>\n",
       "    </tr>\n",
       "    <tr>\n",
       "      <th>5</th>\n",
       "      <td>335-341 Nostrand Avenue UNIT 401-A, Brooklyn, ...</td>\n",
       "      <td>1</td>\n",
       "      <td>1</td>\n",
       "      <td>469</td>\n",
       "      <td>539000.0</td>\n",
       "      <td>335-341 Nostrand Avenue UNIT 401-A</td>\n",
       "      <td>Brooklyn</td>\n",
       "      <td>NY</td>\n",
       "      <td>11216</td>\n",
       "    </tr>\n",
       "  </tbody>\n",
       "</table>\n",
       "</div>"
      ],
      "text/plain": [
       "                                             Address Beds Baths  Area  \\\n",
       "0     4-74 48th Ave  #9K, Long Island City, NY 11109    1     1   700   \n",
       "2                   715 Avenue L, Brooklyn, NY 11230    8     6  2015   \n",
       "3                 223 E  62nd St, New York, NY 10065    5     6  3750   \n",
       "4          1824 E  17th St   #B2, Brooklyn, NY 11229    2     2   888   \n",
       "5  335-341 Nostrand Avenue UNIT 401-A, Brooklyn, ...    1     1   469   \n",
       "\n",
       "       Price                              Street           District City  \\\n",
       "0   555000.0                  4-74 48th Ave  #9K   Long Island City   NY   \n",
       "2  1690000.0                        715 Avenue L           Brooklyn   NY   \n",
       "3  7995000.0                      223 E  62nd St           New York   NY   \n",
       "4   579000.0               1824 E  17th St   #B2           Brooklyn   NY   \n",
       "5   539000.0  335-341 Nostrand Avenue UNIT 401-A           Brooklyn   NY   \n",
       "\n",
       "  Zip_Code  \n",
       "0    11109  \n",
       "2    11230  \n",
       "3    10065  \n",
       "4    11229  \n",
       "5    11216  "
      ]
     },
     "execution_count": 59,
     "metadata": {},
     "output_type": "execute_result"
    }
   ],
   "source": [
    "df_clean=df.where(df.Area != r'n/a')\n",
    "df_clean=df_clean.where(df.Baths != r'n/')\n",
    "df_clean=df_clean.drop_duplicates()\n",
    "df_clean=df_clean.dropna()\n",
    "df_clean.head()"
   ]
  },
  {
   "cell_type": "code",
   "execution_count": 60,
   "id": "d99dd86e",
   "metadata": {},
   "outputs": [],
   "source": [
    "df_clean['Area'] = df_clean['Area'].astype('int')\n",
    "df_clean['Baths'] = df_clean['Baths'].astype('int')"
   ]
  },
  {
   "cell_type": "code",
   "execution_count": 61,
   "id": "ce461fe9",
   "metadata": {},
   "outputs": [
    {
     "name": "stdout",
     "output_type": "stream",
     "text": [
      "<class 'pandas.core.frame.DataFrame'>\n",
      "Int64Index: 3472 entries, 0 to 208149\n",
      "Data columns (total 9 columns):\n",
      " #   Column    Non-Null Count  Dtype  \n",
      "---  ------    --------------  -----  \n",
      " 0   Address   3472 non-null   object \n",
      " 1   Beds      3472 non-null   object \n",
      " 2   Baths     3472 non-null   int32  \n",
      " 3   Area      3472 non-null   int32  \n",
      " 4   Price     3472 non-null   float64\n",
      " 5   Street    3472 non-null   object \n",
      " 6   District  3472 non-null   object \n",
      " 7   City      3472 non-null   object \n",
      " 8   Zip_Code  3472 non-null   object \n",
      "dtypes: float64(1), int32(2), object(6)\n",
      "memory usage: 244.1+ KB\n"
     ]
    }
   ],
   "source": [
    "df_clean.info()"
   ]
  },
  {
   "cell_type": "code",
   "execution_count": 62,
   "id": "728e4e59",
   "metadata": {},
   "outputs": [
    {
     "data": {
      "text/plain": [
       "(3472, 9)"
      ]
     },
     "execution_count": 62,
     "metadata": {},
     "output_type": "execute_result"
    }
   ],
   "source": [
    "df_clean.shape"
   ]
  },
  {
   "cell_type": "code",
   "execution_count": 63,
   "id": "8a88e54e",
   "metadata": {},
   "outputs": [],
   "source": [
    "project_id = 'latihan-345909'\n",
    "table_id = 'latihan-345909.real_estate.test_1'"
   ]
  },
  {
   "cell_type": "code",
   "execution_count": 64,
   "id": "9581a8ad",
   "metadata": {},
   "outputs": [
    {
     "name": "stderr",
     "output_type": "stream",
     "text": [
      "1it [00:06,  7.00s/it]\n"
     ]
    }
   ],
   "source": [
    "pandas_gbq.to_gbq(df_clean, table_id, project_id=project_id,if_exists='append')"
   ]
  },
  {
   "cell_type": "markdown",
   "id": "c98c8b72",
   "metadata": {},
   "source": [
    "## Scrape New Data"
   ]
  },
  {
   "cell_type": "code",
   "execution_count": null,
   "id": "43ecec82",
   "metadata": {},
   "outputs": [],
   "source": [
    "from bs4 import BeautifulSoup\n",
    "import requests\n",
    "import numpy as np\n",
    "import urllib.parse \n",
    "\n",
    "headers = ({\n",
    "    'User-Agent': 'Mozilla/5.0 (Windows NT 10.0; Win64; x64) AppleWebKit/537.36 (KHTML, like Gecko) Chrome/104.0.5112.81 Safari/537.36 Edg/104.0.1293.54'})\n",
    "\n",
    "address = []\n",
    "beds = []\n",
    "baths = []\n",
    "areas = []\n",
    "prices = []\n",
    "\n",
    "web = ['https://www.trulia.com/NY/New_York/',\n",
    "       'https://www.trulia.com/CA/Los_Angeles/',\n",
    "       'https://www.trulia.com/IL/Chicago/',\n",
    "       'https://www.trulia.com/AZ/Phoenix/',\n",
    "       'https://www.trulia.com/NV/Las_Vegas/']\n",
    "\n",
    "for h in web:\n",
    "    for i in range(1, pages + 1):\n",
    "        website = requests.get(h + str(i) + '_p/', headers=headers)\n",
    "\n",
    "        soup = BeautifulSoup(website.content, 'html.parser')\n",
    "\n",
    "        result = soup.find_all('div',\n",
    "                       {'data-testid': 'property-card-details'})\n",
    "\n",
    "        result_update = [k for k in result if k.has_attr('data-testid')]\n",
    "\n",
    "        for result in result_update:\n",
    "\n",
    "            try:\n",
    "                address.append(result.find('div', {'data-testid': 'property-address'}).get_text())\n",
    "            except:\n",
    "                address.append(\"n/a\")\n",
    "\n",
    "            try:\n",
    "                beds.append(result.find('div', {'data-testid': 'property-beds'}).get_text())\n",
    "            except:\n",
    "                beds.append(\"n/a\")\n",
    "\n",
    "            try:\n",
    "                baths.append(result.find('div', {'data-testid': 'property-baths'}).get_text())\n",
    "            except:\n",
    "                baths.append(\"n/a\")\n",
    "\n",
    "            try:\n",
    "                areas.append(result.find('div', {'data-testid': 'property-floorSpace'}).get_text())\n",
    "            except:\n",
    "                areas.append(\"n/a\")\n",
    "\n",
    "            try:\n",
    "                prices.append(result.find('div', {'data-testid': 'property-price'}).get_text())\n",
    "            except:\n",
    "                prices.append(\"n/a\")\n",
    "\n",
    "\n",
    "real_estate_new = pd.DataFrame(list(zip(address, beds, baths, areas, prices)), columns=['Address', 'Beds', 'Baths', 'Area', 'Price'])\n",
    "\n",
    "df_dict = real_estate_new.to_dict('dict')\n"
   ]
  },
  {
   "cell_type": "code",
   "execution_count": 19,
   "id": "5618b1e2",
   "metadata": {},
   "outputs": [],
   "source": [
    "real_estate_new['Beds'] = real_estate_new['Beds'].apply(lambda x: x.strip('bd'))\n",
    "real_estate_new['Baths'] = real_estate_new['Baths'].apply(lambda x: x.strip('ba'))\n",
    "real_estate_new['Price'] = real_estate_new['Price'].apply(lambda x: x.strip('$'))\n",
    "real_estate_new['Price'] = real_estate_new['Price'].apply(lambda x: x.replace(\",\",\"\"))\n",
    "real_estate_new['Price'] = real_estate_new['Price'].apply(lambda x: x.replace(\"+\",\"\"))\n",
    "real_estate_new['Area'] = real_estate_new['Area'].apply(lambda x: x.replace(\" sqft\",\"\"))\n",
    "\n",
    "real_estate_new['Street']=real_estate_new['Address'].apply(lambda x: x.split(',')[0])\n",
    "real_estate_new['District']=real_estate_new['Address'].apply(lambda x: x.split(',')[1])\n",
    "real_estate_new['City']=real_estate_new['Address'].apply(lambda x: x.split(',')[2].split(' ')[1])\n",
    "real_estate_new['Zip_Code']=real_estate_new['Address'].apply(lambda x: x.split(',')[2].split(' ')[2])"
   ]
  },
  {
   "cell_type": "code",
   "execution_count": 20,
   "id": "c5e96981",
   "metadata": {},
   "outputs": [],
   "source": [
    "real_estate_new['Area'] = real_estate_new['Area'].str.replace(',', '')\n",
    "real_estate_new['Area'] = real_estate_new['Area'].str.split(\" \", n=1, expand=True)[0]"
   ]
  },
  {
   "cell_type": "code",
   "execution_count": 70,
   "id": "4af37fd9",
   "metadata": {},
   "outputs": [
    {
     "data": {
      "text/html": [
       "<div>\n",
       "<style scoped>\n",
       "    .dataframe tbody tr th:only-of-type {\n",
       "        vertical-align: middle;\n",
       "    }\n",
       "\n",
       "    .dataframe tbody tr th {\n",
       "        vertical-align: top;\n",
       "    }\n",
       "\n",
       "    .dataframe thead th {\n",
       "        text-align: right;\n",
       "    }\n",
       "</style>\n",
       "<table border=\"1\" class=\"dataframe\">\n",
       "  <thead>\n",
       "    <tr style=\"text-align: right;\">\n",
       "      <th></th>\n",
       "      <th>Address</th>\n",
       "      <th>Beds</th>\n",
       "      <th>Baths</th>\n",
       "      <th>Area</th>\n",
       "      <th>Price</th>\n",
       "      <th>Street</th>\n",
       "      <th>District</th>\n",
       "      <th>City</th>\n",
       "      <th>Zip_Code</th>\n",
       "    </tr>\n",
       "  </thead>\n",
       "  <tbody>\n",
       "    <tr>\n",
       "      <th>0</th>\n",
       "      <td>1371 Edwards Ave, Bronx, NY 10461</td>\n",
       "      <td>3</td>\n",
       "      <td>2</td>\n",
       "      <td>1800</td>\n",
       "      <td>698000</td>\n",
       "      <td>1371 Edwards Ave</td>\n",
       "      <td>Bronx</td>\n",
       "      <td>NY</td>\n",
       "      <td>10461</td>\n",
       "    </tr>\n",
       "    <tr>\n",
       "      <th>4</th>\n",
       "      <td>730 E  95th St, Brooklyn, NY 11236</td>\n",
       "      <td>5</td>\n",
       "      <td>3</td>\n",
       "      <td>2700</td>\n",
       "      <td>999000</td>\n",
       "      <td>730 E  95th St</td>\n",
       "      <td>Brooklyn</td>\n",
       "      <td>NY</td>\n",
       "      <td>11236</td>\n",
       "    </tr>\n",
       "    <tr>\n",
       "      <th>5</th>\n",
       "      <td>3751 86th St   #3, Jackson Heights, NY 11372</td>\n",
       "      <td>1</td>\n",
       "      <td>1</td>\n",
       "      <td>800</td>\n",
       "      <td>258000</td>\n",
       "      <td>3751 86th St   #3</td>\n",
       "      <td>Jackson Heights</td>\n",
       "      <td>NY</td>\n",
       "      <td>11372</td>\n",
       "    </tr>\n",
       "    <tr>\n",
       "      <th>6</th>\n",
       "      <td>44 E  67th St #4D, New York, NY 10065</td>\n",
       "      <td>1</td>\n",
       "      <td>1</td>\n",
       "      <td>874</td>\n",
       "      <td>1495000</td>\n",
       "      <td>44 E  67th St #4D</td>\n",
       "      <td>New York</td>\n",
       "      <td>NY</td>\n",
       "      <td>10065</td>\n",
       "    </tr>\n",
       "    <tr>\n",
       "      <th>7</th>\n",
       "      <td>190 22nd St   #2, Brooklyn, NY 11232</td>\n",
       "      <td>9</td>\n",
       "      <td>9</td>\n",
       "      <td>6200</td>\n",
       "      <td>3500000</td>\n",
       "      <td>190 22nd St   #2</td>\n",
       "      <td>Brooklyn</td>\n",
       "      <td>NY</td>\n",
       "      <td>11232</td>\n",
       "    </tr>\n",
       "  </tbody>\n",
       "</table>\n",
       "</div>"
      ],
      "text/plain": [
       "                                        Address Beds Baths  Area    Price  \\\n",
       "0             1371 Edwards Ave, Bronx, NY 10461    3     2  1800   698000   \n",
       "4            730 E  95th St, Brooklyn, NY 11236    5     3  2700   999000   \n",
       "5  3751 86th St   #3, Jackson Heights, NY 11372    1     1   800   258000   \n",
       "6         44 E  67th St #4D, New York, NY 10065    1     1   874  1495000   \n",
       "7          190 22nd St   #2, Brooklyn, NY 11232    9     9  6200  3500000   \n",
       "\n",
       "              Street          District City Zip_Code  \n",
       "0   1371 Edwards Ave             Bronx   NY    10461  \n",
       "4     730 E  95th St          Brooklyn   NY    11236  \n",
       "5  3751 86th St   #3   Jackson Heights   NY    11372  \n",
       "6  44 E  67th St #4D          New York   NY    10065  \n",
       "7   190 22nd St   #2          Brooklyn   NY    11232  "
      ]
     },
     "execution_count": 70,
     "metadata": {},
     "output_type": "execute_result"
    }
   ],
   "source": [
    "real_estate_clean=real_estate_new.where(real_estate_new.Area != r'n/a')\n",
    "real_estate_clean=real_estate_clean.where(real_estate_clean.Baths != r'n/')\n",
    "real_estate_clean=real_estate_clean.where(real_estate_clean.Price != r'')\n",
    "real_estate_clean=real_estate_clean.drop_duplicates()\n",
    "real_estate_clean=real_estate_clean.dropna()\n",
    "real_estate_clean.head()"
   ]
  },
  {
   "cell_type": "code",
   "execution_count": 71,
   "id": "47c71701",
   "metadata": {},
   "outputs": [],
   "source": [
    "real_estate_clean['Area'] = real_estate_clean['Area'].astype('int')\n",
    "real_estate_clean['Baths'] = real_estate_clean['Baths'].astype('int')\n",
    "real_estate_clean['Price'] = real_estate_clean['Price'].astype('float64')"
   ]
  },
  {
   "cell_type": "code",
   "execution_count": 72,
   "id": "a67ca596",
   "metadata": {},
   "outputs": [
    {
     "name": "stdout",
     "output_type": "stream",
     "text": [
      "<class 'pandas.core.frame.DataFrame'>\n",
      "Int64Index: 1713 entries, 0 to 50999\n",
      "Data columns (total 9 columns):\n",
      " #   Column    Non-Null Count  Dtype  \n",
      "---  ------    --------------  -----  \n",
      " 0   Address   1713 non-null   object \n",
      " 1   Beds      1713 non-null   object \n",
      " 2   Baths     1713 non-null   int32  \n",
      " 3   Area      1713 non-null   int32  \n",
      " 4   Price     1713 non-null   float64\n",
      " 5   Street    1713 non-null   object \n",
      " 6   District  1713 non-null   object \n",
      " 7   City      1713 non-null   object \n",
      " 8   Zip_Code  1713 non-null   object \n",
      "dtypes: float64(1), int32(2), object(6)\n",
      "memory usage: 120.4+ KB\n"
     ]
    }
   ],
   "source": [
    "real_estate_clean.info()"
   ]
  },
  {
   "cell_type": "markdown",
   "id": "97993fa3",
   "metadata": {},
   "source": [
    "### Load initial Target Data"
   ]
  },
  {
   "cell_type": "code",
   "execution_count": 73,
   "id": "c309b5ba",
   "metadata": {},
   "outputs": [],
   "source": [
    "from google.cloud import bigquery\n",
    "from google.oauth2 import service_account\n",
    "credentials = service_account.Credentials.from_service_account_file(\n",
    "'latihan-345909-d057684ecb42.json')\n",
    "\n",
    "project_id = 'latihan-345909'\n",
    "client = bigquery.Client(credentials= credentials,project=project_id)"
   ]
  },
  {
   "cell_type": "code",
   "execution_count": 74,
   "id": "33b1b833",
   "metadata": {},
   "outputs": [
    {
     "data": {
      "text/html": [
       "<div>\n",
       "<style scoped>\n",
       "    .dataframe tbody tr th:only-of-type {\n",
       "        vertical-align: middle;\n",
       "    }\n",
       "\n",
       "    .dataframe tbody tr th {\n",
       "        vertical-align: top;\n",
       "    }\n",
       "\n",
       "    .dataframe thead th {\n",
       "        text-align: right;\n",
       "    }\n",
       "</style>\n",
       "<table border=\"1\" class=\"dataframe\">\n",
       "  <thead>\n",
       "    <tr style=\"text-align: right;\">\n",
       "      <th></th>\n",
       "      <th>Address</th>\n",
       "      <th>Beds</th>\n",
       "      <th>Baths</th>\n",
       "      <th>Area</th>\n",
       "      <th>Price</th>\n",
       "      <th>Street</th>\n",
       "      <th>District</th>\n",
       "      <th>City</th>\n",
       "      <th>Zip_Code</th>\n",
       "    </tr>\n",
       "  </thead>\n",
       "  <tbody>\n",
       "    <tr>\n",
       "      <th>0</th>\n",
       "      <td>2014 2nd Ave  #BB, New York, NY 10029</td>\n",
       "      <td>24</td>\n",
       "      <td>8</td>\n",
       "      <td>6000</td>\n",
       "      <td>2500000.0</td>\n",
       "      <td>2014 2nd Ave  #BB</td>\n",
       "      <td>New York</td>\n",
       "      <td>NY</td>\n",
       "      <td>10029</td>\n",
       "    </tr>\n",
       "    <tr>\n",
       "      <th>1</th>\n",
       "      <td>825 Riverside Dr, New York, NY 10032</td>\n",
       "      <td>9</td>\n",
       "      <td>4</td>\n",
       "      <td>4100</td>\n",
       "      <td>1995000.0</td>\n",
       "      <td>825 Riverside Dr</td>\n",
       "      <td>New York</td>\n",
       "      <td>NY</td>\n",
       "      <td>10032</td>\n",
       "    </tr>\n",
       "    <tr>\n",
       "      <th>2</th>\n",
       "      <td>345 E  62nd St, New York, NY 10065</td>\n",
       "      <td>10</td>\n",
       "      <td>9</td>\n",
       "      <td>9453</td>\n",
       "      <td>9500000.0</td>\n",
       "      <td>345 E  62nd St</td>\n",
       "      <td>New York</td>\n",
       "      <td>NY</td>\n",
       "      <td>10065</td>\n",
       "    </tr>\n",
       "    <tr>\n",
       "      <th>3</th>\n",
       "      <td>1902 8th Ave  #1, Brooklyn, NY 11215</td>\n",
       "      <td>19</td>\n",
       "      <td>8</td>\n",
       "      <td>5890</td>\n",
       "      <td>3500000.0</td>\n",
       "      <td>1902 8th Ave  #1</td>\n",
       "      <td>Brooklyn</td>\n",
       "      <td>NY</td>\n",
       "      <td>11215</td>\n",
       "    </tr>\n",
       "    <tr>\n",
       "      <th>4</th>\n",
       "      <td>144 14th St, Brooklyn, NY 11215</td>\n",
       "      <td>12</td>\n",
       "      <td>4</td>\n",
       "      <td>2100</td>\n",
       "      <td>2399000.0</td>\n",
       "      <td>144 14th St</td>\n",
       "      <td>Brooklyn</td>\n",
       "      <td>NY</td>\n",
       "      <td>11215</td>\n",
       "    </tr>\n",
       "  </tbody>\n",
       "</table>\n",
       "</div>"
      ],
      "text/plain": [
       "                                 Address Beds  Baths  Area      Price  \\\n",
       "0  2014 2nd Ave  #BB, New York, NY 10029   24      8  6000  2500000.0   \n",
       "1   825 Riverside Dr, New York, NY 10032    9      4  4100  1995000.0   \n",
       "2     345 E  62nd St, New York, NY 10065   10      9  9453  9500000.0   \n",
       "3   1902 8th Ave  #1, Brooklyn, NY 11215   19      8  5890  3500000.0   \n",
       "4        144 14th St, Brooklyn, NY 11215   12      4  2100  2399000.0   \n",
       "\n",
       "              Street   District City Zip_Code  \n",
       "0  2014 2nd Ave  #BB   New York   NY    10029  \n",
       "1   825 Riverside Dr   New York   NY    10032  \n",
       "2     345 E  62nd St   New York   NY    10065  \n",
       "3   1902 8th Ave  #1   Brooklyn   NY    11215  \n",
       "4        144 14th St   Brooklyn   NY    11215  "
      ]
     },
     "execution_count": 74,
     "metadata": {},
     "output_type": "execute_result"
    }
   ],
   "source": [
    "sql = \"\"\"\n",
    "   SELECT *\n",
    "   FROM real_estate.test_1\n",
    "   \"\"\"\n",
    "\n",
    "df = client.query(sql).to_dataframe()\n",
    "df.head()"
   ]
  },
  {
   "cell_type": "code",
   "execution_count": 75,
   "id": "1a67b38a",
   "metadata": {},
   "outputs": [],
   "source": [
    "df.dropna(inplace=True)"
   ]
  },
  {
   "cell_type": "code",
   "execution_count": 76,
   "id": "13b27a66",
   "metadata": {},
   "outputs": [
    {
     "data": {
      "text/plain": [
       "(3472, 9)"
      ]
     },
     "execution_count": 76,
     "metadata": {},
     "output_type": "execute_result"
    }
   ],
   "source": [
    "df.shape"
   ]
  },
  {
   "cell_type": "markdown",
   "id": "e9a89ea0",
   "metadata": {},
   "source": [
    "### Detect Changes in data by comparing source and target"
   ]
  },
  {
   "cell_type": "code",
   "execution_count": 77,
   "id": "bf07ba20",
   "metadata": {},
   "outputs": [
    {
     "data": {
      "text/plain": [
       "0       (2014 2nd Ave  #BB, New York, NY 10029, 24, 8,...\n",
       "1       (825 Riverside Dr, New York, NY 10032, 9, 4, 4...\n",
       "2       (345 E  62nd St, New York, NY 10065, 10, 9, 94...\n",
       "3       (1902 8th Ave  #1, Brooklyn, NY 11215, 19, 8, ...\n",
       "4       (144 14th St, Brooklyn, NY 11215, 12, 4, 2100,...\n",
       "                              ...                        \n",
       "3467    (620 S  Gramercy Pl #323, Los Angeles, CA 9000...\n",
       "3468    (Studio Plan in Perla Condos, Los Angeles, CA ...\n",
       "3469    (746 S  Los Angeles St #407, Los Angeles, CA 9...\n",
       "3470    (633 Rose Ave, Venice, CA 90291, Studio, 5, 13...\n",
       "3471    (20327 Saticoy St #207, Winnetka, CA 91306, St...\n",
       "Length: 3472, dtype: object"
      ]
     },
     "execution_count": 77,
     "metadata": {},
     "output_type": "execute_result"
    }
   ],
   "source": [
    "df.apply(tuple,1)"
   ]
  },
  {
   "cell_type": "code",
   "execution_count": 78,
   "id": "cd306414",
   "metadata": {},
   "outputs": [
    {
     "data": {
      "text/plain": [
       "0        False\n",
       "4        False\n",
       "5        False\n",
       "6        False\n",
       "7        False\n",
       "         ...  \n",
       "50995    False\n",
       "50996    False\n",
       "50997    False\n",
       "50998    False\n",
       "50999    False\n",
       "Length: 1713, dtype: bool"
      ]
     },
     "execution_count": 78,
     "metadata": {},
     "output_type": "execute_result"
    }
   ],
   "source": [
    "real_estate_clean.apply(tuple,1).isin(df.apply(tuple,1))"
   ]
  },
  {
   "cell_type": "code",
   "execution_count": 79,
   "id": "5b3b4400",
   "metadata": {},
   "outputs": [
    {
     "name": "stdout",
     "output_type": "stream",
     "text": [
      "<class 'pandas.core.frame.DataFrame'>\n",
      "Int64Index: 1626 entries, 0 to 50999\n",
      "Data columns (total 9 columns):\n",
      " #   Column    Non-Null Count  Dtype  \n",
      "---  ------    --------------  -----  \n",
      " 0   Address   1626 non-null   object \n",
      " 1   Beds      1626 non-null   object \n",
      " 2   Baths     1626 non-null   int32  \n",
      " 3   Area      1626 non-null   int32  \n",
      " 4   Price     1626 non-null   float64\n",
      " 5   Street    1626 non-null   object \n",
      " 6   District  1626 non-null   object \n",
      " 7   City      1626 non-null   object \n",
      " 8   Zip_Code  1626 non-null   object \n",
      "dtypes: float64(1), int32(2), object(6)\n",
      "memory usage: 114.3+ KB\n"
     ]
    }
   ],
   "source": [
    "changes = real_estate_clean[~real_estate_clean.apply(tuple,1).isin(df.apply(tuple,1))]\n",
    "changes.info()"
   ]
  },
  {
   "cell_type": "markdown",
   "id": "30b405b3",
   "metadata": {},
   "source": [
    "### Load the Changes to Bigquery"
   ]
  },
  {
   "cell_type": "code",
   "execution_count": 80,
   "id": "88454cac",
   "metadata": {},
   "outputs": [
    {
     "name": "stderr",
     "output_type": "stream",
     "text": [
      "1it [00:04,  4.81s/it]\n"
     ]
    }
   ],
   "source": [
    "pandas_gbq.to_gbq(changes, table_id, project_id=project_id, if_exists='append')"
   ]
  },
  {
   "cell_type": "code",
   "execution_count": null,
   "id": "17328373",
   "metadata": {},
   "outputs": [],
   "source": []
  },
  {
   "cell_type": "code",
   "execution_count": 61,
   "id": "d1c5c431",
   "metadata": {},
   "outputs": [],
   "source": [
    "import time\n",
    "from datetime import datetime\n",
    "import pytz\n",
    "import pandas as pd\n",
    "import pandas_gbq\n",
    "from bs4 import BeautifulSoup\n",
    "import requests\n",
    "import numpy as np\n",
    "import urllib.parse\n",
    "from google.cloud import bigquery\n",
    "from google.oauth2 import service_account\n",
    "import pyspark\n",
    "import pyspark.pandas as ps"
   ]
  },
  {
   "cell_type": "code",
   "execution_count": 33,
   "id": "a6d9d32f",
   "metadata": {},
   "outputs": [
    {
     "data": {
      "text/html": [
       "<div>\n",
       "<style scoped>\n",
       "    .dataframe tbody tr th:only-of-type {\n",
       "        vertical-align: middle;\n",
       "    }\n",
       "\n",
       "    .dataframe tbody tr th {\n",
       "        vertical-align: top;\n",
       "    }\n",
       "\n",
       "    .dataframe thead th {\n",
       "        text-align: right;\n",
       "    }\n",
       "</style>\n",
       "<table border=\"1\" class=\"dataframe\">\n",
       "  <thead>\n",
       "    <tr style=\"text-align: right;\">\n",
       "      <th></th>\n",
       "      <th>address</th>\n",
       "      <th>beds</th>\n",
       "      <th>baths</th>\n",
       "      <th>area</th>\n",
       "      <th>price</th>\n",
       "      <th>street</th>\n",
       "      <th>district</th>\n",
       "      <th>city</th>\n",
       "      <th>zip_code</th>\n",
       "      <th>data_date</th>\n",
       "    </tr>\n",
       "  </thead>\n",
       "  <tbody>\n",
       "    <tr>\n",
       "      <th>0</th>\n",
       "      <td>6240 N  16th St   #42, Phoenix, AZ 85016</td>\n",
       "      <td>2</td>\n",
       "      <td>2</td>\n",
       "      <td>1191</td>\n",
       "      <td>239000.0</td>\n",
       "      <td>6240 N  16th St   #42</td>\n",
       "      <td>Phoenix</td>\n",
       "      <td>AZ</td>\n",
       "      <td>85016</td>\n",
       "      <td>2023-05-10</td>\n",
       "    </tr>\n",
       "    <tr>\n",
       "      <th>1</th>\n",
       "      <td>11421 N  45th St, Phoenix, AZ 85028</td>\n",
       "      <td>3</td>\n",
       "      <td>2</td>\n",
       "      <td>2141</td>\n",
       "      <td>724999.0</td>\n",
       "      <td>11421 N  45th St</td>\n",
       "      <td>Phoenix</td>\n",
       "      <td>AZ</td>\n",
       "      <td>85028</td>\n",
       "      <td>2023-05-10</td>\n",
       "    </tr>\n",
       "    <tr>\n",
       "      <th>2</th>\n",
       "      <td>823 W  Tuckey Ln, Phoenix, AZ 85013</td>\n",
       "      <td>3</td>\n",
       "      <td>2</td>\n",
       "      <td>1647</td>\n",
       "      <td>799000.0</td>\n",
       "      <td>823 W  Tuckey Ln</td>\n",
       "      <td>Phoenix</td>\n",
       "      <td>AZ</td>\n",
       "      <td>85013</td>\n",
       "      <td>2023-05-10</td>\n",
       "    </tr>\n",
       "    <tr>\n",
       "      <th>3</th>\n",
       "      <td>14002 N  49th Ave #1094, Glendale, AZ 85306</td>\n",
       "      <td>3</td>\n",
       "      <td>2</td>\n",
       "      <td>1184</td>\n",
       "      <td>300000.0</td>\n",
       "      <td>14002 N  49th Ave #1094</td>\n",
       "      <td>Glendale</td>\n",
       "      <td>AZ</td>\n",
       "      <td>85306</td>\n",
       "      <td>2023-05-10</td>\n",
       "    </tr>\n",
       "    <tr>\n",
       "      <th>4</th>\n",
       "      <td>4509 E  Frye Rd, Phoenix, AZ 85048</td>\n",
       "      <td>4</td>\n",
       "      <td>2</td>\n",
       "      <td>1581</td>\n",
       "      <td>450000.0</td>\n",
       "      <td>4509 E  Frye Rd</td>\n",
       "      <td>Phoenix</td>\n",
       "      <td>AZ</td>\n",
       "      <td>85048</td>\n",
       "      <td>2023-05-10</td>\n",
       "    </tr>\n",
       "  </tbody>\n",
       "</table>\n",
       "</div>"
      ],
      "text/plain": [
       "                                       address  beds  baths  area     price  \\\n",
       "0     6240 N  16th St   #42, Phoenix, AZ 85016     2      2  1191  239000.0   \n",
       "1          11421 N  45th St, Phoenix, AZ 85028     3      2  2141  724999.0   \n",
       "2          823 W  Tuckey Ln, Phoenix, AZ 85013     3      2  1647  799000.0   \n",
       "3  14002 N  49th Ave #1094, Glendale, AZ 85306     3      2  1184  300000.0   \n",
       "4           4509 E  Frye Rd, Phoenix, AZ 85048     4      2  1581  450000.0   \n",
       "\n",
       "                    street   district city zip_code   data_date  \n",
       "0    6240 N  16th St   #42    Phoenix   AZ    85016  2023-05-10  \n",
       "1         11421 N  45th St    Phoenix   AZ    85028  2023-05-10  \n",
       "2         823 W  Tuckey Ln    Phoenix   AZ    85013  2023-05-10  \n",
       "3  14002 N  49th Ave #1094   Glendale   AZ    85306  2023-05-10  \n",
       "4          4509 E  Frye Rd    Phoenix   AZ    85048  2023-05-10  "
      ]
     },
     "execution_count": 33,
     "metadata": {},
     "output_type": "execute_result"
    }
   ],
   "source": [
    "credentials = service_account.Credentials.from_service_account_file(r\"latihan-345909-89e4eb39e2b1.json\")\n",
    "project_id = 'latihan-345909'\n",
    "table_id = 'latihan-345909.real_estate.trulia'\n",
    "client = bigquery.Client(credentials=credentials, project=project_id)\n",
    "\n",
    "sql = \"\"\"\n",
    "SELECT *\n",
    "FROM latihan-345909.real_estate.trulia\n",
    "\"\"\"\n",
    "\n",
    "bq_df = client.query(sql).to_dataframe()\n",
    "\n",
    "date_now = datetime.now(pytz.timezone(\"Asia/Jakarta\")).date().strftime('%Y-%m-%d')\n",
    "bq_df.head()"
   ]
  },
  {
   "cell_type": "code",
   "execution_count": 35,
   "id": "884e9dd6",
   "metadata": {},
   "outputs": [],
   "source": [
    "bq_df.insert(0, 'id', range(1, 1 + len(bq_df)))"
   ]
  },
  {
   "cell_type": "code",
   "execution_count": 36,
   "id": "b2cc4077",
   "metadata": {},
   "outputs": [
    {
     "data": {
      "text/html": [
       "<div>\n",
       "<style scoped>\n",
       "    .dataframe tbody tr th:only-of-type {\n",
       "        vertical-align: middle;\n",
       "    }\n",
       "\n",
       "    .dataframe tbody tr th {\n",
       "        vertical-align: top;\n",
       "    }\n",
       "\n",
       "    .dataframe thead th {\n",
       "        text-align: right;\n",
       "    }\n",
       "</style>\n",
       "<table border=\"1\" class=\"dataframe\">\n",
       "  <thead>\n",
       "    <tr style=\"text-align: right;\">\n",
       "      <th></th>\n",
       "      <th>id</th>\n",
       "      <th>address</th>\n",
       "      <th>beds</th>\n",
       "      <th>baths</th>\n",
       "      <th>area</th>\n",
       "      <th>price</th>\n",
       "      <th>street</th>\n",
       "      <th>district</th>\n",
       "      <th>city</th>\n",
       "      <th>zip_code</th>\n",
       "      <th>data_date</th>\n",
       "    </tr>\n",
       "  </thead>\n",
       "  <tbody>\n",
       "    <tr>\n",
       "      <th>0</th>\n",
       "      <td>1</td>\n",
       "      <td>6240 N  16th St   #42, Phoenix, AZ 85016</td>\n",
       "      <td>2</td>\n",
       "      <td>2</td>\n",
       "      <td>1191</td>\n",
       "      <td>239000.0</td>\n",
       "      <td>6240 N  16th St   #42</td>\n",
       "      <td>Phoenix</td>\n",
       "      <td>AZ</td>\n",
       "      <td>85016</td>\n",
       "      <td>2023-05-10</td>\n",
       "    </tr>\n",
       "    <tr>\n",
       "      <th>1</th>\n",
       "      <td>2</td>\n",
       "      <td>11421 N  45th St, Phoenix, AZ 85028</td>\n",
       "      <td>3</td>\n",
       "      <td>2</td>\n",
       "      <td>2141</td>\n",
       "      <td>724999.0</td>\n",
       "      <td>11421 N  45th St</td>\n",
       "      <td>Phoenix</td>\n",
       "      <td>AZ</td>\n",
       "      <td>85028</td>\n",
       "      <td>2023-05-10</td>\n",
       "    </tr>\n",
       "    <tr>\n",
       "      <th>2</th>\n",
       "      <td>3</td>\n",
       "      <td>823 W  Tuckey Ln, Phoenix, AZ 85013</td>\n",
       "      <td>3</td>\n",
       "      <td>2</td>\n",
       "      <td>1647</td>\n",
       "      <td>799000.0</td>\n",
       "      <td>823 W  Tuckey Ln</td>\n",
       "      <td>Phoenix</td>\n",
       "      <td>AZ</td>\n",
       "      <td>85013</td>\n",
       "      <td>2023-05-10</td>\n",
       "    </tr>\n",
       "    <tr>\n",
       "      <th>3</th>\n",
       "      <td>4</td>\n",
       "      <td>14002 N  49th Ave #1094, Glendale, AZ 85306</td>\n",
       "      <td>3</td>\n",
       "      <td>2</td>\n",
       "      <td>1184</td>\n",
       "      <td>300000.0</td>\n",
       "      <td>14002 N  49th Ave #1094</td>\n",
       "      <td>Glendale</td>\n",
       "      <td>AZ</td>\n",
       "      <td>85306</td>\n",
       "      <td>2023-05-10</td>\n",
       "    </tr>\n",
       "    <tr>\n",
       "      <th>4</th>\n",
       "      <td>5</td>\n",
       "      <td>4509 E  Frye Rd, Phoenix, AZ 85048</td>\n",
       "      <td>4</td>\n",
       "      <td>2</td>\n",
       "      <td>1581</td>\n",
       "      <td>450000.0</td>\n",
       "      <td>4509 E  Frye Rd</td>\n",
       "      <td>Phoenix</td>\n",
       "      <td>AZ</td>\n",
       "      <td>85048</td>\n",
       "      <td>2023-05-10</td>\n",
       "    </tr>\n",
       "  </tbody>\n",
       "</table>\n",
       "</div>"
      ],
      "text/plain": [
       "   id                                      address  beds  baths  area  \\\n",
       "0   1     6240 N  16th St   #42, Phoenix, AZ 85016     2      2  1191   \n",
       "1   2          11421 N  45th St, Phoenix, AZ 85028     3      2  2141   \n",
       "2   3          823 W  Tuckey Ln, Phoenix, AZ 85013     3      2  1647   \n",
       "3   4  14002 N  49th Ave #1094, Glendale, AZ 85306     3      2  1184   \n",
       "4   5           4509 E  Frye Rd, Phoenix, AZ 85048     4      2  1581   \n",
       "\n",
       "      price                   street   district city zip_code   data_date  \n",
       "0  239000.0    6240 N  16th St   #42    Phoenix   AZ    85016  2023-05-10  \n",
       "1  724999.0         11421 N  45th St    Phoenix   AZ    85028  2023-05-10  \n",
       "2  799000.0         823 W  Tuckey Ln    Phoenix   AZ    85013  2023-05-10  \n",
       "3  300000.0  14002 N  49th Ave #1094   Glendale   AZ    85306  2023-05-10  \n",
       "4  450000.0          4509 E  Frye Rd    Phoenix   AZ    85048  2023-05-10  "
      ]
     },
     "execution_count": 36,
     "metadata": {},
     "output_type": "execute_result"
    }
   ],
   "source": [
    "bq_df.head()"
   ]
  },
  {
   "cell_type": "code",
   "execution_count": 38,
   "id": "4e6bfa7e",
   "metadata": {},
   "outputs": [
    {
     "data": {
      "text/html": [
       "<div>\n",
       "<style scoped>\n",
       "    .dataframe tbody tr th:only-of-type {\n",
       "        vertical-align: middle;\n",
       "    }\n",
       "\n",
       "    .dataframe tbody tr th {\n",
       "        vertical-align: top;\n",
       "    }\n",
       "\n",
       "    .dataframe thead th {\n",
       "        text-align: right;\n",
       "    }\n",
       "</style>\n",
       "<table border=\"1\" class=\"dataframe\">\n",
       "  <thead>\n",
       "    <tr style=\"text-align: right;\">\n",
       "      <th></th>\n",
       "      <th>id</th>\n",
       "      <th>address</th>\n",
       "      <th>beds</th>\n",
       "      <th>baths</th>\n",
       "      <th>area</th>\n",
       "      <th>price</th>\n",
       "      <th>street</th>\n",
       "      <th>district</th>\n",
       "      <th>city</th>\n",
       "      <th>zip_code</th>\n",
       "      <th>data_date</th>\n",
       "      <th>uid</th>\n",
       "    </tr>\n",
       "  </thead>\n",
       "  <tbody>\n",
       "    <tr>\n",
       "      <th>0</th>\n",
       "      <td>1</td>\n",
       "      <td>6240 N  16th St   #42, Phoenix, AZ 85016</td>\n",
       "      <td>2</td>\n",
       "      <td>2</td>\n",
       "      <td>1191</td>\n",
       "      <td>239000.0</td>\n",
       "      <td>6240 N  16th St   #42</td>\n",
       "      <td>Phoenix</td>\n",
       "      <td>AZ</td>\n",
       "      <td>85016</td>\n",
       "      <td>2023-05-10</td>\n",
       "      <td>2023-05-10_1</td>\n",
       "    </tr>\n",
       "    <tr>\n",
       "      <th>1</th>\n",
       "      <td>2</td>\n",
       "      <td>11421 N  45th St, Phoenix, AZ 85028</td>\n",
       "      <td>3</td>\n",
       "      <td>2</td>\n",
       "      <td>2141</td>\n",
       "      <td>724999.0</td>\n",
       "      <td>11421 N  45th St</td>\n",
       "      <td>Phoenix</td>\n",
       "      <td>AZ</td>\n",
       "      <td>85028</td>\n",
       "      <td>2023-05-10</td>\n",
       "      <td>2023-05-10_2</td>\n",
       "    </tr>\n",
       "    <tr>\n",
       "      <th>2</th>\n",
       "      <td>3</td>\n",
       "      <td>823 W  Tuckey Ln, Phoenix, AZ 85013</td>\n",
       "      <td>3</td>\n",
       "      <td>2</td>\n",
       "      <td>1647</td>\n",
       "      <td>799000.0</td>\n",
       "      <td>823 W  Tuckey Ln</td>\n",
       "      <td>Phoenix</td>\n",
       "      <td>AZ</td>\n",
       "      <td>85013</td>\n",
       "      <td>2023-05-10</td>\n",
       "      <td>2023-05-10_3</td>\n",
       "    </tr>\n",
       "    <tr>\n",
       "      <th>3</th>\n",
       "      <td>4</td>\n",
       "      <td>14002 N  49th Ave #1094, Glendale, AZ 85306</td>\n",
       "      <td>3</td>\n",
       "      <td>2</td>\n",
       "      <td>1184</td>\n",
       "      <td>300000.0</td>\n",
       "      <td>14002 N  49th Ave #1094</td>\n",
       "      <td>Glendale</td>\n",
       "      <td>AZ</td>\n",
       "      <td>85306</td>\n",
       "      <td>2023-05-10</td>\n",
       "      <td>2023-05-10_4</td>\n",
       "    </tr>\n",
       "    <tr>\n",
       "      <th>4</th>\n",
       "      <td>5</td>\n",
       "      <td>4509 E  Frye Rd, Phoenix, AZ 85048</td>\n",
       "      <td>4</td>\n",
       "      <td>2</td>\n",
       "      <td>1581</td>\n",
       "      <td>450000.0</td>\n",
       "      <td>4509 E  Frye Rd</td>\n",
       "      <td>Phoenix</td>\n",
       "      <td>AZ</td>\n",
       "      <td>85048</td>\n",
       "      <td>2023-05-10</td>\n",
       "      <td>2023-05-10_5</td>\n",
       "    </tr>\n",
       "    <tr>\n",
       "      <th>...</th>\n",
       "      <td>...</td>\n",
       "      <td>...</td>\n",
       "      <td>...</td>\n",
       "      <td>...</td>\n",
       "      <td>...</td>\n",
       "      <td>...</td>\n",
       "      <td>...</td>\n",
       "      <td>...</td>\n",
       "      <td>...</td>\n",
       "      <td>...</td>\n",
       "      <td>...</td>\n",
       "      <td>...</td>\n",
       "    </tr>\n",
       "    <tr>\n",
       "      <th>287</th>\n",
       "      <td>288</td>\n",
       "      <td>64-24 83rd Street, Middle Village, NY 11379</td>\n",
       "      <td>3</td>\n",
       "      <td>2</td>\n",
       "      <td>2080</td>\n",
       "      <td>958000.0</td>\n",
       "      <td>64-24 83rd Street</td>\n",
       "      <td>Middle Village</td>\n",
       "      <td>NY</td>\n",
       "      <td>11379</td>\n",
       "      <td>2023-05-10</td>\n",
       "      <td>2023-05-10_288</td>\n",
       "    </tr>\n",
       "    <tr>\n",
       "      <th>288</th>\n",
       "      <td>289</td>\n",
       "      <td>6535 Broadway UNIT 2C/2D/2E, Bronx, NY 10471</td>\n",
       "      <td>3</td>\n",
       "      <td>2</td>\n",
       "      <td>1750</td>\n",
       "      <td>445000.0</td>\n",
       "      <td>6535 Broadway UNIT 2C/2D/2E</td>\n",
       "      <td>Bronx</td>\n",
       "      <td>NY</td>\n",
       "      <td>10471</td>\n",
       "      <td>2023-05-10</td>\n",
       "      <td>2023-05-10_289</td>\n",
       "    </tr>\n",
       "    <tr>\n",
       "      <th>289</th>\n",
       "      <td>290</td>\n",
       "      <td>6829 Groton St, Flushing, NY 11375</td>\n",
       "      <td>3</td>\n",
       "      <td>2</td>\n",
       "      <td>1332</td>\n",
       "      <td>1038000.0</td>\n",
       "      <td>6829 Groton St</td>\n",
       "      <td>Flushing</td>\n",
       "      <td>NY</td>\n",
       "      <td>11375</td>\n",
       "      <td>2023-05-10</td>\n",
       "      <td>2023-05-10_290</td>\n",
       "    </tr>\n",
       "    <tr>\n",
       "      <th>290</th>\n",
       "      <td>291</td>\n",
       "      <td>518 Mac Donough St, Brooklyn, NY 11233</td>\n",
       "      <td>4</td>\n",
       "      <td>3</td>\n",
       "      <td>3344</td>\n",
       "      <td>1700000.0</td>\n",
       "      <td>518 Mac Donough St</td>\n",
       "      <td>Brooklyn</td>\n",
       "      <td>NY</td>\n",
       "      <td>11233</td>\n",
       "      <td>2023-05-10</td>\n",
       "      <td>2023-05-10_291</td>\n",
       "    </tr>\n",
       "    <tr>\n",
       "      <th>291</th>\n",
       "      <td>292</td>\n",
       "      <td>750 Kappock Street UNIT 611-614, Bronx, NY 10463</td>\n",
       "      <td>4</td>\n",
       "      <td>3</td>\n",
       "      <td>2400</td>\n",
       "      <td>1150000.0</td>\n",
       "      <td>750 Kappock Street UNIT 611-614</td>\n",
       "      <td>Bronx</td>\n",
       "      <td>NY</td>\n",
       "      <td>10463</td>\n",
       "      <td>2023-05-10</td>\n",
       "      <td>2023-05-10_292</td>\n",
       "    </tr>\n",
       "  </tbody>\n",
       "</table>\n",
       "<p>292 rows × 12 columns</p>\n",
       "</div>"
      ],
      "text/plain": [
       "      id                                           address  beds  baths  area  \\\n",
       "0      1          6240 N  16th St   #42, Phoenix, AZ 85016     2      2  1191   \n",
       "1      2               11421 N  45th St, Phoenix, AZ 85028     3      2  2141   \n",
       "2      3               823 W  Tuckey Ln, Phoenix, AZ 85013     3      2  1647   \n",
       "3      4       14002 N  49th Ave #1094, Glendale, AZ 85306     3      2  1184   \n",
       "4      5                4509 E  Frye Rd, Phoenix, AZ 85048     4      2  1581   \n",
       "..   ...                                               ...   ...    ...   ...   \n",
       "287  288       64-24 83rd Street, Middle Village, NY 11379     3      2  2080   \n",
       "288  289      6535 Broadway UNIT 2C/2D/2E, Bronx, NY 10471     3      2  1750   \n",
       "289  290                6829 Groton St, Flushing, NY 11375     3      2  1332   \n",
       "290  291            518 Mac Donough St, Brooklyn, NY 11233     4      3  3344   \n",
       "291  292  750 Kappock Street UNIT 611-614, Bronx, NY 10463     4      3  2400   \n",
       "\n",
       "         price                           street         district city  \\\n",
       "0     239000.0            6240 N  16th St   #42          Phoenix   AZ   \n",
       "1     724999.0                 11421 N  45th St          Phoenix   AZ   \n",
       "2     799000.0                 823 W  Tuckey Ln          Phoenix   AZ   \n",
       "3     300000.0          14002 N  49th Ave #1094         Glendale   AZ   \n",
       "4     450000.0                  4509 E  Frye Rd          Phoenix   AZ   \n",
       "..         ...                              ...              ...  ...   \n",
       "287   958000.0                64-24 83rd Street   Middle Village   NY   \n",
       "288   445000.0      6535 Broadway UNIT 2C/2D/2E            Bronx   NY   \n",
       "289  1038000.0                   6829 Groton St         Flushing   NY   \n",
       "290  1700000.0               518 Mac Donough St         Brooklyn   NY   \n",
       "291  1150000.0  750 Kappock Street UNIT 611-614            Bronx   NY   \n",
       "\n",
       "    zip_code   data_date             uid  \n",
       "0      85016  2023-05-10    2023-05-10_1  \n",
       "1      85028  2023-05-10    2023-05-10_2  \n",
       "2      85013  2023-05-10    2023-05-10_3  \n",
       "3      85306  2023-05-10    2023-05-10_4  \n",
       "4      85048  2023-05-10    2023-05-10_5  \n",
       "..       ...         ...             ...  \n",
       "287    11379  2023-05-10  2023-05-10_288  \n",
       "288    10471  2023-05-10  2023-05-10_289  \n",
       "289    11375  2023-05-10  2023-05-10_290  \n",
       "290    11233  2023-05-10  2023-05-10_291  \n",
       "291    10463  2023-05-10  2023-05-10_292  \n",
       "\n",
       "[292 rows x 12 columns]"
      ]
     },
     "execution_count": 38,
     "metadata": {},
     "output_type": "execute_result"
    }
   ],
   "source": [
    "bq_df['uid'] = bq_df['data_date'] + '_' + bq_df['id'].astype(str)\n",
    "bq_df"
   ]
  },
  {
   "cell_type": "code",
   "execution_count": 39,
   "id": "760f7d72",
   "metadata": {},
   "outputs": [
    {
     "data": {
      "text/html": [
       "\n",
       "            <div>\n",
       "                <p><b>SparkSession - in-memory</b></p>\n",
       "                \n",
       "        <div>\n",
       "            <p><b>SparkContext</b></p>\n",
       "\n",
       "            <p><a href=\"http://LAPTOP-VCIHT22G.mshome.net:4040\">Spark UI</a></p>\n",
       "\n",
       "            <dl>\n",
       "              <dt>Version</dt>\n",
       "                <dd><code>v3.3.0</code></dd>\n",
       "              <dt>Master</dt>\n",
       "                <dd><code>local[*]</code></dd>\n",
       "              <dt>AppName</dt>\n",
       "                <dd><code>pyspark</code></dd>\n",
       "            </dl>\n",
       "        </div>\n",
       "        \n",
       "            </div>\n",
       "        "
      ],
      "text/plain": [
       "<pyspark.sql.session.SparkSession at 0x1b39dd5f9c8>"
      ]
     },
     "execution_count": 39,
     "metadata": {},
     "output_type": "execute_result"
    }
   ],
   "source": [
    "#Initialize the spark session\n",
    "from pyspark.sql import SparkSession\n",
    "spark = SparkSession.builder.appName('pyspark').getOrCreate()\n",
    "spark"
   ]
  },
  {
   "cell_type": "code",
   "execution_count": 40,
   "id": "616638cc",
   "metadata": {},
   "outputs": [
    {
     "name": "stdout",
     "output_type": "stream",
     "text": [
      "root\n",
      " |-- id: integer (nullable = true)\n",
      " |-- address: string (nullable = true)\n",
      " |-- beds: long (nullable = true)\n",
      " |-- baths: long (nullable = true)\n",
      " |-- area: long (nullable = true)\n",
      " |-- price: double (nullable = true)\n",
      " |-- street: string (nullable = true)\n",
      " |-- district: string (nullable = true)\n",
      " |-- city: string (nullable = true)\n",
      " |-- zip_code: string (nullable = true)\n",
      " |-- data_date: string (nullable = true)\n",
      " |-- uid: string (nullable = true)\n",
      "\n"
     ]
    }
   ],
   "source": [
    "spark.conf.set(\"spark.sql.execution.arrow.enabled\", \"true\")\n",
    "sparkDF=spark.createDataFrame(bq_df) \n",
    "sparkDF.printSchema()"
   ]
  },
  {
   "cell_type": "code",
   "execution_count": 41,
   "id": "65c28fa6",
   "metadata": {},
   "outputs": [
    {
     "name": "stdout",
     "output_type": "stream",
     "text": [
      "(292, 12)\n"
     ]
    }
   ],
   "source": [
    "print((sparkDF.count(), len(sparkDF.columns)))"
   ]
  },
  {
   "cell_type": "code",
   "execution_count": 42,
   "id": "a70d5eda",
   "metadata": {},
   "outputs": [
    {
     "name": "stdout",
     "output_type": "stream",
     "text": [
      "+---+--------------------+----+-----+----+---------+--------------------+------------+----+--------+----------+-------------+\n",
      "| id|             address|beds|baths|area|    price|              street|    district|city|zip_code| data_date|          uid|\n",
      "+---+--------------------+----+-----+----+---------+--------------------+------------+----+--------+----------+-------------+\n",
      "|  1|6240 N  16th St  ...|   2|    2|1191| 239000.0|6240 N  16th St  ...|     Phoenix|  AZ|   85016|2023-05-10| 2023-05-10_1|\n",
      "|  2|11421 N  45th St,...|   3|    2|2141| 724999.0|    11421 N  45th St|     Phoenix|  AZ|   85028|2023-05-10| 2023-05-10_2|\n",
      "|  3|823 W  Tuckey Ln,...|   3|    2|1647| 799000.0|    823 W  Tuckey Ln|     Phoenix|  AZ|   85013|2023-05-10| 2023-05-10_3|\n",
      "|  4|14002 N  49th Ave...|   3|    2|1184| 300000.0|14002 N  49th Ave...|    Glendale|  AZ|   85306|2023-05-10| 2023-05-10_4|\n",
      "|  5|4509 E  Frye Rd, ...|   4|    2|1581| 450000.0|     4509 E  Frye Rd|     Phoenix|  AZ|   85048|2023-05-10| 2023-05-10_5|\n",
      "|  6|2133 W  Turney Av...|   3|    2|1080| 210000.0|2133 W  Turney Av...|     Phoenix|  AZ|   85015|2023-05-10| 2023-05-10_6|\n",
      "|  7|12656 N  19th Pl ...|   2|    2|1300|  90000.0|12656 N  19th Pl ...|     Phoenix|  AZ|   85022|2023-05-10| 2023-05-10_7|\n",
      "|  8|Pima Plan in Suns...|   3|    2|1449| 338990.0|Pima Plan in Suns...|    Tolleson|  AZ|   85353|2023-05-10| 2023-05-10_8|\n",
      "|  9|4243 S  58th Ln, ...|   3|    3|1605| 373109.0|     4243 S  58th Ln|     Phoenix|  AZ|   85043|2023-05-10| 2023-05-10_9|\n",
      "| 10|Ironwood Plan 351...|   4|    3|1943| 589990.0|Ironwood Plan 351...|     Phoenix|  AZ|   85085|2023-05-10|2023-05-10_10|\n",
      "| 11|2310 W  Sienna Bo...|   4|    3|2691| 698850.0|2310 W  Sienna Bo...|     Phoenix|  AZ|   85085|2023-05-10|2023-05-10_11|\n",
      "| 12|1326 N  Central A...|   2|    3|1760| 625000.0|1326 N  Central A...|     Phoenix|  AZ|   85004|2023-05-10|2023-05-10_12|\n",
      "| 13|825 N  9th Ave #1...|   3|    4|1680| 670000.0|   825 N  9th Ave #1|     Phoenix|  AZ|   85007|2023-05-10|2023-05-10_13|\n",
      "| 14|3007 N  Manor Dr ...|   5|    6|5644|3700000.0|  3007 N  Manor Dr W|     Phoenix|  AZ|   85014|2023-05-10|2023-05-10_14|\n",
      "| 15|253 S  Broadway #...|   1|    1|1040| 750000.0|253 S  Broadway #402| Los Angeles|  CA|   90012|2023-05-10|2023-05-10_15|\n",
      "| 16|6161 Poppy Peak D...|   2|    1| 952| 850000.0|  6161 Poppy Peak Dr| Los Angeles|  CA|   90042|2023-05-10|2023-05-10_16|\n",
      "| 17|1631 242nd Pl   #...|   3|    2|1119| 548000.0|  1631 242nd Pl   #A| Harbor City|  CA|   90710|2023-05-10|2023-05-10_17|\n",
      "| 18|19120 Nordhoff St...|   2|    2|1056| 195000.0|19120 Nordhoff St...|  Northridge|  CA|   91324|2023-05-10|2023-05-10_18|\n",
      "| 19|11176 S  Manhatta...|   4|    2|1676| 649000.0|11176 S  Manhatta...| Los Angeles|  CA|   90047|2023-05-10|2023-05-10_19|\n",
      "| 20|1622 Sunset Plaza...|   3|    2|1980|2450000.0|1622 Sunset Plaza Dr| Los Angeles|  CA|   90069|2023-05-10|2023-05-10_20|\n",
      "+---+--------------------+----+-----+----+---------+--------------------+------------+----+--------+----------+-------------+\n",
      "only showing top 20 rows\n",
      "\n"
     ]
    }
   ],
   "source": [
    "sparkDF.show()"
   ]
  },
  {
   "cell_type": "code",
   "execution_count": null,
   "id": "5195aa5b",
   "metadata": {},
   "outputs": [],
   "source": [
    "from pyspark.sql.types import StringType, DateType, FloatType, IntegerType\n",
    "from pyspark.sql.functions import percentile_approx"
   ]
  },
  {
   "cell_type": "code",
   "execution_count": 47,
   "id": "13b399e6",
   "metadata": {},
   "outputs": [
    {
     "name": "stdout",
     "output_type": "stream",
     "text": [
      "root\n",
      " |-- id: integer (nullable = true)\n",
      " |-- address: string (nullable = true)\n",
      " |-- Beds: integer (nullable = true)\n",
      " |-- Baths: integer (nullable = true)\n",
      " |-- Area: integer (nullable = true)\n",
      " |-- Price: integer (nullable = true)\n",
      " |-- street: string (nullable = true)\n",
      " |-- district: string (nullable = true)\n",
      " |-- city: string (nullable = true)\n",
      " |-- zip_code: string (nullable = true)\n",
      " |-- data_date: string (nullable = true)\n",
      " |-- uid: string (nullable = true)\n",
      "\n"
     ]
    }
   ],
   "source": [
    "\n",
    "  \n",
    "sparkDF = sparkDF \\\n",
    "    .withColumn(\"Beds\", sparkDF[\"Beds\"].cast(IntegerType()))   \\\n",
    "    .withColumn(\"Baths\", sparkDF[\"Baths\"].cast(IntegerType()))   \\\n",
    "    .withColumn(\"Area\" , sparkDF[\"Area\"].cast(IntegerType()))   \\\n",
    "    .withColumn(\"Price\", sparkDF[\"Price\"].cast(IntegerType()))\n",
    "\n",
    "sparkDF.printSchema()"
   ]
  },
  {
   "cell_type": "code",
   "execution_count": 48,
   "id": "476d7ae7",
   "metadata": {},
   "outputs": [],
   "source": [
    "df_clean = sparkDF"
   ]
  },
  {
   "cell_type": "code",
   "execution_count": 49,
   "id": "4a1aa3b1",
   "metadata": {},
   "outputs": [
    {
     "name": "stdout",
     "output_type": "stream",
     "text": [
      "7.0 -1.0\n"
     ]
    }
   ],
   "source": [
    "q1_beds = df_clean.select(percentile_approx(\"Beds\", [0.25], 1000000).alias(\"quantiles\")).collect()[0]['quantiles'][0]\n",
    "q3_beds = df_clean.select(percentile_approx(\"Beds\", [0.75], 1000000).alias(\"quantiles\")).collect()[0]['quantiles'][0]\n",
    "iqr_beds = q3_beds - q1_beds\n",
    "\n",
    "#Check the Outlier Beds\n",
    "top_outlier_beds = q3_beds + 1.5 * iqr_beds\n",
    "bottom_outlier_beds= q1_beds - 1.5 * iqr_beds\n",
    "print(top_outlier_beds, bottom_outlier_beds)"
   ]
  },
  {
   "cell_type": "code",
   "execution_count": 50,
   "id": "5e551f75",
   "metadata": {},
   "outputs": [
    {
     "name": "stdout",
     "output_type": "stream",
     "text": [
      "4.5 0.5\n"
     ]
    }
   ],
   "source": [
    "q1_baths = df_clean.select(percentile_approx(\"Baths\", [0.25], 1000000).alias(\"quantiles\")).collect()[0]['quantiles'][0]\n",
    "q3_baths = df_clean.select(percentile_approx(\"Baths\", [0.75], 1000000).alias(\"quantiles\")).collect()[0]['quantiles'][0]\n",
    "iqr_baths = q3_baths - q1_baths\n",
    "\n",
    "#Check the Outlier Baths\n",
    "top_outlier_baths = q3_baths + 1.5 * iqr_baths\n",
    "bottom_outlier_baths = q1_baths - 1.5 * iqr_baths\n",
    "print(top_outlier_baths, bottom_outlier_baths)\n"
   ]
  },
  {
   "cell_type": "code",
   "execution_count": 51,
   "id": "ebcc3d5b",
   "metadata": {},
   "outputs": [
    {
     "name": "stdout",
     "output_type": "stream",
     "text": [
      "4055.0 -513.0\n"
     ]
    }
   ],
   "source": [
    "q1_area = df_clean.select(percentile_approx(\"Area\", [0.25], 1000000).alias(\"quantiles\")).collect()[0]['quantiles'][0]\n",
    "q3_area = df_clean.select(percentile_approx(\"Area\", [0.75], 1000000).alias(\"quantiles\")).collect()[0]['quantiles'][0]\n",
    "iqr_area = q3_area - q1_area\n",
    "\n",
    "#Check the Outlier Area\n",
    "top_outlier_area = q3_area + 1.5 * iqr_area\n",
    "bottom_outlier_area = q1_area - 1.5 * iqr_area\n",
    "print(top_outlier_area, bottom_outlier_area)"
   ]
  },
  {
   "cell_type": "code",
   "execution_count": 52,
   "id": "43c564e5",
   "metadata": {},
   "outputs": [
    {
     "name": "stdout",
     "output_type": "stream",
     "text": [
      "2552836.5 -934727.5\n"
     ]
    }
   ],
   "source": [
    "q1_price = df_clean.select(percentile_approx(\"Price\", [0.25], 1000000).alias(\"quantiles\")).collect()[0]['quantiles'][0]\n",
    "q3_price = df_clean.select(percentile_approx(\"Price\", [0.75], 1000000).alias(\"quantiles\")).collect()[0]['quantiles'][0]\n",
    "iqr_price = q3_price - q1_price\n",
    "\n",
    "#Check the Outlier Price\n",
    "top_outlier_price = q3_price + 1.5 * iqr_price\n",
    "bottom_outlier_price = q1_price - 1.5 * iqr_price\n",
    "print(top_outlier_price, bottom_outlier_price)"
   ]
  },
  {
   "cell_type": "code",
   "execution_count": 53,
   "id": "23cab746",
   "metadata": {},
   "outputs": [],
   "source": [
    "df_clean = df_clean.filter(df_clean['Beds']<=top_outlier_beds)\n",
    "df_clean = df_clean.filter(df_clean['Baths']<=top_outlier_baths)\n",
    "df_clean = df_clean.filter(df_clean['Area']<=top_outlier_area)\n",
    "df_clean = df_clean.filter(df_clean['Price']<=top_outlier_price)\n",
    "\n"
   ]
  },
  {
   "cell_type": "code",
   "execution_count": 58,
   "id": "208972b5",
   "metadata": {},
   "outputs": [
    {
     "name": "stdout",
     "output_type": "stream",
     "text": [
      "(249, 12)\n"
     ]
    }
   ],
   "source": [
    "print((df_clean.count(), len(df_clean.columns)))"
   ]
  },
  {
   "cell_type": "code",
   "execution_count": 59,
   "id": "4f446e9c",
   "metadata": {},
   "outputs": [
    {
     "name": "stdout",
     "output_type": "stream",
     "text": [
      "root\n",
      " |-- id: integer (nullable = true)\n",
      " |-- address: string (nullable = true)\n",
      " |-- Beds: integer (nullable = true)\n",
      " |-- Baths: integer (nullable = true)\n",
      " |-- Area: integer (nullable = true)\n",
      " |-- Price: integer (nullable = true)\n",
      " |-- street: string (nullable = true)\n",
      " |-- district: string (nullable = true)\n",
      " |-- city: string (nullable = true)\n",
      " |-- zip_code: string (nullable = true)\n",
      " |-- data_date: string (nullable = true)\n",
      " |-- uid: string (nullable = true)\n",
      "\n"
     ]
    }
   ],
   "source": [
    "df = df_clean.dropDuplicates([\"Beds\", \"Baths\", \"Area\", \"Price\", \"district\", \"city\"])\n",
    "df.printSchema()"
   ]
  },
  {
   "cell_type": "code",
   "execution_count": 65,
   "id": "fe36826e",
   "metadata": {},
   "outputs": [
    {
     "name": "stdout",
     "output_type": "stream",
     "text": [
      "+---+--------------------+----+-----+----+-------+--------------------+-----------+----+--------+----------+--------------+\n",
      "| id|             address|Beds|Baths|Area|  Price|              street|   district|city|zip_code| data_date|           uid|\n",
      "+---+--------------------+----+-----+----+-------+--------------------+-----------+----+--------+----------+--------------+\n",
      "|229|2648 N  43rd Ave ...|   3|    1| 957| 179990|2648 N  43rd Ave #9A|    Phoenix|  AZ|   85009|2023-05-10|2023-05-10_229|\n",
      "|125|2405 E  Fairmount...|   2|    1|1374|1300000|2405 E  Fairmount...|    Phoenix|  AZ|   85016|2023-05-10|2023-05-10_125|\n",
      "|  6|2133 W  Turney Av...|   3|    2|1080| 210000|2133 W  Turney Av...|    Phoenix|  AZ|   85015|2023-05-10|  2023-05-10_6|\n",
      "|  4|14002 N  49th Ave...|   3|    2|1184| 300000|14002 N  49th Ave...|   Glendale|  AZ|   85306|2023-05-10|  2023-05-10_4|\n",
      "|  1|6240 N  16th St  ...|   2|    2|1191| 239000|6240 N  16th St  ...|    Phoenix|  AZ|   85016|2023-05-10|  2023-05-10_1|\n",
      "|128|4402 N  24th St, ...|   4|    2|1261| 459900|     4402 N  24th St|    Phoenix|  AZ|   85016|2023-05-10|2023-05-10_128|\n",
      "|134|18811 N  19th Ave...|   3|    2|1289| 265000|18811 N  19th Ave...|    Phoenix|  AZ|   85027|2023-05-10|2023-05-10_134|\n",
      "|  7|12656 N  19th Pl ...|   2|    2|1300|  90000|12656 N  19th Pl ...|    Phoenix|  AZ|   85022|2023-05-10|  2023-05-10_7|\n",
      "|129|3522 W  Malapai D...|   3|    2|1410| 299000|  3522 W  Malapai Dr|    Phoenix|  AZ|   85051|2023-05-10|2023-05-10_129|\n",
      "|  8|Pima Plan in Suns...|   3|    2|1449| 338990|Pima Plan in Suns...|   Tolleson|  AZ|   85353|2023-05-10|  2023-05-10_8|\n",
      "|135|3537 W  Twain Dr,...|   3|    2|1567| 495000|    3537 W  Twain Dr|     Anthem|  AZ|   85086|2023-05-10|2023-05-10_135|\n",
      "|132|9005 S  68th Dr, ...|   3|    2|1568| 400840|     9005 S  68th Dr|     Laveen|  AZ|   85339|2023-05-10|2023-05-10_132|\n",
      "|  5|4509 E  Frye Rd, ...|   4|    2|1581| 450000|     4509 E  Frye Rd|    Phoenix|  AZ|   85048|2023-05-10|  2023-05-10_5|\n",
      "|  3|823 W  Tuckey Ln,...|   3|    2|1647| 799000|    823 W  Tuckey Ln|    Phoenix|  AZ|   85013|2023-05-10|  2023-05-10_3|\n",
      "|133|4849 E  Camelback...|   1|    2|1677|2195000|4849 E  Camelback...| Scottsdale|  AZ|   85251|2023-05-10|2023-05-10_133|\n",
      "|233|Plan 1760 in Libe...|   3|    2|1760| 372990|Plan 1760 in Libe...|    Phoenix|  AZ|   85041|2023-05-10|2023-05-10_233|\n",
      "|236|2433 W  Maricopa ...|   4|    2|1773| 329999| 2433 W  Maricopa St|    Phoenix|  AZ|   85009|2023-05-10|2023-05-10_236|\n",
      "|126|3225 W  Dailey St...|   3|    2|1790| 549000|   3225 W  Dailey St|    Phoenix|  AZ|   85053|2023-05-10|2023-05-10_126|\n",
      "|131|9009 S  68th Dr, ...|   4|    2|1832| 415840|     9009 S  68th Dr|     Laveen|  AZ|   85339|2023-05-10|2023-05-10_131|\n",
      "|234|Palo Verde Plan 3...|   4|    2|1923| 584990|Palo Verde Plan 3...|    Phoenix|  AZ|   85085|2023-05-10|2023-05-10_234|\n",
      "+---+--------------------+----+-----+----+-------+--------------------+-----------+----+--------+----------+--------------+\n",
      "only showing top 20 rows\n",
      "\n"
     ]
    }
   ],
   "source": [
    "df.createOrReplaceTempView(\"clean_data\")\n",
    "df_selected = spark.sql(\"select * from clean_data\")\n",
    "df_selected.show()"
   ]
  },
  {
   "cell_type": "code",
   "execution_count": 67,
   "id": "5f1f7d5e",
   "metadata": {},
   "outputs": [
    {
     "name": "stdout",
     "output_type": "stream",
     "text": [
      "+---+--------------------+----+-----+----+-------+--------------------+-----------+----+--------+----------+--------------+---------+-------------+\n",
      "| id|             address|Beds|Baths|Area|  Price|              street|   district|city|zip_code| data_date|           uid|cityIndex|districtIndex|\n",
      "+---+--------------------+----+-----+----+-------+--------------------+-----------+----+--------+----------+--------------+---------+-------------+\n",
      "|229|2648 N  43rd Ave ...|   3|    1| 957| 179990|2648 N  43rd Ave #9A|    Phoenix|  AZ|   85009|2023-05-10|2023-05-10_229|      0.0|         22.0|\n",
      "|125|2405 E  Fairmount...|   2|    1|1374|1300000|2405 E  Fairmount...|    Phoenix|  AZ|   85016|2023-05-10|2023-05-10_125|      0.0|         22.0|\n",
      "|  6|2133 W  Turney Av...|   3|    2|1080| 210000|2133 W  Turney Av...|    Phoenix|  AZ|   85015|2023-05-10|  2023-05-10_6|      0.0|         22.0|\n",
      "|  4|14002 N  49th Ave...|   3|    2|1184| 300000|14002 N  49th Ave...|   Glendale|  AZ|   85306|2023-05-10|  2023-05-10_4|      0.0|          8.0|\n",
      "|  1|6240 N  16th St  ...|   2|    2|1191| 239000|6240 N  16th St  ...|    Phoenix|  AZ|   85016|2023-05-10|  2023-05-10_1|      0.0|         22.0|\n",
      "|128|4402 N  24th St, ...|   4|    2|1261| 459900|     4402 N  24th St|    Phoenix|  AZ|   85016|2023-05-10|2023-05-10_128|      0.0|         22.0|\n",
      "|134|18811 N  19th Ave...|   3|    2|1289| 265000|18811 N  19th Ave...|    Phoenix|  AZ|   85027|2023-05-10|2023-05-10_134|      0.0|         22.0|\n",
      "|  7|12656 N  19th Pl ...|   2|    2|1300|  90000|12656 N  19th Pl ...|    Phoenix|  AZ|   85022|2023-05-10|  2023-05-10_7|      0.0|         22.0|\n",
      "|129|3522 W  Malapai D...|   3|    2|1410| 299000|  3522 W  Malapai Dr|    Phoenix|  AZ|   85051|2023-05-10|2023-05-10_129|      0.0|         22.0|\n",
      "|  8|Pima Plan in Suns...|   3|    2|1449| 338990|Pima Plan in Suns...|   Tolleson|  AZ|   85353|2023-05-10|  2023-05-10_8|      0.0|         36.0|\n",
      "|135|3537 W  Twain Dr,...|   3|    2|1567| 495000|    3537 W  Twain Dr|     Anthem|  AZ|   85086|2023-05-10|2023-05-10_135|      0.0|          0.0|\n",
      "|132|9005 S  68th Dr, ...|   3|    2|1568| 400840|     9005 S  68th Dr|     Laveen|  AZ|   85339|2023-05-10|2023-05-10_132|      0.0|         13.0|\n",
      "|  5|4509 E  Frye Rd, ...|   4|    2|1581| 450000|     4509 E  Frye Rd|    Phoenix|  AZ|   85048|2023-05-10|  2023-05-10_5|      0.0|         22.0|\n",
      "|  3|823 W  Tuckey Ln,...|   3|    2|1647| 799000|    823 W  Tuckey Ln|    Phoenix|  AZ|   85013|2023-05-10|  2023-05-10_3|      0.0|         22.0|\n",
      "|133|4849 E  Camelback...|   1|    2|1677|2195000|4849 E  Camelback...| Scottsdale|  AZ|   85251|2023-05-10|2023-05-10_133|      0.0|         29.0|\n",
      "|233|Plan 1760 in Libe...|   3|    2|1760| 372990|Plan 1760 in Libe...|    Phoenix|  AZ|   85041|2023-05-10|2023-05-10_233|      0.0|         22.0|\n",
      "|236|2433 W  Maricopa ...|   4|    2|1773| 329999| 2433 W  Maricopa St|    Phoenix|  AZ|   85009|2023-05-10|2023-05-10_236|      0.0|         22.0|\n",
      "|126|3225 W  Dailey St...|   3|    2|1790| 549000|   3225 W  Dailey St|    Phoenix|  AZ|   85053|2023-05-10|2023-05-10_126|      0.0|         22.0|\n",
      "|131|9009 S  68th Dr, ...|   4|    2|1832| 415840|     9009 S  68th Dr|     Laveen|  AZ|   85339|2023-05-10|2023-05-10_131|      0.0|         13.0|\n",
      "|234|Palo Verde Plan 3...|   4|    2|1923| 584990|Palo Verde Plan 3...|    Phoenix|  AZ|   85085|2023-05-10|2023-05-10_234|      0.0|         22.0|\n",
      "+---+--------------------+----+-----+----+-------+--------------------+-----------+----+--------+----------+--------------+---------+-------------+\n",
      "only showing top 20 rows\n",
      "\n"
     ]
    }
   ],
   "source": [
    "from pyspark.ml.feature import StringIndexer\n",
    "\n",
    "indexer = StringIndexer(inputCols=[\"city\", \"district\"], \n",
    "                        outputCols=[\"cityIndex\", \"districtIndex\"], \n",
    "                        stringOrderType=\"alphabetAsc\")\n",
    "indexed = indexer.fit(df_selected).transform(df_selected)\n",
    "indexed.show()"
   ]
  },
  {
   "cell_type": "code",
   "execution_count": 68,
   "id": "b3f81c9b",
   "metadata": {},
   "outputs": [
    {
     "name": "stdout",
     "output_type": "stream",
     "text": [
      "+---+--------------------+----+-----+----+-------+--------------------+-----------+----+--------+----------+--------------+---------+-------------+-------------+----------------+\n",
      "| id|             address|Beds|Baths|Area|  Price|              street|   district|city|zip_code| data_date|           uid|cityIndex|districtIndex| categoryCity|categoryDistrict|\n",
      "+---+--------------------+----+-----+----+-------+--------------------+-----------+----+--------+----------+--------------+---------+-------------+-------------+----------------+\n",
      "|229|2648 N  43rd Ave ...|   3|    1| 957| 179990|2648 N  43rd Ave #9A|    Phoenix|  AZ|   85009|2023-05-10|2023-05-10_229|      0.0|         22.0|(4,[0],[1.0])| (44,[22],[1.0])|\n",
      "|125|2405 E  Fairmount...|   2|    1|1374|1300000|2405 E  Fairmount...|    Phoenix|  AZ|   85016|2023-05-10|2023-05-10_125|      0.0|         22.0|(4,[0],[1.0])| (44,[22],[1.0])|\n",
      "|  6|2133 W  Turney Av...|   3|    2|1080| 210000|2133 W  Turney Av...|    Phoenix|  AZ|   85015|2023-05-10|  2023-05-10_6|      0.0|         22.0|(4,[0],[1.0])| (44,[22],[1.0])|\n",
      "|  4|14002 N  49th Ave...|   3|    2|1184| 300000|14002 N  49th Ave...|   Glendale|  AZ|   85306|2023-05-10|  2023-05-10_4|      0.0|          8.0|(4,[0],[1.0])|  (44,[8],[1.0])|\n",
      "|  1|6240 N  16th St  ...|   2|    2|1191| 239000|6240 N  16th St  ...|    Phoenix|  AZ|   85016|2023-05-10|  2023-05-10_1|      0.0|         22.0|(4,[0],[1.0])| (44,[22],[1.0])|\n",
      "|128|4402 N  24th St, ...|   4|    2|1261| 459900|     4402 N  24th St|    Phoenix|  AZ|   85016|2023-05-10|2023-05-10_128|      0.0|         22.0|(4,[0],[1.0])| (44,[22],[1.0])|\n",
      "|134|18811 N  19th Ave...|   3|    2|1289| 265000|18811 N  19th Ave...|    Phoenix|  AZ|   85027|2023-05-10|2023-05-10_134|      0.0|         22.0|(4,[0],[1.0])| (44,[22],[1.0])|\n",
      "|  7|12656 N  19th Pl ...|   2|    2|1300|  90000|12656 N  19th Pl ...|    Phoenix|  AZ|   85022|2023-05-10|  2023-05-10_7|      0.0|         22.0|(4,[0],[1.0])| (44,[22],[1.0])|\n",
      "|129|3522 W  Malapai D...|   3|    2|1410| 299000|  3522 W  Malapai Dr|    Phoenix|  AZ|   85051|2023-05-10|2023-05-10_129|      0.0|         22.0|(4,[0],[1.0])| (44,[22],[1.0])|\n",
      "|  8|Pima Plan in Suns...|   3|    2|1449| 338990|Pima Plan in Suns...|   Tolleson|  AZ|   85353|2023-05-10|  2023-05-10_8|      0.0|         36.0|(4,[0],[1.0])| (44,[36],[1.0])|\n",
      "|135|3537 W  Twain Dr,...|   3|    2|1567| 495000|    3537 W  Twain Dr|     Anthem|  AZ|   85086|2023-05-10|2023-05-10_135|      0.0|          0.0|(4,[0],[1.0])|  (44,[0],[1.0])|\n",
      "|132|9005 S  68th Dr, ...|   3|    2|1568| 400840|     9005 S  68th Dr|     Laveen|  AZ|   85339|2023-05-10|2023-05-10_132|      0.0|         13.0|(4,[0],[1.0])| (44,[13],[1.0])|\n",
      "|  5|4509 E  Frye Rd, ...|   4|    2|1581| 450000|     4509 E  Frye Rd|    Phoenix|  AZ|   85048|2023-05-10|  2023-05-10_5|      0.0|         22.0|(4,[0],[1.0])| (44,[22],[1.0])|\n",
      "|  3|823 W  Tuckey Ln,...|   3|    2|1647| 799000|    823 W  Tuckey Ln|    Phoenix|  AZ|   85013|2023-05-10|  2023-05-10_3|      0.0|         22.0|(4,[0],[1.0])| (44,[22],[1.0])|\n",
      "|133|4849 E  Camelback...|   1|    2|1677|2195000|4849 E  Camelback...| Scottsdale|  AZ|   85251|2023-05-10|2023-05-10_133|      0.0|         29.0|(4,[0],[1.0])| (44,[29],[1.0])|\n",
      "|233|Plan 1760 in Libe...|   3|    2|1760| 372990|Plan 1760 in Libe...|    Phoenix|  AZ|   85041|2023-05-10|2023-05-10_233|      0.0|         22.0|(4,[0],[1.0])| (44,[22],[1.0])|\n",
      "|236|2433 W  Maricopa ...|   4|    2|1773| 329999| 2433 W  Maricopa St|    Phoenix|  AZ|   85009|2023-05-10|2023-05-10_236|      0.0|         22.0|(4,[0],[1.0])| (44,[22],[1.0])|\n",
      "|126|3225 W  Dailey St...|   3|    2|1790| 549000|   3225 W  Dailey St|    Phoenix|  AZ|   85053|2023-05-10|2023-05-10_126|      0.0|         22.0|(4,[0],[1.0])| (44,[22],[1.0])|\n",
      "|131|9009 S  68th Dr, ...|   4|    2|1832| 415840|     9009 S  68th Dr|     Laveen|  AZ|   85339|2023-05-10|2023-05-10_131|      0.0|         13.0|(4,[0],[1.0])| (44,[13],[1.0])|\n",
      "|234|Palo Verde Plan 3...|   4|    2|1923| 584990|Palo Verde Plan 3...|    Phoenix|  AZ|   85085|2023-05-10|2023-05-10_234|      0.0|         22.0|(4,[0],[1.0])| (44,[22],[1.0])|\n",
      "+---+--------------------+----+-----+----+-------+--------------------+-----------+----+--------+----------+--------------+---------+-------------+-------------+----------------+\n",
      "only showing top 20 rows\n",
      "\n"
     ]
    }
   ],
   "source": [
    "from pyspark.ml.feature import OneHotEncoder\n",
    "\n",
    "encoder = OneHotEncoder(inputCols=[\"cityIndex\", \"districtIndex\"],\n",
    "                        outputCols=[\"categoryCity\", \"categoryDistrict\"])\n",
    "model = encoder.fit(indexed)\n",
    "encoded = model.transform(indexed)\n",
    "encoded.show()"
   ]
  },
  {
   "cell_type": "code",
   "execution_count": 69,
   "id": "d80c98f9",
   "metadata": {},
   "outputs": [
    {
     "data": {
      "text/plain": [
       "['id',\n",
       " 'address',\n",
       " 'Beds',\n",
       " 'Baths',\n",
       " 'Area',\n",
       " 'Price',\n",
       " 'street',\n",
       " 'district',\n",
       " 'city',\n",
       " 'zip_code',\n",
       " 'data_date',\n",
       " 'uid',\n",
       " 'cityIndex',\n",
       " 'districtIndex',\n",
       " 'categoryCity',\n",
       " 'categoryDistrict']"
      ]
     },
     "execution_count": 69,
     "metadata": {},
     "output_type": "execute_result"
    }
   ],
   "source": [
    "encoded.columns"
   ]
  },
  {
   "cell_type": "code",
   "execution_count": 70,
   "id": "dc15afab",
   "metadata": {},
   "outputs": [
    {
     "name": "stdout",
     "output_type": "stream",
     "text": [
      "+---+--------------------+----+-----+----+-------+--------------------+-----------+----+--------+----------+--------------+---------+-------------+-------------+----------------+--------+-----------+--------------------+--------------------+\n",
      "| id|             address|Beds|Baths|Area|  Price|              street|   district|city|zip_code| data_date|           uid|cityIndex|districtIndex| categoryCity|categoryDistrict|Area_vec|  Price_vec|         Area_scaled|        Price_scaled|\n",
      "+---+--------------------+----+-----+----+-------+--------------------+-----------+----+--------+----------+--------------+---------+-------------+-------------+----------------+--------+-----------+--------------------+--------------------+\n",
      "|229|2648 N  43rd Ave ...|   3|    1| 957| 179990|2648 N  43rd Ave #9A|    Phoenix|  AZ|   85009|2023-05-10|2023-05-10_229|      0.0|         22.0|(4,[0],[1.0])| (44,[22],[1.0])| [957.0]| [179990.0]|[0.12910798122065...|[0.05309579200848...|\n",
      "|125|2405 E  Fairmount...|   2|    1|1374|1300000|2405 E  Fairmount...|    Phoenix|  AZ|   85016|2023-05-10|2023-05-10_125|      0.0|         22.0|(4,[0],[1.0])| (44,[22],[1.0])|[1374.0]|[1300000.0]|[0.26894701542588...|[0.5102240724868372]|\n",
      "|  6|2133 W  Turney Av...|   3|    2|1080| 210000|2133 W  Turney Av...|    Phoenix|  AZ|   85015|2023-05-10|  2023-05-10_6|      0.0|         22.0|(4,[0],[1.0])| (44,[22],[1.0])|[1080.0]| [210000.0]| [0.170355466130114]|[0.06534427166238...|\n",
      "|  4|14002 N  49th Ave...|   3|    2|1184| 300000|14002 N  49th Ave...|   Glendale|  AZ|   85306|2023-05-10|  2023-05-10_4|      0.0|          8.0|(4,[0],[1.0])|  (44,[8],[1.0])|[1184.0]| [300000.0]|[0.20523138832997...|[0.10207746622586...|\n",
      "|  1|6240 N  16th St  ...|   2|    2|1191| 239000|6240 N  16th St  ...|    Phoenix|  AZ|   85016|2023-05-10|  2023-05-10_1|      0.0|         22.0|(4,[0],[1.0])| (44,[22],[1.0])|[1191.0]| [239000.0]|[0.20757880617035...|[0.07718052324394...|\n",
      "|128|4402 N  24th St, ...|   4|    2|1261| 459900|     4402 N  24th St|    Phoenix|  AZ|   85016|2023-05-10|2023-05-10_128|      0.0|         22.0|(4,[0],[1.0])| (44,[22],[1.0])|[1261.0]| [459900.0]|[0.23105298457411...|[0.16734010856699...|\n",
      "|134|18811 N  19th Ave...|   3|    2|1289| 265000|18811 N  19th Ave...|    Phoenix|  AZ|   85027|2023-05-10|2023-05-10_134|      0.0|         22.0|(4,[0],[1.0])| (44,[22],[1.0])|[1289.0]| [265000.0]|[0.24044265593561...|[0.08779233500673...|\n",
      "|  7|12656 N  19th Pl ...|   2|    2|1300|  90000|12656 N  19th Pl ...|    Phoenix|  AZ|   85022|2023-05-10|  2023-05-10_7|      0.0|         22.0|(4,[0],[1.0])| (44,[22],[1.0])|[1300.0]|  [90000.0]|[0.24413145539906...|[0.01636667891106...|\n",
      "|129|3522 W  Malapai D...|   3|    2|1410| 299000|  3522 W  Malapai Dr|    Phoenix|  AZ|   85051|2023-05-10|2023-05-10_129|      0.0|         22.0|(4,[0],[1.0])| (44,[22],[1.0])|[1410.0]| [299000.0]|[0.2810194500335345]|[0.10166931961960...|\n",
      "|  8|Pima Plan in Suns...|   3|    2|1449| 338990|Pima Plan in Suns...|   Tolleson|  AZ|   85353|2023-05-10|  2023-05-10_8|      0.0|         36.0|(4,[0],[1.0])| (44,[36],[1.0])|[1449.0]| [338990.0]|[0.29409792085848...|[0.11799110240398...|\n",
      "|135|3537 W  Twain Dr,...|   3|    2|1567| 495000|    3537 W  Twain Dr|     Anthem|  AZ|   85086|2023-05-10|2023-05-10_135|      0.0|          0.0|(4,[0],[1.0])|  (44,[0],[1.0])|[1567.0]| [495000.0]|[0.3336686787391013]|[0.18166605444675...|\n",
      "|132|9005 S  68th Dr, ...|   3|    2|1568| 400840|     9005 S  68th Dr|     Laveen|  AZ|   85339|2023-05-10|2023-05-10_132|      0.0|         13.0|(4,[0],[1.0])| (44,[13],[1.0])|[1568.0]| [400840.0]|[0.3340040241448692]|[0.14323497000122...|\n",
      "|  5|4509 E  Frye Rd, ...|   4|    2|1581| 450000|     4509 E  Frye Rd|    Phoenix|  AZ|   85048|2023-05-10|  2023-05-10_5|      0.0|         22.0|(4,[0],[1.0])| (44,[22],[1.0])|[1581.0]| [450000.0]|[0.33836351441985...|[0.16329945716501...|\n",
      "|  3|823 W  Tuckey Ln,...|   3|    2|1647| 799000|    823 W  Tuckey Ln|    Phoenix|  AZ|   85013|2023-05-10|  2023-05-10_3|      0.0|         22.0|(4,[0],[1.0])| (44,[22],[1.0])|[1647.0]| [799000.0]|[0.36049631120053...|[0.30574262275009...|\n",
      "|133|4849 E  Camelback...|   1|    2|1677|2195000|4849 E  Camelback...| Scottsdale|  AZ|   85251|2023-05-10|2023-05-10_133|      0.0|         29.0|(4,[0],[1.0])| (44,[29],[1.0])|[1677.0]|[2195000.0]|[0.3705566733735748]|[0.8755152850904044]|\n",
      "|233|Plan 1760 in Libe...|   3|    2|1760| 372990|Plan 1760 in Libe...|    Phoenix|  AZ|   85041|2023-05-10|2023-05-10_233|      0.0|         22.0|(4,[0],[1.0])| (44,[22],[1.0])|[1760.0]| [372990.0]|[0.3983903420523139]|[0.13186808701685...|\n",
      "|236|2433 W  Maricopa ...|   4|    2|1773| 329999| 2433 W  Maricopa St|    Phoenix|  AZ|   85009|2023-05-10|2023-05-10_236|      0.0|         22.0|(4,[0],[1.0])| (44,[22],[1.0])|[1773.0]| [329999.0]|[0.4027498323272971]|[0.11432145626709...|\n",
      "|126|3225 W  Dailey St...|   3|    2|1790| 549000|   3225 W  Dailey St|    Phoenix|  AZ|   85053|2023-05-10|2023-05-10_126|      0.0|         22.0|(4,[0],[1.0])| (44,[22],[1.0])|[1790.0]| [549000.0]|[0.4084507042253521]|[0.2037059711848496]|\n",
      "|131|9009 S  68th Dr, ...|   4|    2|1832| 415840|     9009 S  68th Dr|     Laveen|  AZ|   85339|2023-05-10|2023-05-10_131|      0.0|         13.0|(4,[0],[1.0])| (44,[13],[1.0])|[1832.0]| [415840.0]|[0.4225352112676056]|[0.14935716909513...|\n",
      "|234|Palo Verde Plan 3...|   4|    2|1923| 584990|Palo Verde Plan 3...|    Phoenix|  AZ|   85085|2023-05-10|2023-05-10_234|      0.0|         22.0|(4,[0],[1.0])| (44,[22],[1.0])|[1923.0]| [584990.0]|[0.45305164319248...|[0.21839516754418...|\n",
      "+---+--------------------+----+-----+----+-------+--------------------+-----------+----+--------+----------+--------------+---------+-------------+-------------+----------------+--------+-----------+--------------------+--------------------+\n",
      "only showing top 20 rows\n",
      "\n"
     ]
    }
   ],
   "source": [
    "from pyspark.ml import Pipeline\n",
    "from pyspark.ml.feature import MinMaxScaler\n",
    "from pyspark.ml.feature import VectorAssembler\n",
    "\n",
    "columns_to_scale = [\"Area\", \"Price\"]\n",
    "assemblers = [VectorAssembler(inputCols=[col], outputCol=col + \"_vec\") for col in columns_to_scale]\n",
    "scalers = [MinMaxScaler(inputCol=col + \"_vec\", outputCol=col + \"_scaled\") for col in columns_to_scale]\n",
    "pipeline = Pipeline(stages=assemblers + scalers)\n",
    "scalerModel = pipeline.fit(encoded)\n",
    "scaledData = scalerModel.transform(encoded)\n",
    "scaledData.show()"
   ]
  },
  {
   "cell_type": "code",
   "execution_count": 71,
   "id": "48d813d5",
   "metadata": {},
   "outputs": [],
   "source": [
    "featureassembler=VectorAssembler(inputCols=['Beds', 'Baths', 'Area_scaled', 'Price_scaled', 'categoryCity', 'categoryDistrict'],\n",
    "                                 outputCol=\"Independent Features\")\n",
    "feature_output=featureassembler.transform(scaledData)"
   ]
  },
  {
   "cell_type": "code",
   "execution_count": 72,
   "id": "924a2af5",
   "metadata": {},
   "outputs": [
    {
     "name": "stdout",
     "output_type": "stream",
     "text": [
      "Number of Cluster: 2\n",
      "Silhouette Score: 0.4010856977185607\n",
      "Number of Cluster: 3\n",
      "Silhouette Score: 0.29485109956134187\n",
      "Number of Cluster: 4\n",
      "Silhouette Score: 0.2604325627476726\n",
      "Number of Cluster: 5\n",
      "Silhouette Score: 0.33827525748966886\n",
      "Number of Cluster: 6\n",
      "Silhouette Score: 0.3141151075128149\n",
      "Number of Cluster: 7\n",
      "Silhouette Score: 0.3853825679833467\n",
      "Number of Cluster: 8\n",
      "Silhouette Score: 0.38505429845513034\n",
      "Number of Cluster: 9\n",
      "Silhouette Score: 0.3940928401054393\n"
     ]
    }
   ],
   "source": [
    "from pyspark.ml.clustering import KMeans\n",
    "from pyspark.ml.evaluation import ClusteringEvaluator\n",
    "silhouette_score=[]\n",
    "evaluator = ClusteringEvaluator(predictionCol='prediction', featuresCol='Independent Features', \\\n",
    "                                metricName='silhouette', distanceMeasure='squaredEuclidean')\n",
    "for i in range(2,10):\n",
    "    \n",
    "    KMeans_algo=KMeans(featuresCol='Independent Features', k=i)\n",
    "    \n",
    "    KMeans_fit=KMeans_algo.fit(feature_output)\n",
    "    \n",
    "    output=KMeans_fit.transform(feature_output)\n",
    "    \n",
    "    \n",
    "    \n",
    "    score=evaluator.evaluate(output)\n",
    "    \n",
    "    silhouette_score.append(score)\n",
    "    print(\"Number of Cluster:\", i)\n",
    "    print(\"Silhouette Score:\",score)"
   ]
  },
  {
   "cell_type": "code",
   "execution_count": 73,
   "id": "26a9a5a5",
   "metadata": {},
   "outputs": [
    {
     "data": {
      "text/plain": [
       "array([-0.1062346 , -0.03441854,  0.07784269, -0.02416015,  0.07126746,\n",
       "       -0.00032827,  0.00903854])"
      ]
     },
     "execution_count": 73,
     "metadata": {},
     "output_type": "execute_result"
    }
   ],
   "source": [
    "np.diff(silhouette_score)"
   ]
  },
  {
   "cell_type": "code",
   "execution_count": 74,
   "id": "678b3e4d",
   "metadata": {},
   "outputs": [
    {
     "data": {
      "text/plain": [
       "Text(0, 0.5, 'cost')"
      ]
     },
     "execution_count": 74,
     "metadata": {},
     "output_type": "execute_result"
    },
    {
     "data": {
      "image/png": "[encoded data removed]",
      "text/plain": [
       "<Figure size 576x432 with 1 Axes>"
      ]
     },
     "metadata": {
      "needs_background": "light"
     },
     "output_type": "display_data"
    }
   ],
   "source": [
    "#Visualizing the silhouette scores in a plot\n",
    "import matplotlib.pyplot as plt\n",
    "fig, ax = plt.subplots(1,1, figsize =(8,6))\n",
    "ax.plot(range(2,10),silhouette_score)\n",
    "ax.set_xlabel('k')\n",
    "ax.set_ylabel('cost')"
   ]
  },
  {
   "cell_type": "code",
   "execution_count": 78,
   "id": "c04eae99",
   "metadata": {},
   "outputs": [],
   "source": [
    "def first_pos(list_score):\n",
    "    for ind, score in enumerate(list_score):\n",
    "        if score > 0:\n",
    "            return ind"
   ]
  },
  {
   "cell_type": "code",
   "execution_count": 86,
   "id": "41e8c8a4",
   "metadata": {},
   "outputs": [
    {
     "data": {
      "text/plain": [
       "4"
      ]
     },
     "execution_count": 86,
     "metadata": {},
     "output_type": "execute_result"
    }
   ],
   "source": [
    "k_n = first_pos(np.diff(silhouette_score))\n",
    "k_neighbor = k_n+2\n",
    "k_neighbor\n"
   ]
  },
  {
   "cell_type": "code",
   "execution_count": 87,
   "id": "44bfd3a9",
   "metadata": {},
   "outputs": [
    {
     "data": {
      "text/plain": [
       "0.2604325627476726"
      ]
     },
     "execution_count": 87,
     "metadata": {},
     "output_type": "execute_result"
    }
   ],
   "source": [
    "silhouette_score[k_n]"
   ]
  },
  {
   "cell_type": "code",
   "execution_count": 88,
   "id": "de5fe61a",
   "metadata": {
    "scrolled": true
   },
   "outputs": [
    {
     "name": "stdout",
     "output_type": "stream",
     "text": [
      "Number of Cluster: 4\n",
      "Silhouette Score: 0.2604325627476726\n",
      "+---+--------------------+----+-----+----+-------+--------------------+-----------+----+--------+----------+--------------+---------+-------------+-------------+----------------+--------+-----------+--------------------+--------------------+--------------------+----------+\n",
      "| id|             address|Beds|Baths|Area|  Price|              street|   district|city|zip_code| data_date|           uid|cityIndex|districtIndex| categoryCity|categoryDistrict|Area_vec|  Price_vec|         Area_scaled|        Price_scaled|Independent Features|prediction|\n",
      "+---+--------------------+----+-----+----+-------+--------------------+-----------+----+--------+----------+--------------+---------+-------------+-------------+----------------+--------+-----------+--------------------+--------------------+--------------------+----------+\n",
      "|229|2648 N  43rd Ave ...|   3|    1| 957| 179990|2648 N  43rd Ave #9A|    Phoenix|  AZ|   85009|2023-05-10|2023-05-10_229|      0.0|         22.0|(4,[0],[1.0])| (44,[22],[1.0])| [957.0]| [179990.0]|[0.12910798122065...|[0.05309579200848...|(52,[0,1,2,3,4,30...|         3|\n",
      "|125|2405 E  Fairmount...|   2|    1|1374|1300000|2405 E  Fairmount...|    Phoenix|  AZ|   85016|2023-05-10|2023-05-10_125|      0.0|         22.0|(4,[0],[1.0])| (44,[22],[1.0])|[1374.0]|[1300000.0]|[0.26894701542588...|[0.5102240724868372]|(52,[0,1,2,3,4,30...|         2|\n",
      "|  6|2133 W  Turney Av...|   3|    2|1080| 210000|2133 W  Turney Av...|    Phoenix|  AZ|   85015|2023-05-10|  2023-05-10_6|      0.0|         22.0|(4,[0],[1.0])| (44,[22],[1.0])|[1080.0]| [210000.0]| [0.170355466130114]|[0.06534427166238...|(52,[0,1,2,3,4,30...|         3|\n",
      "|  4|14002 N  49th Ave...|   3|    2|1184| 300000|14002 N  49th Ave...|   Glendale|  AZ|   85306|2023-05-10|  2023-05-10_4|      0.0|          8.0|(4,[0],[1.0])|  (44,[8],[1.0])|[1184.0]| [300000.0]|[0.20523138832997...|[0.10207746622586...|(52,[0,1,2,3,4,16...|         3|\n",
      "|  1|6240 N  16th St  ...|   2|    2|1191| 239000|6240 N  16th St  ...|    Phoenix|  AZ|   85016|2023-05-10|  2023-05-10_1|      0.0|         22.0|(4,[0],[1.0])| (44,[22],[1.0])|[1191.0]| [239000.0]|[0.20757880617035...|[0.07718052324394...|(52,[0,1,2,3,4,30...|         3|\n",
      "|128|4402 N  24th St, ...|   4|    2|1261| 459900|     4402 N  24th St|    Phoenix|  AZ|   85016|2023-05-10|2023-05-10_128|      0.0|         22.0|(4,[0],[1.0])| (44,[22],[1.0])|[1261.0]| [459900.0]|[0.23105298457411...|[0.16734010856699...|(52,[0,1,2,3,4,30...|         3|\n",
      "|134|18811 N  19th Ave...|   3|    2|1289| 265000|18811 N  19th Ave...|    Phoenix|  AZ|   85027|2023-05-10|2023-05-10_134|      0.0|         22.0|(4,[0],[1.0])| (44,[22],[1.0])|[1289.0]| [265000.0]|[0.24044265593561...|[0.08779233500673...|(52,[0,1,2,3,4,30...|         3|\n",
      "|  7|12656 N  19th Pl ...|   2|    2|1300|  90000|12656 N  19th Pl ...|    Phoenix|  AZ|   85022|2023-05-10|  2023-05-10_7|      0.0|         22.0|(4,[0],[1.0])| (44,[22],[1.0])|[1300.0]|  [90000.0]|[0.24413145539906...|[0.01636667891106...|(52,[0,1,2,3,4,30...|         3|\n",
      "|129|3522 W  Malapai D...|   3|    2|1410| 299000|  3522 W  Malapai Dr|    Phoenix|  AZ|   85051|2023-05-10|2023-05-10_129|      0.0|         22.0|(4,[0],[1.0])| (44,[22],[1.0])|[1410.0]| [299000.0]|[0.2810194500335345]|[0.10166931961960...|(52,[0,1,2,3,4,30...|         3|\n",
      "|  8|Pima Plan in Suns...|   3|    2|1449| 338990|Pima Plan in Suns...|   Tolleson|  AZ|   85353|2023-05-10|  2023-05-10_8|      0.0|         36.0|(4,[0],[1.0])| (44,[36],[1.0])|[1449.0]| [338990.0]|[0.29409792085848...|[0.11799110240398...|(52,[0,1,2,3,4,44...|         3|\n",
      "|135|3537 W  Twain Dr,...|   3|    2|1567| 495000|    3537 W  Twain Dr|     Anthem|  AZ|   85086|2023-05-10|2023-05-10_135|      0.0|          0.0|(4,[0],[1.0])|  (44,[0],[1.0])|[1567.0]| [495000.0]|[0.3336686787391013]|[0.18166605444675...|(52,[0,1,2,3,4,8]...|         3|\n",
      "|132|9005 S  68th Dr, ...|   3|    2|1568| 400840|     9005 S  68th Dr|     Laveen|  AZ|   85339|2023-05-10|2023-05-10_132|      0.0|         13.0|(4,[0],[1.0])| (44,[13],[1.0])|[1568.0]| [400840.0]|[0.3340040241448692]|[0.14323497000122...|(52,[0,1,2,3,4,21...|         3|\n",
      "|  5|4509 E  Frye Rd, ...|   4|    2|1581| 450000|     4509 E  Frye Rd|    Phoenix|  AZ|   85048|2023-05-10|  2023-05-10_5|      0.0|         22.0|(4,[0],[1.0])| (44,[22],[1.0])|[1581.0]| [450000.0]|[0.33836351441985...|[0.16329945716501...|(52,[0,1,2,3,4,30...|         3|\n",
      "|  3|823 W  Tuckey Ln,...|   3|    2|1647| 799000|    823 W  Tuckey Ln|    Phoenix|  AZ|   85013|2023-05-10|  2023-05-10_3|      0.0|         22.0|(4,[0],[1.0])| (44,[22],[1.0])|[1647.0]| [799000.0]|[0.36049631120053...|[0.30574262275009...|(52,[0,1,2,3,4,30...|         3|\n",
      "|133|4849 E  Camelback...|   1|    2|1677|2195000|4849 E  Camelback...| Scottsdale|  AZ|   85251|2023-05-10|2023-05-10_133|      0.0|         29.0|(4,[0],[1.0])| (44,[29],[1.0])|[1677.0]|[2195000.0]|[0.3705566733735748]|[0.8755152850904044]|(52,[0,1,2,3,4,37...|         2|\n",
      "|233|Plan 1760 in Libe...|   3|    2|1760| 372990|Plan 1760 in Libe...|    Phoenix|  AZ|   85041|2023-05-10|2023-05-10_233|      0.0|         22.0|(4,[0],[1.0])| (44,[22],[1.0])|[1760.0]| [372990.0]|[0.3983903420523139]|[0.13186808701685...|(52,[0,1,2,3,4,30...|         3|\n",
      "|236|2433 W  Maricopa ...|   4|    2|1773| 329999| 2433 W  Maricopa St|    Phoenix|  AZ|   85009|2023-05-10|2023-05-10_236|      0.0|         22.0|(4,[0],[1.0])| (44,[22],[1.0])|[1773.0]| [329999.0]|[0.4027498323272971]|[0.11432145626709...|(52,[0,1,2,3,4,30...|         3|\n",
      "|126|3225 W  Dailey St...|   3|    2|1790| 549000|   3225 W  Dailey St|    Phoenix|  AZ|   85053|2023-05-10|2023-05-10_126|      0.0|         22.0|(4,[0],[1.0])| (44,[22],[1.0])|[1790.0]| [549000.0]|[0.4084507042253521]|[0.2037059711848496]|(52,[0,1,2,3,4,30...|         3|\n",
      "|131|9009 S  68th Dr, ...|   4|    2|1832| 415840|     9009 S  68th Dr|     Laveen|  AZ|   85339|2023-05-10|2023-05-10_131|      0.0|         13.0|(4,[0],[1.0])| (44,[13],[1.0])|[1832.0]| [415840.0]|[0.4225352112676056]|[0.14935716909513...|(52,[0,1,2,3,4,21...|         3|\n",
      "|234|Palo Verde Plan 3...|   4|    2|1923| 584990|Palo Verde Plan 3...|    Phoenix|  AZ|   85085|2023-05-10|2023-05-10_234|      0.0|         22.0|(4,[0],[1.0])| (44,[22],[1.0])|[1923.0]| [584990.0]|[0.45305164319248...|[0.21839516754418...|(52,[0,1,2,3,4,30...|         3|\n",
      "+---+--------------------+----+-----+----+-------+--------------------+-----------+----+--------+----------+--------------+---------+-------------+-------------+----------------+--------+-----------+--------------------+--------------------+--------------------+----------+\n",
      "only showing top 20 rows\n",
      "\n"
     ]
    }
   ],
   "source": [
    "KMeans_algo=KMeans(featuresCol='Independent Features', k=k_neighbor)\n",
    "\n",
    "KMeans_fit=KMeans_algo.fit(feature_output)\n",
    "\n",
    "output=KMeans_fit.transform(feature_output)\n",
    "\n",
    "\n",
    "\n",
    "score=evaluator.evaluate(output)\n",
    "\n",
    "silhouette_score.append(score)\n",
    "print(\"Number of Cluster:\", 4)\n",
    "print(\"Silhouette Score:\",score)\n",
    "output.show()"
   ]
  },
  {
   "cell_type": "code",
   "execution_count": 89,
   "id": "81726693",
   "metadata": {},
   "outputs": [
    {
     "name": "stderr",
     "output_type": "stream",
     "text": [
      "C:\\Users\\kana\\Anaconda3\\envs\\tensorflow_env\\lib\\site-packages\\pyspark\\sql\\pandas\\conversion.py:114: UserWarning: toPandas attempted Arrow optimization because 'spark.sql.execution.arrow.pyspark.enabled' is set to true; however, failed by the reason below:\n",
      "  Unsupported type in conversion to Arrow: VectorUDT()\n",
      "Attempting non-optimization as 'spark.sql.execution.arrow.pyspark.fallback.enabled' is set to true.\n",
      "  warn(msg)\n"
     ]
    },
    {
     "data": {
      "text/html": [
       "<div>\n",
       "<style scoped>\n",
       "    .dataframe tbody tr th:only-of-type {\n",
       "        vertical-align: middle;\n",
       "    }\n",
       "\n",
       "    .dataframe tbody tr th {\n",
       "        vertical-align: top;\n",
       "    }\n",
       "\n",
       "    .dataframe thead th {\n",
       "        text-align: right;\n",
       "    }\n",
       "</style>\n",
       "<table border=\"1\" class=\"dataframe\">\n",
       "  <thead>\n",
       "    <tr style=\"text-align: right;\">\n",
       "      <th></th>\n",
       "      <th>id</th>\n",
       "      <th>address</th>\n",
       "      <th>Beds</th>\n",
       "      <th>Baths</th>\n",
       "      <th>Area</th>\n",
       "      <th>Price</th>\n",
       "      <th>street</th>\n",
       "      <th>district</th>\n",
       "      <th>city</th>\n",
       "      <th>zip_code</th>\n",
       "      <th>...</th>\n",
       "      <th>cityIndex</th>\n",
       "      <th>districtIndex</th>\n",
       "      <th>categoryCity</th>\n",
       "      <th>categoryDistrict</th>\n",
       "      <th>Area_vec</th>\n",
       "      <th>Price_vec</th>\n",
       "      <th>Area_scaled</th>\n",
       "      <th>Price_scaled</th>\n",
       "      <th>Independent Features</th>\n",
       "      <th>prediction</th>\n",
       "    </tr>\n",
       "  </thead>\n",
       "  <tbody>\n",
       "    <tr>\n",
       "      <th>0</th>\n",
       "      <td>229</td>\n",
       "      <td>2648 N  43rd Ave #9A, Phoenix, AZ 85009</td>\n",
       "      <td>3</td>\n",
       "      <td>1</td>\n",
       "      <td>957</td>\n",
       "      <td>179990</td>\n",
       "      <td>2648 N  43rd Ave #9A</td>\n",
       "      <td>Phoenix</td>\n",
       "      <td>AZ</td>\n",
       "      <td>85009</td>\n",
       "      <td>...</td>\n",
       "      <td>0.0</td>\n",
       "      <td>22.0</td>\n",
       "      <td>(1.0, 0.0, 0.0, 0.0)</td>\n",
       "      <td>(0.0, 0.0, 0.0, 0.0, 0.0, 0.0, 0.0, 0.0, 0.0, ...</td>\n",
       "      <td>[957.0]</td>\n",
       "      <td>[179990.0]</td>\n",
       "      <td>[0.12910798122065728]</td>\n",
       "      <td>[0.05309579200848945]</td>\n",
       "      <td>(3.0, 1.0, 0.12910798122065728, 0.053095792008...</td>\n",
       "      <td>3</td>\n",
       "    </tr>\n",
       "    <tr>\n",
       "      <th>1</th>\n",
       "      <td>125</td>\n",
       "      <td>2405 E  Fairmount Ave, Phoenix, AZ 85016</td>\n",
       "      <td>2</td>\n",
       "      <td>1</td>\n",
       "      <td>1374</td>\n",
       "      <td>1300000</td>\n",
       "      <td>2405 E  Fairmount Ave</td>\n",
       "      <td>Phoenix</td>\n",
       "      <td>AZ</td>\n",
       "      <td>85016</td>\n",
       "      <td>...</td>\n",
       "      <td>0.0</td>\n",
       "      <td>22.0</td>\n",
       "      <td>(1.0, 0.0, 0.0, 0.0)</td>\n",
       "      <td>(0.0, 0.0, 0.0, 0.0, 0.0, 0.0, 0.0, 0.0, 0.0, ...</td>\n",
       "      <td>[1374.0]</td>\n",
       "      <td>[1300000.0]</td>\n",
       "      <td>[0.26894701542588867]</td>\n",
       "      <td>[0.5102240724868372]</td>\n",
       "      <td>(2.0, 1.0, 0.26894701542588867, 0.510224072486...</td>\n",
       "      <td>2</td>\n",
       "    </tr>\n",
       "    <tr>\n",
       "      <th>2</th>\n",
       "      <td>6</td>\n",
       "      <td>2133 W  Turney Ave #75A, Phoenix, AZ 85015</td>\n",
       "      <td>3</td>\n",
       "      <td>2</td>\n",
       "      <td>1080</td>\n",
       "      <td>210000</td>\n",
       "      <td>2133 W  Turney Ave #75A</td>\n",
       "      <td>Phoenix</td>\n",
       "      <td>AZ</td>\n",
       "      <td>85015</td>\n",
       "      <td>...</td>\n",
       "      <td>0.0</td>\n",
       "      <td>22.0</td>\n",
       "      <td>(1.0, 0.0, 0.0, 0.0)</td>\n",
       "      <td>(0.0, 0.0, 0.0, 0.0, 0.0, 0.0, 0.0, 0.0, 0.0, ...</td>\n",
       "      <td>[1080.0]</td>\n",
       "      <td>[210000.0]</td>\n",
       "      <td>[0.170355466130114]</td>\n",
       "      <td>[0.06534427166238113]</td>\n",
       "      <td>(3.0, 2.0, 0.170355466130114, 0.06534427166238...</td>\n",
       "      <td>3</td>\n",
       "    </tr>\n",
       "    <tr>\n",
       "      <th>3</th>\n",
       "      <td>4</td>\n",
       "      <td>14002 N  49th Ave #1094, Glendale, AZ 85306</td>\n",
       "      <td>3</td>\n",
       "      <td>2</td>\n",
       "      <td>1184</td>\n",
       "      <td>300000</td>\n",
       "      <td>14002 N  49th Ave #1094</td>\n",
       "      <td>Glendale</td>\n",
       "      <td>AZ</td>\n",
       "      <td>85306</td>\n",
       "      <td>...</td>\n",
       "      <td>0.0</td>\n",
       "      <td>8.0</td>\n",
       "      <td>(1.0, 0.0, 0.0, 0.0)</td>\n",
       "      <td>(0.0, 0.0, 0.0, 0.0, 0.0, 0.0, 0.0, 0.0, 1.0, ...</td>\n",
       "      <td>[1184.0]</td>\n",
       "      <td>[300000.0]</td>\n",
       "      <td>[0.20523138832997986]</td>\n",
       "      <td>[0.10207746622586833]</td>\n",
       "      <td>(3.0, 2.0, 0.20523138832997986, 0.102077466225...</td>\n",
       "      <td>3</td>\n",
       "    </tr>\n",
       "    <tr>\n",
       "      <th>4</th>\n",
       "      <td>1</td>\n",
       "      <td>6240 N  16th St   #42, Phoenix, AZ 85016</td>\n",
       "      <td>2</td>\n",
       "      <td>2</td>\n",
       "      <td>1191</td>\n",
       "      <td>239000</td>\n",
       "      <td>6240 N  16th St   #42</td>\n",
       "      <td>Phoenix</td>\n",
       "      <td>AZ</td>\n",
       "      <td>85016</td>\n",
       "      <td>...</td>\n",
       "      <td>0.0</td>\n",
       "      <td>22.0</td>\n",
       "      <td>(1.0, 0.0, 0.0, 0.0)</td>\n",
       "      <td>(0.0, 0.0, 0.0, 0.0, 0.0, 0.0, 0.0, 0.0, 0.0, ...</td>\n",
       "      <td>[1191.0]</td>\n",
       "      <td>[239000.0]</td>\n",
       "      <td>[0.20757880617035546]</td>\n",
       "      <td>[0.07718052324394922]</td>\n",
       "      <td>(2.0, 2.0, 0.20757880617035546, 0.077180523243...</td>\n",
       "      <td>3</td>\n",
       "    </tr>\n",
       "  </tbody>\n",
       "</table>\n",
       "<p>5 rows × 22 columns</p>\n",
       "</div>"
      ],
      "text/plain": [
       "    id                                      address  Beds  Baths  Area  \\\n",
       "0  229      2648 N  43rd Ave #9A, Phoenix, AZ 85009     3      1   957   \n",
       "1  125     2405 E  Fairmount Ave, Phoenix, AZ 85016     2      1  1374   \n",
       "2    6   2133 W  Turney Ave #75A, Phoenix, AZ 85015     3      2  1080   \n",
       "3    4  14002 N  49th Ave #1094, Glendale, AZ 85306     3      2  1184   \n",
       "4    1     6240 N  16th St   #42, Phoenix, AZ 85016     2      2  1191   \n",
       "\n",
       "     Price                   street   district city zip_code  ... cityIndex  \\\n",
       "0   179990     2648 N  43rd Ave #9A    Phoenix   AZ    85009  ...       0.0   \n",
       "1  1300000    2405 E  Fairmount Ave    Phoenix   AZ    85016  ...       0.0   \n",
       "2   210000  2133 W  Turney Ave #75A    Phoenix   AZ    85015  ...       0.0   \n",
       "3   300000  14002 N  49th Ave #1094   Glendale   AZ    85306  ...       0.0   \n",
       "4   239000    6240 N  16th St   #42    Phoenix   AZ    85016  ...       0.0   \n",
       "\n",
       "  districtIndex          categoryCity  \\\n",
       "0          22.0  (1.0, 0.0, 0.0, 0.0)   \n",
       "1          22.0  (1.0, 0.0, 0.0, 0.0)   \n",
       "2          22.0  (1.0, 0.0, 0.0, 0.0)   \n",
       "3           8.0  (1.0, 0.0, 0.0, 0.0)   \n",
       "4          22.0  (1.0, 0.0, 0.0, 0.0)   \n",
       "\n",
       "                                    categoryDistrict  Area_vec    Price_vec  \\\n",
       "0  (0.0, 0.0, 0.0, 0.0, 0.0, 0.0, 0.0, 0.0, 0.0, ...   [957.0]   [179990.0]   \n",
       "1  (0.0, 0.0, 0.0, 0.0, 0.0, 0.0, 0.0, 0.0, 0.0, ...  [1374.0]  [1300000.0]   \n",
       "2  (0.0, 0.0, 0.0, 0.0, 0.0, 0.0, 0.0, 0.0, 0.0, ...  [1080.0]   [210000.0]   \n",
       "3  (0.0, 0.0, 0.0, 0.0, 0.0, 0.0, 0.0, 0.0, 1.0, ...  [1184.0]   [300000.0]   \n",
       "4  (0.0, 0.0, 0.0, 0.0, 0.0, 0.0, 0.0, 0.0, 0.0, ...  [1191.0]   [239000.0]   \n",
       "\n",
       "             Area_scaled           Price_scaled  \\\n",
       "0  [0.12910798122065728]  [0.05309579200848945]   \n",
       "1  [0.26894701542588867]   [0.5102240724868372]   \n",
       "2    [0.170355466130114]  [0.06534427166238113]   \n",
       "3  [0.20523138832997986]  [0.10207746622586833]   \n",
       "4  [0.20757880617035546]  [0.07718052324394922]   \n",
       "\n",
       "                                Independent Features prediction  \n",
       "0  (3.0, 1.0, 0.12910798122065728, 0.053095792008...          3  \n",
       "1  (2.0, 1.0, 0.26894701542588867, 0.510224072486...          2  \n",
       "2  (3.0, 2.0, 0.170355466130114, 0.06534427166238...          3  \n",
       "3  (3.0, 2.0, 0.20523138832997986, 0.102077466225...          3  \n",
       "4  (2.0, 2.0, 0.20757880617035546, 0.077180523243...          3  \n",
       "\n",
       "[5 rows x 22 columns]"
      ]
     },
     "execution_count": 89,
     "metadata": {},
     "output_type": "execute_result"
    }
   ],
   "source": [
    "pdf = output.toPandas()\n",
    "pdf.head()"
   ]
  },
  {
   "cell_type": "code",
   "execution_count": 94,
   "id": "148ef5cb",
   "metadata": {},
   "outputs": [],
   "source": [
    "table_id = \"test\"\n",
    "\n",
    "sql = \"\"\" SELECT * FROM {}\"\"\".format(table_id)"
   ]
  },
  {
   "cell_type": "code",
   "execution_count": 95,
   "id": "f3e21749",
   "metadata": {},
   "outputs": [
    {
     "data": {
      "text/plain": [
       "' SELECT * FROM test'"
      ]
     },
     "execution_count": 95,
     "metadata": {},
     "output_type": "execute_result"
    }
   ],
   "source": [
    "sql"
   ]
  },
  {
   "cell_type": "code",
   "execution_count": 98,
   "id": "44eb8d7a",
   "metadata": {},
   "outputs": [
    {
     "name": "stdout",
     "output_type": "stream",
     "text": [
      "+---+--------------------+----+-----+----+-------+--------------------+-----------+----+--------+----------+--------------+---------+-------------+-------------+----------------+--------+-----------+--------------------+--------------------+--------------------+----------+\n",
      "| id|             address|Beds|Baths|Area|  Price|              street|   district|city|zip_code| data_date|           uid|cityIndex|districtIndex| categoryCity|categoryDistrict|Area_vec|  Price_vec|         Area_scaled|        Price_scaled|Independent Features|prediction|\n",
      "+---+--------------------+----+-----+----+-------+--------------------+-----------+----+--------+----------+--------------+---------+-------------+-------------+----------------+--------+-----------+--------------------+--------------------+--------------------+----------+\n",
      "|229|2648 N  43rd Ave ...|   3|    1| 957| 179990|2648 N  43rd Ave #9A|    Phoenix|  AZ|   85009|2023-05-10|2023-05-10_229|      0.0|         22.0|(4,[0],[1.0])| (44,[22],[1.0])| [957.0]| [179990.0]|[0.12910798122065...|[0.05309579200848...|(52,[0,1,2,3,4,30...|         3|\n",
      "|125|2405 E  Fairmount...|   2|    1|1374|1300000|2405 E  Fairmount...|    Phoenix|  AZ|   85016|2023-05-10|2023-05-10_125|      0.0|         22.0|(4,[0],[1.0])| (44,[22],[1.0])|[1374.0]|[1300000.0]|[0.26894701542588...|[0.5102240724868372]|(52,[0,1,2,3,4,30...|         2|\n",
      "|  6|2133 W  Turney Av...|   3|    2|1080| 210000|2133 W  Turney Av...|    Phoenix|  AZ|   85015|2023-05-10|  2023-05-10_6|      0.0|         22.0|(4,[0],[1.0])| (44,[22],[1.0])|[1080.0]| [210000.0]| [0.170355466130114]|[0.06534427166238...|(52,[0,1,2,3,4,30...|         3|\n",
      "|  4|14002 N  49th Ave...|   3|    2|1184| 300000|14002 N  49th Ave...|   Glendale|  AZ|   85306|2023-05-10|  2023-05-10_4|      0.0|          8.0|(4,[0],[1.0])|  (44,[8],[1.0])|[1184.0]| [300000.0]|[0.20523138832997...|[0.10207746622586...|(52,[0,1,2,3,4,16...|         3|\n",
      "|  1|6240 N  16th St  ...|   2|    2|1191| 239000|6240 N  16th St  ...|    Phoenix|  AZ|   85016|2023-05-10|  2023-05-10_1|      0.0|         22.0|(4,[0],[1.0])| (44,[22],[1.0])|[1191.0]| [239000.0]|[0.20757880617035...|[0.07718052324394...|(52,[0,1,2,3,4,30...|         3|\n",
      "|128|4402 N  24th St, ...|   4|    2|1261| 459900|     4402 N  24th St|    Phoenix|  AZ|   85016|2023-05-10|2023-05-10_128|      0.0|         22.0|(4,[0],[1.0])| (44,[22],[1.0])|[1261.0]| [459900.0]|[0.23105298457411...|[0.16734010856699...|(52,[0,1,2,3,4,30...|         3|\n",
      "|134|18811 N  19th Ave...|   3|    2|1289| 265000|18811 N  19th Ave...|    Phoenix|  AZ|   85027|2023-05-10|2023-05-10_134|      0.0|         22.0|(4,[0],[1.0])| (44,[22],[1.0])|[1289.0]| [265000.0]|[0.24044265593561...|[0.08779233500673...|(52,[0,1,2,3,4,30...|         3|\n",
      "|  7|12656 N  19th Pl ...|   2|    2|1300|  90000|12656 N  19th Pl ...|    Phoenix|  AZ|   85022|2023-05-10|  2023-05-10_7|      0.0|         22.0|(4,[0],[1.0])| (44,[22],[1.0])|[1300.0]|  [90000.0]|[0.24413145539906...|[0.01636667891106...|(52,[0,1,2,3,4,30...|         3|\n",
      "|129|3522 W  Malapai D...|   3|    2|1410| 299000|  3522 W  Malapai Dr|    Phoenix|  AZ|   85051|2023-05-10|2023-05-10_129|      0.0|         22.0|(4,[0],[1.0])| (44,[22],[1.0])|[1410.0]| [299000.0]|[0.2810194500335345]|[0.10166931961960...|(52,[0,1,2,3,4,30...|         3|\n",
      "|  8|Pima Plan in Suns...|   3|    2|1449| 338990|Pima Plan in Suns...|   Tolleson|  AZ|   85353|2023-05-10|  2023-05-10_8|      0.0|         36.0|(4,[0],[1.0])| (44,[36],[1.0])|[1449.0]| [338990.0]|[0.29409792085848...|[0.11799110240398...|(52,[0,1,2,3,4,44...|         3|\n",
      "|135|3537 W  Twain Dr,...|   3|    2|1567| 495000|    3537 W  Twain Dr|     Anthem|  AZ|   85086|2023-05-10|2023-05-10_135|      0.0|          0.0|(4,[0],[1.0])|  (44,[0],[1.0])|[1567.0]| [495000.0]|[0.3336686787391013]|[0.18166605444675...|(52,[0,1,2,3,4,8]...|         3|\n",
      "|132|9005 S  68th Dr, ...|   3|    2|1568| 400840|     9005 S  68th Dr|     Laveen|  AZ|   85339|2023-05-10|2023-05-10_132|      0.0|         13.0|(4,[0],[1.0])| (44,[13],[1.0])|[1568.0]| [400840.0]|[0.3340040241448692]|[0.14323497000122...|(52,[0,1,2,3,4,21...|         3|\n",
      "|  5|4509 E  Frye Rd, ...|   4|    2|1581| 450000|     4509 E  Frye Rd|    Phoenix|  AZ|   85048|2023-05-10|  2023-05-10_5|      0.0|         22.0|(4,[0],[1.0])| (44,[22],[1.0])|[1581.0]| [450000.0]|[0.33836351441985...|[0.16329945716501...|(52,[0,1,2,3,4,30...|         3|\n",
      "|  3|823 W  Tuckey Ln,...|   3|    2|1647| 799000|    823 W  Tuckey Ln|    Phoenix|  AZ|   85013|2023-05-10|  2023-05-10_3|      0.0|         22.0|(4,[0],[1.0])| (44,[22],[1.0])|[1647.0]| [799000.0]|[0.36049631120053...|[0.30574262275009...|(52,[0,1,2,3,4,30...|         3|\n",
      "|133|4849 E  Camelback...|   1|    2|1677|2195000|4849 E  Camelback...| Scottsdale|  AZ|   85251|2023-05-10|2023-05-10_133|      0.0|         29.0|(4,[0],[1.0])| (44,[29],[1.0])|[1677.0]|[2195000.0]|[0.3705566733735748]|[0.8755152850904044]|(52,[0,1,2,3,4,37...|         2|\n",
      "|233|Plan 1760 in Libe...|   3|    2|1760| 372990|Plan 1760 in Libe...|    Phoenix|  AZ|   85041|2023-05-10|2023-05-10_233|      0.0|         22.0|(4,[0],[1.0])| (44,[22],[1.0])|[1760.0]| [372990.0]|[0.3983903420523139]|[0.13186808701685...|(52,[0,1,2,3,4,30...|         3|\n",
      "|236|2433 W  Maricopa ...|   4|    2|1773| 329999| 2433 W  Maricopa St|    Phoenix|  AZ|   85009|2023-05-10|2023-05-10_236|      0.0|         22.0|(4,[0],[1.0])| (44,[22],[1.0])|[1773.0]| [329999.0]|[0.4027498323272971]|[0.11432145626709...|(52,[0,1,2,3,4,30...|         3|\n",
      "|126|3225 W  Dailey St...|   3|    2|1790| 549000|   3225 W  Dailey St|    Phoenix|  AZ|   85053|2023-05-10|2023-05-10_126|      0.0|         22.0|(4,[0],[1.0])| (44,[22],[1.0])|[1790.0]| [549000.0]|[0.4084507042253521]|[0.2037059711848496]|(52,[0,1,2,3,4,30...|         3|\n",
      "|131|9009 S  68th Dr, ...|   4|    2|1832| 415840|     9009 S  68th Dr|     Laveen|  AZ|   85339|2023-05-10|2023-05-10_131|      0.0|         13.0|(4,[0],[1.0])| (44,[13],[1.0])|[1832.0]| [415840.0]|[0.4225352112676056]|[0.14935716909513...|(52,[0,1,2,3,4,21...|         3|\n",
      "|234|Palo Verde Plan 3...|   4|    2|1923| 584990|Palo Verde Plan 3...|    Phoenix|  AZ|   85085|2023-05-10|2023-05-10_234|      0.0|         22.0|(4,[0],[1.0])| (44,[22],[1.0])|[1923.0]| [584990.0]|[0.45305164319248...|[0.21839516754418...|(52,[0,1,2,3,4,30...|         3|\n",
      "+---+--------------------+----+-----+----+-------+--------------------+-----------+----+--------+----------+--------------+---------+-------------+-------------+----------------+--------+-----------+--------------------+--------------------+--------------------+----------+\n",
      "only showing top 20 rows\n",
      "\n"
     ]
    }
   ],
   "source": [
    "output.show()"
   ]
  },
  {
   "cell_type": "code",
   "execution_count": null,
   "id": "c1ce0019",
   "metadata": {},
   "outputs": [],
   "source": [
    "df_final = output.select(\"id\", \"address\", \"baths\", \"beds\", \"area\", \"price\", \"street\", \"district\", \"city\", \"zip_code\", \"data_date\", \"uid\", \"prediction\")\n",
    "df_final"
   ]
  },
  {
   "cell_type": "code",
   "execution_count": 102,
   "id": "f2679e6a",
   "metadata": {},
   "outputs": [
    {
     "data": {
      "text/html": [
       "<div>\n",
       "<style scoped>\n",
       "    .dataframe tbody tr th:only-of-type {\n",
       "        vertical-align: middle;\n",
       "    }\n",
       "\n",
       "    .dataframe tbody tr th {\n",
       "        vertical-align: top;\n",
       "    }\n",
       "\n",
       "    .dataframe thead th {\n",
       "        text-align: right;\n",
       "    }\n",
       "</style>\n",
       "<table border=\"1\" class=\"dataframe\">\n",
       "  <thead>\n",
       "    <tr style=\"text-align: right;\">\n",
       "      <th></th>\n",
       "      <th>id</th>\n",
       "      <th>address</th>\n",
       "      <th>Beds</th>\n",
       "      <th>Baths</th>\n",
       "      <th>Area</th>\n",
       "      <th>Price</th>\n",
       "      <th>street</th>\n",
       "      <th>district</th>\n",
       "      <th>city</th>\n",
       "      <th>zip_code</th>\n",
       "      <th>data_date</th>\n",
       "      <th>uid</th>\n",
       "      <th>prediction</th>\n",
       "    </tr>\n",
       "  </thead>\n",
       "  <tbody>\n",
       "    <tr>\n",
       "      <th>0</th>\n",
       "      <td>229</td>\n",
       "      <td>2648 N  43rd Ave #9A, Phoenix, AZ 85009</td>\n",
       "      <td>3</td>\n",
       "      <td>1</td>\n",
       "      <td>957</td>\n",
       "      <td>179990</td>\n",
       "      <td>2648 N  43rd Ave #9A</td>\n",
       "      <td>Phoenix</td>\n",
       "      <td>AZ</td>\n",
       "      <td>85009</td>\n",
       "      <td>2023-05-10</td>\n",
       "      <td>2023-05-10_229</td>\n",
       "      <td>3</td>\n",
       "    </tr>\n",
       "    <tr>\n",
       "      <th>1</th>\n",
       "      <td>125</td>\n",
       "      <td>2405 E  Fairmount Ave, Phoenix, AZ 85016</td>\n",
       "      <td>2</td>\n",
       "      <td>1</td>\n",
       "      <td>1374</td>\n",
       "      <td>1300000</td>\n",
       "      <td>2405 E  Fairmount Ave</td>\n",
       "      <td>Phoenix</td>\n",
       "      <td>AZ</td>\n",
       "      <td>85016</td>\n",
       "      <td>2023-05-10</td>\n",
       "      <td>2023-05-10_125</td>\n",
       "      <td>2</td>\n",
       "    </tr>\n",
       "    <tr>\n",
       "      <th>2</th>\n",
       "      <td>6</td>\n",
       "      <td>2133 W  Turney Ave #75A, Phoenix, AZ 85015</td>\n",
       "      <td>3</td>\n",
       "      <td>2</td>\n",
       "      <td>1080</td>\n",
       "      <td>210000</td>\n",
       "      <td>2133 W  Turney Ave #75A</td>\n",
       "      <td>Phoenix</td>\n",
       "      <td>AZ</td>\n",
       "      <td>85015</td>\n",
       "      <td>2023-05-10</td>\n",
       "      <td>2023-05-10_6</td>\n",
       "      <td>3</td>\n",
       "    </tr>\n",
       "    <tr>\n",
       "      <th>3</th>\n",
       "      <td>4</td>\n",
       "      <td>14002 N  49th Ave #1094, Glendale, AZ 85306</td>\n",
       "      <td>3</td>\n",
       "      <td>2</td>\n",
       "      <td>1184</td>\n",
       "      <td>300000</td>\n",
       "      <td>14002 N  49th Ave #1094</td>\n",
       "      <td>Glendale</td>\n",
       "      <td>AZ</td>\n",
       "      <td>85306</td>\n",
       "      <td>2023-05-10</td>\n",
       "      <td>2023-05-10_4</td>\n",
       "      <td>3</td>\n",
       "    </tr>\n",
       "    <tr>\n",
       "      <th>4</th>\n",
       "      <td>1</td>\n",
       "      <td>6240 N  16th St   #42, Phoenix, AZ 85016</td>\n",
       "      <td>2</td>\n",
       "      <td>2</td>\n",
       "      <td>1191</td>\n",
       "      <td>239000</td>\n",
       "      <td>6240 N  16th St   #42</td>\n",
       "      <td>Phoenix</td>\n",
       "      <td>AZ</td>\n",
       "      <td>85016</td>\n",
       "      <td>2023-05-10</td>\n",
       "      <td>2023-05-10_1</td>\n",
       "      <td>3</td>\n",
       "    </tr>\n",
       "  </tbody>\n",
       "</table>\n",
       "</div>"
      ],
      "text/plain": [
       "    id                                      address  Beds  Baths  Area  \\\n",
       "0  229      2648 N  43rd Ave #9A, Phoenix, AZ 85009     3      1   957   \n",
       "1  125     2405 E  Fairmount Ave, Phoenix, AZ 85016     2      1  1374   \n",
       "2    6   2133 W  Turney Ave #75A, Phoenix, AZ 85015     3      2  1080   \n",
       "3    4  14002 N  49th Ave #1094, Glendale, AZ 85306     3      2  1184   \n",
       "4    1     6240 N  16th St   #42, Phoenix, AZ 85016     2      2  1191   \n",
       "\n",
       "     Price                   street   district city zip_code   data_date  \\\n",
       "0   179990     2648 N  43rd Ave #9A    Phoenix   AZ    85009  2023-05-10   \n",
       "1  1300000    2405 E  Fairmount Ave    Phoenix   AZ    85016  2023-05-10   \n",
       "2   210000  2133 W  Turney Ave #75A    Phoenix   AZ    85015  2023-05-10   \n",
       "3   300000  14002 N  49th Ave #1094   Glendale   AZ    85306  2023-05-10   \n",
       "4   239000    6240 N  16th St   #42    Phoenix   AZ    85016  2023-05-10   \n",
       "\n",
       "              uid  prediction  \n",
       "0  2023-05-10_229           3  \n",
       "1  2023-05-10_125           2  \n",
       "2    2023-05-10_6           3  \n",
       "3    2023-05-10_4           3  \n",
       "4    2023-05-10_1           3  "
      ]
     },
     "execution_count": 102,
     "metadata": {},
     "output_type": "execute_result"
    }
   ],
   "source": [
    "df_final = output.select('id',\n",
    "                        'address',\n",
    "                        'Beds',\n",
    "                        'Baths',\n",
    "                        'Area',\n",
    "                        'Price',\n",
    "                        'street',\n",
    "                        'district',\n",
    "                        'city',\n",
    "                        'zip_code',\n",
    "                        'data_date',\n",
    "                        'uid',\n",
    "                         'prediction').toPandas()\n",
    "df_final.head()"
   ]
  },
  {
   "cell_type": "code",
   "execution_count": 99,
   "id": "7614bedc",
   "metadata": {},
   "outputs": [
    {
     "data": {
      "text/plain": [
       "['id',\n",
       " 'address',\n",
       " 'Beds',\n",
       " 'Baths',\n",
       " 'Area',\n",
       " 'Price',\n",
       " 'street',\n",
       " 'district',\n",
       " 'city',\n",
       " 'zip_code',\n",
       " 'data_date',\n",
       " 'uid',\n",
       " 'cityIndex',\n",
       " 'districtIndex',\n",
       " 'categoryCity',\n",
       " 'categoryDistrict',\n",
       " 'Area_vec',\n",
       " 'Price_vec',\n",
       " 'Area_scaled',\n",
       " 'Price_scaled',\n",
       " 'Independent Features',\n",
       " 'prediction']"
      ]
     },
     "execution_count": 99,
     "metadata": {},
     "output_type": "execute_result"
    }
   ],
   "source": [
    "output.columns"
   ]
  },
  {
   "cell_type": "code",
   "execution_count": 126,
   "id": "3dbc2f7e",
   "metadata": {},
   "outputs": [],
   "source": [
    "import time\n",
    "from datetime import datetime\n",
    "import pytz\n",
    "import pandas as pd\n",
    "import pandas_gbq\n",
    "import numpy as np\n",
    "import urllib.parse\n",
    "from google.cloud import bigquery\n",
    "from google.oauth2 import service_account\n",
    "import pyspark\n",
    "import pyspark.pandas as ps\n",
    "from pyspark.sql import SparkSession\n",
    "from pyspark.sql.types import StringType, DateType, FloatType, IntegerType\n",
    "from pyspark.sql.functions import percentile_approx\n",
    "from pyspark.ml.feature import StringIndexer\n",
    "from pyspark.ml.feature import OneHotEncoder\n",
    "from pyspark.ml import Pipeline\n",
    "from pyspark.ml.feature import MinMaxScaler\n",
    "from pyspark.ml.feature import VectorAssembler\n",
    "from pyspark.ml.clustering import KMeans\n",
    "from pyspark.ml.evaluation import ClusteringEvaluator\n",
    "\n",
    "\n",
    "credentials = service_account.Credentials.from_service_account_file(r\"latihan-345909-89e4eb39e2b1.json\")\n",
    "project_id = 'latihan-345909'\n",
    "table_id_src = 'latihan-345909.real_estate.trulia'\n",
    "table_id_target = 'latihan-345909.real_estate.trulia_clustered'\n",
    "\n",
    "spark = SparkSession.builder.appName('pyspark').getOrCreate()\n",
    "spark.conf.set(\"spark.sql.execution.arrow.enabled\", \"true\")\n",
    "\n",
    "def spark_preparation(table_id_src, table_name):\n",
    "    try:\n",
    "\n",
    "        client = bigquery.Client(credentials=credentials, project=project_id)\n",
    "\n",
    "        sql = \"\"\"SELECT * FROM {}\"\"\".format(table_id_src)\n",
    "\n",
    "        bq_df = client.query(sql).to_dataframe()\n",
    "        \n",
    "        \n",
    "        #Initiate Spark\n",
    "        spark = SparkSession.getActiveSession()\n",
    "        sparkDF=spark.createDataFrame(bq_df) \n",
    "        \n",
    "        sparkDF = sparkDF \\\n",
    "            .withColumn(\"beds\", sparkDF[\"beds\"].cast(IntegerType()))   \\\n",
    "            .withColumn(\"baths\", sparkDF[\"baths\"].cast(IntegerType()))   \\\n",
    "            .withColumn(\"area\" , sparkDF[\"area\"].cast(IntegerType()))   \\\n",
    "            .withColumn(\"price\", sparkDF[\"price\"].cast(IntegerType()))\n",
    "        \n",
    "        df_clean = sparkDF\n",
    "        \n",
    "        #Remove OUTLIER\n",
    "        \n",
    "        #Check the Outlier Beds\n",
    "        q1_beds = df_clean.select(percentile_approx(\"beds\", [0.25], 1000000).alias(\"quantiles\")).collect()[0]['quantiles'][0]\n",
    "        q3_beds = df_clean.select(percentile_approx(\"beds\", [0.75], 1000000).alias(\"quantiles\")).collect()[0]['quantiles'][0]\n",
    "        iqr_beds = q3_beds - q1_beds\n",
    "        top_outlier_beds = q3_beds + 1.5 * iqr_beds\n",
    "        bottom_outlier_beds= q1_beds - 1.5 * iqr_beds\n",
    "\n",
    "        \n",
    "        #Check the Outlier Baths\n",
    "        q1_baths = df_clean.select(percentile_approx(\"baths\", [0.25], 1000000).alias(\"quantiles\")).collect()[0]['quantiles'][0]\n",
    "        q3_baths = df_clean.select(percentile_approx(\"baths\", [0.75], 1000000).alias(\"quantiles\")).collect()[0]['quantiles'][0]\n",
    "        iqr_baths = q3_baths - q1_baths\n",
    "        top_outlier_baths = q3_baths + 1.5 * iqr_baths\n",
    "        bottom_outlier_baths = q1_baths - 1.5 * iqr_baths\n",
    "\n",
    "        #Check the Outlier Area\n",
    "        q1_area = df_clean.select(percentile_approx(\"area\", [0.25], 1000000).alias(\"quantiles\")).collect()[0]['quantiles'][0]\n",
    "        q3_area = df_clean.select(percentile_approx(\"area\", [0.75], 1000000).alias(\"quantiles\")).collect()[0]['quantiles'][0]\n",
    "        iqr_area = q3_area - q1_area\n",
    "        top_outlier_area = q3_area + 1.5 * iqr_area\n",
    "        bottom_outlier_area = q1_area - 1.5 * iqr_area\n",
    "        \n",
    "        #Check the Outlier Price\n",
    "        q1_price = df_clean.select(percentile_approx(\"price\", [0.25], 1000000).alias(\"quantiles\")).collect()[0]['quantiles'][0]\n",
    "        q3_price = df_clean.select(percentile_approx(\"price\", [0.75], 1000000).alias(\"quantiles\")).collect()[0]['quantiles'][0]\n",
    "        iqr_price = q3_price - q1_price\n",
    "        top_outlier_price = q3_price + 1.5 * iqr_price\n",
    "        bottom_outlier_price = q1_price - 1.5 * iqr_price\n",
    "        \n",
    "        df_clean = df_clean.filter(df_clean['beds']<=top_outlier_beds)\n",
    "        df_clean = df_clean.filter(df_clean['baths']<=top_outlier_baths)\n",
    "        df_clean = df_clean.filter(df_clean['area']<=top_outlier_area)\n",
    "        df_clean = df_clean.filter(df_clean['price']<=top_outlier_price) \n",
    "        \n",
    "        df = df_clean.dropDuplicates([\"beds\", \"baths\", \"area\", \"price\", \"district\", \"city\"])\n",
    "        df.createOrReplaceTempView(table_name)\n",
    "        return df\n",
    "\n",
    "    except Exception as e:\n",
    "        print(\"Preparing Data Error: \" + str(e))\n",
    "\n",
    "\n",
    "\n",
    "\n",
    "def spark_clustering(table_name, table_target):\n",
    "    try:\n",
    "        spark = SparkSession.getActiveSession()\n",
    "        \n",
    "        query = \"select * from {}\".format(table_name)\n",
    "        df_selected = spark.sql(query)\n",
    "\n",
    "        #Indexing the string column\n",
    "        indexer = StringIndexer(inputCols=[\"city\", \"district\"], \n",
    "                            outputCols=[\"cityIndex\", \"districtIndex\"], \n",
    "                            stringOrderType=\"alphabetAsc\")\n",
    "        indexed = indexer.fit(df_selected).transform(df_selected)\n",
    "\n",
    "        #OHE the string column\n",
    "        encoder = OneHotEncoder(inputCols=[\"cityIndex\", \"districtIndex\"],\n",
    "                            outputCols=[\"categoryCity\", \"categoryDistrict\"])\n",
    "        model = encoder.fit(indexed)\n",
    "        encoded = model.transform(indexed)\n",
    "\n",
    "        #Scale integer column\n",
    "        columns_to_scale = [\"area\", \"price\"]\n",
    "        assemblers = [VectorAssembler(inputCols=[col], outputCol=col + \"_vec\") for col in columns_to_scale]\n",
    "        scalers = [MinMaxScaler(inputCol=col + \"_vec\", outputCol=col + \"_scaled\") for col in columns_to_scale]\n",
    "        pipeline = Pipeline(stages=assemblers + scalers)\n",
    "        scalerModel = pipeline.fit(encoded)\n",
    "        scaledData = scalerModel.transform(encoded)\n",
    "\n",
    "        #Make all feature into a vector\n",
    "        featureassembler=VectorAssembler(inputCols=['beds', 'baths', 'area_scaled', 'price_scaled', 'categoryCity', 'categoryDistrict'],\n",
    "                                     outputCol=\"Independent Features\")\n",
    "        feature_output=featureassembler.transform(scaledData)\n",
    "\n",
    "        #Calculate the best k for kmeans\n",
    "        silhouette_score=[]\n",
    "        evaluator = ClusteringEvaluator(predictionCol='prediction', featuresCol='Independent Features', \\\n",
    "                                        metricName='silhouette', distanceMeasure='squaredEuclidean')\n",
    "        for i in range(2,10):\n",
    "            KMeans_algo=KMeans(featuresCol='Independent Features', k=i)\n",
    "            KMeans_fit=KMeans_algo.fit(feature_output)\n",
    "            output=KMeans_fit.transform(feature_output)\n",
    "            score=evaluator.evaluate(output)\n",
    "            silhouette_score.append(score)\n",
    "\n",
    "        def first_pos(list_score):\n",
    "            for ind, score in enumerate(list_score):\n",
    "                if score > 0:\n",
    "                    return ind\n",
    "\n",
    "        k_n = first_pos(np.diff(silhouette_score))\n",
    "        k_neighbor = k_n+2\n",
    "        k_neighbor\n",
    "\n",
    "        KMeans_algo=KMeans(featuresCol='Independent Features', k=k_neighbor)\n",
    "        KMeans_fit=KMeans_algo.fit(feature_output)\n",
    "        output=KMeans_fit.transform(feature_output)\n",
    "        score=evaluator.evaluate(output)\n",
    "\n",
    "        print(\"Number of Cluster:\", k_neighbor)\n",
    "        print(\"Silhouette Score:\", score)\n",
    "        \n",
    "        output.createOrReplaceTempView(table_target)\n",
    "        return output\n",
    "\n",
    "    except Exception as e:\n",
    "        print(\"Building Model Error: \" + str(e))\n",
    "\n",
    "def fetch_data(table_name, table_id_target, project_id):\n",
    "    try:\n",
    "        spark = SparkSession.getActiveSession()\n",
    "        client = bigquery.Client(credentials=credentials, project=project_id)\n",
    "        \n",
    "        query = \"select * from {}\".format(table_name)\n",
    "        output = spark.sql(query)\n",
    "        \n",
    "        df_final = output.select(\"id\", \"address\", \"baths\", \"beds\", \"area\", \"price\", \"street\", \"district\", \"city\", \"zip_code\", \"data_date\", \"uid\", \"prediction\").toPandas()\n",
    "        df_final['id'] = df_final['id'].astype('str')\n",
    "        df_final['prediction'] = df_final['prediction'].astype('str')\n",
    "        \n",
    "        job_config = bigquery.job.LoadJobConfig()\n",
    "        job_config.write_disposition = bigquery.WriteDisposition.WRITE_TRUNCATE\n",
    "        \n",
    "        job = client.load_table_from_dataframe(df_final, table_id_target, job_config=job_config)\n",
    "        job.result()\n",
    "        spark.stop()\n",
    "\n",
    "        print(\"There are {0} rows processed successfully\".format(len(df_final)))\n",
    "    \n",
    "    except Exception as e:\n",
    "        print(\"Fetching dataa error: \" + str(e))\n",
    "\n"
   ]
  },
  {
   "cell_type": "code",
   "execution_count": 127,
   "id": "b3d4af07",
   "metadata": {},
   "outputs": [
    {
     "data": {
      "text/plain": [
       "DataFrame[id: string, address: string, beds: int, baths: int, area: int, price: int, street: string, district: string, city: string, zip_code: string, data_date: date, uid: string]"
      ]
     },
     "execution_count": 127,
     "metadata": {},
     "output_type": "execute_result"
    }
   ],
   "source": [
    "test = spark_preparation(table_id_src, \"cleaned_data\")\n",
    "test"
   ]
  },
  {
   "cell_type": "code",
   "execution_count": 128,
   "id": "7b3ccc87",
   "metadata": {},
   "outputs": [
    {
     "name": "stdout",
     "output_type": "stream",
     "text": [
      "+----+--------------------+----+-----+----+------+--------------------+----------+----+--------+----------+---------------+\n",
      "|  id|             address|beds|baths|area| price|              street|  district|city|zip_code| data_date|            uid|\n",
      "+----+--------------------+----+-----+----+------+--------------------+----------+----+--------+----------+---------------+\n",
      "|1915|1831 W  Mulberry ...|   1|    1| 576|165000|1831 W  Mulberry ...|   Phoenix|  AZ|   85015|2023-05-10|2023-05-10_1915|\n",
      "|1971|14203 N  19th Ave...|   1|    1| 579|190000|14203 N  19th Ave...|   Phoenix|  AZ|   85023|2023-05-10|2023-05-10_1971|\n",
      "|2601|2606 W  Berridge ...|   1|    1| 600|108000|2606 W  Berridge ...|   Phoenix|  AZ|   85017|2023-05-10|2023-05-10_2601|\n",
      "|1896|Champion Burleson...|   1|    1| 644| 65899|Champion Burleson...|   Phoenix|  AZ|   85032|2023-05-10|2023-05-10_1896|\n",
      "|1914|4554 E  Paradise ...|   1|    1| 685|220000|4554 E  Paradise ...|   Phoenix|  AZ|   85032|2023-05-10|2023-05-10_1914|\n",
      "|2030|6711 W  Osborn Rd...|   2|    1| 708|219900|6711 W  Osborn Rd...|   Phoenix|  AZ|   85033|2023-05-10|2023-05-10_2030|\n",
      "|2389|1418 E  Mountain ...|   2|    2| 717|200000|1418 E  Mountain ...|   Phoenix|  AZ|   85020|2023-05-10|2023-05-10_2389|\n",
      "|1964|4727 E  Lafayette...|   1|    1| 720|369000|4727 E  Lafayette...|   Phoenix|  AZ|   85018|2023-05-10|2023-05-10_1964|\n",
      "|2295|3131 W  Cochise D...|   1|    1| 728|170000|3131 W  Cochise D...|   Phoenix|  AZ|   85051|2023-05-10|2023-05-10_2295|\n",
      "|1904|1601 W  Lynwood S...|   2|    1| 735|350000|  1601 W  Lynwood St|   Phoenix|  AZ|   85007|2023-05-10|2023-05-10_1904|\n",
      "|2024|3131 W  Cochise D...|   1|    1| 752|189400|3131 W  Cochise D...|   Phoenix|  AZ|   85051|2023-05-10|2023-05-10_2024|\n",
      "|1917|353 E  Thomas Rd ...|   1|    1| 754|165000|353 E  Thomas Rd ...|   Phoenix|  AZ|   85012|2023-05-10|2023-05-10_1917|\n",
      "|1918|355 E  Thomas Rd ...|   1|    1| 754|185000|355 E  Thomas Rd ...|   Phoenix|  AZ|   85012|2023-05-10|2023-05-10_1918|\n",
      "|2324|2230 E  Willetta ...|   2|    2| 758|346000| 2230 E  Willetta St|   Phoenix|  AZ|   85006|2023-05-10|2023-05-10_2324|\n",
      "|2487|4901 E  Kelton Ln...|   2|    1| 784|415000|4901 E  Kelton Ln...|Scottsdale|  AZ|   85254|2023-05-10|2023-05-10_2487|\n",
      "|2614|17 E  Ruth Ave #2...|   2|    2| 788|209000| 17 E  Ruth Ave #221|   Phoenix|  AZ|   85020|2023-05-10|2023-05-10_2614|\n",
      "|2000|7126 N  19th Ave ...|   1|    2| 836|229900|7126 N  19th Ave ...|   Phoenix|  AZ|   85021|2023-05-10|2023-05-10_2000|\n",
      "|2153|925 W  Peoria Ave...|   2|    1| 840|190000|925 W  Peoria Ave...|   Phoenix|  AZ|   85029|2023-05-10|2023-05-10_2153|\n",
      "|2088|18616 N  33rd Dr ...|   2|    2| 840|275000| 18616 N  33rd Dr #4|   Phoenix|  AZ|   85027|2023-05-10|2023-05-10_2088|\n",
      "|2561|13409 N  42nd St,...|   2|    1| 840|420000|    13409 N  42nd St|   Phoenix|  AZ|   85032|2023-05-10|2023-05-10_2561|\n",
      "+----+--------------------+----+-----+----+------+--------------------+----------+----+--------+----------+---------------+\n",
      "only showing top 20 rows\n",
      "\n"
     ]
    }
   ],
   "source": [
    "test.show()"
   ]
  },
  {
   "cell_type": "code",
   "execution_count": 129,
   "id": "4d8cc59d",
   "metadata": {},
   "outputs": [
    {
     "name": "stdout",
     "output_type": "stream",
     "text": [
      "Number of Cluster: 3\n",
      "Silhouette Score: 0.266262345548682\n"
     ]
    }
   ],
   "source": [
    "test_clustered = spark_clustering(\"cleaned_data\", \"clustered_data\")"
   ]
  },
  {
   "cell_type": "code",
   "execution_count": 130,
   "id": "75ecb736",
   "metadata": {},
   "outputs": [
    {
     "name": "stdout",
     "output_type": "stream",
     "text": [
      "+----+--------------------+----+-----+----+------+--------------------+----------+----+--------+----------+---------------+---------+-------------+-------------+----------------+--------+----------+--------------------+--------------------+--------------------+----------+\n",
      "|  id|             address|beds|baths|area| price|              street|  district|city|zip_code| data_date|            uid|cityIndex|districtIndex| categoryCity|categoryDistrict|area_vec| price_vec|         area_scaled|        price_scaled|Independent Features|prediction|\n",
      "+----+--------------------+----+-----+----+------+--------------------+----------+----+--------+----------+---------------+---------+-------------+-------------+----------------+--------+----------+--------------------+--------------------+--------------------+----------+\n",
      "|1915|1831 W  Mulberry ...|   1|    1| 576|165000|1831 W  Mulberry ...|   Phoenix|  AZ|   85015|2023-05-10|2023-05-10_1915|      0.0|         80.0|(6,[0],[1.0])|(129,[80],[1.0])| [576.0]|[165000.0]|[0.14229053049082...|[0.08353812956547...|(139,[0,1,2,3,4,9...|         1|\n",
      "|1971|14203 N  19th Ave...|   1|    1| 579|190000|14203 N  19th Ave...|   Phoenix|  AZ|   85023|2023-05-10|2023-05-10_1971|      0.0|         80.0|(6,[0],[1.0])|(129,[80],[1.0])| [579.0]|[190000.0]|[0.14303420922161...|[0.09817340103805...|(139,[0,1,2,3,4,9...|         1|\n",
      "|2601|2606 W  Berridge ...|   1|    1| 600|108000|2606 W  Berridge ...|   Phoenix|  AZ|   85017|2023-05-10|2023-05-10_2601|      0.0|         80.0|(6,[0],[1.0])|(129,[80],[1.0])| [600.0]|[108000.0]|[0.14823996033713...|[0.05016971060799...|(139,[0,1,2,3,4,9...|         1|\n",
      "|1896|Champion Burleson...|   1|    1| 644| 65899|Champion Burleson...|   Phoenix|  AZ|   85032|2023-05-10|2023-05-10_1896|      0.0|         80.0|(6,[0],[1.0])|(129,[80],[1.0])| [644.0]| [65899.0]|[0.15914724838869...|[0.02552332803731...|(139,[0,1,2,3,4,9...|         1|\n",
      "|1914|4554 E  Paradise ...|   1|    1| 685|220000|4554 E  Paradise ...|   Phoenix|  AZ|   85032|2023-05-10|2023-05-10_1914|      0.0|         80.0|(6,[0],[1.0])|(129,[80],[1.0])| [685.0]|[220000.0]|[0.1693108577094695]|[0.11573572680514...|(139,[0,1,2,3,4,9...|         1|\n",
      "|2030|6711 W  Osborn Rd...|   2|    1| 708|219900|6711 W  Osborn Rd...|   Phoenix|  AZ|   85033|2023-05-10|2023-05-10_2030|      0.0|         80.0|(6,[0],[1.0])|(129,[80],[1.0])| [708.0]|[219900.0]|[0.17501239464551...|[0.11567718571925...|(139,[0,1,2,3,4,9...|         1|\n",
      "|2389|1418 E  Mountain ...|   2|    2| 717|200000|1418 E  Mountain ...|   Phoenix|  AZ|   85020|2023-05-10|2023-05-10_2389|      0.0|         80.0|(6,[0],[1.0])|(129,[80],[1.0])| [717.0]|[200000.0]|[0.17724343083787...|[0.10402750962708...|(139,[0,1,2,3,4,9...|         1|\n",
      "|1964|4727 E  Lafayette...|   1|    1| 720|369000|4727 E  Lafayette...|   Phoenix|  AZ|   85018|2023-05-10|2023-05-10_1964|      0.0|         80.0|(6,[0],[1.0])|(129,[80],[1.0])| [720.0]|[369000.0]|[0.1779871095686663]|[0.20296194478170...|(139,[0,1,2,3,4,9...|         1|\n",
      "|2295|3131 W  Cochise D...|   1|    1| 728|170000|3131 W  Cochise D...|   Phoenix|  AZ|   85051|2023-05-10|2023-05-10_2295|      0.0|         80.0|(6,[0],[1.0])|(129,[80],[1.0])| [728.0]|[170000.0]|[0.17997025285076...|[0.08646518385998...|(139,[0,1,2,3,4,9...|         1|\n",
      "|1904|1601 W  Lynwood S...|   2|    1| 735|350000|  1601 W  Lynwood St|   Phoenix|  AZ|   85007|2023-05-10|2023-05-10_1904|      0.0|         80.0|(6,[0],[1.0])|(129,[80],[1.0])| [735.0]|[350000.0]|[0.1817055032226078]|[0.19183913846254...|(139,[0,1,2,3,4,9...|         1|\n",
      "|2024|3131 W  Cochise D...|   1|    1| 752|189400|3131 W  Cochise D...|   Phoenix|  AZ|   85051|2023-05-10|2023-05-10_2024|      0.0|         80.0|(6,[0],[1.0])|(129,[80],[1.0])| [752.0]|[189400.0]|[0.18591968269707...|[0.09782215452270...|(139,[0,1,2,3,4,9...|         1|\n",
      "|1917|353 E  Thomas Rd ...|   1|    1| 754|165000|353 E  Thomas Rd ...|   Phoenix|  AZ|   85012|2023-05-10|2023-05-10_1917|      0.0|         80.0|(6,[0],[1.0])|(129,[80],[1.0])| [754.0]|[165000.0]|[0.18641546851760...|[0.08353812956547...|(139,[0,1,2,3,4,9...|         1|\n",
      "|1918|355 E  Thomas Rd ...|   1|    1| 754|185000|355 E  Thomas Rd ...|   Phoenix|  AZ|   85012|2023-05-10|2023-05-10_1918|      0.0|         80.0|(6,[0],[1.0])|(129,[80],[1.0])| [754.0]|[185000.0]|[0.18641546851760...|[0.09524634674353...|(139,[0,1,2,3,4,9...|         1|\n",
      "|2324|2230 E  Willetta ...|   2|    2| 758|346000| 2230 E  Willetta St|   Phoenix|  AZ|   85006|2023-05-10|2023-05-10_2324|      0.0|         80.0|(6,[0],[1.0])|(129,[80],[1.0])| [758.0]|[346000.0]|[0.18740704015865...|[0.18949749502693...|(139,[0,1,2,3,4,9...|         1|\n",
      "|2487|4901 E  Kelton Ln...|   2|    1| 784|415000|4901 E  Kelton Ln...|Scottsdale|  AZ|   85254|2023-05-10|2023-05-10_2487|      0.0|         94.0|(6,[0],[1.0])|(129,[94],[1.0])| [784.0]|[415000.0]|[0.19385225582548...|[0.2298908442912489]|(139,[0,1,2,3,4,1...|         1|\n",
      "|2614|17 E  Ruth Ave #2...|   2|    2| 788|209000| 17 E  Ruth Ave #221|   Phoenix|  AZ|   85020|2023-05-10|2023-05-10_2614|      0.0|         80.0|(6,[0],[1.0])|(129,[80],[1.0])| [788.0]|[209000.0]|[0.19484382746653...|[0.1092962073572095]|(139,[0,1,2,3,4,9...|         1|\n",
      "|2000|7126 N  19th Ave ...|   1|    2| 836|229900|7126 N  19th Ave ...|   Phoenix|  AZ|   85021|2023-05-10|2023-05-10_2000|      0.0|         80.0|(6,[0],[1.0])|(129,[80],[1.0])| [836.0]|[229900.0]|[0.20674268715914...|[0.12153129430828...|(139,[0,1,2,3,4,9...|         1|\n",
      "|2153|925 W  Peoria Ave...|   2|    1| 840|190000|925 W  Peoria Ave...|   Phoenix|  AZ|   85029|2023-05-10|2023-05-10_2153|      0.0|         80.0|(6,[0],[1.0])|(129,[80],[1.0])| [840.0]|[190000.0]|[0.2077342588001983]|[0.09817340103805...|(139,[0,1,2,3,4,9...|         1|\n",
      "|2088|18616 N  33rd Dr ...|   2|    2| 840|275000| 18616 N  33rd Dr #4|   Phoenix|  AZ|   85027|2023-05-10|2023-05-10_2088|      0.0|         80.0|(6,[0],[1.0])|(129,[80],[1.0])| [840.0]|[275000.0]|[0.2077342588001983]|[0.14793332404481...|(139,[0,1,2,3,4,9...|         1|\n",
      "|2561|13409 N  42nd St,...|   2|    1| 840|420000|    13409 N  42nd St|   Phoenix|  AZ|   85032|2023-05-10|2023-05-10_2561|      0.0|         80.0|(6,[0],[1.0])|(129,[80],[1.0])| [840.0]|[420000.0]|[0.2077342588001983]|[0.23281789858576...|(139,[0,1,2,3,4,9...|         1|\n",
      "+----+--------------------+----+-----+----+------+--------------------+----------+----+--------+----------+---------------+---------+-------------+-------------+----------------+--------+----------+--------------------+--------------------+--------------------+----------+\n",
      "only showing top 20 rows\n",
      "\n"
     ]
    }
   ],
   "source": [
    "test_clustered.show()"
   ]
  },
  {
   "cell_type": "code",
   "execution_count": 131,
   "id": "61638622",
   "metadata": {},
   "outputs": [
    {
     "name": "stdout",
     "output_type": "stream",
     "text": [
      "There are 2963 rows processed successfully\n"
     ]
    }
   ],
   "source": [
    "fetch_data(\"clustered_data\", table_id_target, project_id)"
   ]
  },
  {
   "cell_type": "code",
   "execution_count": null,
   "id": "a841ef6c",
   "metadata": {},
   "outputs": [],
   "source": []
  }
 ],
 "metadata": {
  "kernelspec": {
   "display_name": "Python 3",
   "language": "python",
   "name": "python3"
  },
  "language_info": {
   "codemirror_mode": {
    "name": "ipython",
    "version": 3
   },
   "file_extension": ".py",
   "mimetype": "text/x-python",
   "name": "python",
   "nbconvert_exporter": "python",
   "pygments_lexer": "ipython3",
   "version": "3.7.13"
  }
 },
 "nbformat": 4,
 "nbformat_minor": 5
}
