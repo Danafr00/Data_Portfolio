{
 "cells": [
  {
   "cell_type": "code",
   "execution_count": 1,
   "id": "ba32471c",
   "metadata": {},
   "outputs": [
    {
     "name": "stderr",
     "output_type": "stream",
     "text": [
      "C:\\Users\\kana\\Anaconda3\\envs\\tensorflow_env\\lib\\site-packages\\numpy\\_distributor_init.py:32: UserWarning: loaded more than 1 DLL from .libs:\n",
      "C:\\Users\\kana\\Anaconda3\\envs\\tensorflow_env\\lib\\site-packages\\numpy\\.libs\\libopenblas.NOIJJG62EMASZI6NYURL6JBKM4EVBGM7.gfortran-win_amd64.dll\n",
      "C:\\Users\\kana\\Anaconda3\\envs\\tensorflow_env\\lib\\site-packages\\numpy\\.libs\\libopenblas.XWYDX2IKJW2NMTWSFYNGFUWKQU3LYTCZ.gfortran-win_amd64.dll\n",
      "  stacklevel=1)\n"
     ]
    }
   ],
   "source": [
    "from sqlalchemy import create_engine\n",
    "import pandas as pd\n",
    "import mysql.connector\n",
    "import psycopg2\n",
    "import pymysql\n",
    " "
   ]
  },
  {
   "cell_type": "code",
   "execution_count": 2,
   "id": "7ec20aeb",
   "metadata": {},
   "outputs": [],
   "source": [
    "pymysql.install_as_MySQLdb()"
   ]
  },
  {
   "cell_type": "code",
   "execution_count": 3,
   "id": "b1754cb1",
   "metadata": {},
   "outputs": [],
   "source": [
    "def extract():\n",
    "    try:\n",
    "        src_conn = psycopg2.connect(database=\"Supermarket_DB\",\n",
    "                        host=\"localhost\",\n",
    "                        user=\"postgres\",\n",
    "                        password=\"danafr@010400\",\n",
    "                        port=\"5432\")\n",
    "        src_cursor = src_conn.cursor()\n",
    "        src_cursor.execute(\"\"\"SELECT table_name FROM information_schema.tables\n",
    "               WHERE table_schema = 'public'\"\"\")\n",
    "        for tbl in src_cursor.fetchall():\n",
    "            df=pd.read_sql_query('select * from '+ tbl[0], src_conn)\n",
    "            load(df,tbl[0])\n",
    "    except Exception as e:\n",
    "        print(\"Data extract error: \" + str(e))\n",
    "    finally:\n",
    "        src_conn.close()"
   ]
  },
  {
   "cell_type": "code",
   "execution_count": 6,
   "id": "19c019d2",
   "metadata": {},
   "outputs": [],
   "source": [
    "def load(df, tbl):\n",
    "    try:\n",
    "        rows_imported = 0\n",
    "        engine = create_engine(\"mysql://{0}:{1}@{2}:{3}/{4}?charset=utf8\".format(\"root\", \"admin123\", \"localhost\", 3306, \"supermarket_db\"))\n",
    "        print(f'Importing rows {rows_imported} to {rows_imported + len(df)}... for table {tbl}')\n",
    "        df.to_sql(f'{tbl}', engine, if_exists='replace', index=False)\n",
    "        rows_imported += len(df)\n",
    "        print(\"Data imported successful\")\n",
    "    except Exception as e:\n",
    "        print(\"Data load error: \", str(e))"
   ]
  },
  {
   "cell_type": "code",
   "execution_count": 7,
   "id": "06badf57",
   "metadata": {},
   "outputs": [
    {
     "name": "stdout",
     "output_type": "stream",
     "text": [
      "Importing rows 0 to 793... for table customer\n",
      "Data imported successful\n",
      "Importing rows 0 to 1862... for table product\n",
      "Data imported successful\n",
      "Importing rows 0 to 9994... for table sales\n",
      "Data imported successful\n"
     ]
    }
   ],
   "source": [
    "try:\n",
    "    extract()\n",
    "except Exception as e:\n",
    "    print(\"Error while extracting data: \", str(e))"
   ]
  },
  {
   "cell_type": "code",
   "execution_count": null,
   "id": "2485b84f",
   "metadata": {},
   "outputs": [],
   "source": []
  }
 ],
 "metadata": {
  "kernelspec": {
   "display_name": "Python [conda env:tensorflow_env] *",
   "language": "python",
   "name": "conda-env-tensorflow_env-py"
  },
  "language_info": {
   "codemirror_mode": {
    "name": "ipython",
    "version": 3
   },
   "file_extension": ".py",
   "mimetype": "text/x-python",
   "name": "python",
   "nbconvert_exporter": "python",
   "pygments_lexer": "ipython3",
   "version": "3.7.13"
  }
 },
 "nbformat": 4,
 "nbformat_minor": 5
}
